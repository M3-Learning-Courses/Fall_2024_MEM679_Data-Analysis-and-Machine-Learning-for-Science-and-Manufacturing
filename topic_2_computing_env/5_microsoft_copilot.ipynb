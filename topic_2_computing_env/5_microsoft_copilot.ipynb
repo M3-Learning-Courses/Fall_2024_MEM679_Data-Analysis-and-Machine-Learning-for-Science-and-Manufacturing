{
 "cells": [
  {
   "cell_type": "markdown",
   "metadata": {
    "slideshow": {
     "slide_type": "slide"
    }
   },
   "source": [
    "## Microsoft Copilot"
   ]
  },
  {
   "cell_type": "markdown",
   "metadata": {
    "slideshow": {
     "slide_type": "fragment"
    }
   },
   "source": [
    "* Microsoft Copilot is a generative AI tool based on large language models like ChatGPT. It helps you write code faster by providing context-aware completions, code snippets, and documentation as you type.\n",
    "\n",
    "* As a student you have access to GitHub Copilot for free. To activate GitHub Copilot, sign in to Visual Studio Code with your GitHub account. If you don't have a GitHub account, you can create one for free.\n",
    "\n",
    "The [GitHub Copilot](https://marketplace.visualstudio.com/items?itemName=GitHub.copilot) extension is an AI pair programmer tool that helps you write code faster and smarter. You can use the Copilot extension in Visual Studio Code to generate code, learn from the code it generates, and even configure your editor.\n"
   ]
  },
  {
   "cell_type": "markdown",
   "metadata": {
    "slideshow": {
     "slide_type": "fragment"
    }
   },
   "source": [
    "With GitHub Copilot in VS Code you can:\n",
    "\n",
    "* Get inline code suggestions while you're writing and iterating on code.\n",
    "* Start a chat conversation to generate or refactor source code, produce documentation comments, or generate unit tests.\n",
    "* Get help with fixing errors in your code, or resolve errors while running commands in the terminal.\n",
    "* Ask questions to help ramp-up on a new code base, or accelerate learning a new programming language or framework.\n",
    "* Use chat features to discover and configure your VS Code setup.\n"
   ]
  },
  {
   "cell_type": "markdown",
   "metadata": {
    "slideshow": {
     "slide_type": "fragment"
    }
   },
   "source": [
    "\n",
    "<iframe width=\"560\" height=\"315\" src=\"https://www.youtube-nocookie.com/embed/jXp5D5ZnxGM\" title=\"Get to know GitHub Copilot in VS Code\" frameborder=\"0\" allow=\"accelerometer; autoplay; clipboard-write; encrypted-media; gyroscope; picture-in-picture\" allowfullscreen></iframe>\n"
   ]
  },
  {
   "cell_type": "markdown",
   "metadata": {},
   "source": [
    "## Prerequisites\n",
    "\n",
    "* To use GitHub Copilot in VS Code, you must have the [GitHub Copilot](https://marketplace.visualstudio.com/items?itemName=GitHub.copilot) extension. When you install this extension, the [GitHub Copilot Chat](https://marketplace.visualstudio.com/items?itemName=GitHub.copilot-chat) extension is also installed.\n",
    "\n",
    "    > <a class=\"install-extension-btn\" href=\"vscode:extension/GitHub.copilot\">Install the GitHub Copilot extension</a>\n",
    "\n",
    "Follow these steps to [Set up GitHub Copilot in VS Code](/docs/copilot/setup.md).\n"
   ]
  },
  {
   "cell_type": "markdown",
   "metadata": {
    "slideshow": {
     "slide_type": "subslide"
    }
   },
   "source": [
    "## GitHub for Students"
   ]
  },
  {
   "cell_type": "markdown",
   "metadata": {
    "slideshow": {
     "slide_type": "slide"
    }
   },
   "source": [
    "To use GitHub Copilot, you must have an active subscription for GitHub Copilot in your personal account. You can get a free subscription to GitHub Copilot as a student. For more information, see [GitHub Copilot for students](https://github.com/education/students)."
   ]
  },
  {
   "cell_type": "markdown",
   "metadata": {},
   "source": [
    "\n",
    "## Copilot tutorials\n",
    "\n",
    "* [GitHub Copilot Quickstart](/docs/copilot/getting-started.md) - discover the key features of GitHub Copilot in VS Code.\n",
    "* [Copilot Chat Tutorial](/docs/copilot/getting-started-chat.md) - get started with AI chat conversations.\n",
    "\n",
    "## Use cases for GitHub Copilot in VS Code\n",
    "\n",
    "GitHub Copilot can provide coding assistance in a variety of scenarios:\n",
    "\n",
    "* [Code completions in the editor](#code-completions-in-the-editor)\n",
    "* [Answering coding questions](#answering-coding-questions)\n",
    "* [Code refactoring and improvements](#code-refactoring-and-improvements)\n",
    "* [Fix issues](#fix-issues)\n",
    "* [Jumpstart your project](#jumpstart-your-project)\n",
    "* [Generate unit test cases](#generate-unit-test-cases)\n",
    "* [Generate code documentation](#generate-code-documentation)\n",
    "* [Improve your productivity in VS Code](#productivity-improvements)\n"
   ]
  },
  {
   "cell_type": "markdown",
   "metadata": {
    "slideshow": {
     "slide_type": "subslide"
    }
   },
   "source": [
    "### Code completions in the editor\n",
    "\n",
    "* **Copilot suggests code as you type**. Copilot analyzes the context in the file you're editing and related files, and offers suggestions from within the editor. For example, begin typing the name of a method and Copilot suggests the implementation, following your coding style.\n",
    "\n",
    "    ![Inline chat suggests the implementation of a 'CalculateDaysBetweenDates' JavaScript function](https://code.visualstudio.com/assets/docs/copilot/overview/js-suggest.png)\n"
   ]
  },
  {
   "cell_type": "markdown",
   "metadata": {
    "slideshow": {
     "slide_type": "subslide"
    }
   },
   "source": [
    "### Answering coding questions\n",
    "\n",
    "* **Provide guidance and support for common coding tasks and challenges**. Ask Copilot about syntax or general programming concepts without requiring to navigate documentation or search online forums. Copilot gives responses in natural language format or in code snippet format. For example, you can ask questions such as \"what is recursion?\" or \"how to create a singleton in Java?\".\n",
    "\n",
    "    ![Copilot Chat answering what a singleton is](https://code.visualstudio.com/assets/docs/copilot/overview/copilot-chat-singleton.png)\n"
   ]
  },
  {
   "cell_type": "markdown",
   "metadata": {
    "slideshow": {
     "slide_type": "subslide"
    }
   },
   "source": [
    "\n",
    "* **Improve code understanding by explaining selected code**. Copilot generates natural language descriptions of the code's functionality and purpose. This can be useful if you want to understand the code's behavior or for non-technical stakeholders who need to understand how the code works.\n",
    "\n",
    "    ![Inline chat explaining which sorting algorithm is used in the selected text](https://code.visualstudio.com/assets/docs/copilot/overview/inline-chat-question-example.png)\n"
   ]
  },
  {
   "cell_type": "markdown",
   "metadata": {
    "slideshow": {
     "slide_type": "subslide"
    }
   },
   "source": [
    "* **Provide guidance that is specific to your codebase**. Copilot has the context of your workspace and can give step-by-step guidance and code samples that are tailored to your project. For example, \"how to add a contacts page?\" or \"how do I read customer data from the database?\".\n",
    "\n",
    "    ![Copilot Chat provides step-by-step guidance about adding a page to an Express app](https://code.visualstudio.com/assets/docs/copilot/overview/copilot-chat-view-add-page.png)\n"
   ]
  },
  {
   "cell_type": "markdown",
   "metadata": {
    "slideshow": {
     "slide_type": "subslide"
    }
   },
   "source": [
    "### Code refactoring and improvements\n",
    "\n",
    "* **Provide suggestions for implementing code refactorings**. Copilot suggests refactorings using the context of your codebase. For example, ask Copilot to refactor a function to not use recursion, or to suggest an algorithm that can improve performance.\n",
    "\n",
    "    ![Inline chat refactoring to use different sorting algorithm](https://code.visualstudio.com/assets/docs/copilot/overview/inline-chat-convert-sort.png)\n"
   ]
  },
  {
   "cell_type": "markdown",
   "metadata": {},
   "source": [
    "\n",
    "* **Suggest potential improvements to selected code**, such as improved handling of errors and edge cases, or changes to the logical flow to make the code more readable.\n",
    "\n",
    "    ![Copilot inline chat suggesting improvements to error handling](https://code.visualstudio.com/assets/docs/copilot/overview/copilot-inline-chat-error-handling.png)\n"
   ]
  },
  {
   "cell_type": "markdown",
   "metadata": {},
   "source": [
    "\n",
    "### Fix issues\n",
    "\n",
    "* **Propose a fix for bugs in your code** with the `/fix` command by suggesting code snippets and solutions based on the context of the error or issue. For example, if your code produces an error message or warning, Copilot Chat can suggest possible fixes based on the error message, the code's syntax, and the surrounding code. The changes might consist of changes to variables, control structures, or function calls that could resolve the issue.\n",
    "\n",
    "    ![Inline chat /fix for an error proposing to install a missing library](https://code.visualstudio.com/assets/docs/copilot/overview/inline-chat-fix-error-message-example.png)\n"
   ]
  },
  {
   "cell_type": "markdown",
   "metadata": {},
   "source": [
    "\n",
    "* **Suggest terminal command fixes**. When a command fails to run in the terminal, Copilot displays a sparkle in the gutter that offers a Quick Fix to explain what happened.\n",
    "\n",
    "    ![Quick Chat with @terminal #terminalLastCommand and Copilot's answer](https://code.visualstudio.com/assets/docs/copilot/overview/terminal-command-explanation.png)\n"
   ]
  },
  {
   "cell_type": "markdown",
   "metadata": {},
   "source": [
    "### Generate unit test cases\n",
    "\n",
    "* **Write unit test cases for your test framework** based on the code open in the editor or the code snippet you highlight in the editor. Copilot identifies your test framework and coding style and generates matching code snippets.\n",
    "\n",
    "* **Identify and write test cases for edge cases and boundary conditions** that might be difficult to identify manually. For instance, Copilot can suggest test cases for error handling, null values, or unexpected input types.\n",
    "\n",
    "* **Suggest assertions** that ensure the function is working correctly, based on the code's context and semantics. For example, generate assertions to ensure that function input parameters are valid.\n",
    "\n",
    "    ![Chat view showing the /tests slash command to generate unit tests for the Divide method in a C# calculator class](https://code.visualstudio.com/assets/docs/copilot/overview/workspace-agent-tests-example.png)\n"
   ]
  },
  {
   "cell_type": "markdown",
   "metadata": {},
   "source": [
    "\n",
    "### Generate code documentation\n",
    "\n",
    "* **Generate code documentation for multiple languages** for the code open in the editor or the code snippet you highlight in the editor. Use `/doc` or a Copilot smart action to help you generate meaningful code documentation.\n",
    "\n",
    "    ![Inline chat /doc example to generate documentation code comments for a calculator class](https://code.visualstudio.com/assets/docs/copilot/overview/inline-chat-doc-example.png)\n"
   ]
  },
  {
   "cell_type": "markdown",
   "metadata": {},
   "source": [
    "### Productivity improvements\n",
    "\n",
    "* **AI-generated commit messages and PR descriptions** based on the code changes in a commit or the changes in a pull request. Use the *sparkle* button in the Source Control view or GitHub PR extension to generate a title and description that summarizes your changes.\n",
    "\n",
    "    ![Hover over Source Control input box sparkle buttons shows Generate Commit Message](https://code.visualstudio.com/assets/docs/copilot/overview/generate-commit-message.png)\n"
   ]
  },
  {
   "cell_type": "markdown",
   "metadata": {},
   "source": [
    "\n",
    "* **Ask help in the Command Palette** to help you find the relevant command in VS Code. You can describe the functionality and Copilot can help identify the matching functionality. For example, type \"code preview in scrollbar\" in the Command Palette, and Copilot can identify that you're referring to the `editor.minimap` settings.\n",
    "\n",
    "    ![Chat view with answer to \"hide editor overview\"](https://code.visualstudio.com/assets/docs/copilot/overview/copilot-answer-hide-editor-overview.png)\n"
   ]
  },
  {
   "cell_type": "markdown",
   "metadata": {},
   "source": [
    "\n",
    "* **Use terminal inline chat** to ask questions about the terminal or how to use specific shell commands. For example, you can ask questions such as \"list the top 5 largest files in the src directory\", or \"how to enable shell integration\".\n",
    "\n",
    "    ![Screenshot showing that you can ask complex questions like \"list the top 5 largest files in the src dir\"](https://code.visualstudio.com/assets/docs/copilot/overview/terminal-chat-2.png)\n"
   ]
  },
  {
   "cell_type": "markdown",
   "metadata": {},
   "source": [
    "\n",
    "* **AI-generated rename suggestions** for symbols in your source code. When you rename a symbol in your code, Copilot suggests a new name based on the context of the symbol and the codebase.\n",
    "\n",
    "    ![Inline chat suggesting a new name for a symbol in a Python file](https://code.visualstudio.com/assets/docs/copilot/overview/copilot-inline-chat-rename-suggestion.png)\n"
   ]
  },
  {
   "cell_type": "markdown",
   "metadata": {},
   "source": [
    "\n",
    "## Additional resources\n",
    "\n",
    "You can read more about Copilot and how to use it in VS Code in the [GitHub Copilot documentation](https://docs.github.com/copilot/getting-started-with-github-copilot?tool=vscode).\n",
    "\n",
    "Or check out the [VS Code Copilot Series](https://www.youtube.com/playlist?list=PLj6YeMhvp2S5_hvBl2SE-7YCHYlLQ0bPt) on YouTube, where you can find more introductory content and programming-specific videos for using Copilot with [Python](https://www.youtube.com/watch?v=DSHfHT5qnGc), [C#](https://www.youtube.com/watch?v=VsUQlSyQn1E), [Java](https://www.youtube.com/watch?v=zhCB95cE0HY), [PowerShell](https://www.youtube.com/watch?v=EwtRzAFiXEM), and more.\n"
   ]
  }
 ],
 "metadata": {
  "celltoolbar": "Slideshow",
  "kernelspec": {
   "display_name": "Python 3 (ipykernel)",
   "language": "python",
   "name": "python3"
  },
  "language_info": {
   "codemirror_mode": {
    "name": "ipython",
    "version": 3
   },
   "file_extension": ".py",
   "mimetype": "text/x-python",
   "name": "python",
   "nbconvert_exporter": "python",
   "pygments_lexer": "ipython3",
   "version": "3.11.9"
  },
  "varInspector": {
   "cols": {
    "lenName": 16,
    "lenType": 16,
    "lenVar": 40
   },
   "kernels_config": {
    "python": {
     "delete_cmd_postfix": "",
     "delete_cmd_prefix": "del ",
     "library": "var_list.py",
     "varRefreshCmd": "print(var_dic_list())"
    },
    "r": {
     "delete_cmd_postfix": ") ",
     "delete_cmd_prefix": "rm(",
     "library": "var_list.r",
     "varRefreshCmd": "cat(var_dic_list()) "
    }
   },
   "types_to_exclude": [
    "module",
    "function",
    "builtin_function_or_method",
    "instance",
    "_Feature"
   ],
   "window_display": false
  }
 },
 "nbformat": 4,
 "nbformat_minor": 2
}
