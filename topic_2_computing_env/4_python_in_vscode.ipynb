{
 "cells": [
  {
   "cell_type": "markdown",
   "metadata": {
    "slideshow": {
     "slide_type": "slide"
    }
   },
   "source": [
    "# Getting Started with Python in VS Code\n",
    "\n",
    "In this tutorial, you will learn how to use Python 3 in Visual Studio Code to create, run, and debug a Python \"Roll a dice\" application, work with virtual environments, use packages, and more! By using the [Python extension](https://marketplace.visualstudio.com/items?itemName=ms-python.python), you turn VS Code into a great, lightweight Python editor.\n"
   ]
  },
  {
   "cell_type": "markdown",
   "metadata": {
    "slideshow": {
     "slide_type": "fragment"
    }
   },
   "source": [
    "\n",
    "To learn more about the Python language, follow any of the [programming tutorials](https://wiki.python.org/moin/BeginnersGuide/Programmers) listed on python.org within the context of VS Code.\n"
   ]
  },
  {
   "cell_type": "markdown",
   "metadata": {
    "slideshow": {
     "slide_type": "slide"
    }
   },
   "source": [
    "\n",
    "## Prerequisites\n",
    "\n",
    "To successfully complete this tutorial, you need to first setup your Python development environment. Specifically, this tutorial requires:\n",
    "\n",
    "- Python 3\n",
    "- [VS Code](https://code.visualstudio.com/)\n",
    "- [VS Code Python extension](https://marketplace.visualstudio.com/items?itemName=ms-python.python) (For additional details on installing extensions, see [Extension Marketplace](https://marketplace.visualstudio.com/vscode))\n"
   ]
  },
  {
   "cell_type": "markdown",
   "metadata": {
    "slideshow": {
     "slide_type": "slide"
    }
   },
   "source": [
    "\n",
    "## Start VS Code in a workspace folder\n",
    "\n",
    "By starting VS Code in a folder, that folder becomes your \"workspace\".\n",
    "\n",
    "Using a command prompt or terminal, create an empty folder called \"hello\", navigate into it, and open VS Code (`code`) in that folder (`.`) by entering the following commands:\n"
   ]
  },
  {
   "cell_type": "markdown",
   "metadata": {
    "slideshow": {
     "slide_type": "fragment"
    }
   },
   "source": [
    "\n",
    "```bash\n",
    "mkdir hello\n",
    "cd hello\n",
    "code .\n",
    "```\n"
   ]
  },
  {
   "cell_type": "markdown",
   "metadata": {
    "slideshow": {
     "slide_type": "fragment"
    }
   },
   "source": [
    "\n",
    ">**Note**: If you're using an Anaconda distribution, be sure to use an Anaconda command prompt.\n",
    "\n",
    "Alternately, you can create a folder through the operating system UI, then use VS Code's **File > Open Folder** to open the project folder.\n"
   ]
  },
  {
   "cell_type": "markdown",
   "metadata": {
    "slideshow": {
     "slide_type": "slide"
    }
   },
   "source": [
    "\n",
    "## Create a virtual environment\n",
    "\n",
    "A best practice among Python developers is to use a project-specific `virtual environment`. Once you activate that environment, any packages you then install are isolated from other environments, including the global interpreter environment, reducing many complications that can arise from conflicting package versions. \n",
    "\n",
    "```bash\n",
    "conda create -n <env name> python=3.10\n",
    "``\n",
    "\n",
    "```\n",
    ">**Tip**: text inbetween `< >` should be replaced with your own values. For example, if you want to create an environment called `myenv`, you would enter `conda create -n myenv python=3.10`.\n",
    "```"
   ]
  },
  {
   "cell_type": "markdown",
   "metadata": {
    "slideshow": {
     "slide_type": "subslide"
    }
   },
   "source": [
    "Ensure your new environment is selected by using the **Python: Select Interpreter** command from the **Command Palette**.\n",
    "\n",
    "![Select an Interpreter](https://code.visualstudio.com/assets/docs/python/environments/interpreters-list.png)\n",
    "\n",
    "> **Note**: For additional information about virtual environments, or if you run into an error in the environment creation process, see [Environments](https://code.visualstudio.com/docs/python/environments.md#creating-environments).\n"
   ]
  },
  {
   "cell_type": "markdown",
   "metadata": {
    "slideshow": {
     "slide_type": "subslide"
    }
   },
   "source": [
    "## Create a Python source code file\n",
    "\n",
    "From the File Explorer toolbar, select the **New File** button on the `hello` folder:\n",
    "\n",
    "![File Explorer New File](https://code.visualstudio.com/assets/docs/python/tutorial/toolbar-new-file.png)\n"
   ]
  },
  {
   "cell_type": "markdown",
   "metadata": {
    "slideshow": {
     "slide_type": "fragment"
    }
   },
   "source": [
    "\n",
    "Name the file `hello.py`, and VS Code will automatically open it in the editor:\n",
    "\n",
    "![File Explorer hello.py](https://code.visualstudio.com/assets/docs/python/tutorial/hello-py-file-created.png)\n",
    "\n",
    "By using the `.py` file extension, you tell VS Code to interpret this file as a Python program, so that it evaluates the contents with the Python extension and the selected interpreter.\n",
    "\n",
    ">**Note**: The File Explorer toolbar also allows you to create folders within your workspace to better organize your code. You can use the **New folder** button to quickly create a folder.\n"
   ]
  },
  {
   "cell_type": "markdown",
   "metadata": {
    "slideshow": {
     "slide_type": "fragment"
    }
   },
   "source": [
    "\n",
    "Now that you have a code file in your Workspace, enter the following source code in `hello.py`:\n",
    "\n",
    "```python\n",
    "msg = \"Roll a dice\"\n",
    "print(msg)\n",
    "```\n"
   ]
  },
  {
   "cell_type": "markdown",
   "metadata": {
    "slideshow": {
     "slide_type": "subslide"
    }
   },
   "source": [
    "### Addon Intellisense"
   ]
  },
  {
   "cell_type": "markdown",
   "metadata": {
    "slideshow": {
     "slide_type": "fragment"
    }
   },
   "source": [
    "\n",
    "When you start typing `print`, notice how [IntelliSense](https://code.visualstudio.com/docs/editor/intellisense) presents auto-completion options.\n",
    "\n",
    "![IntelliSense appearing for Python code](https://code.visualstudio.com/assets/docs/python/tutorial/intellisense01.png)\n",
    "\n",
    "IntelliSense and auto-completions work for standard Python modules as well as other packages you've installed into the environment of the selected Python interpreter. It also provides completions for methods available on object types. For example, because the `msg` variable contains a string, IntelliSense provides string methods when you type `msg.`:\n"
   ]
  },
  {
   "cell_type": "markdown",
   "metadata": {
    "slideshow": {
     "slide_type": "fragment"
    }
   },
   "source": [
    "\n",
    "![IntelliSense appearing for a variable whose type provides methods](https://code.visualstudio.com/assets/docs/python/tutorial/intellisense02.png)\n",
    "\n",
    "Finally, save the file (`ctrl + S`). At this point, you're ready to run your first Python file in VS Code.\n"
   ]
  },
  {
   "cell_type": "markdown",
   "metadata": {
    "slideshow": {
     "slide_type": "subslide"
    }
   },
   "source": [
    "## Run Hello World\n",
    "\n",
    "Click the **Run Python File in Terminal** play button in the top-right side of the editor.\n",
    "\n",
    "![Using the Run Python File in Terminal button](https://code.visualstudio.com/assets/docs/python/tutorial/run-python-file-in-terminal-button.png)\n"
   ]
  },
  {
   "cell_type": "markdown",
   "metadata": {
    "slideshow": {
     "slide_type": "fragment"
    }
   },
   "source": [
    "\n",
    "The button opens a terminal panel in which your Python interpreter is automatically activated, then runs `python3 hello.py` (macOS/Linux) or `python hello.py` (Windows):\n",
    "\n",
    "![Program output in a Python terminal](https://code.visualstudio.com/assets/docs/python/tutorial/output-in-terminal.png)\n"
   ]
  },
  {
   "cell_type": "markdown",
   "metadata": {
    "slideshow": {
     "slide_type": "fragment"
    }
   },
   "source": [
    "\n",
    "There are three other ways you can run Python code within VS Code:\n",
    "\n",
    "1. Right-click anywhere in the editor window and select **Run > Python File in Terminal** (which saves the file automatically):\n",
    "\n",
    "   ![Run Python File in Terminal command in the Python editor](https://code.visualstudio.com/assets/docs/python/tutorial/run-python-file-in-terminal.png)\n"
   ]
  },
  {
   "cell_type": "markdown",
   "metadata": {
    "slideshow": {
     "slide_type": "fragment"
    }
   },
   "source": [
    "\n",
    "2. Select one or more lines, then press `Shift+Enter` or right-click and select **Run Selection/Line in Python Terminal**. This command is convenient for testing just a part of a file.\n"
   ]
  },
  {
   "cell_type": "markdown",
   "metadata": {
    "slideshow": {
     "slide_type": "fragment"
    }
   },
   "source": [
    "\n",
    "3. From the Command Palette (`Ctrl + Shift + P`), select the **Python: Start REPL** command to open a REPL terminal for the currently selected Python interpreter. In the REPL, you can then enter and run lines of code one at a time.\n"
   ]
  },
  {
   "cell_type": "markdown",
   "metadata": {
    "slideshow": {
     "slide_type": "subslide"
    }
   },
   "source": [
    "## How to Debug"
   ]
  },
  {
   "cell_type": "markdown",
   "metadata": {
    "slideshow": {
     "slide_type": "fragment"
    }
   },
   "source": [
    "### Rubber Duck Debugging\n",
    "\n",
    "![](figs/rubber_duck.png)"
   ]
  },
  {
   "cell_type": "markdown",
   "metadata": {
    "slideshow": {
     "slide_type": "fragment"
    }
   },
   "source": [
    "The rubber duck debugging method is as follows:\n",
    "\n",
    "1. Beg, borrow, steal, buy, fabricate or otherwise obtain a rubber duck (bathtub variety)."
   ]
  },
  {
   "cell_type": "markdown",
   "metadata": {
    "slideshow": {
     "slide_type": "fragment"
    }
   },
   "source": [
    "2. Place rubber duck on desk and inform it you are just going to go over some code with it, if that’s all right."
   ]
  },
  {
   "cell_type": "markdown",
   "metadata": {
    "slideshow": {
     "slide_type": "fragment"
    }
   },
   "source": [
    "3. Explain to the duck what your code is supposed to do, and then go into detail and explain your code line by line."
   ]
  },
  {
   "cell_type": "markdown",
   "metadata": {
    "slideshow": {
     "slide_type": "fragment"
    }
   },
   "source": [
    "4. At some point you will tell the duck what you are doing next and then realize that that is not in fact what you are actually doing. The duck will sit there serenely, happy in the knowledge that it has helped you on your way."
   ]
  },
  {
   "cell_type": "markdown",
   "metadata": {
    "slideshow": {
     "slide_type": "fragment"
    }
   },
   "source": [
    "Note: In a pinch a coworker might be able to substitute for the duck, however, it is often preferred to confide mistakes to the duck instead of your coworker.\n",
    "\n",
    "Original Credit: ~Andy from lists.ethernal.org"
   ]
  },
  {
   "cell_type": "markdown",
   "metadata": {
    "slideshow": {
     "slide_type": "subslide"
    }
   },
   "source": [
    "\n",
    "## Configure and run the debugger\n",
    "\n",
    "Let's now try debugging our Hello World program.\n",
    "\n",
    "First, set a breakpoint on line 2 of `hello.py` by placing the cursor on the `print` call and pressing `F9`. Alternately, click in the editor's left gutter, next to the line numbers. When you set a breakpoint, a red circle appears in the gutter.\n"
   ]
  },
  {
   "cell_type": "markdown",
   "metadata": {
    "slideshow": {
     "slide_type": "fragment"
    }
   },
   "source": [
    "\n",
    "![Setting a breakpoint in hello.py](https://code.visualstudio.com/assets/docs/python/tutorial/breakpoint-set.png)\n",
    "\n",
    "Next, to initialize the debugger, press `F5`. Since this is your first time debugging this file, a configuration menu will open from the Command Palette allowing you to select the type of debug configuration you would like for the opened file.\n"
   ]
  },
  {
   "cell_type": "markdown",
   "metadata": {
    "slideshow": {
     "slide_type": "fragment"
    }
   },
   "source": [
    "\n",
    "![Debug configurations after launch.json is created](https://code.visualstudio.com/assets/docs/python/tutorial/debug-configurations.png)\n"
   ]
  },
  {
   "cell_type": "markdown",
   "metadata": {
    "slideshow": {
     "slide_type": "fragment"
    }
   },
   "source": [
    "\n",
    "> **Note**: VS Code uses JSON files for all of its various configurations; `launch.json` is the standard name for a file containing debugging configurations.\n"
   ]
  },
  {
   "cell_type": "markdown",
   "metadata": {
    "slideshow": {
     "slide_type": "fragment"
    }
   },
   "source": [
    "\n",
    "Select **Python File**, which is the configuration that runs the current file shown in the editor using the currently selected Python interpreter.\n"
   ]
  },
  {
   "cell_type": "markdown",
   "metadata": {
    "slideshow": {
     "slide_type": "fragment"
    }
   },
   "source": [
    "\n",
    "Start the debugger by clicking on the down-arrow next to the run button on the editor, and selecting **Debug Python File in Terminal**.\n",
    "\n",
    "![Using the debug Python file in terminal button](https://code.visualstudio.com/assets/docs/python/tutorial/debug-python-file-in-terminal-button.png)\n"
   ]
  },
  {
   "cell_type": "markdown",
   "metadata": {
    "slideshow": {
     "slide_type": "fragment"
    }
   },
   "source": [
    "\n",
    "The debugger will stop at the first line of the file breakpoint. The current line is indicated with a yellow arrow in the left margin. If you examine the **Local** variables window at this point, you will see now defined `msg` variable appears in the **Local** pane.\n",
    "\n",
    "![Debugging step 2 - variable defined](https://code.visualstudio.com/assets/docs/python/tutorial/debug-step-02.png)\n"
   ]
  },
  {
   "cell_type": "markdown",
   "metadata": {
    "slideshow": {
     "slide_type": "fragment"
    }
   },
   "source": [
    "\n",
    "A debug toolbar appears along the top with the following commands from left to right: continue (`F5`), step over (`F10`), step into (`F11`), step out (`Shift + F11`), restart (`Ctrl + Shift + F5`), and stop (`Shift + F5`).\n",
    "\n",
    "![Debugging toolbar](https://code.visualstudio.com/assets/docs/python/tutorial/debug-toolbar.png\n",
    ")"
   ]
  },
  {
   "cell_type": "markdown",
   "metadata": {
    "slideshow": {
     "slide_type": "fragment"
    }
   },
   "source": [
    "\n",
    "The Status Bar also changes color (orange in many themes) to indicate that you're in debug mode. The **Python Debug Console** also appears automatically in the lower right panel to show the commands being run, along with the program output.\n"
   ]
  },
  {
   "cell_type": "markdown",
   "metadata": {
    "slideshow": {
     "slide_type": "fragment"
    }
   },
   "source": [
    "\n",
    "To continue running the program, select the continue command on the debug toolbar (`F5`). The debugger runs the program to the end.\n"
   ]
  },
  {
   "cell_type": "markdown",
   "metadata": {
    "slideshow": {
     "slide_type": "fragment"
    }
   },
   "source": [
    "\n",
    "> **Tip** Debugging information can also be seen by hovering over code, such as variables. In the case of `msg`, hovering over the variable will display the string `Roll a dice!` in a box above the variable.\n"
   ]
  },
  {
   "cell_type": "markdown",
   "metadata": {
    "slideshow": {
     "slide_type": "fragment"
    }
   },
   "source": [
    "\n",
    "You can also work with variables in the **Debug Console** (If you don't see it, select **Debug Console** in the lower right area of VS Code, or select it from the **...** menu.) Then try entering the following lines, one by one, at the **>** prompt at the bottom of the console:\n",
    "\n",
    "```python\n",
    "msg\n",
    "msg.capitalize()\n",
    "msg.split()\n",
    "```\n"
   ]
  },
  {
   "cell_type": "markdown",
   "metadata": {
    "slideshow": {
     "slide_type": "fragment"
    }
   },
   "source": [
    "\n",
    "![Debugging step 3 - using the debug console](https://code.visualstudio.com/assets/docs/python/tutorial/debug-step-03.png)\n",
    "\n",
    "Select the blue **Continue** button on the toolbar again (or press `F5`) to run the program to completion. \"Roll a dice!\" appears in the **Python Debug Console** if you switch back to it, and VS Code exits debugging mode once the program is complete.\n",
    "\n",
    "If you restart the debugger, the debugger again stops on the first breakpoint.\n"
   ]
  },
  {
   "cell_type": "markdown",
   "metadata": {
    "slideshow": {
     "slide_type": "fragment"
    }
   },
   "source": [
    "\n",
    "To stop running a program before it's complete, use the red square stop button on the debug toolbar (`Shift + F5`), or use the **Run > Stop debugging** menu command.\n",
    "\n",
    "For full details, see [Debugging configurations](https://code.visualstudio.com/docs/python/debugging), which includes notes on how to use a specific Python interpreter for debugging.\n"
   ]
  },
  {
   "cell_type": "markdown",
   "metadata": {
    "slideshow": {
     "slide_type": "fragment"
    }
   },
   "source": [
    "\n",
    "> **Tip: Use Logpoints instead of print statements**: Developers often litter source code with `print` statements to quickly inspect variables without necessarily stepping through each line of code in a debugger. In VS Code, you can instead use **Logpoints**. A Logpoint is like a breakpoint except that it logs a message to the console and doesn't stop the program. For more information, see [Logpoints](https://code.visualstudio.com/docs/editor/debugging#_logpoints) in the main VS Code debugging article.\n"
   ]
  },
  {
   "cell_type": "markdown",
   "metadata": {
    "slideshow": {
     "slide_type": "slide"
    }
   },
   "source": [
    "\n",
    "## Install and use packages\n",
    "\n",
    "Let's build upon the previous example by using packages.\n",
    "\n",
    "In Python, packages are how you obtain any number of useful code libraries, typically from [PyPI](https://pypi.org/), that provide additional functionality to your program. For this example, you use the `numpy` package to generate a random number.\n",
    "\n",
    "Return to the **Explorer** view (the top-most icon on the left side, which shows files), open `hello.py`, and paste in the following source code:\n"
   ]
  },
  {
   "cell_type": "markdown",
   "metadata": {
    "slideshow": {
     "slide_type": "fragment"
    }
   },
   "source": [
    "\n",
    "```python\n",
    "import numpy as np\n",
    "import torch\n",
    "\n",
    "msg = \"Roll a dice\"\n",
    "print(msg)\n",
    "\n",
    "print(np.random.randint(1,9))\n",
    "print(torch.randint(1,9))\n",
    "```\n"
   ]
  },
  {
   "cell_type": "markdown",
   "metadata": {
    "slideshow": {
     "slide_type": "fragment"
    }
   },
   "source": [
    "\n",
    "> **Tip**: If you enter the above code by hand, you may find that auto-completions change the names after the `as` keywords when you press `Enter` at the end of a line. To avoid this, type a space, then `Enter`.\n"
   ]
  },
  {
   "cell_type": "markdown",
   "metadata": {
    "slideshow": {
     "slide_type": "fragment"
    }
   },
   "source": [
    "\n",
    "Next, run the file in the debugger using the \"Python: Current file\" configuration as described in the last section.\n"
   ]
  },
  {
   "cell_type": "markdown",
   "metadata": {
    "slideshow": {
     "slide_type": "fragment"
    }
   },
   "source": [
    "\n",
    "You should see the message, **\"ModuleNotFoundError: No module named 'numpy'\"**. This message indicates that the required package isn't available in your interpreter. If you're using an Anaconda distribution or have previously installed the `numpy` package you may not see this message.\n",
    "\n",
    "You might also see **\"ModuleNotFoundError: No module named 'torch'\"**\n"
   ]
  },
  {
   "cell_type": "markdown",
   "metadata": {
    "slideshow": {
     "slide_type": "fragment"
    }
   },
   "source": [
    "\n",
    "To install the `numpy` package, stop the debugger and use the Command Palette to run **Terminal: Create New Terminal** (`Ctrl + Shift + +`). This command opens a command prompt for your selected interpreter.\n"
   ]
  },
  {
   "cell_type": "markdown",
   "metadata": {
    "slideshow": {
     "slide_type": "fragment"
    }
   },
   "source": [
    "\n",
    "To install the required packages in your virtual environment, enter the following commands as appropriate for your operating system:\n"
   ]
  },
  {
   "cell_type": "markdown",
   "metadata": {
    "slideshow": {
     "slide_type": "subslide"
    }
   },
   "source": [
    "\n",
    "1. Install the packages\n",
    "\n",
    "   ```bash\n",
    "   pip install numpy\n",
    "   pip install torch\n",
    "   ```\n"
   ]
  },
  {
   "cell_type": "markdown",
   "metadata": {
    "slideshow": {
     "slide_type": "fragment"
    }
   },
   "source": [
    "\n",
    "1. Now, rerun the program, with or without the debugger, to view the output!\n",
    "\n"
   ]
  },
  {
   "cell_type": "markdown",
   "metadata": {},
   "source": []
  }
 ],
 "metadata": {
  "celltoolbar": "Slideshow",
  "kernelspec": {
   "display_name": "Python 3 (ipykernel)",
   "language": "python",
   "name": "python3"
  },
  "language_info": {
   "codemirror_mode": {
    "name": "ipython",
    "version": 3
   },
   "file_extension": ".py",
   "mimetype": "text/x-python",
   "name": "python",
   "nbconvert_exporter": "python",
   "pygments_lexer": "ipython3",
   "version": "3.10.0"
  },
  "varInspector": {
   "cols": {
    "lenName": 16,
    "lenType": 16,
    "lenVar": 40
   },
   "kernels_config": {
    "python": {
     "delete_cmd_postfix": "",
     "delete_cmd_prefix": "del ",
     "library": "var_list.py",
     "varRefreshCmd": "print(var_dic_list())"
    },
    "r": {
     "delete_cmd_postfix": ") ",
     "delete_cmd_prefix": "rm(",
     "library": "var_list.r",
     "varRefreshCmd": "cat(var_dic_list()) "
    }
   },
   "types_to_exclude": [
    "module",
    "function",
    "builtin_function_or_method",
    "instance",
    "_Feature"
   ],
   "window_display": false
  }
 },
 "nbformat": 4,
 "nbformat_minor": 2
}
