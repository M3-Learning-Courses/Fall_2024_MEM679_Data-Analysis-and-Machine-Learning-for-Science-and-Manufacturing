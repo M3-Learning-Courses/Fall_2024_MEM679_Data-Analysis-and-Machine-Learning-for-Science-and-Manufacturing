{
 "cells": [
  {
   "cell_type": "markdown",
   "metadata": {
    "slideshow": {
     "slide_type": "slide"
    }
   },
   "source": [
    "# Getting Started with Python in VS Code\n",
    "\n",
    "In this tutorial, you will learn how to use Python 3 in Visual Studio Code to create, run, and debug a Python \"Roll a dice\" application, work with virtual environments, use packages, and more! By using the [Python extension](https://marketplace.visualstudio.com/items?itemName=ms-python.python), you turn VS Code into a great, lightweight Python editor.\n"
   ]
  },
  {
   "cell_type": "markdown",
   "metadata": {
    "slideshow": {
     "slide_type": "fragment"
    }
   },
   "source": [
    "\n",
    "To learn more about the Python language, follow any of the [programming tutorials](https://wiki.python.org/moin/BeginnersGuide/Programmers) listed on python.org within the context of VS Code.\n"
   ]
  },
  {
   "cell_type": "markdown",
   "metadata": {
    "slideshow": {
     "slide_type": "slide"
    }
   },
   "source": [
    "\n",
    "## Prerequisites\n",
    "\n",
    "To successfully complete this tutorial, you need to first setup your Python development environment. Specifically, this tutorial requires:\n",
    "\n",
    "- Python 3\n",
    "- [VS Code](https://code.visualstudio.com/)\n",
    "- [VS Code Python extension](https://marketplace.visualstudio.com/items?itemName=ms-python.python) (For additional details on installing extensions, see [Extension Marketplace](https://marketplace.visualstudio.com/vscode))\n"
   ]
  },
  {
   "cell_type": "markdown",
   "metadata": {
    "slideshow": {
     "slide_type": "slide"
    }
   },
   "source": [
    "## Start VS Code in a workspace folder\n",
    "\n",
    "By starting VS Code in a folder, that folder becomes your \"workspace\".\n",
    "\n",
    "Using a command prompt or terminal, create an empty folder called \"hello\", navigate into it, and open VS Code (`code`) in that folder (`.`) by entering the following commands:\n"
   ]
  },
  {
   "cell_type": "markdown",
   "metadata": {
    "slideshow": {
     "slide_type": "fragment"
    }
   },
   "source": [
    "\n",
    "```bash\n",
    "mkdir hello\n",
    "cd hello\n",
    "code .\n",
    "```\n"
   ]
  },
  {
   "cell_type": "markdown",
   "metadata": {
    "slideshow": {
     "slide_type": "fragment"
    }
   },
   "source": [
    "\n",
    ">**Note**: If you're using an Anaconda distribution, be sure to use an Anaconda command prompt.\n",
    "\n",
    "Alternately, you can create a folder through the operating system UI, then use VS Code's **File > Open Folder** to open the project folder.\n"
   ]
  },
  {
   "cell_type": "markdown",
   "metadata": {
    "slideshow": {
     "slide_type": "slide"
    }
   },
   "source": [
    "\n",
    "## Create a virtual environment\n",
    "\n",
    "A best practice among Python developers is to use a project-specific `virtual environment`. Once you activate that environment, any packages you then install are isolated from other environments, including the global interpreter environment, reducing many complications that can arise from conflicting package versions. \n",
    "\n",
    "```bash\n",
    "conda create -n <env name> python=3.10\n",
    "``\n",
    "\n",
    "```\n",
    ">**Tip**: text inbetween `< >` should be replaced with your own values. For example, if you want to create an environment called `myenv`, you would enter `conda create -n myenv python=3.10`.\n",
    "```"
   ]
  },
  {
   "cell_type": "markdown",
   "metadata": {
    "slideshow": {
     "slide_type": "subslide"
    }
   },
   "source": [
    "Ensure your new environment is selected by using the **Python: Select Interpreter** command from the **Command Palette**.\n",
    "\n",
    "![Select an Interpreter](https://code.visualstudio.com/assets/docs/python/environments/interpreters-list.png)\n",
    "\n",
    "> **Note**: For additional information about virtual environments, or if you run into an error in the environment creation process, see [Environments](https://code.visualstudio.com/docs/python/environments.md#creating-environments).\n"
   ]
  },
  {
   "cell_type": "markdown",
   "metadata": {
    "slideshow": {
     "slide_type": "subslide"
    }
   },
   "source": [
    "## Create a Python source code file\n",
    "\n",
    "From the File Explorer toolbar, select the **New File** button on the `hello` folder:\n",
    "\n",
    "![File Explorer New File](https://code.visualstudio.com/assets/docs/python/tutorial/toolbar-new-file.png)\n"
   ]
  },
  {
   "cell_type": "markdown",
   "metadata": {
    "slideshow": {
     "slide_type": "fragment"
    }
   },
   "source": [
    "\n",
    "Name the file `hello.py`, and VS Code will automatically open it in the editor:\n",
    "\n",
    "![File Explorer hello.py](https://code.visualstudio.com/assets/docs/python/tutorial/hello-py-file-created.png)\n",
    "\n",
    "By using the `.py` file extension, you tell VS Code to interpret this file as a Python program, so that it evaluates the contents with the Python extension and the selected interpreter.\n",
    "\n",
    ">**Note**: The File Explorer toolbar also allows you to create folders within your workspace to better organize your code. You can use the **New folder** button to quickly create a folder.\n"
   ]
  },
  {
   "cell_type": "markdown",
   "metadata": {
    "slideshow": {
     "slide_type": "fragment"
    }
   },
   "source": [
    "\n",
    "Now that you have a code file in your Workspace, enter the following source code in `hello.py`:\n",
    "\n",
    "```python\n",
    "msg = \"Roll a dice\"\n",
    "print(msg)\n",
    "```\n"
   ]
  },
  {
   "cell_type": "markdown",
   "metadata": {
    "slideshow": {
     "slide_type": "subslide"
    }
   },
   "source": [
    "### Addon Intellisense"
   ]
  },
  {
   "cell_type": "markdown",
   "metadata": {
    "slideshow": {
     "slide_type": "fragment"
    }
   },
   "source": [
    "\n",
    "When you start typing `print`, notice how [IntelliSense](https://code.visualstudio.com/docs/editor/intellisense) presents auto-completion options.\n",
    "\n",
    "![IntelliSense appearing for Python code](https://code.visualstudio.com/assets/docs/python/tutorial/intellisense01.png)\n",
    "\n",
    "IntelliSense and auto-completions work for standard Python modules as well as other packages you've installed into the environment of the selected Python interpreter. It also provides completions for methods available on object types. For example, because the `msg` variable contains a string, IntelliSense provides string methods when you type `msg.`:\n"
   ]
  },
  {
   "cell_type": "markdown",
   "metadata": {
    "slideshow": {
     "slide_type": "fragment"
    }
   },
   "source": [
    "\n",
    "![IntelliSense appearing for a variable whose type provides methods](https://code.visualstudio.com/assets/docs/python/tutorial/intellisense02.png)\n",
    "\n",
    "Finally, save the file (`ctrl + S`). At this point, you're ready to run your first Python file in VS Code.\n"
   ]
  },
  {
   "cell_type": "markdown",
   "metadata": {
    "slideshow": {
     "slide_type": "subslide"
    }
   },
   "source": [
    "## Run Hello World\n",
    "\n",
    "Click the **Run Python File in Terminal** play button in the top-right side of the editor.\n",
    "\n",
    "![Using the Run Python File in Terminal button](https://code.visualstudio.com/assets/docs/python/tutorial/run-python-file-in-terminal-button.png)\n"
   ]
  },
  {
   "cell_type": "markdown",
   "metadata": {
    "slideshow": {
     "slide_type": "fragment"
    }
   },
   "source": [
    "\n",
    "The button opens a terminal panel in which your Python interpreter is automatically activated, then runs `python3 hello.py` (macOS/Linux) or `python hello.py` (Windows):\n",
    "\n",
    "![Program output in a Python terminal](https://code.visualstudio.com/assets/docs/python/tutorial/output-in-terminal.png)\n"
   ]
  },
  {
   "cell_type": "markdown",
   "metadata": {
    "slideshow": {
     "slide_type": "fragment"
    }
   },
   "source": [
    "\n",
    "There are three other ways you can run Python code within VS Code:\n",
    "\n",
    "1. Right-click anywhere in the editor window and select **Run > Python File in Terminal** (which saves the file automatically):\n",
    "\n",
    "   ![Run Python File in Terminal command in the Python editor](https://code.visualstudio.com/assets/docs/python/tutorial/run-python-file-in-terminal.png)\n"
   ]
  },
  {
   "cell_type": "markdown",
   "metadata": {
    "slideshow": {
     "slide_type": "fragment"
    }
   },
   "source": [
    "\n",
    "2. Select one or more lines, then press `Shift+Enter` or right-click and select **Run Selection/Line in Python Terminal**. This command is convenient for testing just a part of a file.\n"
   ]
  }
 ],
 "metadata": {
  "celltoolbar": "Slideshow",
  "kernelspec": {
   "display_name": "Python 3 (ipykernel)",
   "language": "python",
   "name": "python3"
  },
  "language_info": {
   "codemirror_mode": {
    "name": "ipython",
    "version": 3
   },
   "file_extension": ".py",
   "mimetype": "text/x-python",
   "name": "python",
   "nbconvert_exporter": "python",
   "pygments_lexer": "ipython3",
   "version": "3.11.9"
  },
  "varInspector": {
   "cols": {
    "lenName": 16,
    "lenType": 16,
    "lenVar": 40
   },
   "kernels_config": {
    "python": {
     "delete_cmd_postfix": "",
     "delete_cmd_prefix": "del ",
     "library": "var_list.py",
     "varRefreshCmd": "print(var_dic_list())"
    },
    "r": {
     "delete_cmd_postfix": ") ",
     "delete_cmd_prefix": "rm(",
     "library": "var_list.r",
     "varRefreshCmd": "cat(var_dic_list()) "
    }
   },
   "types_to_exclude": [
    "module",
    "function",
    "builtin_function_or_method",
    "instance",
    "_Feature"
   ],
   "window_display": false
  }
 },
 "nbformat": 4,
 "nbformat_minor": 2
}
