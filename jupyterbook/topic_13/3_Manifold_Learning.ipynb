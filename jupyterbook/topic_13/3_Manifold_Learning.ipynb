{
 "cells": [
  {
   "cell_type": "markdown",
   "id": "0",
   "metadata": {
    "slideshow": {
     "slide_type": "slide"
    }
   },
   "source": [
    "# Manifold Learning\n"
   ]
  },
  {
   "cell_type": "markdown",
   "id": "1",
   "metadata": {
    "slideshow": {
     "slide_type": "fragment"
    }
   },
   "source": [
    "principal component analysis (PCA) can be used in the dimensionality reduction task—reducing the number of features of a dataset while maintaining the essential relationships between the points.\n",
    "\n",
    "- While PCA is flexible, fast, and somewhat interpretable, it does not perform so well when there are nonlinear relationships\n"
   ]
  },
  {
   "cell_type": "markdown",
   "id": "2",
   "metadata": {
    "slideshow": {
     "slide_type": "fragment"
    }
   },
   "source": [
    "**manifold learning** — a class of unsupervised estimators that seeks to describe datasets as low-dimensional manifolds embedded in high-dimensional spaces.\n"
   ]
  },
  {
   "cell_type": "markdown",
   "id": "3",
   "metadata": {
    "slideshow": {
     "slide_type": "fragment"
    }
   },
   "source": [
    "![](figs/rolled_sheet_paper.jpg)\n"
   ]
  },
  {
   "cell_type": "markdown",
   "id": "4",
   "metadata": {
    "slideshow": {
     "slide_type": "fragment"
    }
   },
   "source": [
    "- A sheet of paper lives in a 3d world but lies on a 2d manifold\n",
    "- Manifold unfolding tries to learn this\n",
    "- No matter how you bend, rotate, curl or crumple the paper it still lives on a 2d manifold\n"
   ]
  },
  {
   "cell_type": "markdown",
   "id": "5",
   "metadata": {
    "slideshow": {
     "slide_type": "fragment"
    }
   },
   "source": [
    "**Manifold learning algorithms would seek to learn about the fundamental two-dimensional nature of the paper, even as it is contorted to fill the three-dimensional space.**\n"
   ]
  },
  {
   "cell_type": "markdown",
   "id": "6",
   "metadata": {
    "slideshow": {
     "slide_type": "subslide"
    }
   },
   "source": [
    "## Import functions\n"
   ]
  },
  {
   "cell_type": "code",
   "execution_count": null,
   "id": "7",
   "metadata": {
    "slideshow": {
     "slide_type": "fragment"
    }
   },
   "outputs": [],
   "source": [
    "%matplotlib inline\n",
    "import matplotlib.pyplot as plt\n",
    "from matplotlib import offsetbox\n",
    "from mpl_toolkits.mplot3d.art3d import Line3DCollection\n",
    "\n",
    "import seaborn as sns\n",
    "sns.set()\n",
    "import numpy as np\n",
    "import umap\n",
    "\n",
    "from sklearn.manifold import TSNE\n",
    "from sklearn.preprocessing import MinMaxScaler\n",
    "from sklearn.datasets import fetch_openml, fetch_lfw_people\n",
    "from sklearn.manifold import Isomap, LocallyLinearEmbedding, MDS\n",
    "from sklearn.decomposition import PCA\n",
    "from sklearn.neighbors import NearestNeighbors\n",
    "from sklearn.metrics import pairwise_distances\n",
    "\n",
    "\n",
    "from mpl_toolkits import mplot3d\n"
   ]
  },
  {
   "cell_type": "markdown",
   "id": "8",
   "metadata": {
    "slideshow": {
     "slide_type": "fragment"
    }
   },
   "source": [
    "### Manifold Learning: \"HELLO\"\n",
    "\n",
    "To make these concepts more clear, let's start by generating some two-dimensional data that we can use to define a manifold.\n",
    "Here is a function that will create data in the shape of the word \"HELLO\":\n"
   ]
  },
  {
   "cell_type": "code",
   "execution_count": null,
   "id": "9",
   "metadata": {
    "slideshow": {
     "slide_type": "fragment"
    }
   },
   "outputs": [],
   "source": [
    "def make_hello(N=1000, rseed=42):\n",
    "    # Make a plot with \"HELLO\" text; save as PNG\n",
    "    fig, ax = plt.subplots(figsize=(4, 1))\n",
    "    fig.subplots_adjust(left=0, right=1, bottom=0, top=1)\n",
    "    ax.axis('off')\n",
    "    ax.text(0.5, 0.4, 'HELLO', va='center', ha='center', weight='bold', size=85)\n",
    "    fig.savefig('hello.png')\n",
    "    plt.close(fig)\n",
    "    \n",
    "    # Open this PNG and draw random points from it\n",
    "    from matplotlib.image import imread\n",
    "    data = imread('hello.png')[::-1, :, 0].T\n",
    "    rng = np.random.RandomState(rseed)\n",
    "    X = rng.rand(4 * N, 2)\n",
    "    i, j = (X * data.shape).astype(int).T\n",
    "    mask = (data[i, j] < 1)\n",
    "    X = X[mask]\n",
    "    X[:, 0] *= (data.shape[0] / data.shape[1])\n",
    "    X = X[:N]\n",
    "    return X[np.argsort(X[:, 0])]"
   ]
  },
  {
   "cell_type": "code",
   "execution_count": null,
   "id": "10",
   "metadata": {
    "slideshow": {
     "slide_type": "fragment"
    }
   },
   "outputs": [],
   "source": [
    "X = make_hello(1000)\n",
    "colorize = dict(c=X[:, 0], cmap=plt.cm.get_cmap('rainbow', 5))\n",
    "fig=plt.figure(figsize=(12, 12))\n",
    "plt.scatter(X[:, 0], X[:, 1], **colorize)\n",
    "plt.axis('equal');"
   ]
  },
  {
   "cell_type": "markdown",
   "id": "11",
   "metadata": {
    "slideshow": {
     "slide_type": "subslide"
    }
   },
   "source": [
    "### Multidimensional Scaling (MDS)\n",
    "\n",
    "- The choice of _x_ and _y_ values of the dataset is not the most fundamental description of the data: we can scale, shrink, or rotate the data, and the \"HELLO\" will still be apparent.\n",
    "- If we use a rotation matrix to rotate the data, the _x_ and _y_ values change, but the data is still fundamentally the same:\n"
   ]
  },
  {
   "cell_type": "code",
   "execution_count": null,
   "id": "12",
   "metadata": {
    "slideshow": {
     "slide_type": "fragment"
    }
   },
   "outputs": [],
   "source": [
    "def rotate(X, angle):\n",
    "    theta = np.deg2rad(angle)\n",
    "    R = [[np.cos(theta), np.sin(theta)],\n",
    "         [-np.sin(theta), np.cos(theta)]]\n",
    "    return np.dot(X, R)\n",
    "    \n",
    "X2 = rotate(X, 20) + 5\n",
    "fig=plt.figure(figsize=(12, 12))\n",
    "plt.scatter(X2[:, 0], X2[:, 1], **colorize)\n",
    "plt.axis('equal');"
   ]
  },
  {
   "cell_type": "markdown",
   "id": "13",
   "metadata": {
    "slideshow": {
     "slide_type": "fragment"
    }
   },
   "source": [
    "- _x_ and _y_ values are not necessarily fundamental to the relationships in the data.\n",
    "- What _is_ fundamental, in this case, is the _distance_ between each point and the other points in the dataset.\n",
    "- A common way to represent this is to use a distance matrix: for $N$ points, we construct an $N \\times N$ array such that entry $(i, j)$ contains the distance between point $i$ and point $j$.\n",
    "\n",
    "Let's use Scikit-Learn's efficient `pairwise_distances` function to do this for our original data:\n"
   ]
  },
  {
   "cell_type": "markdown",
   "id": "14",
   "metadata": {
    "slideshow": {
     "slide_type": "subslide"
    }
   },
   "source": [
    "**Pairwise Distance Calculation**\n"
   ]
  },
  {
   "cell_type": "code",
   "execution_count": null,
   "id": "15",
   "metadata": {
    "slideshow": {
     "slide_type": "fragment"
    }
   },
   "outputs": [],
   "source": [
    "D = pairwise_distances(X)\n",
    "D.shape"
   ]
  },
  {
   "cell_type": "code",
   "execution_count": null,
   "id": "16",
   "metadata": {
    "slideshow": {
     "slide_type": "fragment"
    }
   },
   "outputs": [],
   "source": [
    "plt.imshow(D, zorder=2, cmap='viridis', interpolation='nearest')\n",
    "plt.colorbar();"
   ]
  },
  {
   "cell_type": "markdown",
   "id": "17",
   "metadata": {
    "slideshow": {
     "slide_type": "fragment"
    }
   },
   "source": [
    "If we similarly construct a distance matrix for our rotated and translated data, we see that it is the same:\n"
   ]
  },
  {
   "cell_type": "code",
   "execution_count": null,
   "id": "18",
   "metadata": {
    "slideshow": {
     "slide_type": "fragment"
    }
   },
   "outputs": [],
   "source": [
    "D2 = pairwise_distances(X2)\n",
    "np.allclose(D, D2)"
   ]
  },
  {
   "cell_type": "markdown",
   "id": "19",
   "metadata": {
    "slideshow": {
     "slide_type": "fragment"
    }
   },
   "source": [
    "- This means that the pairwise distance is invariant to rotations\n"
   ]
  },
  {
   "cell_type": "markdown",
   "id": "20",
   "metadata": {
    "slideshow": {
     "slide_type": "fragment"
    }
   },
   "source": [
    "- This representation no longer looks like Hello\n"
   ]
  },
  {
   "cell_type": "markdown",
   "id": "21",
   "metadata": {
    "slideshow": {
     "slide_type": "fragment"
    }
   },
   "source": [
    "- Transforming a distance matrix back to real space is difficult\n"
   ]
  },
  {
   "cell_type": "markdown",
   "id": "22",
   "metadata": {
    "slideshow": {
     "slide_type": "subslide"
    }
   },
   "source": [
    "**Multidimensional scaling**\n"
   ]
  },
  {
   "cell_type": "code",
   "execution_count": null,
   "id": "23",
   "metadata": {
    "slideshow": {
     "slide_type": "fragment"
    }
   },
   "outputs": [],
   "source": [
    "model = MDS(n_components=2, dissimilarity='precomputed', random_state=1)\n",
    "out = model.fit_transform(D)\n",
    "fig=plt.figure(figsize=(12, 12))\n",
    "plt.scatter(out[:, 0], out[:, 1], **colorize)\n",
    "plt.axis('equal');"
   ]
  },
  {
   "cell_type": "markdown",
   "id": "24",
   "metadata": {
    "slideshow": {
     "slide_type": "fragment"
    }
   },
   "source": [
    "The MDS algorithm recovers one of the possible two-dimensional coordinate representations of our data, using _only_ the $N\\times N$ distance matrix describing the relationship between the data points.\n"
   ]
  },
  {
   "cell_type": "markdown",
   "id": "25",
   "metadata": {
    "slideshow": {
     "slide_type": "subslide"
    }
   },
   "source": [
    "**MDS as Manifold Learning**\n",
    "\n",
    "- The usefulness of this becomes more apparent when we consider the fact that distance matrices can be computed from data in _any_ dimension.\n",
    "\n",
    "So, for example, instead of simply rotating the data in the two-dimensional plane, we can project it into three dimensions using the following function (essentially a three-dimensional generalization of the rotation matrix used earlier):\n"
   ]
  },
  {
   "cell_type": "code",
   "execution_count": null,
   "id": "26",
   "metadata": {
    "slideshow": {
     "slide_type": "fragment"
    }
   },
   "outputs": [],
   "source": [
    "def random_projection(X, dimension=3, rseed=42):\n",
    "    assert dimension >= X.shape[1]\n",
    "    rng = np.random.RandomState(rseed)\n",
    "    C = rng.randn(dimension, dimension)\n",
    "    e, V = np.linalg.eigh(np.dot(C, C.T))\n",
    "    return np.dot(X, V[:X.shape[1]])\n",
    "    \n",
    "X3 = random_projection(X, 3)\n",
    "X3.shape"
   ]
  },
  {
   "cell_type": "code",
   "execution_count": null,
   "id": "27",
   "metadata": {
    "slideshow": {
     "slide_type": "fragment"
    }
   },
   "outputs": [],
   "source": [
    "fig=plt.figure(figsize=(12, 12))\n",
    "\n",
    "ax = plt.axes(projection='3d')\n",
    "ax.scatter3D(X3[:, 0], X3[:, 1], X3[:, 2],\n",
    "             **colorize)\n",
    "ax.view_init(azim=70, elev=50)"
   ]
  },
  {
   "cell_type": "code",
   "execution_count": null,
   "id": "28",
   "metadata": {
    "slideshow": {
     "slide_type": "fragment"
    }
   },
   "outputs": [],
   "source": [
    "model = MDS(n_components=2, random_state=1)\n",
    "fig=plt.figure(figsize=(12, 12))\n",
    "out3 = model.fit_transform(X3)\n",
    "plt.scatter(out3[:, 0], out3[:, 1], **colorize)\n",
    "plt.axis('equal');"
   ]
  },
  {
   "cell_type": "markdown",
   "id": "29",
   "metadata": {
    "slideshow": {
     "slide_type": "fragment"
    }
   },
   "source": [
    "**Multidimensional Scaling still recovers the image!!!**\n"
   ]
  },
  {
   "cell_type": "markdown",
   "id": "30",
   "metadata": {
    "slideshow": {
     "slide_type": "fragment"
    }
   },
   "source": [
    "This is essentially the goal of a manifold learning estimator: given\n",
    "high-dimensional embedded data, it seeks a low-dimensional representation of the data that preserves certain relationships within the data.\n",
    "In the case of MDS, the quantity preserved is the distance between every pair of points.\n"
   ]
  },
  {
   "cell_type": "markdown",
   "id": "31",
   "metadata": {
    "slideshow": {
     "slide_type": "slide"
    }
   },
   "source": [
    "**Nonlinear Embeddings: Where MDS Fails**\n"
   ]
  },
  {
   "cell_type": "markdown",
   "id": "32",
   "metadata": {
    "slideshow": {
     "slide_type": "fragment"
    }
   },
   "source": [
    "- The word \"Hello\" has linear relationships between datapoints\n",
    "- _linear_ embeddings, which essentially consist of rotations, translations, and scalings of data into higher-dimensional spaces.\n"
   ]
  },
  {
   "cell_type": "markdown",
   "id": "33",
   "metadata": {
    "slideshow": {
     "slide_type": "fragment"
    }
   },
   "source": [
    "- Where MDS breaks down is when the embedding is nonlinear—that is, when it goes beyond this simple set of operations.\n"
   ]
  },
  {
   "cell_type": "markdown",
   "id": "34",
   "metadata": {
    "slideshow": {
     "slide_type": "fragment"
    }
   },
   "source": [
    "Consider the following embedding, which takes the input and contorts it into an \"S\" shape in three dimensions:\n"
   ]
  },
  {
   "cell_type": "code",
   "execution_count": null,
   "id": "35",
   "metadata": {
    "slideshow": {
     "slide_type": "fragment"
    }
   },
   "outputs": [],
   "source": [
    "def make_hello_s_curve(X):\n",
    "    t = (X[:, 0] - 2) * 0.75 * np.pi\n",
    "    x = np.sin(t)\n",
    "    y = X[:, 1]\n",
    "    z = np.sign(t) * (np.cos(t) - 1)\n",
    "    return np.vstack((x, y, z)).T\n",
    "\n",
    "XS = make_hello_s_curve(X)"
   ]
  },
  {
   "cell_type": "markdown",
   "id": "36",
   "metadata": {
    "slideshow": {
     "slide_type": "fragment"
    }
   },
   "source": [
    "Again this is 3d data but the manifold is much more complicated\n"
   ]
  },
  {
   "cell_type": "code",
   "execution_count": null,
   "id": "37",
   "metadata": {
    "slideshow": {
     "slide_type": "fragment"
    }
   },
   "outputs": [],
   "source": [
    "from mpl_toolkits import mplot3d\n",
    "fig=plt.figure(figsize=(12, 12))\n",
    "\n",
    "ax = plt.axes(projection='3d')\n",
    "ax.scatter3D(XS[:, 0], XS[:, 1], XS[:, 2],\n",
    "             **colorize);"
   ]
  },
  {
   "cell_type": "markdown",
   "id": "38",
   "metadata": {
    "slideshow": {
     "slide_type": "fragment"
    }
   },
   "source": [
    "The relationships between the data points are still the same but it has been wrapped into a shape of an S\n"
   ]
  },
  {
   "cell_type": "markdown",
   "id": "39",
   "metadata": {
    "slideshow": {
     "slide_type": "fragment"
    }
   },
   "source": [
    "If we try MDS we are not able to unwrap this nonlinear embedding\n"
   ]
  },
  {
   "cell_type": "code",
   "execution_count": null,
   "id": "40",
   "metadata": {
    "slideshow": {
     "slide_type": "fragment"
    }
   },
   "outputs": [],
   "source": [
    "from sklearn.manifold import MDS\n",
    "fig=plt.figure(figsize=(12, 12))\n",
    "\n",
    "model = MDS(n_components=2, random_state=2)\n",
    "outS = model.fit_transform(XS)\n",
    "plt.scatter(outS[:, 0], outS[:, 1], **colorize)\n",
    "plt.axis('equal');"
   ]
  },
  {
   "cell_type": "markdown",
   "id": "41",
   "metadata": {
    "slideshow": {
     "slide_type": "fragment"
    }
   },
   "source": [
    "The best two-dimensional _linear_ embedding does not unwrap the S-curve, but instead throws out the original y-axis.\n"
   ]
  },
  {
   "cell_type": "markdown",
   "id": "42",
   "metadata": {
    "slideshow": {
     "slide_type": "subslide"
    }
   },
   "source": [
    "## Nonlinear Manifolds: Locally Linear Embedding\n",
    "\n",
    "How can we move forward here?\n",
    "\n",
    "- we can see that the source of the problem is that MDS tries to preserve distances between faraway points when constructing the embedding.\n"
   ]
  },
  {
   "cell_type": "markdown",
   "id": "43",
   "metadata": {
    "slideshow": {
     "slide_type": "fragment"
    }
   },
   "source": [
    "- If we instead modified the algorithm such that it only preserves distances between nearby points?\n"
   ]
  },
  {
   "cell_type": "code",
   "execution_count": null,
   "id": "44",
   "metadata": {
    "slideshow": {
     "slide_type": "fragment"
    }
   },
   "outputs": [],
   "source": [
    "\n",
    "\n",
    "# construct lines for MDS\n",
    "rng = np.random.RandomState(42)\n",
    "ind = rng.permutation(len(X))\n",
    "lines_MDS = [(XS[i], XS[j]) for i in ind[:100] for j in ind[100:200]]\n",
    "\n",
    "# construct lines for LLE\n",
    "nbrs = NearestNeighbors(n_neighbors=100).fit(XS).kneighbors(XS[ind[:100]])[1]\n",
    "lines_LLE = [(XS[ind[i]], XS[j]) for i in range(100) for j in nbrs[i]]\n",
    "titles = ['MDS Linkages', 'LLE Linkages (100 NN)']\n",
    "\n",
    "# plot the results\n",
    "fig, ax = plt.subplots(1, 2, figsize=(16, 6),\n",
    "                       subplot_kw=dict(projection='3d'))\n",
    "fig.subplots_adjust(left=0, right=1, bottom=0, top=1, hspace=0, wspace=0)\n",
    "\n",
    "for axi, title, lines in zip(ax, titles, [lines_MDS, lines_LLE]):\n",
    "    axi.scatter3D(XS[:, 0], XS[:, 1], XS[:, 2], **colorize);\n",
    "    axi.add_collection(Line3DCollection(lines, lw=1, color='black',\n",
    "                                        alpha=0.05))\n",
    "    axi.view_init(elev=10, azim=-80)\n",
    "    axi.set_title(title, size=18)"
   ]
  },
  {
   "cell_type": "markdown",
   "id": "45",
   "metadata": {
    "slideshow": {
     "slide_type": "fragment"
    }
   },
   "source": [
    "- The faint lines represents the distances that should be preserved\n"
   ]
  },
  {
   "cell_type": "markdown",
   "id": "46",
   "metadata": {
    "slideshow": {
     "slide_type": "fragment"
    }
   },
   "source": [
    "**MDS:** it tries to preserve the distances between each pair of points in the dataset. <br>\n",
    "**Local linear embedding (LLE):** rather than preserving _all_ distances, it instead tries to preserve only the distances between _neighboring points_: in this case, the nearest 100 neighbors of each point.\n"
   ]
  },
  {
   "cell_type": "markdown",
   "id": "47",
   "metadata": {
    "slideshow": {
     "slide_type": "fragment"
    }
   },
   "source": [
    "- LLE comes in a number of flavors; here we will use the _modified LLE_ algorithm to recover the embedded two-dimensional manifold.\n"
   ]
  },
  {
   "cell_type": "code",
   "execution_count": null,
   "id": "48",
   "metadata": {
    "slideshow": {
     "slide_type": "fragment"
    }
   },
   "outputs": [],
   "source": [
    "\n",
    "model = LocallyLinearEmbedding(n_neighbors=100, n_components=2, method='modified',\n",
    "                               eigen_solver='dense')\n",
    "out = model.fit_transform(XS)\n",
    "\n",
    "\n",
    "fig, ax = plt.subplots(figsize=(12,12))\n",
    "ax.scatter(out[:, 0], out[:, 1], **colorize)\n",
    "ax.set_ylim(0.15, -0.15);"
   ]
  },
  {
   "cell_type": "markdown",
   "id": "49",
   "metadata": {
    "slideshow": {
     "slide_type": "subslide"
    }
   },
   "source": [
    "## Thoughts on Manifold Methods\n"
   ]
  },
  {
   "cell_type": "markdown",
   "id": "50",
   "metadata": {
    "slideshow": {
     "slide_type": "fragment"
    }
   },
   "source": [
    "Though this story and motivation is compelling, in practice manifold learning techniques tend to be finicky enough that they are rarely used for anything more than simple qualitative visualization of high-dimensional data.\n"
   ]
  },
  {
   "cell_type": "markdown",
   "id": "51",
   "metadata": {
    "slideshow": {
     "slide_type": "fragment"
    }
   },
   "source": [
    "The following are some of the particular challenges of manifold learning, which all contrast poorly with PCA:\n"
   ]
  },
  {
   "cell_type": "markdown",
   "id": "52",
   "metadata": {
    "slideshow": {
     "slide_type": "fragment"
    }
   },
   "source": [
    "- In manifold learning, there is no good framework for handling missing data. In contrast, there are straightforward iterative approaches for missing data in PCA.\n"
   ]
  },
  {
   "cell_type": "markdown",
   "id": "53",
   "metadata": {
    "slideshow": {
     "slide_type": "fragment"
    }
   },
   "source": [
    "- In manifold learning, the presence of noise in the data can \"short-circuit\" the manifold and drastically change the embedding. In contrast, PCA naturally filters the noise from the most important components.\n"
   ]
  },
  {
   "cell_type": "markdown",
   "id": "54",
   "metadata": {
    "slideshow": {
     "slide_type": "fragment"
    }
   },
   "source": [
    "- The manifold embedding result is generally highly dependent on the number of neighbors chosen, and there is generally no solid quantitative way to choose an optimal number of neighbors. In contrast, PCA does not involve such a choice.\n"
   ]
  },
  {
   "cell_type": "markdown",
   "id": "55",
   "metadata": {
    "slideshow": {
     "slide_type": "fragment"
    }
   },
   "source": [
    "- In manifold learning, the globally optimal number of output dimensions is difficult to determine. In contrast, PCA lets you find the output dimension based on the explained variance.\n"
   ]
  },
  {
   "cell_type": "markdown",
   "id": "56",
   "metadata": {
    "slideshow": {
     "slide_type": "fragment"
    }
   },
   "source": [
    "- In manifold learning, the meaning of the embedded dimensions is not always clear. In PCA, the principal components have a very clear meaning.\n"
   ]
  },
  {
   "cell_type": "markdown",
   "id": "57",
   "metadata": {
    "slideshow": {
     "slide_type": "fragment"
    }
   },
   "source": [
    "- In manifold learning the computational expense of manifold methods scales as O[N^2] or O[N^3]. For PCA, there exist randomized approaches that are generally much faster\n"
   ]
  },
  {
   "cell_type": "markdown",
   "id": "58",
   "metadata": {
    "slideshow": {
     "slide_type": "fragment"
    }
   },
   "source": [
    "With all that on the table, the only clear advantage of manifold learning methods over PCA is their ability to preserve nonlinear relationships in the data\n",
    "\n",
    "**For that reason, you should** explore data with manifold methods only after first exploring them with PCA.**\n"
   ]
  },
  {
   "cell_type": "markdown",
   "id": "59",
   "metadata": {
    "slideshow": {
     "slide_type": "subslide"
    }
   },
   "source": [
    "Scikit-Learn implements several common variants of manifold learning beyond Isomap and LLE: the Scikit-Learn documentation has a [nice discussion and comparison of them](http://scikit-learn.org/stable/modules/manifold.html).\n",
    "Based on my own experience, I would give the following recommendations:\n",
    "\n",
    "- For toy problems such as the S-curve we saw before, locally linear embedding (LLE) and its variants (especially _modified LLE_), perform very well. This is implemented in `sklearn.manifold.LocallyLinearEmbedding`.\n",
    "- For high-dimensional data from real-world sources, LLE often produces poor results, and isometric mapping (IsoMap) seems to generally lead to more meaningful embeddings. This is implemented in `sklearn.manifold.Isomap`\n",
    "- For data that is highly clustered, _t-distributed stochastic neighbor embedding_ (t-SNE) seems to work very well, though can be very slow compared to other methods. This is implemented in `sklearn.manifold.TSNE`. <br> **T-SNE is particularly good for visualizing neural networks which tend to cluster information.**\n",
    "- For large datasets that are highly clustered, performance is important. U-Map is a drop in replacement for T-SNE that has much better scalable performance. https://umap-learn.readthedocs.io/en/latest/basic_usage.html\n"
   ]
  },
  {
   "cell_type": "markdown",
   "id": "60",
   "metadata": {
    "slideshow": {
     "slide_type": "fragment"
    }
   },
   "source": [
    "![](figs/Umap_performance.png)\n"
   ]
  },
  {
   "cell_type": "markdown",
   "id": "61",
   "metadata": {
    "slideshow": {
     "slide_type": "subslide"
    }
   },
   "source": [
    "## Example: Manifold Unfolding\n"
   ]
  },
  {
   "cell_type": "markdown",
   "id": "62",
   "metadata": {
    "slideshow": {
     "slide_type": "fragment"
    }
   },
   "source": [
    "One place manifold learning is often used is in understanding the relationship between high-dimensional data points.\n",
    "\n",
    "- A common case of high-dimensional data is images: for example, a set of images with 1,000 pixels each can be thought of as a collection of points in 1,000 dimensions – the brightness of each pixel in each image defines the coordinate in that dimension.\n",
    "\n",
    "Here let's apply Isomap on some faces data.\n",
    "\n",
    "Running this command will download the data and cache it in your home directory for later use:\n"
   ]
  },
  {
   "cell_type": "code",
   "execution_count": null,
   "id": "63",
   "metadata": {
    "slideshow": {
     "slide_type": "fragment"
    }
   },
   "outputs": [],
   "source": [
    "faces = fetch_lfw_people(min_faces_per_person=30)\n",
    "faces.data.shape"
   ]
  },
  {
   "cell_type": "markdown",
   "id": "64",
   "metadata": {
    "slideshow": {
     "slide_type": "fragment"
    }
   },
   "source": [
    "We have 2,370 images, each with 2,914 pixels.\n",
    "\n",
    "- Images can be thought of as data points in a 2,914-dimensional space!\n",
    "\n",
    "Let's quickly visualize several of these images to see what we're working with:\n"
   ]
  },
  {
   "cell_type": "code",
   "execution_count": null,
   "id": "65",
   "metadata": {
    "slideshow": {
     "slide_type": "fragment"
    }
   },
   "outputs": [],
   "source": [
    "fig, ax = plt.subplots(4, 8, subplot_kw=dict(xticks=[], yticks=[]), figsize=(12,12))\n",
    "\n",
    "for i, axi in enumerate(ax.flat):\n",
    "    axi.imshow(faces.images[i], cmap='gray')"
   ]
  },
  {
   "cell_type": "code",
   "execution_count": null,
   "id": "66",
   "metadata": {
    "slideshow": {
     "slide_type": "fragment"
    }
   },
   "outputs": [],
   "source": [
    "\n",
    "model = PCA(100, svd_solver='randomized').fit(faces.data)\n",
    "plt.plot(np.cumsum(model.explained_variance_ratio_))\n",
    "plt.xlabel('n components')\n",
    "plt.ylabel('cumulative variance');"
   ]
  },
  {
   "cell_type": "markdown",
   "id": "67",
   "metadata": {
    "slideshow": {
     "slide_type": "fragment"
    }
   },
   "source": [
    "- It requires at least 100 components to explain 90% of the data\n",
    "  - This means the information is intrinsically high dimensional\n",
    "  - The data does not lie on a linear manifold\n"
   ]
  },
  {
   "cell_type": "markdown",
   "id": "68",
   "metadata": {
    "slideshow": {
     "slide_type": "subslide"
    }
   },
   "source": [
    "### Isomap\n"
   ]
  },
  {
   "cell_type": "code",
   "execution_count": null,
   "id": "69",
   "metadata": {
    "slideshow": {
     "slide_type": "fragment"
    }
   },
   "outputs": [],
   "source": [
    "\n",
    "model = Isomap(n_components=2)\n",
    "proj = model.fit_transform(faces.data)\n",
    "proj.shape"
   ]
  },
  {
   "cell_type": "markdown",
   "id": "70",
   "metadata": {
    "slideshow": {
     "slide_type": "fragment"
    }
   },
   "source": [
    "The output is a two-dimensional projection of all the input images. <br>\n",
    "To get a better idea of what the projection tells us, let's define a function that will output image thumbnails at the locations of the projections:\n"
   ]
  },
  {
   "cell_type": "code",
   "execution_count": null,
   "id": "71",
   "metadata": {
    "slideshow": {
     "slide_type": "fragment"
    }
   },
   "outputs": [],
   "source": [
    "\n",
    "\n",
    "def plot_components(data, model, images=None, ax=None,\n",
    "                    thumb_frac=0.05, cmap='gray'):\n",
    "    ax = ax or plt.gca()\n",
    "    \n",
    "    proj = model.fit_transform(data)\n",
    "    ax.plot(proj[:, 0], proj[:, 1], '.k')\n",
    "    \n",
    "    if images is not None:\n",
    "        min_dist_2 = (thumb_frac * max(proj.max(0) - proj.min(0))) ** 2\n",
    "        shown_images = np.array([2 * proj.max(0)])\n",
    "        for i in range(data.shape[0]):\n",
    "            dist = np.sum((proj[i] - shown_images) ** 2, 1)\n",
    "            if np.min(dist) < min_dist_2:\n",
    "                # don't show points that are too close\n",
    "                continue\n",
    "            shown_images = np.vstack([shown_images, proj[i]])\n",
    "            imagebox = offsetbox.AnnotationBbox(\n",
    "                offsetbox.OffsetImage(images[i], cmap=cmap),\n",
    "                                      proj[i])\n",
    "            ax.add_artist(imagebox)"
   ]
  },
  {
   "cell_type": "code",
   "execution_count": null,
   "id": "72",
   "metadata": {
    "slideshow": {
     "slide_type": "subslide"
    }
   },
   "outputs": [],
   "source": [
    "fig, ax = plt.subplots(figsize=(16, 16))\n",
    "plot_components(faces.data,\n",
    "                model=Isomap(n_components=2),\n",
    "                images=faces.images[:, ::2, ::2])"
   ]
  },
  {
   "cell_type": "markdown",
   "id": "73",
   "metadata": {
    "slideshow": {
     "slide_type": "fragment"
    }
   },
   "source": [
    "Takeaways:\n",
    "\n",
    "1. left-to-right contains the darkness of the image\n",
    "2. Top-to-bottom contains the orientation of the images\n",
    "\n",
    "We could use this manifold as features to classify these images\n"
   ]
  },
  {
   "cell_type": "markdown",
   "id": "74",
   "metadata": {
    "slideshow": {
     "slide_type": "subslide"
    }
   },
   "source": [
    "## Example: Visualizing MNIST with manifold unfolding\n"
   ]
  },
  {
   "cell_type": "code",
   "execution_count": null,
   "id": "75",
   "metadata": {
    "slideshow": {
     "slide_type": "fragment"
    }
   },
   "outputs": [],
   "source": [
    "\n",
    "mnist = fetch_openml('mnist_784', version=1, cache=True)"
   ]
  },
  {
   "cell_type": "code",
   "execution_count": null,
   "id": "76",
   "metadata": {
    "slideshow": {
     "slide_type": "fragment"
    }
   },
   "outputs": [],
   "source": [
    "fig, ax = plt.subplots(6, 8, subplot_kw=dict(xticks=[], yticks=[]))\n",
    "for i, axi in enumerate(ax.flat):\n",
    "    axi.imshow(mnist.data.loc[1250 * i].to_numpy().reshape(28, 28), cmap='gray_r')"
   ]
  },
  {
   "cell_type": "markdown",
   "id": "77",
   "metadata": {
    "slideshow": {
     "slide_type": "subslide"
    }
   },
   "source": [
    "### Manifold Learning of MNIST\n",
    "\n",
    "- Can only use 1/30 of the dataset due to computational time\n"
   ]
  },
  {
   "cell_type": "code",
   "execution_count": null,
   "id": "78",
   "metadata": {
    "slideshow": {
     "slide_type": "fragment"
    }
   },
   "outputs": [],
   "source": [
    "\n",
    "\n",
    "# use only 1/30 of the data: full dataset takes a long time!\n",
    "data = mnist.data[::30]\n",
    "target = mnist.target[::30].astype(int)\n",
    "\n",
    "model = Isomap(n_components=2)\n",
    "proj = model.fit_transform(data)\n",
    "scaler = MinMaxScaler()\n",
    "plt.scatter(proj[:, 0], proj[:, 1], c=target, cmap=plt.cm.get_cmap('jet',10))\n",
    "plt.colorbar(ticks=range(10))\n",
    "plt.clim(-0.5, 9.5);"
   ]
  },
  {
   "cell_type": "markdown",
   "id": "79",
   "metadata": {
    "slideshow": {
     "slide_type": "fragment"
    }
   },
   "source": [
    "The resulting scatter plot shows some of the relationships between the data points, but is a bit crowded.\n",
    "We can gain more insight by looking at just a single number at a time:\n"
   ]
  },
  {
   "cell_type": "code",
   "execution_count": null,
   "id": "80",
   "metadata": {
    "slideshow": {
     "slide_type": "fragment"
    }
   },
   "outputs": [],
   "source": [
    "from sklearn.manifold import Isomap\n",
    "\n",
    "# Choose 1/4 of the \"1\" digits to project\n",
    "data = mnist.data[mnist.target.astype(int) == 1][::4]\n",
    "\n",
    "fig, ax = plt.subplots(figsize=(10, 10))\n",
    "model = Isomap(n_neighbors=5, n_components=2, eigen_solver='dense')\n",
    "plot_components(data, model, images=data.to_numpy().reshape((-1, 28, 28)),\n",
    "                ax=ax, thumb_frac=0.05, cmap='gray_r')"
   ]
  },
  {
   "cell_type": "markdown",
   "id": "81",
   "metadata": {
    "slideshow": {
     "slide_type": "fragment"
    }
   },
   "source": [
    "The result gives you an idea of the variety of forms that the number \"1\" can take within the dataset.\n",
    "The data lies along a broad curve in the projected space, which appears to trace the orientation of the digit.\n",
    "As you move up the plot, you find ones that have hats and/or bases, though these are very sparse within the dataset.\n",
    "The projection lets us identify outliers that have data issues: for example, pieces of the neighboring digits that snuck into the extracted images.\n",
    "\n",
    "Now, this in itself may not be useful for the task of classifying digits, but it does help us get an understanding of the data, and may give us ideas about how to move forward, such as how we might want to preprocess the data before building a classification pipeline.\n"
   ]
  },
  {
   "cell_type": "markdown",
   "id": "82",
   "metadata": {},
   "source": [
    "## T-Stochastic Nearest Neighbor Embeddings\n",
    "\n",
    "- T-SNE is really useful to try and understand the learning processes in neural networks. It can simplify high-dimensional layers into something that is interpretable.\n"
   ]
  },
  {
   "cell_type": "code",
   "execution_count": null,
   "id": "83",
   "metadata": {
    "slideshow": {
     "slide_type": "fragment"
    }
   },
   "outputs": [],
   "source": [
    "fig, ax = plt.subplots(figsize=(16, 16))\n",
    "plot_components(faces.data,\n",
    "                model=TSNE(n_components=2),\n",
    "                images=faces.images[:, ::2, ::2])"
   ]
  },
  {
   "cell_type": "markdown",
   "id": "84",
   "metadata": {},
   "source": [
    "### Uniform Manifold Approximation and Projection (UMAP)\n",
    "\n",
    "- U-Map is a better and faster version of t-sne. If you are interested in learning more please look at the [manuscript](https://arxiv.org/abs/1802.03426)\n"
   ]
  },
  {
   "cell_type": "code",
   "execution_count": null,
   "id": "85",
   "metadata": {},
   "outputs": [],
   "source": [
    "reducer = umap.UMAP\n",
    "\n",
    "fig, ax = plt.subplots(figsize=(16, 16))\n",
    "plot_components(faces.data,\n",
    "                model=reducer(n_components=2),\n",
    "                images=faces.images[:, ::2, ::2])"
   ]
  },
  {
   "cell_type": "code",
   "execution_count": null,
   "id": "86",
   "metadata": {},
   "outputs": [],
   "source": []
  }
 ],
 "metadata": {
  "celltoolbar": "Slideshow",
  "kernelspec": {
   "display_name": "Python 3",
   "language": "python",
   "name": "python3"
  },
  "language_info": {
   "codemirror_mode": {
    "name": "ipython",
    "version": 3
   },
   "file_extension": ".py",
   "mimetype": "text/x-python",
   "name": "python",
   "nbconvert_exporter": "python",
   "pygments_lexer": "ipython3",
   "version": "3.11.9"
  },
  "varInspector": {
   "cols": {
    "lenName": 16,
    "lenType": 16,
    "lenVar": 40
   },
   "kernels_config": {
    "python": {
     "delete_cmd_postfix": "",
     "delete_cmd_prefix": "del ",
     "library": "var_list.py",
     "varRefreshCmd": "print(var_dic_list())"
    },
    "r": {
     "delete_cmd_postfix": ") ",
     "delete_cmd_prefix": "rm(",
     "library": "var_list.r",
     "varRefreshCmd": "cat(var_dic_list()) "
    }
   },
   "types_to_exclude": [
    "module",
    "function",
    "builtin_function_or_method",
    "instance",
    "_Feature"
   ],
   "window_display": false
  }
 },
 "nbformat": 4,
 "nbformat_minor": 5
}
