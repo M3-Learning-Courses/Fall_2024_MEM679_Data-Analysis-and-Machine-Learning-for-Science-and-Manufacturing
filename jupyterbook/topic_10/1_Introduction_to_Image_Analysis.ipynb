{
 "cells": [
  {
   "cell_type": "markdown",
   "metadata": {
    "slideshow": {
     "slide_type": "slide"
    }
   },
   "source": [
    "# Introduction to Image Analysis with Scikit-Image\n"
   ]
  },
  {
   "cell_type": "code",
   "execution_count": null,
   "metadata": {
    "colab": {},
    "colab_type": "code",
    "id": "-GNGYFh74m3F",
    "slideshow": {
     "slide_type": "fragment"
    }
   },
   "outputs": [],
   "source": [
    "# Magic command to make plotting inline\n",
    "%matplotlib inline\n",
    "\n",
    "# sets the figure format\n",
    "%config InlineBackend.figure_format = 'retina'"
   ]
  },
  {
   "cell_type": "code",
   "execution_count": null,
   "metadata": {
    "slideshow": {
     "slide_type": "fragment"
    }
   },
   "outputs": [],
   "source": [
    "import numpy as np\n",
    "from numpy import dtype\n",
    "from matplotlib import pyplot as plt\n",
    "import os\n",
    "from ipywidgets import interact, widgets\n",
    "from __future__ import division, print_function\n",
    "from matplotlib import patches\n",
    "from scipy import ndimage as ndi\n",
    "from skimage.morphology import disk\n",
    "from skimage.restoration import denoise_tv_bregman\n",
    "import skimage.filters as filters\n",
    "from skimage.transform import hough_circle\n",
    "from skimage import util, measure, exposure, feature\n",
    "from skimage import segmentation, morphology, draw\n",
    "from skimage import io, data, color\n",
    "\n",
    "%matplotlib inline\n"
   ]
  },
  {
   "cell_type": "markdown",
   "metadata": {
    "colab_type": "text",
    "id": "d355len94m3I",
    "slideshow": {
     "slide_type": "subslide"
    }
   },
   "source": [
    "## Structure of Images\n",
    "\n",
    "Images are commonly stored as multidimensional Numpy arrays\n"
   ]
  },
  {
   "cell_type": "markdown",
   "metadata": {
    "colab_type": "text",
    "id": "lu9USMHo4m3J",
    "slideshow": {
     "slide_type": "fragment"
    }
   },
   "source": [
    "Images are represented in `scikit-image` using standard `numpy` arrays. This allows maximum interoperability with other libraries in the scientific Python ecosystem, such as `matplotlib` and `scipy`.\n"
   ]
  },
  {
   "cell_type": "markdown",
   "metadata": {
    "slideshow": {
     "slide_type": "subslide"
    }
   },
   "source": [
    "### Building a Grayscale Image\n"
   ]
  },
  {
   "cell_type": "code",
   "execution_count": null,
   "metadata": {
    "colab": {
     "base_uri": "https://localhost:8080/",
     "height": 267
    },
    "colab_type": "code",
    "id": "U6q0yZPb4m3K",
    "outputId": "8a0aa38d-e291-4e73-86c9-9099316a4d15",
    "slideshow": {
     "slide_type": "fragment"
    }
   },
   "outputs": [],
   "source": [
    "# Builds a random numpy array\n",
    "random_image = np.random.random([500, 500])\n",
    "\n",
    "# plots the numpy array\n",
    "plt.imshow(random_image, cmap=\"gray\")\n",
    "\n",
    "# Draws the colorbar\n",
    "plt.colorbar()"
   ]
  },
  {
   "cell_type": "markdown",
   "metadata": {
    "colab_type": "text",
    "id": "Ppveb0p_4m3N",
    "slideshow": {
     "slide_type": "subslide"
    }
   },
   "source": [
    "### Real World Images\n"
   ]
  },
  {
   "cell_type": "code",
   "execution_count": null,
   "metadata": {
    "colab": {
     "base_uri": "https://localhost:8080/",
     "height": 321
    },
    "colab_type": "code",
    "id": "HjQDkW4G4m3N",
    "outputId": "d5c60b3c-2957-451c-be01-b005fba62cd8",
    "slideshow": {
     "slide_type": "fragment"
    }
   },
   "outputs": [],
   "source": [
    "# imports a coins image\n",
    "coins = data.coins()\n",
    "\n",
    "# displays information about the data\n",
    "print(\"Type:\", type(coins))\n",
    "print(\"dtype:\", coins.dtype)\n",
    "print(\"shape:\", coins.shape)\n",
    "\n",
    "# plots the data\n",
    "plt.imshow(coins, cmap=\"gray\")"
   ]
  },
  {
   "cell_type": "markdown",
   "metadata": {
    "colab_type": "text",
    "id": "Vqrqn7MW4m3Q",
    "slideshow": {
     "slide_type": "subslide"
    }
   },
   "source": [
    "### Color Images\n",
    "\n",
    "A color image is a 3D array, where the last dimension has size 3 and represents the red, green, and blue channels:\n"
   ]
  },
  {
   "cell_type": "code",
   "execution_count": null,
   "metadata": {
    "colab": {
     "base_uri": "https://localhost:8080/",
     "height": 303
    },
    "colab_type": "code",
    "id": "ZSUT0RG_4m3R",
    "outputId": "16c5e6f0-92ea-4e49-dc63-f7233c8b2585",
    "slideshow": {
     "slide_type": "fragment"
    }
   },
   "outputs": [],
   "source": [
    "# collects the cat data\n",
    "cat = data.chelsea()\n",
    "\n",
    "print(\"Shape:\", cat.shape)\n",
    "print(\"Values min/max:\", cat.min(), cat.max())\n",
    "\n",
    "plt.imshow(cat)"
   ]
  },
  {
   "cell_type": "markdown",
   "metadata": {
    "colab_type": "text",
    "id": "xl15WPsA4m3U",
    "slideshow": {
     "slide_type": "subslide"
    }
   },
   "source": [
    "### Modifying Images\n",
    "\n",
    "Images are _just NumPy arrays_. e.g., we can make a red square by using standard array slicing and manipulation:\n"
   ]
  },
  {
   "cell_type": "code",
   "execution_count": null,
   "metadata": {
    "colab": {
     "base_uri": "https://localhost:8080/",
     "height": 267
    },
    "colab_type": "code",
    "id": "i89ECAIM4m3U",
    "outputId": "abadcd9b-4ad1-4993-94f5-6a9a8c9136e9",
    "slideshow": {
     "slide_type": "fragment"
    }
   },
   "outputs": [],
   "source": [
    "# replaces values to be red by indexing the image\n",
    "cat[10:110, 10:110, :] = [255, 0, 0]  # [red, green, blue]\n",
    "\n",
    "plt.imshow(cat)"
   ]
  },
  {
   "cell_type": "markdown",
   "metadata": {
    "colab_type": "text",
    "id": "8WcderuT4m3Y",
    "slideshow": {
     "slide_type": "subslide"
    }
   },
   "source": [
    "### Changing Transparency of Images\n",
    "\n",
    "Images can also include transparent regions by adding a 4th dimension, called an _alpha layer_.\n"
   ]
  },
  {
   "cell_type": "code",
   "execution_count": null,
   "metadata": {
    "slideshow": {
     "slide_type": "fragment"
    }
   },
   "outputs": [],
   "source": [
    "# creates a continuous gradient\n",
    "alpha = np.arange(135300).reshape(cat.shape[0:2]) / 135300\n",
    "alpha *= 255\n",
    "\n",
    "# Adds the alpha channel\n",
    "image = np.dstack((cat, alpha.astype(\"uint8\")))\n",
    "\n",
    "plt.imshow(image)"
   ]
  },
  {
   "cell_type": "markdown",
   "metadata": {
    "colab_type": "text",
    "id": "Z7z2YLR64m3Y",
    "slideshow": {
     "slide_type": "subslide"
    }
   },
   "source": [
    "### Other shapes, and their meanings\n",
    "\n",
    "| Image type                   | Coordinates                   |\n",
    "| :--------------------------- | :---------------------------- |\n",
    "| 2D grayscale                 | (row, column)                 |\n",
    "| 2D multichannel              | (row, column, channel)        |\n",
    "| 3D grayscale (or volumetric) | (plane, row, column)          |\n",
    "| 3D multichannel              | (plane, row, column, channel) |\n"
   ]
  },
  {
   "cell_type": "markdown",
   "metadata": {
    "colab_type": "text",
    "id": "HJY3ayKi4m3Z",
    "slideshow": {
     "slide_type": "subslide"
    }
   },
   "source": [
    "## Displaying Images Using Matplotlib\n"
   ]
  },
  {
   "cell_type": "code",
   "execution_count": null,
   "metadata": {
    "colab": {},
    "colab_type": "code",
    "id": "344s7fY04m3Z",
    "slideshow": {
     "slide_type": "fragment"
    }
   },
   "outputs": [],
   "source": [
    "# Loads data from Skimage\n",
    "img0 = data.chelsea()\n",
    "img1 = data.rocket()\n"
   ]
  },
  {
   "cell_type": "code",
   "execution_count": null,
   "metadata": {
    "colab": {
     "base_uri": "https://localhost:8080/",
     "height": 437
    },
    "colab_type": "code",
    "id": "hfeyWqlC4m3c",
    "outputId": "faab7511-bcc3-4942-aa9e-f76f3a052011",
    "slideshow": {
     "slide_type": "fragment"
    }
   },
   "outputs": [],
   "source": [
    "# Creates the subplot\n",
    "f, (ax0, ax1) = plt.subplots(1, 2, figsize=(20, 10))\n",
    "\n",
    "# Plots the cat image\n",
    "ax0.imshow(img0)\n",
    "ax0.set_title(\"Cat\", fontsize=18)\n",
    "ax0.axis(\"off\")\n",
    "\n",
    "# plots the rocket image\n",
    "ax1.imshow(img1)\n",
    "ax1.set_title(\"Rocket\", fontsize=18)\n",
    "ax1.set_xlabel(r\"Launching position $\\alpha=320$\")\n",
    "\n",
    "# plots a vertical line on the rocket image\n",
    "ax1.vlines(\n",
    "    [202, 300],\n",
    "    0,\n",
    "    img1.shape[0],\n",
    "    colors=\"magenta\",\n",
    "    linewidth=3,\n",
    "    label=\"Side tower position\",\n",
    ")\n",
    "\n",
    "# plots a line plot on the rocket image\n",
    "ax1.plot(\n",
    "    [168, 190, 200], [400, 200, 300], color=\"white\", linestyle=\"--\", label=\"Side angle\"\n",
    ")\n",
    "\n",
    "# adds the legend\n",
    "ax1.legend()\n"
   ]
  },
  {
   "cell_type": "markdown",
   "metadata": {
    "colab_type": "text",
    "id": "ZJ657iVA4m3e",
    "slideshow": {
     "slide_type": "fragment"
    }
   },
   "source": [
    "For more on plotting, see the [Matplotlib documentation](https://matplotlib.org/gallery/index.html#images-contours-and-fields) and [pyplot API](https://matplotlib.org/api/pyplot_summary.html).\n"
   ]
  },
  {
   "cell_type": "markdown",
   "metadata": {
    "colab_type": "text",
    "id": "6JoFfamq4m3f",
    "slideshow": {
     "slide_type": "slide"
    }
   },
   "source": [
    "## Data types and image values\n",
    "\n",
    "In literature, one finds different conventions for representing image values:\n",
    "\n",
    "```\n",
    "  0 - 255   where  0 is black, 255 is white\n",
    "  0 - 1     where  0 is black, 1 is white\n",
    "```\n",
    "\n",
    "`scikit-image` supports both conventions--the choice is determined by the\n",
    "data-type of the array.\n",
    "\n",
    "E.g., here, I generate two valid images:\n"
   ]
  },
  {
   "cell_type": "code",
   "execution_count": null,
   "metadata": {
    "colab": {
     "base_uri": "https://localhost:8080/",
     "height": 463
    },
    "colab_type": "code",
    "id": "y7q5s1MK4m3f",
    "outputId": "77b7e9ef-5663-446a-a511-5ea1f1c745ba",
    "slideshow": {
     "slide_type": "fragment"
    }
   },
   "outputs": [],
   "source": [
    "# defines two linear spaced vectors, one from 0 to 1, one from 0 to 255.\n",
    "linear0 = np.linspace(0, 1, 2500).reshape((50, 50))\n",
    "linear1 = np.linspace(0, 255, 2500).reshape((50, 50)).astype(np.uint8)\n",
    "\n",
    "# prints the information about the data\n",
    "print(\"Linear0:\", linear0.dtype, linear0.min(), linear0.max())\n",
    "print(\"Linear1:\", linear1.dtype, linear1.min(), linear1.max())\n",
    "\n",
    "# plots the data\n",
    "fig, (ax0, ax1) = plt.subplots(1, 2, figsize=(15, 15))\n",
    "ax0.imshow(linear0, cmap=\"gray\")\n",
    "ax1.imshow(linear1, cmap=\"gray\")"
   ]
  },
  {
   "cell_type": "markdown",
   "metadata": {
    "colab_type": "text",
    "id": "jQOTCAjU4m3i",
    "slideshow": {
     "slide_type": "fragment"
    }
   },
   "source": [
    "The library is designed in such a way that any data-type is allowed as input,\n",
    "as long as the range is correct (0-1 for floating point images, 0-255 for unsigned bytes,\n",
    "0-65535 for unsigned 16-bit integers).\n"
   ]
  },
  {
   "cell_type": "markdown",
   "metadata": {
    "colab_type": "text",
    "id": "bTJWj9IC4m3m",
    "slideshow": {
     "slide_type": "subslide"
    }
   },
   "source": [
    "## Image I/O\n",
    "\n",
    "Mostly, we won't be using input images from the scikit-image example data sets. Those images are typically stored in JPEG or PNG format. Since scikit-image operates on NumPy arrays, _any_ image reader library that provides arrays will do. Options include imageio, matplotlib, pillow, etc.\n",
    "\n",
    "scikit-image conveniently wraps many of these in the `io` submodule and will use whichever of the libraries mentioned above are installed:\n"
   ]
  },
  {
   "cell_type": "code",
   "execution_count": null,
   "metadata": {
    "colab": {
     "base_uri": "https://localhost:8080/",
     "height": 338
    },
    "colab_type": "code",
    "id": "UUKm-uhA4m3m",
    "outputId": "c310c675-ccd3-4d09-8edd-70955dcb89e9",
    "slideshow": {
     "slide_type": "fragment"
    }
   },
   "outputs": [],
   "source": [
    "# reads the ballon image\n",
    "image = io.imread(\"./images/balloon.jpg\")\n",
    "\n",
    "# prints information about the ballon image array\n",
    "print(type(image))\n",
    "print(image.dtype)\n",
    "print(image.shape)\n",
    "print(image.min(), image.max())\n",
    "\n",
    "plt.imshow(image)"
   ]
  },
  {
   "cell_type": "markdown",
   "metadata": {
    "colab_type": "text",
    "id": "ZLaHFtiG4m3q",
    "slideshow": {
     "slide_type": "fragment"
    }
   },
   "source": [
    "We also have the ability to load multiple images, or multi-layer TIFF images:\n"
   ]
  },
  {
   "cell_type": "code",
   "execution_count": null,
   "metadata": {
    "colab": {
     "base_uri": "https://localhost:8080/",
     "height": 514
    },
    "colab_type": "code",
    "id": "ongSBHZs4m3q",
    "outputId": "2f39c871-13dd-4a87-9b20-4a9038c008a0",
    "slideshow": {
     "slide_type": "fragment"
    }
   },
   "outputs": [],
   "source": [
    "# Reads a folder of images\n",
    "ic = io.ImageCollection([\"./images/*.jpg\", \"./images/*.png\"])\n",
    "# the * is a wildcard operator that takes all that match that description\n",
    "\n",
    "# prints what the ic object is\n",
    "print(\"Type:\", type(ic))\n",
    "\n",
    "# shows the list of files\n",
    "ic.files"
   ]
  },
  {
   "cell_type": "code",
   "execution_count": null,
   "metadata": {
    "colab": {
     "base_uri": "https://localhost:8080/",
     "height": 366
    },
    "colab_type": "code",
    "id": "hRbI_3t_4m3y",
    "outputId": "47ba38ad-4d4f-4cae-eef6-0613a8481425",
    "slideshow": {
     "slide_type": "fragment"
    }
   },
   "outputs": [],
   "source": [
    "# This is one of the many ways to make subplots\n",
    "f, axes = plt.subplots(nrows=3, ncols=len(ic) // 3 + 1, figsize=(20, 5))\n",
    "\n",
    "# subplots returns the figure and an array of axes\n",
    "# we use `axes.ravel()` to turn these into a list\n",
    "axes = axes.ravel()\n",
    "\n",
    "# turns all of the axis off\n",
    "for ax in axes:\n",
    "    ax.axis(\"off\")\n",
    "\n",
    "# plots all of the images in the collection\n",
    "for i, image in enumerate(ic):\n",
    "    axes[i].imshow(image, cmap=\"gray\")\n",
    "    axes[i].set_title(os.path.basename(ic.files[i]))\n",
    "\n",
    "# This cleans the layout of the image\n",
    "plt.tight_layout()"
   ]
  },
  {
   "cell_type": "markdown",
   "metadata": {
    "colab_type": "text",
    "id": "zEL4gObu4m35",
    "slideshow": {
     "slide_type": "slide"
    }
   },
   "source": [
    "## In Class Exercise: Draw the Letter H\n",
    "\n",
    "Define a function that takes as input an RGB image and a pair of coordinates (row, column), and returns a copy with a green letter H overlaid at those coordinates. The coordinates point to the top-left corner of the H.\n",
    "\n",
    "The arms and strut of the H should have a width of 3 pixels, and the H itself should have a height of 24 pixels and width of 20 pixels.\n",
    "\n",
    "Start with the following template:\n"
   ]
  },
  {
   "cell_type": "code",
   "execution_count": null,
   "metadata": {
    "slideshow": {
     "slide_type": "fragment"
    }
   },
   "outputs": [],
   "source": [
    "from skimage import img_as_float\n",
    "\n",
    "\n",
    "def draw_H(image, coords, color=(0, 255, 0)):\n",
    "    # makes a copy of the image you should make a deep copy\n",
    "\n",
    "    # Defines the size of the letter H\n",
    "    # This should just be the rectangular box, we will modify this (make this a shallow copy)\n",
    "\n",
    "    # sets the color\n",
    "\n",
    "    return  # returns the image\n"
   ]
  },
  {
   "cell_type": "code",
   "execution_count": null,
   "metadata": {
    "colab": {},
    "colab_type": "code",
    "id": "2wSFweJJ4m37",
    "slideshow": {
     "slide_type": "fragment"
    },
    "tags": [
     "hide-cell"
    ]
   },
   "outputs": [],
   "source": [
    "from skimage import img_as_float\n",
    "\n",
    "\n",
    "def draw_H(image, coords, color=(0, 255, 0)):\n",
    "    # makes a copy of the image\n",
    "    out = image.copy()\n",
    "\n",
    "    # Defines the size of the letter H\n",
    "    canvas = out[coords[0] : coords[0] + 30, coords[1] : coords[1] + 24]\n",
    "\n",
    "    # sets the color\n",
    "    canvas[:, :3] = color\n",
    "    canvas[:, -3:] = color\n",
    "    canvas[11:14] = color\n",
    "\n",
    "    return out\n"
   ]
  },
  {
   "cell_type": "markdown",
   "metadata": {
    "colab_type": "text",
    "id": "GbS7oFBL4m39",
    "slideshow": {
     "slide_type": "subslide"
    }
   },
   "source": [
    "### Test your function:\n"
   ]
  },
  {
   "cell_type": "code",
   "execution_count": null,
   "metadata": {
    "colab": {
     "base_uri": "https://localhost:8080/",
     "height": 267
    },
    "colab_type": "code",
    "id": "mYxZr-Ru4m39",
    "outputId": "7e0cee05-ec1f-4da5-c52e-3f24971efd10",
    "slideshow": {
     "slide_type": "fragment"
    }
   },
   "outputs": [],
   "source": [
    "cat = data.chelsea()\n",
    "cat_H = draw_H(cat, (50, -50))\n",
    "plt.imshow(cat_H)"
   ]
  },
  {
   "cell_type": "markdown",
   "metadata": {
    "colab_type": "text",
    "id": "lT9S2ilB4m3_",
    "slideshow": {
     "slide_type": "subslide"
    }
   },
   "source": [
    "## Exercise: Visualizing RGB Channels\n",
    "\n",
    "Display the different color channels of the image (each as a gray-scale image). Start with the following template:\n"
   ]
  },
  {
   "cell_type": "code",
   "execution_count": null,
   "metadata": {
    "slideshow": {
     "slide_type": "fragment"
    }
   },
   "outputs": [],
   "source": [
    "# --- read in any image from the web ---\n",
    "\n",
    "\n",
    "# --- assign each color channel to a different variable ---\n",
    "\n",
    "\n",
    "# --- display the image and r, g, b channels ---\n",
    "\n",
    "\n",
    "# --- Here, we stack the R, G, and B layers again\n",
    "#     to form a color image ---"
   ]
  },
  {
   "cell_type": "code",
   "execution_count": null,
   "metadata": {
    "colab": {
     "base_uri": "https://localhost:8080/",
     "height": 192
    },
    "colab_type": "code",
    "id": "b2bVlms84m4C",
    "outputId": "fe2552f7-fd8b-49cc-ac98-6dcae72eb185",
    "slideshow": {
     "slide_type": "fragment"
    },
    "tags": [
     "hide-cell"
    ]
   },
   "outputs": [],
   "source": [
    "# --- read in the image ---\n",
    "\n",
    "image = plt.imread(\"./images/Bells-Beach.jpg\")\n",
    "\n",
    "# --- assign each color channel to a different variable ---\n",
    "\n",
    "r = image[..., 0]\n",
    "g = image[..., 1]\n",
    "b = image[..., 2]\n",
    "\n",
    "# --- display the image and r, g, b channels ---\n",
    "\n",
    "f, axes = plt.subplots(1, 4, figsize=(16, 5))\n",
    "\n",
    "for ax in axes:\n",
    "    ax.axis(\"off\")\n",
    "\n",
    "(ax_r, ax_g, ax_b, ax_color) = axes\n",
    "\n",
    "ax_r.imshow(r, cmap=\"gray\")\n",
    "ax_r.set_title(\"red channel\")\n",
    "\n",
    "ax_g.imshow(g, cmap=\"gray\")\n",
    "ax_g.set_title(\"green channel\")\n",
    "\n",
    "ax_b.imshow(b, cmap=\"gray\")\n",
    "ax_b.set_title(\"blue channel\")\n",
    "\n",
    "# --- Here, we stack the R, G, and B layers again\n",
    "#     to form a color image ---\n",
    "ax_color.imshow(np.stack([r, g, b], axis=2))\n",
    "ax_color.set_title(\"all channels\")"
   ]
  },
  {
   "cell_type": "markdown",
   "metadata": {
    "colab_type": "text",
    "id": "K3zNCaBc4m4D",
    "slideshow": {
     "slide_type": "subslide"
    }
   },
   "source": [
    "### Visualizing Colors\n"
   ]
  },
  {
   "cell_type": "code",
   "execution_count": null,
   "metadata": {
    "colab": {
     "base_uri": "https://localhost:8080/",
     "height": 128
    },
    "colab_type": "code",
    "id": "-lnxQH6s4m4E",
    "outputId": "0a339cdc-365c-4b3c-dcef-42bb2e4ecfc7",
    "slideshow": {
     "slide_type": "fragment"
    }
   },
   "outputs": [],
   "source": [
    "# builds 3 zero arrays\n",
    "red = np.zeros((300, 300))\n",
    "green = np.zeros((300, 300))\n",
    "blue = np.zeros((300, 300))\n",
    "\n",
    "# draws some circles with different positions\n",
    "r, c = draw.disk((100, 100), 100)\n",
    "red[r, c] = 1\n",
    "\n",
    "r, c = draw.disk((100, 200), 100)\n",
    "green[r, c] = 1\n",
    "\n",
    "r, c = draw.disk((200, 150), 100)\n",
    "blue[r, c] = 1\n",
    "\n",
    "stacked = np.stack([red, green, blue], axis=2)\n",
    "\n",
    "# plots the individual channels as binary images\n",
    "f, axes = plt.subplots(1, 4)\n",
    "for (ax, channel) in zip(axes, [red, green, blue, stacked]):\n",
    "    ax.imshow(channel, cmap=\"gray\")\n",
    "    ax.axis(\"off\")"
   ]
  },
  {
   "cell_type": "markdown",
   "metadata": {
    "colab_type": "text",
    "id": "1F3Vmw3c4m4M",
    "slideshow": {
     "slide_type": "slide"
    }
   },
   "source": [
    "## Image Filtering\n"
   ]
  },
  {
   "cell_type": "markdown",
   "metadata": {
    "colab_type": "text",
    "id": "z70eT-TY4m4M",
    "slideshow": {
     "slide_type": "fragment"
    }
   },
   "source": [
    "### Image filtering theory\n"
   ]
  },
  {
   "cell_type": "markdown",
   "metadata": {
    "colab_type": "text",
    "id": "mhDXOP4x4m4N",
    "slideshow": {
     "slide_type": "fragment"
    }
   },
   "source": [
    "Filtering is one of the most basic and common image operations in image processing. You can filter an image to remove noise or to enhance features; the filtered image could be the desired result or just a preprocessing step. Regardless, filtering is an important topic to understand.\n"
   ]
  },
  {
   "cell_type": "markdown",
   "metadata": {
    "colab_type": "text",
    "id": "9rUTmulA4m4N",
    "slideshow": {
     "slide_type": "fragment"
    }
   },
   "source": [
    "#### Local filtering\n"
   ]
  },
  {
   "cell_type": "code",
   "execution_count": null,
   "metadata": {
    "colab": {},
    "colab_type": "code",
    "id": "D8ewJlz-4m4N",
    "slideshow": {
     "slide_type": "fragment"
    }
   },
   "outputs": [],
   "source": [
    "# This just sets the plotting format\n",
    "plt.rcParams[\"image.cmap\"] = \"gray\""
   ]
  },
  {
   "cell_type": "markdown",
   "metadata": {
    "colab_type": "text",
    "id": "uIMKyZ6a4m4P",
    "slideshow": {
     "slide_type": "fragment"
    }
   },
   "source": [
    "The \"local\" in local filtering simply means that a pixel is adjusted by values in some surrounding neighborhood. These surrounding elements are identified or weighted based on a \"footprint\", \"structuring element\", or \"kernel\".\n"
   ]
  },
  {
   "cell_type": "markdown",
   "metadata": {
    "slideshow": {
     "slide_type": "fragment"
    }
   },
   "source": [
    "Let's go to back to basics and look at a 1D step-signal\n"
   ]
  },
  {
   "cell_type": "code",
   "execution_count": null,
   "metadata": {
    "colab": {
     "base_uri": "https://localhost:8080/",
     "height": 264
    },
    "colab_type": "code",
    "id": "E7fhqsYs4m4Q",
    "outputId": "268894d6-d190-42a7-a60d-9042cc0f9a37",
    "slideshow": {
     "slide_type": "fragment"
    }
   },
   "outputs": [],
   "source": [
    "# creates a zero array\n",
    "step_signal = np.zeros(100)\n",
    "\n",
    "# replaces from 50 on with a value of 1\n",
    "step_signal[50:] = 1\n",
    "\n",
    "# plots the data\n",
    "fig, ax = plt.subplots()\n",
    "ax.plot(step_signal)\n",
    "ax.margins(y=0.1)\n"
   ]
  },
  {
   "cell_type": "markdown",
   "metadata": {
    "colab_type": "text",
    "id": "9ODVG5KE4m4R",
    "slideshow": {
     "slide_type": "subslide"
    }
   },
   "source": [
    "Now add some noise to this signal:\n"
   ]
  },
  {
   "cell_type": "code",
   "execution_count": null,
   "metadata": {
    "colab": {
     "base_uri": "https://localhost:8080/",
     "height": 264
    },
    "colab_type": "code",
    "id": "8klFJi5K4m4R",
    "outputId": "0d779049-de29-4eaa-8173-a729745e0a5d",
    "slideshow": {
     "slide_type": "fragment"
    }
   },
   "outputs": [],
   "source": [
    "# Just to make sure we all see the same results\n",
    "np.random.seed(0)\n",
    "\n",
    "# Adds noise to the data\n",
    "noisy_signal = step_signal + np.random.normal(0, 0.35, step_signal.shape)\n",
    "fig, ax = plt.subplots()\n",
    "ax.plot(noisy_signal)"
   ]
  },
  {
   "cell_type": "markdown",
   "metadata": {
    "colab_type": "text",
    "id": "RPOQI9dL4m4T",
    "slideshow": {
     "slide_type": "subslide"
    }
   },
   "source": [
    "The simplest way to recover something that looks a bit more like the original signal is to take the average between neighboring \"pixels\":\n"
   ]
  },
  {
   "cell_type": "code",
   "execution_count": null,
   "metadata": {
    "colab": {
     "base_uri": "https://localhost:8080/",
     "height": 264
    },
    "colab_type": "code",
    "id": "2NT8xGhK4m4T",
    "outputId": "cebaad4c-b6c4-4a92-8827-140da807b55f",
    "slideshow": {
     "slide_type": "fragment"
    }
   },
   "outputs": [],
   "source": [
    "# Take the mean of neighboring pixels\n",
    "smooth_signal = (noisy_signal[:-1] + noisy_signal[1:]) / 2.0\n",
    "fig, ax = plt.subplots()\n",
    "ax.plot(smooth_signal)"
   ]
  },
  {
   "cell_type": "markdown",
   "metadata": {
    "colab_type": "text",
    "id": "scgjtvLP4m4U",
    "slideshow": {
     "slide_type": "subslide"
    }
   },
   "source": [
    "What happens if we want to take the _three_ neighboring pixels? We can do the same thing:\n"
   ]
  },
  {
   "cell_type": "code",
   "execution_count": null,
   "metadata": {
    "colab": {
     "base_uri": "https://localhost:8080/",
     "height": 264
    },
    "colab_type": "code",
    "id": "YLptT2if4m4V",
    "outputId": "344b4693-094b-47e9-fc6b-1540fa941e39",
    "slideshow": {
     "slide_type": "fragment"
    }
   },
   "outputs": [],
   "source": [
    "# smooth with size 3 points\n",
    "smooth_signal3 = (noisy_signal[:-2] + noisy_signal[1:-1] + noisy_signal[2:]) / 3\n",
    "fig, ax = plt.subplots()\n",
    "ax.plot(smooth_signal, label=\"mean of 2\")\n",
    "ax.plot(smooth_signal3, label=\"mean of 3\")\n",
    "ax.legend(loc=\"upper left\")"
   ]
  },
  {
   "cell_type": "markdown",
   "metadata": {
    "colab_type": "text",
    "id": "EihxKlxj4m4W",
    "slideshow": {
     "slide_type": "subslide"
    }
   },
   "source": [
    "For averages of more points, the expression keeps getting hairier. And you have to worry more about what's happening in the margins. Is there a better way?\n"
   ]
  },
  {
   "cell_type": "markdown",
   "metadata": {
    "slideshow": {
     "slide_type": "fragment"
    }
   },
   "source": [
    "It turns out there is. This same concept, nearest-neighbor averages, can be expressed as a _convolution_ with an _averaging kernel_. Note that the operation we did with `smooth_signal3` can be expressed as follows:\n",
    "\n",
    "- Create an output array called `smooth_signal3`, of the same length as `noisy_signal`.\n",
    "- At each element in `smooth_signal3` starting at point 1, and ending at point -2, place the average of the sum of: 1/3 of the element to the left of it in `noisy_signal`, 1/3 of the element at the same position, and 1/3 of the element to the right.\n",
    "- discard the leftmost and rightmost elements.\n"
   ]
  },
  {
   "cell_type": "markdown",
   "metadata": {
    "slideshow": {
     "slide_type": "fragment"
    }
   },
   "source": [
    "This is called a _convolution_ between the input image and the array `[1/3, 1/3, 1/3]`.\n",
    "\n",
    "We'll give a more in-depth explanation of convolution in the next section\n"
   ]
  },
  {
   "cell_type": "code",
   "execution_count": null,
   "metadata": {
    "colab": {
     "base_uri": "https://localhost:8080/",
     "height": 282
    },
    "colab_type": "code",
    "id": "enNrHMKZ4m4W",
    "outputId": "a8b95cfa-3d6e-455a-b877-1ba5be7c1f18",
    "slideshow": {
     "slide_type": "fragment"
    }
   },
   "outputs": [],
   "source": [
    "# Same as above, using a convolution kernel\n",
    "# Neighboring pixels multiplied by 1/3 and summed\n",
    "mean_kernel3 = np.full((3,), 1 / 3)\n",
    "smooth_signal3p = np.convolve(noisy_signal, mean_kernel3, mode=\"valid\")\n",
    "fig, ax = plt.subplots()\n",
    "ax.plot(smooth_signal3p)\n",
    "\n",
    "# shows that the two curves are equal.\n",
    "print(\n",
    "    \"smooth_signal3 and smooth_signal3p are equal:\",\n",
    "    np.allclose(smooth_signal3, smooth_signal3p),\n",
    ")\n"
   ]
  },
  {
   "cell_type": "code",
   "execution_count": null,
   "metadata": {
    "colab": {
     "base_uri": "https://localhost:8080/",
     "height": 296,
     "referenced_widgets": [
      "c7c4ff3a26fb45bf97ef2f32edb4c16b",
      "bb38a54726694b4f87f12ea1c43a0f99",
      "180894d98eac4f09a7aa320bfd12715d",
      "ffc98b1fbae94bd492bce6183c344176",
      "92820069ab98403ebd47d499154a22aa",
      "39cc2def741e4c5182e2656cd25b9c19",
      "1a7041669496412ba94e935c4a781456"
     ]
    },
    "colab_type": "code",
    "id": "lFisnaQ-4m4Y",
    "outputId": "4e27c590-08f7-4670-d74a-6e745bf1c2d0",
    "slideshow": {
     "slide_type": "subslide"
    }
   },
   "outputs": [],
   "source": [
    "def convolve_demo(signal, kernel):\n",
    "    ksize = len(kernel)\n",
    "    convolved = np.correlate(signal, kernel)\n",
    "\n",
    "    def filter_step(i):\n",
    "        fig, ax = plt.subplots()\n",
    "        ax.plot(signal, label=\"signal\")\n",
    "        ax.plot(convolved[: i + 1], label=\"convolved\")\n",
    "        ax.legend()\n",
    "        ax.scatter(np.arange(i, i + ksize), signal[i : i + ksize])\n",
    "        ax.scatter(i, convolved[i])\n",
    "\n",
    "    return filter_step\n",
    "\n",
    "\n",
    "# This adds a simple interactive slider from Ipywidgets\n",
    "i_slider = widgets.IntSlider(min=0, max=len(noisy_signal) - 3, value=0)\n",
    "\n",
    "# This sets what happens on an interaction\n",
    "interact(convolve_demo(noisy_signal, mean_kernel3), i=i_slider)\n"
   ]
  },
  {
   "cell_type": "markdown",
   "metadata": {
    "colab_type": "text",
    "id": "ZXRgZmsP4m4a",
    "slideshow": {
     "slide_type": "fragment"
    }
   },
   "source": [
    "The advantage of convolution is that it's just as easy to take the average of 11 points as 3:\n"
   ]
  },
  {
   "cell_type": "code",
   "execution_count": null,
   "metadata": {
    "colab": {
     "base_uri": "https://localhost:8080/",
     "height": 264
    },
    "colab_type": "code",
    "id": "12ueL9BU4m4a",
    "outputId": "6d33384f-f1d5-43d1-b8ef-f758927cfdcd",
    "slideshow": {
     "slide_type": "fragment"
    }
   },
   "outputs": [],
   "source": [
    "# builds the size 11 mean kernel\n",
    "mean_kernel11 = np.full((11,), 1 / 11)\n",
    "\n",
    "# convolves the kernel over the signal\n",
    "smooth_signal11 = np.convolve(noisy_signal, mean_kernel11, mode=\"valid\")\n",
    "fig, ax = plt.subplots()\n",
    "ax.plot(smooth_signal11)"
   ]
  },
  {
   "cell_type": "code",
   "execution_count": null,
   "metadata": {
    "colab": {
     "base_uri": "https://localhost:8080/",
     "height": 296,
     "referenced_widgets": [
      "439ede2966fa4d4ca1ab374ddcaa5c44",
      "24c9cdc2754745a2ac510611dc477968",
      "5304eb5164d8487ebdc9ff82aeec8c46",
      "5819b374bc2e4529a44ae682d0770347",
      "89b378677bfd492892bebc6864e8f444",
      "b105df70f4d84fe1ace19556c4e82f09",
      "09e7553863b64adf890e89dfbe74802c"
     ]
    },
    "colab_type": "code",
    "id": "bxYJXl1A4m4b",
    "outputId": "7bd6658e-347e-4a90-9644-29420d890c33",
    "slideshow": {
     "slide_type": "fragment"
    }
   },
   "outputs": [],
   "source": [
    "# interactive example with a size 11 kernel\n",
    "i_slider = widgets.IntSlider(min=0, max=len(noisy_signal) - 11, value=0)\n",
    "\n",
    "interact(convolve_demo(noisy_signal, mean_kernel11), i=i_slider)"
   ]
  },
  {
   "cell_type": "markdown",
   "metadata": {
    "colab_type": "text",
    "id": "2KNo76sZ4m4d",
    "slideshow": {
     "slide_type": "fragment"
    }
   },
   "source": [
    "Of course, to take the mean of 11 values, we have to move further and further away from the edges, and this starts to be noticeable. You can use `mode='same'` to pad the edges of the array and compute a result of the same size as the input:\n"
   ]
  },
  {
   "cell_type": "code",
   "execution_count": null,
   "metadata": {
    "colab": {
     "base_uri": "https://localhost:8080/",
     "height": 280
    },
    "colab_type": "code",
    "id": "hYxqSVmJ4m4e",
    "outputId": "3f03480d-a843-4387-ed51-f5030f288a3d",
    "slideshow": {
     "slide_type": "fragment"
    }
   },
   "outputs": [],
   "source": [
    "# shows the difference between different convolution modes.\n",
    "# Same assumes the end is 0.\n",
    "smooth_signal3same = np.convolve(noisy_signal, mean_kernel3, mode=\"same\")\n",
    "smooth_signal11same = np.convolve(noisy_signal, mean_kernel11, mode=\"same\")\n",
    "\n",
    "fig, ax = plt.subplots(1, 2)\n",
    "ax[0].plot(smooth_signal3p)\n",
    "ax[0].plot(smooth_signal11)\n",
    "ax[0].set_title(\"mode=valid\")\n",
    "ax[1].plot(smooth_signal3same)\n",
    "ax[1].plot(smooth_signal11same)\n",
    "ax[1].set_title(\"mode=same\")"
   ]
  },
  {
   "cell_type": "markdown",
   "metadata": {
    "colab_type": "text",
    "id": "8lZ4j3Ia4m4g",
    "slideshow": {
     "slide_type": "fragment"
    }
   },
   "source": [
    "But now we see edge effects on the ends of the signal...\n",
    "\n",
    "This is because `mode='same'` actually pads the signal with 0s and then applies `mode='valid'` as before.\n"
   ]
  },
  {
   "cell_type": "code",
   "execution_count": null,
   "metadata": {
    "colab": {
     "base_uri": "https://localhost:8080/",
     "height": 296,
     "referenced_widgets": [
      "ee7ea0ecc7324ea28a15df47ec699036",
      "d448fe40239745cf9cf20939307652c5",
      "d058256bf3af4f188d2b9e965188eb8d",
      "720f2e910b2049ed9e9e2e21fb2119ec",
      "9b9c5103e6e645ce8f470040b72fe472",
      "ab1902decd2b4c8fa70ff182006a19e2",
      "f878c5f91cb24b3da55b6c50e0226d7e"
     ]
    },
    "colab_type": "code",
    "id": "U3cnQI7U4m4g",
    "outputId": "44a683b0-7c9d-4c28-f967-af51dfd69995",
    "slideshow": {
     "slide_type": "subslide"
    }
   },
   "outputs": [],
   "source": [
    "# shows this in an interactive form\n",
    "def convolve_demo_same(signal, kernel):\n",
    "    ksize = len(kernel)\n",
    "    padded_signal = np.pad(signal, ksize // 2, mode=\"constant\")\n",
    "    convolved = np.correlate(padded_signal, kernel)\n",
    "\n",
    "    def filter_step(i):\n",
    "        fig, ax = plt.subplots()\n",
    "        x = np.arange(-ksize // 2, len(signal) + ksize // 2)\n",
    "        ax.plot(signal, label=\"signal\")\n",
    "        ax.plot(convolved[: i + 1], label=\"convolved\")\n",
    "        ax.legend()\n",
    "        start, stop = i, i + ksize\n",
    "        ax.scatter(x[start:stop] + 1, padded_signal[start:stop])\n",
    "        ax.scatter(i, convolved[i])\n",
    "        ax.set_xlim(-ksize // 2, len(signal) + ksize // 2)\n",
    "\n",
    "    return filter_step\n",
    "\n",
    "\n",
    "i_slider = widgets.IntSlider(min=0, max=len(noisy_signal) - 1, value=0)\n",
    "\n",
    "interact(convolve_demo_same(noisy_signal, mean_kernel11), i=i_slider)\n"
   ]
  },
  {
   "cell_type": "markdown",
   "metadata": {
    "colab_type": "text",
    "id": "0e-8Gc6l4m4i",
    "slideshow": {
     "slide_type": "subslide"
    }
   },
   "source": [
    "#### Exercise: Fixing the edges\n",
    "\n",
    "Look up the documentation of `scipy.ndimage.convolve`. Apply the same convolution, but using a different `mode=` keyword argument to avoid the edge effects we see here.\n"
   ]
  },
  {
   "cell_type": "code",
   "execution_count": null,
   "metadata": {
    "slideshow": {
     "slide_type": "fragment"
    }
   },
   "outputs": [],
   "source": [
    "# Your Code Goes Here\n"
   ]
  },
  {
   "cell_type": "code",
   "execution_count": null,
   "metadata": {
    "colab": {},
    "colab_type": "code",
    "id": "OEjjpCqv4m4l",
    "outputId": "641b5a3d-a1b0-454d-e3d6-a3176da8a366",
    "slideshow": {
     "slide_type": "fragment"
    },
    "tags": [
     "hide-cell"
    ]
   },
   "outputs": [],
   "source": [
    "smooth_ndi = ndi.convolve(noisy_signal, mean_kernel11, mode=\"reflect\")\n",
    "\n",
    "plt.plot(smooth_ndi)"
   ]
  },
  {
   "cell_type": "markdown",
   "metadata": {
    "colab_type": "text",
    "id": "y-Xk1N6Q4m4m",
    "slideshow": {
     "slide_type": "slide"
    }
   },
   "source": [
    "### A Difference Filter\n"
   ]
  },
  {
   "cell_type": "markdown",
   "metadata": {
    "colab_type": "text",
    "id": "llacRZwc4m4m",
    "slideshow": {
     "slide_type": "fragment"
    }
   },
   "source": [
    "Let's look again at our simplest signal, the step signal from before:\n"
   ]
  },
  {
   "cell_type": "code",
   "execution_count": null,
   "metadata": {
    "colab": {
     "base_uri": "https://localhost:8080/",
     "height": 264
    },
    "colab_type": "code",
    "id": "ZP_nk2KP4m4n",
    "outputId": "21047ae4-d984-4840-d400-2fd1a8f89280",
    "slideshow": {
     "slide_type": "fragment"
    }
   },
   "outputs": [],
   "source": [
    "fig, ax = plt.subplots()\n",
    "ax.plot(step_signal)\n",
    "ax.margins(y=0.1)"
   ]
  },
  {
   "cell_type": "markdown",
   "metadata": {
    "colab_type": "text",
    "id": "iM8zLwnT4m4o",
    "slideshow": {
     "slide_type": "subslide"
    }
   },
   "source": [
    "#### Exercise: Can you predict what a convolution with the kernel `[-1, 0, 1]` does? Try thinking about it before running the cells below.\n"
   ]
  },
  {
   "cell_type": "code",
   "execution_count": null,
   "metadata": {
    "colab": {},
    "colab_type": "code",
    "id": "v2TOe8kg4m4p",
    "slideshow": {
     "slide_type": "fragment"
    }
   },
   "outputs": [],
   "source": [
    "# compare correlate and convolve on an edge filter\n",
    "result_corr = np.correlate(step_signal, np.array([-1, 0, 1]), mode=\"valid\")"
   ]
  },
  {
   "cell_type": "code",
   "execution_count": null,
   "metadata": {
    "colab": {},
    "colab_type": "code",
    "id": "sCGapr0f4m4q",
    "slideshow": {
     "slide_type": "fragment"
    }
   },
   "outputs": [],
   "source": [
    "result_conv = np.convolve(step_signal, np.array([-1, 0, 1]), mode=\"valid\")"
   ]
  },
  {
   "cell_type": "code",
   "execution_count": null,
   "metadata": {
    "colab": {
     "base_uri": "https://localhost:8080/",
     "height": 264
    },
    "colab_type": "code",
    "id": "gUTez9Q04m4s",
    "outputId": "bc72df56-890d-4c51-a449-ee3410c693e6",
    "slideshow": {
     "slide_type": "fragment"
    }
   },
   "outputs": [],
   "source": [
    "fig, ax = plt.subplots()\n",
    "ax.plot(step_signal, label=\"signal\")\n",
    "ax.plot(result_conv, linestyle=\"dashed\", label=\"convolved\")\n",
    "ax.plot(result_corr, linestyle=\"dashed\", label=\"correlated\", color=\"C3\")\n",
    "ax.legend(loc=\"upper left\")\n",
    "ax.margins(y=0.1)"
   ]
  },
  {
   "cell_type": "markdown",
   "metadata": {
    "colab_type": "text",
    "id": "cY9uJDg24m4t",
    "slideshow": {
     "slide_type": "fragment"
    }
   },
   "source": [
    "(For technical signal processing reasons, convolutions actually occur \"back to front\" between the input array and the kernel. Correlations occur in the signal order, so we'll use correlate from now on.)\n"
   ]
  },
  {
   "cell_type": "markdown",
   "metadata": {
    "colab_type": "text",
    "id": "-t1D71R74m4t",
    "slideshow": {
     "slide_type": "fragment"
    }
   },
   "source": [
    "Whenever neighboring values are close, the filter response is close to 0. Right at the boundary of a step, we're subtracting a small value from a large value and and get a spike in the response. This spike \"identifies\" our edge.\n"
   ]
  },
  {
   "cell_type": "markdown",
   "metadata": {
    "colab_type": "text",
    "id": "dnnZ2mTd4m4t",
    "slideshow": {
     "slide_type": "subslide"
    }
   },
   "source": [
    "### Commutativity and Associativity of filters\n"
   ]
  },
  {
   "cell_type": "markdown",
   "metadata": {
    "colab_type": "text",
    "id": "jV6a8qmh4m4u",
    "slideshow": {
     "slide_type": "fragment"
    }
   },
   "source": [
    "What if we try the same trick with our noisy signal?\n"
   ]
  },
  {
   "cell_type": "code",
   "execution_count": null,
   "metadata": {
    "colab": {
     "base_uri": "https://localhost:8080/",
     "height": 264
    },
    "colab_type": "code",
    "id": "nJOobalk4m4u",
    "outputId": "4ec8d31d-8000-4b96-9aeb-e8c0f81f6ac8",
    "slideshow": {
     "slide_type": "fragment"
    }
   },
   "outputs": [],
   "source": [
    "noisy_change = np.correlate(noisy_signal, np.array([-1, 0, 1]))\n",
    "fig, ax = plt.subplots()\n",
    "ax.plot(noisy_signal, label=\"signal\")\n",
    "ax.plot(noisy_change, linestyle=\"dashed\", label=\"change\")\n",
    "ax.legend(loc=\"upper left\")\n",
    "ax.margins(0.1)"
   ]
  },
  {
   "cell_type": "markdown",
   "metadata": {
    "colab_type": "text",
    "id": "1sw7i7Ax4m4w",
    "slideshow": {
     "slide_type": "fragment"
    }
   },
   "source": [
    "Oops! We lost our edge!\n"
   ]
  },
  {
   "cell_type": "markdown",
   "metadata": {
    "slideshow": {
     "slide_type": "fragment"
    }
   },
   "source": [
    "But recall that we smoothed the signal a bit by taking its neighbors. Perhaps we can do the same thing here. Actually, it turns out that we can do it _in any order_, so we can create a filter that combines both the difference and the mean:\n"
   ]
  },
  {
   "cell_type": "code",
   "execution_count": null,
   "metadata": {
    "colab": {
     "base_uri": "https://localhost:8080/",
     "height": 34
    },
    "colab_type": "code",
    "id": "749Bf_Xq4m4w",
    "outputId": "10634ab8-2687-4742-81f4-a615c87fa834",
    "slideshow": {
     "slide_type": "fragment"
    }
   },
   "outputs": [],
   "source": [
    "mean_diff = np.correlate([-1, 0, 1], [1 / 3, 1 / 3, 1 / 3], mode=\"full\")\n",
    "print(mean_diff)"
   ]
  },
  {
   "cell_type": "markdown",
   "metadata": {
    "colab_type": "text",
    "id": "DLgTm1wL4m4y",
    "slideshow": {
     "slide_type": "fragment"
    }
   },
   "source": [
    "```{Note}\n",
    "We use `np.correlate` here, because it has the option to output a *wider* result than either of the two inputs.\n",
    "```\n"
   ]
  },
  {
   "cell_type": "markdown",
   "metadata": {
    "colab_type": "text",
    "id": "r8vY8JNk4m4y",
    "slideshow": {
     "slide_type": "fragment"
    }
   },
   "source": [
    "Now we can use this to find our edge even in a noisy signal:\n"
   ]
  },
  {
   "cell_type": "code",
   "execution_count": null,
   "metadata": {
    "colab": {
     "base_uri": "https://localhost:8080/",
     "height": 264
    },
    "colab_type": "code",
    "id": "neVBOu1Q4m4y",
    "outputId": "e3f90cc2-b1b4-4cc3-fee0-7b52e25423ae",
    "slideshow": {
     "slide_type": "fragment"
    }
   },
   "outputs": [],
   "source": [
    "smooth_change = np.correlate(noisy_signal, mean_diff, mode=\"same\")\n",
    "fig, ax = plt.subplots()\n",
    "ax.plot(noisy_signal, label=\"signal\")\n",
    "ax.plot(smooth_change, linestyle=\"dashed\", label=\"change\")\n",
    "ax.margins(0.1)\n",
    "ax.hlines([-0.5, 0.5], 0, 100, linewidth=0.5, color=\"gray\")"
   ]
  },
  {
   "cell_type": "markdown",
   "metadata": {
    "colab_type": "text",
    "id": "tWuOq5W34m40",
    "slideshow": {
     "slide_type": "fragment"
    }
   },
   "source": [
    "**This is an edge detector in 1D!**\n"
   ]
  },
  {
   "cell_type": "markdown",
   "metadata": {
    "colab_type": "text",
    "id": "7srj87dr4m40",
    "slideshow": {
     "slide_type": "slide"
    }
   },
   "source": [
    "### Exercise: A Gaussian Filter\n",
    "\n",
    "A gaussian filter with variance $\\sigma^2$ is given by:\n",
    "\n",
    "$$\n",
    "k_i = \\frac{1}{\\sqrt{2\\pi}\\sigma}\\exp{\\left(-\\frac{(x_i - x_0)^2}{2\\sigma^2}\\right)}\n",
    "$$\n",
    "\n",
    "1. Create this filter (for example, with width 9, center 4, sigma 1). (Plot it)\n",
    "2. Convolve it with the difference filter (with appropriate mode). (Plot the result)\n",
    "3. Convolve it with the noisy signal. (Plot the result)\n"
   ]
  },
  {
   "cell_type": "code",
   "execution_count": null,
   "metadata": {
    "slideshow": {
     "slide_type": "fragment"
    }
   },
   "outputs": [],
   "source": [
    "# Type your Code Here\n"
   ]
  },
  {
   "cell_type": "code",
   "execution_count": null,
   "metadata": {
    "colab": {
     "base_uri": "https://localhost:8080/",
     "height": 531
    },
    "colab_type": "code",
    "id": "ynMrvQav4m43",
    "outputId": "c5da44f8-995a-422c-8f00-9ea5e05bdf1c",
    "slideshow": {
     "slide_type": "fragment"
    },
    "tags": [
     "hide-cell"
    ]
   },
   "outputs": [],
   "source": [
    "# builds a array of size 9\n",
    "xi = np.arange(9)\n",
    "# floor divide //\n",
    "x0 = 9 // 2  # 4\n",
    "x = xi - x0\n",
    "# sets the standard deviation\n",
    "sigma = 1\n",
    "\n",
    "# function for the Gaussian kernel\n",
    "gaussian_kernel = 1 / (np.sqrt(2 * np.pi) * sigma) * np.exp(-(x**2) / 2 * sigma**2)\n",
    "fig = plt.figure()\n",
    "plt.plot(gaussian_kernel)\n",
    "\n",
    "# does the convolution\n",
    "## 2\n",
    "\n",
    "gauss_diff = np.convolve(gaussian_kernel, [-1, 0, 1], mode=\"full\")\n",
    "\n",
    "## 3\n",
    "\n",
    "smooth_diff = ndi.correlate(noisy_signal, gauss_diff, mode=\"reflect\")\n",
    "\n",
    "fig = plt.figure()\n",
    "plt.plot(noisy_signal, label=\"Noisy Signal\")\n",
    "plt.plot(smooth_diff, label=\"Smoothed Edge\")\n",
    "plt.legend()"
   ]
  },
  {
   "cell_type": "markdown",
   "metadata": {
    "colab_type": "text",
    "id": "ADaTx9w84m45",
    "slideshow": {
     "slide_type": "slide"
    }
   },
   "source": [
    "## Local Filtering of Images\n"
   ]
  },
  {
   "cell_type": "markdown",
   "metadata": {
    "colab_type": "text",
    "id": "Wny5NRQi4m45",
    "slideshow": {
     "slide_type": "fragment"
    }
   },
   "source": [
    "Now let's apply all this knowledge to 2D images instead of a 1D signal. Let's start with a simple image:\n"
   ]
  },
  {
   "cell_type": "code",
   "execution_count": null,
   "metadata": {
    "colab": {},
    "colab_type": "code",
    "id": "BUVy866g4m45",
    "slideshow": {
     "slide_type": "fragment"
    }
   },
   "outputs": [],
   "source": [
    "# builds an image with a bright square through indexing\n",
    "bright_square = np.zeros((7, 7), dtype=float)\n",
    "bright_square[2:5, 2:5] = 1\n"
   ]
  },
  {
   "cell_type": "markdown",
   "metadata": {
    "colab_type": "text",
    "id": "fk93NpIe4m46",
    "slideshow": {
     "slide_type": "fragment"
    }
   },
   "source": [
    "This gives the values below:\n"
   ]
  },
  {
   "cell_type": "code",
   "execution_count": null,
   "metadata": {
    "colab": {
     "base_uri": "https://localhost:8080/",
     "height": 141
    },
    "colab_type": "code",
    "id": "dAQ4tGwN4m47",
    "outputId": "58f0afc4-f1a3-465b-8eca-ecb7d1476024",
    "slideshow": {
     "slide_type": "fragment"
    }
   },
   "outputs": [],
   "source": [
    "print(bright_square)\n"
   ]
  },
  {
   "cell_type": "markdown",
   "metadata": {
    "colab_type": "text",
    "id": "FfY-WeGa4m48",
    "slideshow": {
     "slide_type": "fragment"
    }
   },
   "source": [
    "and looks like a white square centered on a black square:\n"
   ]
  },
  {
   "cell_type": "code",
   "execution_count": null,
   "metadata": {
    "colab": {
     "base_uri": "https://localhost:8080/",
     "height": 264
    },
    "colab_type": "code",
    "id": "gpDJl9Lb4m48",
    "outputId": "d4520c55-5e34-463d-fce8-f847e62f1627",
    "slideshow": {
     "slide_type": "fragment"
    }
   },
   "outputs": [],
   "source": [
    "fig, ax = plt.subplots()\n",
    "ax.imshow(bright_square)"
   ]
  },
  {
   "cell_type": "markdown",
   "metadata": {
    "colab_type": "text",
    "id": "KHnJACEZ4m4-",
    "slideshow": {
     "slide_type": "subslide"
    }
   },
   "source": [
    "### The Mean Filter\n"
   ]
  },
  {
   "cell_type": "markdown",
   "metadata": {
    "colab_type": "text",
    "id": "l1fh1spf4m4-",
    "slideshow": {
     "slide_type": "fragment"
    }
   },
   "source": [
    "For our first example of a filter, consider the following filtering array, which we'll call a \"mean kernel\". For each pixel, a kernel defines which neighboring pixels to consider when filtering, and how much to weight those pixels.\n"
   ]
  },
  {
   "cell_type": "code",
   "execution_count": null,
   "metadata": {
    "colab": {
     "base_uri": "https://localhost:8080/",
     "height": 70
    },
    "colab_type": "code",
    "id": "k9PrtsE_4m4-",
    "outputId": "7f3b2463-c1b8-4e19-882d-395dfbedb7db",
    "slideshow": {
     "slide_type": "fragment"
    }
   },
   "outputs": [],
   "source": [
    "mean_kernel = np.full((3, 3), 1 / 9)\n",
    "\n",
    "print(mean_kernel)"
   ]
  },
  {
   "cell_type": "markdown",
   "metadata": {
    "colab_type": "text",
    "id": "Jn2LEbAa4m5A",
    "slideshow": {
     "slide_type": "fragment"
    }
   },
   "source": [
    "Now, let's take our mean kernel and apply it to every pixel of the image.\n"
   ]
  },
  {
   "cell_type": "markdown",
   "metadata": {
    "colab_type": "text",
    "id": "nsXXyzW44m5A",
    "slideshow": {
     "slide_type": "fragment"
    }
   },
   "source": [
    "Applying a (linear) filter essentially means:\n",
    "\n",
    "- Center a kernel on a pixel\n",
    "- Multiply the pixels _under_ that kernel by the values _in_ the kernel\n",
    "- Sum all the those results\n",
    "- Replace the center pixel with the summed result\n"
   ]
  },
  {
   "cell_type": "markdown",
   "metadata": {
    "colab_type": "text",
    "id": "4JpHexgj4m5A",
    "slideshow": {
     "slide_type": "fragment"
    }
   },
   "source": [
    "This process is known as convolution.\n"
   ]
  },
  {
   "cell_type": "markdown",
   "metadata": {
    "colab_type": "text",
    "id": "N_lUazLU4m5B",
    "slideshow": {
     "slide_type": "fragment"
    }
   },
   "source": [
    "Let's take a look at the numerical result:\n"
   ]
  },
  {
   "cell_type": "code",
   "execution_count": null,
   "metadata": {
    "colab": {
     "base_uri": "https://localhost:8080/",
     "height": 265
    },
    "colab_type": "code",
    "id": "tlIQnExb4m5B",
    "outputId": "f59a65d2-edab-48f7-83e3-088e648a7336",
    "slideshow": {
     "slide_type": "fragment"
    }
   },
   "outputs": [],
   "source": [
    "%precision 2 \n",
    "# this just sets the precision so it prints nicely in jupyter\n",
    "print(bright_square)\n",
    "print(ndi.correlate(bright_square, mean_kernel))"
   ]
  },
  {
   "cell_type": "markdown",
   "metadata": {
    "colab_type": "text",
    "id": "j7CKPk1i4m5D",
    "slideshow": {
     "slide_type": "fragment"
    }
   },
   "source": [
    "The meaning of \"mean kernel\" should be clear now: Each pixel was replaced with the mean value within the 3x3 neighborhood of that pixel. When the kernel was over `n` bright pixels, the pixel in the kernel's center was changed to n/9 (= n \\* 0.111). When no bright pixels were under the kernel, the result was 0.\n"
   ]
  },
  {
   "cell_type": "markdown",
   "metadata": {
    "colab_type": "text",
    "id": "7XxJxqFN4m5D",
    "slideshow": {
     "slide_type": "fragment"
    }
   },
   "source": [
    "This filter is a simple smoothing filter and produces two important results:\n",
    "\n",
    "1. The intensity of the bright pixel decreased.\n",
    "2. The intensity of the region near the bright pixel increased.\n"
   ]
  },
  {
   "cell_type": "markdown",
   "metadata": {
    "colab_type": "text",
    "id": "X9q8r2Mv4m5D",
    "slideshow": {
     "slide_type": "slide"
    }
   },
   "source": [
    "### Convolutions in Action\n",
    "\n",
    "(Execute the following cell, but don't try to read it; its purpose is to generate an example.)\n"
   ]
  },
  {
   "cell_type": "code",
   "execution_count": null,
   "metadata": {
    "colab": {},
    "colab_type": "code",
    "id": "YNu4fnKZ4m5D",
    "slideshow": {
     "slide_type": "fragment"
    }
   },
   "outputs": [],
   "source": [
    "# --------------------------------------------------------------------------\n",
    "#  Convolution Demo\n",
    "# --------------------------------------------------------------------------\n",
    "\n",
    "\n",
    "def mean_filter_demo(image, vmax=1):\n",
    "    mean_factor = 1.0 / 9.0  # This assumes a 3x3 kernel.\n",
    "    iter_kernel_and_subimage = iter_kernel(image)\n",
    "\n",
    "    image_cache = []\n",
    "\n",
    "    def mean_filter_step(i_step):\n",
    "        while i_step >= len(image_cache):\n",
    "            filtered = image if i_step == 0 else image_cache[-1][-1][-1]\n",
    "            filtered = filtered.copy()\n",
    "\n",
    "            (i, j), mask, subimage = next(iter_kernel_and_subimage)\n",
    "            filter_overlay = color.label2rgb(\n",
    "                mask, image, bg_label=0, colors=(\"cyan\", \"red\")\n",
    "            )\n",
    "            filtered[i, j] = np.sum(mean_factor * subimage)\n",
    "            image_cache.append(((i, j), (filter_overlay, filtered)))\n",
    "\n",
    "        (i, j), images = image_cache[i_step]\n",
    "        fig, axes = plt.subplots(1, len(images), figsize=(10, 5))\n",
    "\n",
    "        for ax, imc in zip(axes, images):\n",
    "            ax.imshow(imc, vmax=vmax)\n",
    "            rect = patches.Rectangle(\n",
    "                [j - 0.5, i - 0.5], 1, 1, color=\"yellow\", fill=False\n",
    "            )\n",
    "            ax.add_patch(rect)\n",
    "\n",
    "        plt.show()\n",
    "\n",
    "    return mean_filter_step\n",
    "\n",
    "\n",
    "def mean_filter_interactive_demo(image):\n",
    "    from ipywidgets import IntSlider, interact\n",
    "\n",
    "    mean_filter_step = mean_filter_demo(image)\n",
    "    step_slider = IntSlider(min=0, max=image.size - 1, value=0)\n",
    "    interact(mean_filter_step, i_step=step_slider)\n",
    "\n",
    "\n",
    "def iter_kernel(image, size=1):\n",
    "    \"\"\"Yield position, kernel mask, and image for each pixel in the image.\n",
    "\n",
    "    The kernel mask has a 2 at the center pixel and 1 around it. The actual\n",
    "    width of the kernel is 2*size + 1.\n",
    "    \"\"\"\n",
    "    width = 2 * size + 1\n",
    "    for (i, j), pixel in iter_pixels(image):\n",
    "        mask = np.zeros(image.shape, dtype=\"int16\")\n",
    "        mask[i, j] = 1\n",
    "        mask = ndi.grey_dilation(mask, size=width)\n",
    "        # mask[i, j] = 2\n",
    "        subimage = image[bounded_slice((i, j), image.shape[:2], size=size)]\n",
    "        yield (i, j), mask, subimage\n",
    "\n",
    "\n",
    "def iter_pixels(image):\n",
    "    \"\"\"Yield pixel position (row, column) and pixel intensity.\"\"\"\n",
    "    height, width = image.shape[:2]\n",
    "    for i in range(height):\n",
    "        for j in range(width):\n",
    "            yield (i, j), image[i, j]\n",
    "\n",
    "\n",
    "def bounded_slice(center, xy_max, size=1, i_min=0):\n",
    "    slices = []\n",
    "    for i, i_max in zip(center, xy_max):\n",
    "        slices.append(slice(max(i - size, i_min), min(i + size + 1, i_max)))\n",
    "    return tuple(slices)\n"
   ]
  },
  {
   "cell_type": "code",
   "execution_count": null,
   "metadata": {
    "colab": {
     "base_uri": "https://localhost:8080/",
     "height": 333,
     "referenced_widgets": [
      "e2fc9b9ba2804835bed5ad5aff1c2e0d",
      "ae15efa181e84a15bd22f234f3edbcf3",
      "e374507c62ed4cfba3d63fb9c3fed661",
      "71776453a3954392b97eac9ee9d4ce8c",
      "7624c26b6c124cef8a15e85255c598b0",
      "dd7c61123c4f44dd852639b046b633ad",
      "d1e0521f761c4d66a9b5c0d9f06c5e56"
     ]
    },
    "colab_type": "code",
    "id": "_SpbVS4J4m5F",
    "outputId": "d221321e-437c-4c04-c510-7f8423a323a1",
    "slideshow": {
     "slide_type": "fragment"
    }
   },
   "outputs": [],
   "source": [
    "mean_filter_interactive_demo(bright_square)\n"
   ]
  },
  {
   "cell_type": "markdown",
   "metadata": {
    "colab_type": "text",
    "id": "UeI6sty84m5G",
    "slideshow": {
     "slide_type": "fragment"
    }
   },
   "source": [
    "Incidentally, the above filtering is the exact same principle behind the _convolutional neural networks_, or CNNs, that you might have heard much about over the past few years. The only difference is that while above, the simple mean kernel is used, in CNNs, the values inside the kernel are _learned_ to find a specific feature, or accomplish a specific task. Time permitting, we'll demonstrate this in an exercise at the end of the notebook.\n"
   ]
  },
  {
   "cell_type": "markdown",
   "metadata": {
    "colab_type": "text",
    "id": "3nl4-4aY4m5I",
    "slideshow": {
     "slide_type": "slide"
    }
   },
   "source": [
    "### Downsampled image\n"
   ]
  },
  {
   "cell_type": "markdown",
   "metadata": {
    "colab_type": "text",
    "id": "Unj-zICN4m5I",
    "slideshow": {
     "slide_type": "fragment"
    }
   },
   "source": [
    "Let's consider a real image now. It'd be easier to see some of the filterings we're doing if we downsampled the image a bit. We can slice into the image using the \"step\" argument to sub-sample it (don't scale images using this method for real work; use `skimage.transform.rescale`):\n"
   ]
  },
  {
   "cell_type": "code",
   "execution_count": null,
   "metadata": {
    "colab": {
     "base_uri": "https://localhost:8080/",
     "height": 304
    },
    "colab_type": "code",
    "id": "QefK80QX4m5I",
    "outputId": "70f2997b-261d-41b4-e2c9-88bd04ec529b",
    "slideshow": {
     "slide_type": "fragment"
    }
   },
   "outputs": [],
   "source": [
    "image = data.camera()\n",
    "\n",
    "# this just takes every 10th pixel\n",
    "pixilated = image[::10, ::10]\n",
    "fig, (ax0, ax1) = plt.subplots(1, 2, figsize=(10, 5))\n",
    "ax0.imshow(image)\n",
    "ax1.imshow(pixilated)"
   ]
  },
  {
   "cell_type": "markdown",
   "metadata": {
    "colab_type": "text",
    "id": "46vH76Ij4m5J",
    "slideshow": {
     "slide_type": "fragment"
    }
   },
   "source": [
    "Here we use a step of 10, giving us every tenth column and every tenth row of the original image. You can see the highly pixilated result on the right.\n"
   ]
  },
  {
   "cell_type": "markdown",
   "metadata": {
    "colab_type": "text",
    "id": "RHfhVeGg4m5J",
    "slideshow": {
     "slide_type": "fragment"
    }
   },
   "source": [
    "We are actually going to be using the pattern of plotting multiple images side by side quite often, so we are going to make the following helper function:\n"
   ]
  },
  {
   "cell_type": "code",
   "execution_count": null,
   "metadata": {
    "colab": {},
    "colab_type": "code",
    "id": "qm9uIIlO4m5J",
    "slideshow": {
     "slide_type": "fragment"
    }
   },
   "outputs": [],
   "source": [
    "def imshow_all(*images, titles=None):\n",
    "    images = [img_as_float(img) for img in images]\n",
    "\n",
    "    if titles is None:\n",
    "        titles = [\"\"] * len(images)\n",
    "    vmin = min(map(np.min, images))\n",
    "    vmax = max(map(np.max, images))\n",
    "    ncols = len(images)\n",
    "    height = 5\n",
    "    width = height * len(images)\n",
    "    fig, axes = plt.subplots(nrows=1, ncols=ncols, figsize=(width, height))\n",
    "    for ax, img, label in zip(axes.ravel(), images, titles):\n",
    "        ax.imshow(img, vmin=vmin, vmax=vmax)\n",
    "        ax.set_title(label)"
   ]
  },
  {
   "cell_type": "markdown",
   "metadata": {
    "colab_type": "text",
    "id": "zVItAKsq4m5K",
    "slideshow": {
     "slide_type": "slide"
    }
   },
   "source": [
    "### Mean filter on an actual image\n"
   ]
  },
  {
   "cell_type": "markdown",
   "metadata": {
    "colab_type": "text",
    "id": "lrTywE0B4m5L",
    "slideshow": {
     "slide_type": "fragment"
    }
   },
   "source": [
    "Now we can apply the filter to this downsampled image:\n"
   ]
  },
  {
   "cell_type": "code",
   "execution_count": null,
   "metadata": {
    "colab": {
     "base_uri": "https://localhost:8080/",
     "height": 316
    },
    "colab_type": "code",
    "id": "zsiZbgtx4m5L",
    "outputId": "e25cd8a3-cbed-47fa-9057-db66695e8c23",
    "slideshow": {
     "slide_type": "fragment"
    }
   },
   "outputs": [],
   "source": [
    "filtered = ndi.correlate(pixilated, mean_kernel)\n",
    "imshow_all(pixilated, filtered, titles=[\"pixilated\", \"mean filtered\"])"
   ]
  },
  {
   "cell_type": "markdown",
   "metadata": {
    "colab_type": "text",
    "id": "-yfWp6-u4m5M",
    "slideshow": {
     "slide_type": "fragment"
    }
   },
   "source": [
    "Comparing the filtered image to the pixilated image, we can see that this filtered result is smoother: Sharp edges (which are just borders between dark and bright pixels) are smoothed because dark pixels reduce the intensity of neighboring pixels and bright pixels do the opposite.\n"
   ]
  },
  {
   "cell_type": "markdown",
   "metadata": {
    "colab_type": "text",
    "id": "dI8P1Z-74m5M",
    "slideshow": {
     "slide_type": "slide"
    }
   },
   "source": [
    "## Essential filters\n"
   ]
  },
  {
   "cell_type": "markdown",
   "metadata": {
    "colab_type": "text",
    "id": "WrRk5uM-4m5O",
    "slideshow": {
     "slide_type": "fragment"
    }
   },
   "source": [
    "If you read through the last section, you're already familiar with the essential concepts of image filtering. But, of course, you don't have to create custom filter kernels for all of your filtering needs. There are many standard filter kernels pre-defined from half a century of image and signal processing.\n"
   ]
  },
  {
   "cell_type": "markdown",
   "metadata": {
    "colab_type": "text",
    "id": "ykc2yGxN4m5O",
    "slideshow": {
     "slide_type": "subslide"
    }
   },
   "source": [
    "### Gaussian filter\n"
   ]
  },
  {
   "cell_type": "markdown",
   "metadata": {
    "colab_type": "text",
    "id": "2VFjEY4E4m5O",
    "slideshow": {
     "slide_type": "fragment"
    }
   },
   "source": [
    "The classic image filter is the Gaussian filter. This is similar to the mean filter, in that it tends to smooth images. The Gaussian filter, however, doesn't weight all values in the neighborhood equally. Instead, pixels closer to the center are weighted more than those farther away.\n"
   ]
  },
  {
   "cell_type": "code",
   "execution_count": null,
   "metadata": {
    "colab": {
     "base_uri": "https://localhost:8080/",
     "height": 308
    },
    "colab_type": "code",
    "id": "FyH4VUIY4m5O",
    "outputId": "aa8e73a2-967f-4987-c8e1-e7b63205e31c",
    "slideshow": {
     "slide_type": "fragment"
    }
   },
   "outputs": [],
   "source": [
    "# Rename module so we don't shadow the builtin function\n",
    "from skimage import filters\n",
    "\n",
    "smooth_mean = ndi.correlate(bright_square, mean_kernel)\n",
    "sigma = 1\n",
    "smooth = filters.gaussian(bright_square, sigma)\n",
    "imshow_all(\n",
    "    bright_square,\n",
    "    smooth_mean,\n",
    "    smooth,\n",
    "    titles=[\"original\", \"result of mean filter\", \"result of gaussian filter\"],\n",
    ")\n"
   ]
  },
  {
   "cell_type": "markdown",
   "metadata": {
    "colab_type": "text",
    "id": "hilgdKCT4m5R",
    "slideshow": {
     "slide_type": "fragment"
    }
   },
   "source": [
    "For the Gaussian filter, `sigma`, the standard deviation, defines the size of the neighborhood.\n",
    "\n",
    "For a real image, we get the following:\n"
   ]
  },
  {
   "cell_type": "code",
   "execution_count": null,
   "metadata": {
    "colab": {
     "base_uri": "https://localhost:8080/",
     "height": 302
    },
    "colab_type": "code",
    "id": "J5c2HpHb4m5R",
    "outputId": "78648aa8-c3c3-4a78-d805-d80de502676e",
    "slideshow": {
     "slide_type": "fragment"
    }
   },
   "outputs": [],
   "source": [
    "# The Gaussian filter returns a float image, regardless of input.\n",
    "# Cast to float so the images have comparable intensity ranges.\n",
    "pixilated_float = img_as_float(pixilated)\n",
    "smooth = filters.gaussian(pixilated_float, sigma=1)\n",
    "imshow_all(pixilated_float, smooth)\n"
   ]
  },
  {
   "cell_type": "markdown",
   "metadata": {
    "colab_type": "text",
    "id": "oaug-LcD4m5S",
    "slideshow": {
     "slide_type": "fragment"
    }
   },
   "source": [
    "This doesn't look drastically different than the mean filter, but the Gaussian filter is typically preferred because of the distance-dependent weighting, and because it does not have any sharp transitions (consider what happens in the Fourier domain!). For a more detailed image and a larger filter, you can see artifacts in the mean filter since it doesn't take distance into account:\n"
   ]
  },
  {
   "cell_type": "code",
   "execution_count": null,
   "metadata": {
    "colab": {
     "base_uri": "https://localhost:8080/",
     "height": 316
    },
    "colab_type": "code",
    "id": "glkdRv1D4m5S",
    "outputId": "7a75706a-816f-484d-ab27-9308c2f9d9b5",
    "slideshow": {
     "slide_type": "fragment"
    }
   },
   "outputs": [],
   "source": [
    "size = 20\n",
    "structuring_element = np.ones((3 * size, 3 * size))\n",
    "smooth_mean = filters.rank.mean(image, structuring_element)\n",
    "smooth_gaussian = filters.gaussian(image, size)\n",
    "titles = [\"mean\", \"gaussian\"]\n",
    "imshow_all(smooth_mean, smooth_gaussian, titles=titles)"
   ]
  },
  {
   "cell_type": "markdown",
   "metadata": {
    "colab_type": "text",
    "id": "HzT_bj1g4m5T",
    "slideshow": {
     "slide_type": "fragment"
    }
   },
   "source": [
    "(Above, we've tweaked the size of the structuring element used for the mean filter and the standard deviation of the Gaussian filter to produce an approximately equal amount of smoothing in the two results.)\n"
   ]
  },
  {
   "cell_type": "markdown",
   "metadata": {
    "colab_type": "text",
    "id": "r_yIL93-4m5Y",
    "slideshow": {
     "slide_type": "slide"
    }
   },
   "source": [
    "### Basic Edge Filtering\n"
   ]
  },
  {
   "cell_type": "markdown",
   "metadata": {
    "colab_type": "text",
    "id": "iDxi3EI94m5Z",
    "slideshow": {
     "slide_type": "fragment"
    }
   },
   "source": [
    "For images, edges are boundaries between light and dark values. The detection of edges can be useful on its own, or it can be used as preliminary step in other algorithms (which we'll see later).\n"
   ]
  },
  {
   "cell_type": "markdown",
   "metadata": {
    "colab_type": "text",
    "id": "n2j00xnk4m5Z",
    "slideshow": {
     "slide_type": "fragment"
    }
   },
   "source": [
    "#### Difference Filters in 2D\n"
   ]
  },
  {
   "cell_type": "markdown",
   "metadata": {
    "colab_type": "text",
    "id": "zX_Zy40-4m5Z",
    "slideshow": {
     "slide_type": "fragment"
    }
   },
   "source": [
    "For images, you can think of an edge as points where the gradient is large in one direction. We can approximate gradients with difference filters.\n"
   ]
  },
  {
   "cell_type": "code",
   "execution_count": null,
   "metadata": {
    "colab": {
     "base_uri": "https://localhost:8080/",
     "height": 265
    },
    "colab_type": "code",
    "id": "evpTjybu4m5Z",
    "outputId": "a051c648-76de-4452-b9f5-3e865ef3b40c",
    "slideshow": {
     "slide_type": "fragment"
    }
   },
   "outputs": [],
   "source": [
    "vertical_kernel = np.array(\n",
    "    [\n",
    "        [-1],\n",
    "        [0],\n",
    "        [1],\n",
    "    ]\n",
    ")\n",
    "\n",
    "gradient_vertical = ndi.correlate(pixilated.astype(float), vertical_kernel)\n",
    "fig, ax = plt.subplots()\n",
    "ax.imshow(gradient_vertical)\n"
   ]
  },
  {
   "cell_type": "markdown",
   "metadata": {
    "colab_type": "text",
    "id": "x58jqpdF4m5e",
    "slideshow": {
     "slide_type": "slide"
    }
   },
   "source": [
    "### Sobel edge filter\n"
   ]
  },
  {
   "cell_type": "markdown",
   "metadata": {
    "colab_type": "text",
    "id": "QVH0qwvP4m5e",
    "slideshow": {
     "slide_type": "fragment"
    }
   },
   "source": [
    "The Sobel filter, the most commonly used edge filter, should look pretty similar to what you developed above. Take a look at the vertical and horizontal components of the Sobel kernel to see how they differ from your earlier implementation:\n"
   ]
  },
  {
   "cell_type": "markdown",
   "metadata": {
    "colab_type": "text",
    "id": "v7f8dqi24m5f",
    "slideshow": {
     "slide_type": "fragment"
    }
   },
   "source": [
    "- http://scikit-image.org/docs/dev/api/skimage.filters.html#skimage.filters.sobel_v\n",
    "- http://scikit-image.org/docs/dev/api/skimage.filters.html#skimage.filters.sobel_h\n"
   ]
  },
  {
   "cell_type": "code",
   "execution_count": null,
   "metadata": {
    "colab": {
     "base_uri": "https://localhost:8080/",
     "height": 301
    },
    "colab_type": "code",
    "id": "Q4T1wpAd4m5f",
    "outputId": "4ac1e9ff-bfc0-420f-92c8-d50f6bcae7cf",
    "slideshow": {
     "slide_type": "fragment"
    }
   },
   "outputs": [],
   "source": [
    "imshow_all(bright_square, filters.sobel(bright_square))\n"
   ]
  },
  {
   "cell_type": "markdown",
   "metadata": {
    "colab_type": "text",
    "id": "ikhwq-mN4m5g",
    "slideshow": {
     "slide_type": "fragment"
    }
   },
   "source": [
    "Notice that the output size matches the input, and the edges aren't preferentially shifted to a corner of the image. Furthermore, the weights used in the Sobel filter produce diagonal edges with responses that are comparable to horizontal or vertical edges.\n",
    "\n",
    "Like any derivative, noise can have a strong impact on the result:\n"
   ]
  },
  {
   "cell_type": "code",
   "execution_count": null,
   "metadata": {
    "colab": {
     "base_uri": "https://localhost:8080/",
     "height": 302
    },
    "colab_type": "code",
    "id": "PnvN1gRU4m5g",
    "outputId": "7d139dd5-c6f9-4806-da43-b33d45a79ae3",
    "slideshow": {
     "slide_type": "fragment"
    }
   },
   "outputs": [],
   "source": [
    "pixilated_gradient = filters.sobel(pixilated)\n",
    "imshow_all(pixilated, pixilated_gradient)\n"
   ]
  },
  {
   "cell_type": "markdown",
   "metadata": {
    "colab_type": "text",
    "id": "0GI7LIbF4m5h",
    "slideshow": {
     "slide_type": "fragment"
    }
   },
   "source": [
    "Smoothing is often used as a preprocessing step in preparation for feature detection and image-enhancement operations because sharp features can distort results.\n"
   ]
  },
  {
   "cell_type": "code",
   "execution_count": null,
   "metadata": {
    "colab": {
     "base_uri": "https://localhost:8080/",
     "height": 316
    },
    "colab_type": "code",
    "id": "3fJ_I5kj4m5i",
    "outputId": "681a32df-b4e4-4153-d9f5-fa3bea41ba39",
    "slideshow": {
     "slide_type": "fragment"
    }
   },
   "outputs": [],
   "source": [
    "smooth = filters.gaussian(pixilated_float, sigma=1)\n",
    "gradient = filters.sobel(smooth)\n",
    "titles = [\"gradient before smoothing\", \"gradient after smoothing\"]\n",
    "# Scale smoothed gradient up so they're of comparable brightness.\n",
    "imshow_all(pixilated_gradient, gradient * 1.8, titles=titles)"
   ]
  },
  {
   "cell_type": "markdown",
   "metadata": {
    "colab_type": "text",
    "id": "2TLSjhN_4m5j",
    "slideshow": {
     "slide_type": "fragment"
    }
   },
   "source": [
    "Notice how the edges look more continuous in the smoothed image.\n"
   ]
  },
  {
   "cell_type": "markdown",
   "metadata": {
    "colab_type": "text",
    "id": "G7caiAny4m5t",
    "slideshow": {
     "slide_type": "slide"
    }
   },
   "source": [
    "## Denoising filters\n"
   ]
  },
  {
   "cell_type": "markdown",
   "metadata": {
    "colab_type": "text",
    "id": "34CES0hZ4m5t",
    "slideshow": {
     "slide_type": "fragment"
    }
   },
   "source": [
    "At this point, we make a distinction. The earlier filters were implemented as a _linear dot-product_ of values in the filter kernel and values in the image. The following kernels implement an _arbitrary_ function of the local image neighborhood. Denoising filters in particular are filters that preserve the sharpness of edges in the image.\n"
   ]
  },
  {
   "cell_type": "markdown",
   "metadata": {
    "slideshow": {
     "slide_type": "fragment"
    }
   },
   "source": [
    "As you can see from our earlier examples, mean and Gaussian filters smooth an image rather uniformly, including the edges of objects in an image. When denoising, however, you typically want to preserve features and just remove noise. The distinction between noise and features can, of course, be highly situation-dependent and subjective.\n"
   ]
  },
  {
   "cell_type": "markdown",
   "metadata": {
    "colab_type": "text",
    "id": "vFZAQj0Z4m5t",
    "slideshow": {
     "slide_type": "subslide"
    }
   },
   "source": [
    "### Median Filter\n"
   ]
  },
  {
   "cell_type": "markdown",
   "metadata": {
    "colab_type": "text",
    "id": "Yrcus3L24m5t",
    "slideshow": {
     "slide_type": "fragment"
    }
   },
   "source": [
    "The median filter is the classic edge-preserving filter. As the name implies, this filter takes a set of pixels (i.e. the pixels within a kernel or \"structuring element\") and returns the median value within that neighborhood. Because regions near a sharp edge will have many dark values and many light values (but few values in between) the median at an edge will most likely be either light or dark, rather than some value in between. In that way, we don't end up with edges that are smoothed.\n"
   ]
  },
  {
   "cell_type": "code",
   "execution_count": null,
   "metadata": {
    "colab": {
     "base_uri": "https://localhost:8080/",
     "height": 308
    },
    "colab_type": "code",
    "id": "CWFuzibA4m5t",
    "outputId": "3c5b2e0f-d897-45ef-ae94-7310c8582205",
    "slideshow": {
     "slide_type": "fragment"
    }
   },
   "outputs": [],
   "source": [
    "neighborhood = disk(\n",
    "    radius=1\n",
    ")  # \"selem\" is often the name used for \"structuring element\"\n",
    "median = filters.rank.median(pixilated, neighborhood)\n",
    "titles = [\"image\", \"gaussian\", \"median\"]\n",
    "imshow_all(pixilated, smooth, median, titles=titles)\n"
   ]
  },
  {
   "cell_type": "markdown",
   "metadata": {
    "colab_type": "text",
    "id": "9TRds-1d4m5u",
    "slideshow": {
     "slide_type": "fragment"
    }
   },
   "source": [
    "This difference is more noticeable with a more detailed image.\n"
   ]
  },
  {
   "cell_type": "code",
   "execution_count": null,
   "metadata": {
    "colab": {
     "base_uri": "https://localhost:8080/",
     "height": 256
    },
    "colab_type": "code",
    "id": "uGEqOuGh4m5u",
    "outputId": "e9f74dae-c1dd-4af3-9660-e0096f62d8f6",
    "slideshow": {
     "slide_type": "fragment"
    }
   },
   "outputs": [],
   "source": [
    "neighborhood = disk(10)\n",
    "coins = data.coins()\n",
    "mean_coin = filters.rank.mean(coins, neighborhood)\n",
    "median_coin = filters.rank.median(coins, neighborhood)\n",
    "titles = [\"image\", \"mean\", \"median\"]\n",
    "imshow_all(coins, mean_coin, median_coin, titles=titles)"
   ]
  },
  {
   "cell_type": "markdown",
   "metadata": {
    "colab_type": "text",
    "id": "-GW1oXv04m5v",
    "slideshow": {
     "slide_type": "fragment"
    }
   },
   "source": [
    "Notice how the edges of coins are preserved after using the median filter.\n"
   ]
  },
  {
   "cell_type": "markdown",
   "metadata": {
    "colab_type": "text",
    "id": "leXJBFs94m5v",
    "slideshow": {
     "slide_type": "subslide"
    }
   },
   "source": [
    "### Further reading\n"
   ]
  },
  {
   "cell_type": "markdown",
   "metadata": {
    "colab_type": "text",
    "id": "-RCfJj1I4m5w",
    "slideshow": {
     "slide_type": "fragment"
    }
   },
   "source": [
    "`scikit-image` also provides more sophisticated denoising filters:\n"
   ]
  },
  {
   "cell_type": "code",
   "execution_count": null,
   "metadata": {
    "colab": {
     "base_uri": "https://localhost:8080/",
     "height": 308
    },
    "colab_type": "code",
    "id": "-q1d51rQ4m5w",
    "outputId": "026db4cb-4636-4831-c167-c522f59e46a4",
    "slideshow": {
     "slide_type": "fragment"
    }
   },
   "outputs": [],
   "source": [
    "# more advanced denoising technique\n",
    "denoised = denoise_tv_bregman(image, 4)\n",
    "d = disk(4)\n",
    "median = filters.rank.median(image, d)\n",
    "titles = [\"image\", \"median\", \"denoised\"]\n",
    "imshow_all(image, median, denoised, titles=titles)"
   ]
  },
  {
   "cell_type": "markdown",
   "metadata": {
    "colab_type": "text",
    "id": "kuW1n1oB4m5x",
    "slideshow": {
     "slide_type": "fragment"
    }
   },
   "source": [
    "- [Denoising examples](http://scikit-image.org/docs/dev/auto_examples/plot_denoise.html)\n",
    "- [Rank filters example](http://scikit-image.org/docs/dev/auto_examples/applications/plot_rank_filters.html)\n",
    "- [Restoration API](http://scikit-image.org/docs/stable/api/skimage.restoration.html)\n"
   ]
  },
  {
   "cell_type": "markdown",
   "metadata": {
    "colab_type": "text",
    "id": "VxrD_8gN4m5y",
    "slideshow": {
     "slide_type": "slide"
    }
   },
   "source": [
    "## Feature Detection\n"
   ]
  },
  {
   "cell_type": "markdown",
   "metadata": {
    "colab_type": "text",
    "id": "Fqcrp8Al4m5y",
    "slideshow": {
     "slide_type": "fragment"
    }
   },
   "source": [
    "Feature detection is often the result of image processing. We'll detect some basic features (edges, points, and circles) in this section, but there are a wealth of available feature detectors.\n"
   ]
  },
  {
   "cell_type": "markdown",
   "metadata": {
    "colab_type": "text",
    "id": "P-Z2Vo4O4m5y",
    "slideshow": {
     "slide_type": "subslide"
    }
   },
   "source": [
    "### Edge detection\n"
   ]
  },
  {
   "cell_type": "markdown",
   "metadata": {
    "colab_type": "text",
    "id": "Tn4tncJp4m5y",
    "slideshow": {
     "slide_type": "fragment"
    }
   },
   "source": [
    "Before we start, let's set the default color map to grayscale and turn off pixel interpolation.\n"
   ]
  },
  {
   "cell_type": "code",
   "execution_count": null,
   "metadata": {
    "colab": {},
    "colab_type": "code",
    "id": "xSQKZL9N4m5z",
    "slideshow": {
     "slide_type": "fragment"
    }
   },
   "outputs": [],
   "source": [
    "plt.rcParams[\"image.cmap\"] = \"gray\"\n",
    "plt.rcParams[\"image.interpolation\"] = \"none\""
   ]
  },
  {
   "cell_type": "markdown",
   "metadata": {
    "colab_type": "text",
    "id": "3Ni2kKzJ4m5z",
    "slideshow": {
     "slide_type": "fragment"
    }
   },
   "source": [
    "We've already discussed edge filtering, using the Sobel filter, in the last section.\n"
   ]
  },
  {
   "cell_type": "code",
   "execution_count": null,
   "metadata": {
    "colab": {
     "base_uri": "https://localhost:8080/",
     "height": 302
    },
    "colab_type": "code",
    "id": "GzU2s3iX4m5z",
    "outputId": "461279a3-02cb-4316-e79e-6894a2b4449e",
    "slideshow": {
     "slide_type": "fragment"
    }
   },
   "outputs": [],
   "source": [
    "image = data.camera()\n",
    "pixilated = image[::10, ::10]\n",
    "gradient = filters.sobel(pixilated)\n",
    "imshow_all(pixilated, gradient)\n"
   ]
  },
  {
   "cell_type": "markdown",
   "metadata": {
    "colab_type": "text",
    "id": "bX9H6PSe4m50",
    "slideshow": {
     "slide_type": "fragment"
    }
   },
   "source": [
    "With the Sobel filter, however, we get back a grayscale image, which essentially tells us the likelihood that a pixel is on the edge of an object.\n"
   ]
  },
  {
   "cell_type": "markdown",
   "metadata": {
    "slideshow": {
     "slide_type": "fragment"
    }
   },
   "source": [
    "We can apply a bit more logic to _detect_ an edge; i.e. we can use that filtered image to make a _decision_ whether or not a pixel is on an edge. The simplest way to do that is with thresholding:\n"
   ]
  },
  {
   "cell_type": "code",
   "execution_count": null,
   "metadata": {
    "colab": {
     "base_uri": "https://localhost:8080/",
     "height": 302
    },
    "colab_type": "code",
    "id": "tQT7JWF04m51",
    "outputId": "10c28bc9-25ab-4aac-fd61-6a46cebc0b74",
    "slideshow": {
     "slide_type": "fragment"
    }
   },
   "outputs": [],
   "source": [
    "imshow_all(gradient, gradient > 0.4)\n"
   ]
  },
  {
   "cell_type": "markdown",
   "metadata": {
    "colab_type": "text",
    "id": "V8yPelRV4m52",
    "slideshow": {
     "slide_type": "fragment"
    }
   },
   "source": [
    "That approach doesn't do a great job. It's noisy and produces thick edges. Furthermore, it doesn't use our _knowledge_ of how edges work: They should be thin and tend to be connected along the direction of the edge.\n"
   ]
  },
  {
   "cell_type": "markdown",
   "metadata": {
    "colab_type": "text",
    "id": "GVTgD1ZW4m52",
    "slideshow": {
     "slide_type": "subslide"
    }
   },
   "source": [
    "### Canny edge detector\n"
   ]
  },
  {
   "cell_type": "markdown",
   "metadata": {
    "colab_type": "text",
    "id": "UogzIefF4m52",
    "slideshow": {
     "slide_type": "fragment"
    }
   },
   "source": [
    "The Canny edge detector combines the Sobel filter with a few other steps to give a binary edge image. The steps are as follows:\n",
    "\n",
    "- Gaussian filter\n",
    "- Sobel filter\n",
    "- Non-maximal suppression\n",
    "- Hysteresis thresholding\n"
   ]
  },
  {
   "cell_type": "markdown",
   "metadata": {
    "colab_type": "text",
    "id": "l6WVfr-04m53",
    "slideshow": {
     "slide_type": "fragment"
    }
   },
   "source": [
    "Let's go through these steps one at a time.\n"
   ]
  },
  {
   "cell_type": "markdown",
   "metadata": {
    "colab_type": "text",
    "id": "1jDEXRxE4m53",
    "slideshow": {
     "slide_type": "subslide"
    }
   },
   "source": [
    "#### Step 1: Gaussian filter\n"
   ]
  },
  {
   "cell_type": "markdown",
   "metadata": {
    "colab_type": "text",
    "id": "DXtmzap54m53",
    "slideshow": {
     "slide_type": "fragment"
    }
   },
   "source": [
    "As discussed earlier, gradients tend to enhance noise. To combat this effect, we first smooth the image using a gradient filter:\n"
   ]
  },
  {
   "cell_type": "code",
   "execution_count": null,
   "metadata": {
    "colab": {
     "base_uri": "https://localhost:8080/",
     "height": 302
    },
    "colab_type": "code",
    "id": "2ZftZLCp4m53",
    "outputId": "eed292d3-ccca-4521-f5a4-9f854b28788b",
    "slideshow": {
     "slide_type": "fragment"
    }
   },
   "outputs": [],
   "source": [
    "sigma = 1  # Standard-deviation of Gaussian; larger smooths more.\n",
    "pixilated_float = img_as_float(pixilated)\n",
    "pixilated_float = pixilated\n",
    "smooth = filters.gaussian(pixilated_float, sigma)\n",
    "imshow_all(pixilated_float, smooth)\n"
   ]
  },
  {
   "cell_type": "markdown",
   "metadata": {
    "colab_type": "text",
    "id": "hKZ6xlMs4m54",
    "slideshow": {
     "slide_type": "subslide"
    }
   },
   "source": [
    "#### Step 2: Sobel filter\n"
   ]
  },
  {
   "cell_type": "markdown",
   "metadata": {
    "colab_type": "text",
    "id": "MOI_zGC_4m54",
    "slideshow": {
     "slide_type": "fragment"
    }
   },
   "source": [
    "Next, we apply our edge filter:\n"
   ]
  },
  {
   "cell_type": "code",
   "execution_count": null,
   "metadata": {
    "colab": {
     "base_uri": "https://localhost:8080/",
     "height": 302
    },
    "colab_type": "code",
    "id": "CdoRz5-04m54",
    "outputId": "afd6fa77-fc5f-453b-f291-909c79622f0f",
    "slideshow": {
     "slide_type": "fragment"
    }
   },
   "outputs": [],
   "source": [
    "gradient_magnitude = filters.sobel(smooth)\n",
    "imshow_all(smooth, gradient_magnitude)\n"
   ]
  },
  {
   "cell_type": "markdown",
   "metadata": {
    "colab_type": "text",
    "id": "FWEUBCaF4m55",
    "slideshow": {
     "slide_type": "subslide"
    }
   },
   "source": [
    "### Step 3: Non-maximal suppression\n"
   ]
  },
  {
   "cell_type": "markdown",
   "metadata": {
    "colab_type": "text",
    "id": "gtuR6BPH4m56",
    "slideshow": {
     "slide_type": "fragment"
    }
   },
   "source": [
    "Goal: Suppress gradients that aren't on an edge\n"
   ]
  },
  {
   "cell_type": "markdown",
   "metadata": {
    "colab_type": "text",
    "id": "AlaCUAB-4m56",
    "slideshow": {
     "slide_type": "fragment"
    }
   },
   "source": [
    "Ideally, an edge is thin: In some sense, an edge is infinitely thin, but images are discrete so we want edges to be a single pixel wide. To accomplish this, we thin the image using \"non-maximal suppression\". This takes the edge-filtered image and thins the response _across_ the edge direction; i.e. in the direction of the maximum gradient:\n"
   ]
  },
  {
   "cell_type": "code",
   "execution_count": null,
   "metadata": {
    "colab": {
     "base_uri": "https://localhost:8080/",
     "height": 301
    },
    "colab_type": "code",
    "id": "jTxop49t4m56",
    "outputId": "5692763d-d506-4707-de66-fd6526abd0db",
    "slideshow": {
     "slide_type": "fragment"
    }
   },
   "outputs": [],
   "source": [
    "zoomed_grad = gradient_magnitude[15:25, 5:15]\n",
    "maximal_mask = np.zeros_like(zoomed_grad)\n",
    "# This mask is made up for demo purposes\n",
    "maximal_mask[range(10), (7, 6, 5, 4, 3, 2, 2, 2, 3, 3)] = 1\n",
    "grad_along_edge = maximal_mask * zoomed_grad\n",
    "\n",
    "fig, axes = plt.subplots(nrows=1, ncols=2, figsize=(10, 5))\n",
    "\n",
    "axes[0].imshow(zoomed_grad)\n",
    "axes[1].imshow(grad_along_edge)"
   ]
  },
  {
   "cell_type": "markdown",
   "metadata": {
    "colab_type": "text",
    "id": "O9hdFzsk4m59",
    "slideshow": {
     "slide_type": "fragment"
    }
   },
   "source": [
    "This is a faked version of non-maximal suppression: Pixels are _manually_ masked here.\n"
   ]
  },
  {
   "cell_type": "markdown",
   "metadata": {
    "slideshow": {
     "slide_type": "fragment"
    }
   },
   "source": [
    "The actual algorithm detects the direction of edges and keeps a pixel only if it has a locally maximal gradient magnitude in the direction _normal to the edge direction_. It doesn't mask pixels _along_ the edge direction since an adjacent edge pixel will be of comparable magnitude.\n"
   ]
  },
  {
   "cell_type": "markdown",
   "metadata": {
    "slideshow": {
     "slide_type": "fragment"
    }
   },
   "source": [
    "The result of the filter is that an edge is only possible if there are no better edges near it.\n"
   ]
  },
  {
   "cell_type": "markdown",
   "metadata": {
    "colab_type": "text",
    "id": "wtcMzSwU4m59",
    "slideshow": {
     "slide_type": "subslide"
    }
   },
   "source": [
    "### Step 4: Hysteresis thresholding\n"
   ]
  },
  {
   "cell_type": "markdown",
   "metadata": {
    "colab_type": "text",
    "id": "OuUJ9ax54m59",
    "slideshow": {
     "slide_type": "fragment"
    }
   },
   "source": [
    "Goal: Prefer pixels that are connected to edges\n"
   ]
  },
  {
   "cell_type": "markdown",
   "metadata": {
    "colab_type": "text",
    "id": "jFfpAPFf4m59",
    "slideshow": {
     "slide_type": "fragment"
    }
   },
   "source": [
    "The final step is the actual decision-making process.\n",
    "\n",
    "Here, we have two parameters: The low threshold and the high threshold. The high threshold sets the gradient value that you _know_ is definitely an edge. The low threshold sets the gradient value that could be an edge, but only if it's connected to a pixel that we know is an edge.\n",
    "\n",
    "These two thresholds are displayed below:\n"
   ]
  },
  {
   "cell_type": "code",
   "execution_count": null,
   "metadata": {
    "colab": {
     "base_uri": "https://localhost:8080/",
     "height": 283
    },
    "colab_type": "code",
    "id": "Y4RqnOF14m59",
    "outputId": "4277fdbf-2db7-4335-f3b3-98054798425c",
    "slideshow": {
     "slide_type": "fragment"
    }
   },
   "outputs": [],
   "source": [
    "low_threshold = 0.2\n",
    "high_threshold = 0.3\n",
    "label_image = np.zeros_like(pixilated)\n",
    "# This uses `gradient_magnitude` which has NOT gone through non-maximal-suppression.\n",
    "label_image[gradient_magnitude > low_threshold] = 1\n",
    "label_image[gradient_magnitude > high_threshold] = 2\n",
    "demo_image = color.label2rgb(\n",
    "    label_image, gradient_magnitude, bg_label=0, colors=(\"yellow\", \"red\")\n",
    ")\n",
    "plt.imshow(demo_image)\n"
   ]
  },
  {
   "cell_type": "markdown",
   "metadata": {
    "colab_type": "text",
    "id": "KqsqweKn4m5_",
    "slideshow": {
     "slide_type": "fragment"
    }
   },
   "source": [
    "The **red points** here are above `high_threshold` and are seed points for edges. The **yellow points** are edges if connected (possibly by other yellow points) to seed points; i.e. isolated groups of yellow points will not be detected as edges.\n"
   ]
  },
  {
   "cell_type": "markdown",
   "metadata": {
    "slideshow": {
     "slide_type": "fragment"
    }
   },
   "source": [
    "Note that the demo above is on the edge image _before_ non-maximal suppression, but in reality, this would be done on the image _after_ non-maximal suppression. There isn't currently an easy way to get at the intermediate result.\n"
   ]
  },
  {
   "cell_type": "markdown",
   "metadata": {
    "colab_type": "text",
    "id": "MZD4R4jR4m5_",
    "slideshow": {
     "slide_type": "slide"
    }
   },
   "source": [
    "## The Canny Edge Detector\n"
   ]
  },
  {
   "cell_type": "markdown",
   "metadata": {
    "colab_type": "text",
    "id": "OeDD54b04m5_",
    "slideshow": {
     "slide_type": "fragment"
    }
   },
   "source": [
    "Now we're ready to look at the actual result:\n"
   ]
  },
  {
   "cell_type": "code",
   "execution_count": null,
   "metadata": {
    "colab": {
     "base_uri": "https://localhost:8080/",
     "height": 323,
     "referenced_widgets": [
      "54ef47896ff644d8ad9af07f2f9245d6",
      "79d03a6fca6d4e1a8e4b241b804e0b2b",
      "0d93afe1bd41467398b7a865aee7886e",
      "7483c24691804ad7866bfd16322b01a2"
     ]
    },
    "colab_type": "code",
    "id": "-2AzTmwB4m5_",
    "outputId": "95d3f571-3936-42f0-cb3e-6db35c9a65ff",
    "slideshow": {
     "slide_type": "fragment"
    }
   },
   "outputs": [],
   "source": [
    "image = data.coins()\n",
    "\n",
    "\n",
    "def canny_demo(**kwargs):\n",
    "    edges = feature.canny(image, **kwargs)\n",
    "    plt.imshow(edges)\n",
    "    plt.show()\n",
    "\n",
    "\n",
    "# As written, the following doesn't actually interact with the\n",
    "# `canny_demo` function. Figure out what you need to add.\n",
    "widgets.interact(\n",
    "    canny_demo,\n",
    ")\n",
    "# <-- add keyword arguments for `canny`\n"
   ]
  },
  {
   "cell_type": "markdown",
   "metadata": {
    "colab_type": "text",
    "id": "oy7QZA_I4m6A",
    "slideshow": {
     "slide_type": "fragment"
    }
   },
   "source": [
    "Play around with the demo above. Make sure to add any keyword arguments to `interact` that might be necessary. (Note that keyword arguments passed to `interact` are passed to `canny_demo` and forwarded to `filter.canny`. So you should be looking at the docstring for `filter.canny` or the discussion above to figure out what to add.)\n"
   ]
  },
  {
   "cell_type": "markdown",
   "metadata": {
    "colab_type": "text",
    "id": "kVpEKVct4m6B",
    "slideshow": {
     "slide_type": "fragment"
    }
   },
   "source": [
    "Can you describe how the low threshold makes a decision about a potential edge, as compared to the high threshold?\n"
   ]
  },
  {
   "cell_type": "markdown",
   "metadata": {
    "colab_type": "text",
    "id": "mKPpHZ0e4m6K",
    "slideshow": {
     "slide_type": "slide"
    }
   },
   "source": [
    "## Hough transforms\n"
   ]
  },
  {
   "cell_type": "markdown",
   "metadata": {
    "colab_type": "text",
    "id": "09SzWHAV4m6K",
    "slideshow": {
     "slide_type": "fragment"
    }
   },
   "source": [
    "Hough transforms are a general class of operations that make up a step in feature detection. Just like we saw with edge detection, Hough transforms produce a result that we can use to detect a feature. (The distinction between the \"filter\" that we used for edge detection and the \"transform\" that we use here is a bit arbitrary.)\n"
   ]
  },
  {
   "cell_type": "markdown",
   "metadata": {
    "colab_type": "text",
    "id": "d_pclt6f4m6K",
    "slideshow": {
     "slide_type": "fragment"
    }
   },
   "source": [
    "### Circle detection\n"
   ]
  },
  {
   "cell_type": "markdown",
   "metadata": {
    "colab_type": "text",
    "id": "XJobG9fr4m6L",
    "slideshow": {
     "slide_type": "fragment"
    }
   },
   "source": [
    "To explore the Hough transform, let's take the _circular_ Hough transform as our example. Let's grab an image with some circles:\n"
   ]
  },
  {
   "cell_type": "code",
   "execution_count": null,
   "metadata": {
    "colab": {
     "base_uri": "https://localhost:8080/",
     "height": 217
    },
    "colab_type": "code",
    "id": "FLGvn9D34m6L",
    "outputId": "fca40221-9fc9-4224-afa7-53807434f2bf",
    "slideshow": {
     "slide_type": "fragment"
    }
   },
   "outputs": [],
   "source": [
    "image = data.coins()[0:95, 180:370]\n",
    "plt.imshow(image)"
   ]
  },
  {
   "cell_type": "markdown",
   "metadata": {
    "colab_type": "text",
    "id": "zulCRRyf4m6M",
    "slideshow": {
     "slide_type": "fragment"
    }
   },
   "source": [
    "We can use the Canny edge filter to get a pretty good representation of these circles:\n"
   ]
  },
  {
   "cell_type": "code",
   "execution_count": null,
   "metadata": {
    "colab": {
     "base_uri": "https://localhost:8080/",
     "height": 217
    },
    "colab_type": "code",
    "id": "z58RhNxl4m6M",
    "outputId": "757461ee-1d72-4206-b9f9-2dc24bad90d3",
    "slideshow": {
     "slide_type": "fragment"
    }
   },
   "outputs": [],
   "source": [
    "edges = feature.canny(image, sigma=3, low_threshold=10, high_threshold=60)\n",
    "plt.imshow(edges)"
   ]
  },
  {
   "cell_type": "markdown",
   "metadata": {
    "colab_type": "text",
    "id": "K8ucKdtF4m6P",
    "slideshow": {
     "slide_type": "fragment"
    }
   },
   "source": [
    "While it looks like we've extracted circles, this doesn't give us much if what we want to do is _measure_ these circles. For example, what are the size and position of the circles in the above image? The edge image doesn't really tell us much about that.\n"
   ]
  },
  {
   "cell_type": "markdown",
   "metadata": {
    "slideshow": {
     "slide_type": "fragment"
    }
   },
   "source": [
    "We'll use the Hough transform to extract circle positions and radii:\n"
   ]
  },
  {
   "cell_type": "code",
   "execution_count": null,
   "metadata": {
    "colab": {},
    "colab_type": "code",
    "id": "D4EFAb_E4m6P",
    "slideshow": {
     "slide_type": "fragment"
    }
   },
   "outputs": [],
   "source": [
    "hough_radii = np.arange(15, 30, 2)\n",
    "hough_response = hough_circle(edges, hough_radii)\n"
   ]
  },
  {
   "cell_type": "markdown",
   "metadata": {
    "colab_type": "text",
    "id": "0KDqmUue4m6Q",
    "slideshow": {
     "slide_type": "fragment"
    }
   },
   "source": [
    "Here, the circular Hough transform actually uses the edge image from before. We also have to define the radii that we want to search for in our image.\n",
    "\n",
    "So... what's the actual result that we get back?\n"
   ]
  },
  {
   "cell_type": "code",
   "execution_count": null,
   "metadata": {
    "colab": {
     "base_uri": "https://localhost:8080/",
     "height": 34
    },
    "colab_type": "code",
    "id": "SJefWZ664m6Q",
    "outputId": "4a80d1b9-dc1c-470a-d589-af88ceb8bb45",
    "slideshow": {
     "slide_type": "fragment"
    }
   },
   "outputs": [],
   "source": [
    "print(edges.shape, hough_response.shape)\n"
   ]
  },
  {
   "cell_type": "markdown",
   "metadata": {
    "colab_type": "text",
    "id": "FQ0FUBgM4m6R",
    "slideshow": {
     "slide_type": "fragment"
    }
   },
   "source": [
    "We can see that the last two dimensions of the response are exactly the same as the original image, so the response is image-like. Then what does the first dimension correspond to?\n"
   ]
  },
  {
   "cell_type": "markdown",
   "metadata": {
    "slideshow": {
     "slide_type": "subslide"
    }
   },
   "source": [
    "As always, you can get a better feel for the result by plotting it:\n"
   ]
  },
  {
   "cell_type": "code",
   "execution_count": null,
   "metadata": {
    "colab": {
     "base_uri": "https://localhost:8080/",
     "height": 250,
     "referenced_widgets": [
      "4ef9f8d8bb9941e08b83eb77a0eac760",
      "bcd2fe9f8ca44cab9f38c01329c6880d",
      "8fe102a0ce494502b444a95792e3a799",
      "eef6dc1c563c4f59a4087e8d1ae3e22b",
      "27f11a8bfebf460ea6869767e1678059",
      "37ffb23b964b4bbc99e823f75718acf3",
      "5dee1ab8cf1b45b5a8ec9f728497463d"
     ]
    },
    "colab_type": "code",
    "id": "xwSeyNCn4m6R",
    "outputId": "58ae6c64-6c50-418d-e76a-70c725cd6f2b",
    "slideshow": {
     "slide_type": "fragment"
    }
   },
   "outputs": [],
   "source": [
    "# Use max value to intelligently rescale the data for plotting.\n",
    "h_max = hough_response.max()\n",
    "\n",
    "\n",
    "def hough_responses_demo(i):\n",
    "    # Use `plt.title` to add a meaningful title for each index.\n",
    "    plt.imshow(hough_response[i, :, :], vmax=h_max * 0.5)\n",
    "    plt.show()\n",
    "\n",
    "\n",
    "widgets.interact(hough_responses_demo, i=(0, len(hough_response) - 1))\n"
   ]
  },
  {
   "cell_type": "markdown",
   "metadata": {
    "colab_type": "text",
    "id": "jAwNPp8x4m6S",
    "slideshow": {
     "slide_type": "fragment"
    }
   },
   "source": [
    "Playing around with the slider should give you a pretty good feel for the result.\n"
   ]
  },
  {
   "cell_type": "markdown",
   "metadata": {
    "slideshow": {
     "slide_type": "fragment"
    }
   },
   "source": [
    "This Hough transforms simply counts the pixels in a thin (as opposed to filled) circular mask. Since the input is an edge image, the response is strongest when the center of the circular mask lies at the center of a circle with the same radius.\n"
   ]
  },
  {
   "cell_type": "markdown",
   "metadata": {
    "colab_type": "text",
    "id": "iml8h8284m6U",
    "slideshow": {
     "slide_type": "slide"
    }
   },
   "source": [
    "## Further reading\n"
   ]
  },
  {
   "cell_type": "markdown",
   "metadata": {
    "colab_type": "text",
    "id": "s7GSJlgZ4m6V",
    "slideshow": {
     "slide_type": "fragment"
    }
   },
   "source": [
    "### Interest point detection\n"
   ]
  },
  {
   "cell_type": "markdown",
   "metadata": {
    "colab_type": "text",
    "id": "pgxpUxGs4m6V",
    "slideshow": {
     "slide_type": "fragment"
    }
   },
   "source": [
    "We've only skimmed the surface of what might be classified as \"feature detection\". One major area that we haven't covered is called [interest point detection](http://en.wikipedia.org/wiki/Interest_point_detection). Here, we don't even need to know what we're looking for, we just identify small patches (centered on a pixel) that are \"distinct\". (The definition of \"distinct\" varies by algorithm; e.g., the Harris corner detector defines interest points as corners.) These distinct points can then be used to, e.g., compare with distinct points in other images.\n"
   ]
  },
  {
   "cell_type": "markdown",
   "metadata": {
    "slideshow": {
     "slide_type": "fragment"
    }
   },
   "source": [
    "One common use of interest point detection is for image registration, in which we align (i.e. \"register\") images based on interest points. Here's an example of the [CENSURE feature detector from the gallery](http://scikit-image.org/docs/dev/auto_examples/plot_censure.html):\n"
   ]
  },
  {
   "cell_type": "markdown",
   "metadata": {
    "colab": {
     "base_uri": "https://localhost:8080/",
     "height": 416
    },
    "colab_type": "code",
    "id": "20UlCIxN4m6V",
    "outputId": "a895be27-511c-4bbd-b9d2-aba025121e6e",
    "slideshow": {
     "slide_type": "fragment"
    }
   },
   "source": [
    "![](./images/censure_example.png)\n"
   ]
  },
  {
   "cell_type": "markdown",
   "metadata": {
    "colab_type": "text",
    "id": "f2fqOyoQ4m6W",
    "slideshow": {
     "slide_type": "fragment"
    }
   },
   "source": [
    "- [Probabilistic Hough transform](http://scikit-image.org/docs/dev/auto_examples/plot_line_hough_transform.html)\n",
    "- [Circular and elliptical Hough transforms](http://scikit-image.org/docs/dev/auto_examples/plot_circular_elliptical_hough_transform.html)\n",
    "- [Template matching](http://scikit-image.org/docs/dev/auto_examples/plot_template.html)\n",
    "- [Histogram of Oriented Gradients](http://scikit-image.org/docs/dev/auto_examples/plot_hog.html)\n",
    "- [BRIEF](http://scikit-image.org/docs/dev/auto_examples/plot_brief.html), [CENSURE](http://scikit-image.org/docs/dev/auto_examples/plot_censure.html), and [ORB](http://scikit-image.org/docs/dev/auto_examples/plot_orb.html) feature detectors/descriptors\n",
    "- [Robust matching using RANSAC](http://scikit-image.org/docs/dev/auto_examples/plot_matching.html)\n"
   ]
  },
  {
   "cell_type": "markdown",
   "metadata": {
    "colab_type": "text",
    "id": "PlaZIHiXN2yw",
    "slideshow": {
     "slide_type": "subslide"
    }
   },
   "source": [
    "## A Real Segmentation Example\n"
   ]
  },
  {
   "cell_type": "markdown",
   "metadata": {
    "slideshow": {
     "slide_type": "fragment"
    }
   },
   "source": [
    "### Diatom analysis\n",
    "\n",
    "See https://www.nature.com/articles/s41524-019-0202-3:\n",
    "\n",
    "\\*_Deep data analytics for genetic engineering of diatoms linking genotype to phenotype via machine learning_\n",
    "\n",
    "Artem A. Trofimov, Alison A. Pawlicki, Nikolay Borodinov, Shovon Mandal, Teresa J. Mathews, Mark Hildebrand, Maxim A. Ziatdinov, Katherine A. Hausladen, Paulina K. Urbanowicz, Chad A. Steed, Anton V. Ievlev, Alex Belianinov, Joshua K. Michener, Rama Vasudevan, and Olga S. Ovchinnikova.\n"
   ]
  },
  {
   "cell_type": "code",
   "execution_count": null,
   "metadata": {
    "colab": {},
    "colab_type": "code",
    "id": "OE_ifTf6N2y0",
    "slideshow": {
     "slide_type": "fragment"
    }
   },
   "outputs": [],
   "source": [
    "# Set up matplotlib defaults: larger images, gray color map\n",
    "import matplotlib\n",
    "\n",
    "matplotlib.rcParams.update({\"figure.figsize\": (10, 10), \"image.cmap\": \"gray\"})\n"
   ]
  },
  {
   "cell_type": "markdown",
   "metadata": {
    "slideshow": {
     "slide_type": "subslide"
    }
   },
   "source": [
    "### Load and Visualize the Data\n"
   ]
  },
  {
   "cell_type": "code",
   "execution_count": null,
   "metadata": {
    "colab": {
     "base_uri": "https://localhost:8080/",
     "height": 267
    },
    "colab_type": "code",
    "id": "Nj4UZpW4N2y3",
    "outputId": "4f9ae857-42ea-4956-fa54-48029e543398",
    "slideshow": {
     "slide_type": "fragment"
    }
   },
   "outputs": [],
   "source": [
    "# reads the image from a file\n",
    "image = io.imread(\n",
    "    \"https://raw.githubusercontent.com/jagar2/Fall_2022_MEM_T680Data_Analysis_and_Machine_Learning/main/jupyterbook/Topic_6/data/diatom-wild-000.jpg\"\n",
    ")\n",
    "\n",
    "# shows the image\n",
    "plt.imshow(image)"
   ]
  },
  {
   "cell_type": "code",
   "execution_count": null,
   "metadata": {
    "colab": {
     "base_uri": "https://localhost:8080/",
     "height": 267
    },
    "colab_type": "code",
    "id": "qqi8Y5L3N2y6",
    "outputId": "13717c63-81cf-4901-e123-9354a89acf7a",
    "slideshow": {
     "slide_type": "subslide"
    }
   },
   "outputs": [],
   "source": [
    "# This just crops the bottom bar that is useless\n",
    "pores = image[:690, :]\n",
    "\n",
    "plt.imshow(pores)"
   ]
  },
  {
   "cell_type": "code",
   "execution_count": null,
   "metadata": {
    "colab": {},
    "colab_type": "code",
    "id": "dlsOBwBDN2y8",
    "slideshow": {
     "slide_type": "subslide"
    }
   },
   "outputs": [],
   "source": [
    "# applies a median filter.\n",
    "# Median filters remove speckles\n",
    "denoised = ndi.median_filter(util.img_as_float(pores), size=3)\n",
    "\n",
    "# shows the denoised image\n",
    "plt.imshow(denoised)"
   ]
  },
  {
   "cell_type": "code",
   "execution_count": null,
   "metadata": {
    "colab": {
     "base_uri": "https://localhost:8080/",
     "height": 267
    },
    "colab_type": "code",
    "id": "3DpsQwebN2zD",
    "outputId": "8ce2c5c3-fd2b-403c-be72-addb069ae00e",
    "slideshow": {
     "slide_type": "subslide"
    }
   },
   "outputs": [],
   "source": [
    "# adjusts the exposure\n",
    "pores_gamma = exposure.adjust_gamma(denoised, 0.7)\n",
    "plt.imshow(pores_gamma)"
   ]
  },
  {
   "cell_type": "code",
   "execution_count": null,
   "metadata": {
    "colab": {
     "base_uri": "https://localhost:8080/",
     "height": 267
    },
    "colab_type": "code",
    "id": "MasAnSWAN2zG",
    "outputId": "82b11113-7301-4e9f-fb58-2b1be430d9fb",
    "slideshow": {
     "slide_type": "subslide"
    }
   },
   "outputs": [],
   "source": [
    "# inverts the image so the pores are more visible\n",
    "pores_inv = 1 - pores_gamma\n",
    "plt.imshow(pores_inv)"
   ]
  },
  {
   "cell_type": "code",
   "execution_count": null,
   "metadata": {
    "colab": {
     "base_uri": "https://localhost:8080/",
     "height": 267
    },
    "colab_type": "code",
    "id": "Z5zBqBG0N2zI",
    "outputId": "4bfd6b30-4188-4ff3-e707-0bca2e77b15f",
    "slideshow": {
     "slide_type": "subslide"
    }
   },
   "outputs": [],
   "source": [
    "# This is the problematic part of the manual pipeline: you need\n",
    "# a good segmentation.  There are algorithms for automatic thresholding,\n",
    "# such as `filters.otsu` and `filters.li`, but they don't always get the\n",
    "# result you want.\n",
    "\n",
    "t = 0.45\n",
    "thresholded = pores_gamma <= t\n",
    "\n",
    "plt.imshow(thresholded)"
   ]
  },
  {
   "cell_type": "code",
   "execution_count": null,
   "metadata": {
    "colab": {
     "base_uri": "https://localhost:8080/",
     "height": 1000
    },
    "colab_type": "code",
    "id": "wJgLIHAcN2zL",
    "outputId": "b236e4b4-969e-4e24-9111-a7102410eff2",
    "slideshow": {
     "slide_type": "subslide"
    }
   },
   "outputs": [],
   "source": [
    "# Utility function that tries a range of automatic thresholding approaches\n",
    "filters.try_all_threshold(pores_gamma, figsize=(15, 20))"
   ]
  },
  {
   "cell_type": "code",
   "execution_count": null,
   "metadata": {
    "colab": {
     "base_uri": "https://localhost:8080/",
     "height": 280
    },
    "colab_type": "code",
    "id": "EI6hQZa5N2zQ",
    "outputId": "a8ef8ab0-b52a-4da5-effe-f62659e14102",
    "slideshow": {
     "slide_type": "subslide"
    }
   },
   "outputs": [],
   "source": [
    "# computes the distance from the background based on the thresholded image\n",
    "distance = ndi.distance_transform_edt(thresholded)\n",
    "\n",
    "# adjusts the gamma and plots it\n",
    "plt.imshow(exposure.adjust_gamma(distance, 0.5))\n",
    "plt.title(\"Distance to background map\")"
   ]
  },
  {
   "cell_type": "code",
   "execution_count": null,
   "metadata": {
    "colab": {
     "base_uri": "https://localhost:8080/",
     "height": 803
    },
    "colab_type": "code",
    "id": "wKwtaK9gN2zU",
    "outputId": "64af9a6b-39d6-4e52-e7d4-c22116b96d65",
    "slideshow": {
     "slide_type": "subslide"
    }
   },
   "outputs": [],
   "source": [
    "# finds the local maximum (this is the point furthest from the boundary for each object)\n",
    "local_maxima = morphology.local_maxima(distance)\n",
    "\n",
    "fig, ax = plt.subplots(figsize=(20, 20))\n",
    "\n",
    "# finds the points where there is a non-zero local max\n",
    "maxi_coords = np.nonzero(local_maxima)\n",
    "\n",
    "# Finds the pores and marks them.\n",
    "ax.imshow(pores)\n",
    "plt.scatter(maxi_coords[1], maxi_coords[0])"
   ]
  },
  {
   "cell_type": "code",
   "execution_count": null,
   "metadata": {
    "colab": {},
    "colab_type": "code",
    "id": "AFvNY8C3N2zX",
    "slideshow": {
     "slide_type": "subslide"
    }
   },
   "outputs": [],
   "source": [
    "# This is a utility function that we'll use for display in a while;\n",
    "# you can ignore it for now and come and investigate later.\n",
    "\n",
    "\n",
    "def shuffle_labels(labels):\n",
    "    \"\"\"Shuffle the labels so that they are no longer in order.\n",
    "    This helps with visualization.\n",
    "    \"\"\"\n",
    "    indices = np.unique(labels[labels != 0])\n",
    "    indices = np.append([0], np.random.permutation(indices))\n",
    "    return indices[labels]\n"
   ]
  },
  {
   "cell_type": "code",
   "execution_count": null,
   "metadata": {
    "colab": {},
    "colab_type": "code",
    "id": "IAD7QtI-N2zZ",
    "slideshow": {
     "slide_type": "fragment"
    }
   },
   "outputs": [],
   "source": [
    "# labels the local maximum interactively\n",
    "markers = ndi.label(local_maxima)[0]\n",
    "# does a watershed segmentation. Look at the documentation for details\n",
    "# essentially fills in the image with \"water\" from the marker points.\n",
    "labels = segmentation.watershed(denoised, markers)\n"
   ]
  },
  {
   "cell_type": "code",
   "execution_count": null,
   "metadata": {
    "colab": {
     "base_uri": "https://localhost:8080/",
     "height": 272
    },
    "colab_type": "code",
    "id": "z1OJrwa4N2zb",
    "outputId": "2bc5d015-bae3-4295-d97b-3c6fc2e3308f",
    "slideshow": {
     "slide_type": "fragment"
    }
   },
   "outputs": [],
   "source": [
    "f, (ax0, ax1, ax2) = plt.subplots(1, 3, figsize=(20, 5))\n",
    "\n",
    "# plots the thresholded image\n",
    "ax0.imshow(thresholded)\n",
    "# plots the distance image in log scale\n",
    "ax1.imshow(np.log(1 + distance))\n",
    "# plots the watershed segments\n",
    "ax2.imshow(shuffle_labels(labels), cmap=\"magma\")"
   ]
  },
  {
   "cell_type": "code",
   "execution_count": null,
   "metadata": {
    "colab": {},
    "colab_type": "code",
    "id": "NWrAGbygN2ze",
    "slideshow": {
     "slide_type": "subslide"
    }
   },
   "outputs": [],
   "source": [
    "# small modification on the watershed\n",
    "labels_masked = segmentation.watershed(\n",
    "    thresholded, markers, mask=thresholded, connectivity=2\n",
    ")\n"
   ]
  },
  {
   "cell_type": "code",
   "execution_count": null,
   "metadata": {
    "colab": {
     "base_uri": "https://localhost:8080/",
     "height": 272
    },
    "colab_type": "code",
    "id": "I1zUWa-iN2zg",
    "outputId": "b704396a-5bff-4546-e029-ed49a08ff648",
    "slideshow": {
     "slide_type": "fragment"
    }
   },
   "outputs": [],
   "source": [
    "f, (ax0, ax1, ax2) = plt.subplots(1, 3, figsize=(20, 5))\n",
    "ax0.imshow(thresholded)\n",
    "ax1.imshow(np.log(1 + distance))\n",
    "ax2.imshow(shuffle_labels(labels_masked), cmap=\"magma\")"
   ]
  },
  {
   "cell_type": "code",
   "execution_count": null,
   "metadata": {
    "colab": {
     "base_uri": "https://localhost:8080/",
     "height": 267
    },
    "colab_type": "code",
    "id": "I_x7CfDzN2zi",
    "outputId": "de542b3a-f0ba-4291-89fb-154493ae60ca",
    "slideshow": {
     "slide_type": "subslide"
    }
   },
   "outputs": [],
   "source": [
    "# finds all of the contours and labels them.\n",
    "\n",
    "contours = measure.find_contours(labels_masked, level=0.5)\n",
    "plt.imshow(pores)\n",
    "for c in contours:\n",
    "    plt.plot(c[:, 1], c[:, 0])\n"
   ]
  },
  {
   "cell_type": "code",
   "execution_count": null,
   "metadata": {
    "colab": {},
    "colab_type": "code",
    "id": "N388BKlSN2zk",
    "slideshow": {
     "slide_type": "subslide"
    }
   },
   "outputs": [],
   "source": [
    "# Computes all of the region properties.\n",
    "# you can look at the full list or region properties in the documentation\n",
    "regions = measure.regionprops(labels_masked)"
   ]
  },
  {
   "cell_type": "code",
   "execution_count": null,
   "metadata": {
    "slideshow": {
     "slide_type": "fragment"
    }
   },
   "outputs": [],
   "source": [
    "# Shows all the methods of the class\n",
    "print(dir(regions[0]))\n"
   ]
  },
  {
   "cell_type": "code",
   "execution_count": null,
   "metadata": {
    "colab": {
     "base_uri": "https://localhost:8080/",
     "height": 211
    },
    "colab_type": "code",
    "id": "ujXTH2dQN2zm",
    "outputId": "e3da0f44-051b-4d79-96bb-04fab431e893",
    "slideshow": {
     "slide_type": "fragment"
    }
   },
   "outputs": [],
   "source": [
    "# Plots an example histogram showing the distribution in the area size.\n",
    "f, ax = plt.subplots(figsize=(10, 3))\n",
    "ax.hist([r.area for r in regions], bins=100, range=(0, 200))"
   ]
  },
  {
   "cell_type": "code",
   "execution_count": null,
   "metadata": {},
   "outputs": [],
   "source": []
  }
 ],
 "metadata": {
  "celltoolbar": "Slideshow",
  "colab": {
   "collapsed_sections": [],
   "name": "Image_Analysis_Lecture_Notes",
   "provenance": [],
   "toc_visible": true
  },
  "kernelspec": {
   "display_name": "Python 3",
   "language": "python",
   "name": "python3"
  },
  "language_info": {
   "codemirror_mode": {
    "name": "ipython",
    "version": 3
   },
   "file_extension": ".py",
   "mimetype": "text/x-python",
   "name": "python",
   "nbconvert_exporter": "python",
   "pygments_lexer": "ipython3",
   "version": "3.11.9"
  }
 },
 "nbformat": 4,
 "nbformat_minor": 1
}
