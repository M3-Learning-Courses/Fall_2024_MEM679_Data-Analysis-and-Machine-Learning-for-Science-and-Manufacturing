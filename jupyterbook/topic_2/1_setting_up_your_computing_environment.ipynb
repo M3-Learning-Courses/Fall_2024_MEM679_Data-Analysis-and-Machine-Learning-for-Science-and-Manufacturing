{
 "cells": [
  {
   "cell_type": "markdown",
   "metadata": {
    "slideshow": {
     "slide_type": "slide"
    }
   },
   "source": [
    "# Setting up your Computing Environment\n",
    "\n",
    "Python is highly flexible. Thus there are many good ways to set up your computing environment. However, each has its advantages and disadvantages.\n"
   ]
  },
  {
   "cell_type": "markdown",
   "metadata": {
    "slideshow": {
     "slide_type": "slide"
    }
   },
   "source": [
    "## Introduction to the JupyterLab and Jupyter Notebooks\n",
    "\n",
    "This is a short introduction to two flagship tools created by [the Jupyter Community](https://jupyter.org).\n"
   ]
  },
  {
   "cell_type": "markdown",
   "metadata": {
    "slideshow": {
     "slide_type": "subslide"
    }
   },
   "source": [
    "### JupyterLab 🧪\n",
    "\n",
    "**JupyterLab** is a next-generation web-based user interface for Project Jupyter. It enables you to work with documents and activities such as Jupyter notebooks, text editors, terminals, and custom components in a flexible, integrated, and extensible manner. It is the interface that you're looking at right now.\n",
    "\n",
    "> **See Also**: For a more in-depth tour of JupyterLab with a full environment that runs in the cloud, see [the JupyterLab introduction on Binder](https://mybinder.org/v2/gh/jupyterlab/jupyterlab-demo/HEAD?urlpath=lab/tree/demo).\n"
   ]
  },
  {
   "cell_type": "markdown",
   "metadata": {
    "slideshow": {
     "slide_type": "subslide"
    }
   },
   "source": [
    "### Jupyter Notebooks 📓\n",
    "\n",
    "**Jupyter Notebooks** are a community standard for communicating and performing interactive computing. They are documents that blend computations, outputs, explanatory text, mathematics, images, and rich media representations of objects.\n",
    "\n",
    "JupyterLab is one interface used to create and interact with Jupyter Notebooks.\n"
   ]
  },
  {
   "cell_type": "markdown",
   "metadata": {
    "slideshow": {
     "slide_type": "fragment"
    }
   },
   "source": [
    "In this course, we will primarily use Jupyter Notebooks as an interface. Jupyter is extremely powerful. All the content in this course (including the book) was built with Jupyter. We will discuss more using Jupyter later. First, we need a way to access Jupyter.\n"
   ]
  },
  {
   "cell_type": "markdown",
   "metadata": {
    "slideshow": {
     "slide_type": "slide"
    }
   },
   "source": [
    "## Google Colab\n",
    "\n",
    "### What is Colab?\n",
    "\n",
    "Colab, or \"Colaboratory\", allows you to write and execute Python in your browser, with\n",
    "\n",
    "- Zero configuration required\n",
    "- Access to GPUs free of charge\n",
    "- Easy sharing\n",
    "\n",
    "Whether you're a **student**, a **data scientist**, or an **AI researcher**, Colab can make your work easier. Watch [Introduction to Colab](https://www.youtube.com/watch?v=inN8seMm7UI) to learn more.\n"
   ]
  },
  {
   "cell_type": "markdown",
   "metadata": {
    "slideshow": {
     "slide_type": "fragment"
    }
   },
   "source": [
    "### Advantages:\n",
    "\n",
    "- You can go to [colab](https://colab.research.google.com/), and you are off to the races\n"
   ]
  },
  {
   "cell_type": "markdown",
   "metadata": {
    "slideshow": {
     "slide_type": "fragment"
    }
   },
   "source": [
    "- The interface works like google docs; there are good autosaving and collaboration features\n"
   ]
  },
  {
   "cell_type": "markdown",
   "metadata": {
    "slideshow": {
     "slide_type": "fragment"
    }
   },
   "source": [
    "- The interface is a standard jupyter notebook; files are fully-interoperable with other platforms\n"
   ]
  },
  {
   "cell_type": "markdown",
   "metadata": {
    "slideshow": {
     "slide_type": "fragment"
    }
   },
   "source": [
    "- The interface is a standard jupyter notebook; files are fully-interoperable with other platforms\n"
   ]
  },
  {
   "cell_type": "markdown",
   "metadata": {
    "slideshow": {
     "slide_type": "fragment"
    }
   },
   "source": [
    "- Many of the essential software packages are pre-installed; you can also install your packages\n"
   ]
  },
  {
   "cell_type": "markdown",
   "metadata": {
    "slideshow": {
     "slide_type": "fragment"
    }
   },
   "source": [
    "- Google provides you free access to a decent GPU for machine learning applications\n"
   ]
  },
  {
   "cell_type": "markdown",
   "metadata": {
    "slideshow": {
     "slide_type": "fragment"
    }
   },
   "source": [
    "- Since all the computation happens on google's servers, you can run colab on any device, even a cellphone\n"
   ]
  },
  {
   "cell_type": "markdown",
   "metadata": {
    "slideshow": {
     "slide_type": "fragment"
    }
   },
   "source": [
    "### Disadvantages:\n",
    "\n",
    "- Limited access to the command line interface\n"
   ]
  },
  {
   "cell_type": "markdown",
   "metadata": {
    "slideshow": {
     "slide_type": "fragment"
    }
   },
   "source": [
    "- The file system is either temporary or restricted to google drive\n"
   ]
  },
  {
   "cell_type": "markdown",
   "metadata": {
    "slideshow": {
     "slide_type": "fragment"
    }
   },
   "source": [
    "- Requires a Google account\n"
   ]
  },
  {
   "cell_type": "markdown",
   "metadata": {
    "slideshow": {
     "slide_type": "fragment"
    }
   },
   "source": [
    "- A limited number of active sessions per user\n"
   ]
  },
  {
   "cell_type": "markdown",
   "metadata": {
    "slideshow": {
     "slide_type": "fragment"
    }
   },
   "source": [
    "- Provides limited CPU cores\n"
   ]
  },
  {
   "cell_type": "markdown",
   "metadata": {
    "slideshow": {
     "slide_type": "fragment"
    }
   },
   "source": [
    "- Has built-in timeouts (premium services can improve this)\n"
   ]
  },
  {
   "cell_type": "markdown",
   "metadata": {
    "slideshow": {
     "slide_type": "fragment"
    }
   },
   "source": [
    "- Limited access to the terminal and interactive python functionalities\n"
   ]
  },
  {
   "cell_type": "markdown",
   "metadata": {
    "slideshow": {
     "slide_type": "slide"
    }
   },
   "source": [
    "## JupyterHub\n",
    "\n",
    "If you have a server, you can set up JupyterHub. This is hosting for a python instance with preconfigured environments.\n"
   ]
  },
  {
   "cell_type": "markdown",
   "metadata": {
    "slideshow": {
     "slide_type": "fragment"
    }
   },
   "source": [
    "We have set up a JupyterHub. To access JupyterHub.\n",
    "\n",
    "1. The JupyterHub can be accessed at [JupyterHub](https://jupyterhub-west.nrp-nautilus.io/) .You will just need to login with your Drexel ID.\n",
    "\n",
    "> **TIP**: You can also click the rocketship icon to bring the current notebook in JupyterBook into JupyterHub.\n",
    "\n",
    "![](./figs/rocket_ship.png)\n"
   ]
  },
  {
   "cell_type": "markdown",
   "metadata": {},
   "source": [
    "2. Once up and running, you will have access to a JupyterLab instance\n"
   ]
  },
  {
   "cell_type": "markdown",
   "metadata": {
    "slideshow": {
     "slide_type": "fragment"
    }
   },
   "source": [
    "### Advantages:\n",
    "\n",
    "- This is a standard Jupyter interface accessible from a web browsers\n"
   ]
  },
  {
   "cell_type": "markdown",
   "metadata": {
    "slideshow": {
     "slide_type": "fragment"
    }
   },
   "source": [
    "- Can configure the computing resources to your needs\n"
   ]
  },
  {
   "cell_type": "markdown",
   "metadata": {
    "slideshow": {
     "slide_type": "fragment"
    }
   },
   "source": [
    "- Can be configured with custom packages installed\n"
   ]
  },
  {
   "cell_type": "markdown",
   "metadata": {
    "slideshow": {
     "slide_type": "fragment"
    }
   },
   "source": [
    "- Provides sufficient command line and file system access\n"
   ]
  },
  {
   "cell_type": "markdown",
   "metadata": {
    "slideshow": {
     "slide_type": "fragment"
    }
   },
   "source": [
    "- Can provide burstable computational capabilities\n"
   ]
  },
  {
   "cell_type": "markdown",
   "metadata": {
    "slideshow": {
     "slide_type": "fragment"
    }
   },
   "source": [
    "### Disadvantages\n",
    "\n",
    "- Restricted to the web browser, independent graphical applications cannot be used.\n",
    "\n",
    "- The server is hosted on Nautilus, and thus Drexel only approves it for Open Data.\n",
    "\n",
    "- If you login to this server with your Drexel ID, your Drexel ID will be recorded in the server logs. This is considered FERPA data. If you choose to use this server you are agreeing to this limited FERPA data being stored on this server. If this is a concern for you we can find an alternative solution.\n"
   ]
  },
  {
   "cell_type": "markdown",
   "metadata": {
    "slideshow": {
     "slide_type": "slide"
    }
   },
   "source": [
    "## Local Jupyter\n"
   ]
  },
  {
   "cell_type": "markdown",
   "metadata": {
    "slideshow": {
     "slide_type": "fragment"
    }
   },
   "source": [
    "To run Jupyter Notebook, you can type `jupyter notebook` in the Anaconda Prompt. If you want to run JupyterLab you can type `jupyter lab`\n"
   ]
  },
  {
   "cell_type": "markdown",
   "metadata": {
    "slideshow": {
     "slide_type": "subslide"
    }
   },
   "source": [
    "### Advantages:\n",
    "\n",
    "- You are in complete control of your Python environment\n"
   ]
  },
  {
   "cell_type": "markdown",
   "metadata": {
    "slideshow": {
     "slide_type": "fragment"
    }
   },
   "source": [
    "- All features are available\n"
   ]
  },
  {
   "cell_type": "markdown",
   "metadata": {
    "slideshow": {
     "slide_type": "fragment"
    }
   },
   "source": [
    "- You can install packages (this is rare) that require admin access\n"
   ]
  },
  {
   "cell_type": "markdown",
   "metadata": {
    "slideshow": {
     "slide_type": "fragment"
    }
   },
   "source": [
    "- You have access to your file system\n"
   ]
  },
  {
   "cell_type": "markdown",
   "metadata": {
    "slideshow": {
     "slide_type": "fragment"
    }
   },
   "source": [
    "- You have all the computing capabilities you can afford.\n"
   ]
  },
  {
   "cell_type": "markdown",
   "metadata": {
    "slideshow": {
     "slide_type": "fragment"
    }
   },
   "source": [
    "### Disadvantages\n",
    "\n",
    "- You can do things (if you copy-paste commands blindly from online sites) that can mess up your python instance or mess with apps on your computer\n"
   ]
  },
  {
   "cell_type": "markdown",
   "metadata": {
    "slideshow": {
     "slide_type": "fragment"
    }
   },
   "source": [
    "- You have to manage your Python environment\n",
    "  For detailed instructions on setting up your Python environment, refer to [Installing a Python Interpreter](./2_Installing_a_python_interpreter).\n"
   ]
  },
  {
   "cell_type": "markdown",
   "metadata": {
    "slideshow": {
     "slide_type": "fragment"
    }
   },
   "source": [
    "- You have to work on the command line\n"
   ]
  },
  {
   "cell_type": "markdown",
   "metadata": {
    "slideshow": {
     "slide_type": "fragment"
    }
   },
   "source": [
    "- You have to use your computing resources - Most people today rely on laptops as their primary computers. These rarely have GPUs for machine learning. If they do, it will burn through your battery fast.\n"
   ]
  },
  {
   "cell_type": "markdown",
   "metadata": {
    "slideshow": {
     "slide_type": "slide"
    }
   },
   "source": [
    "## Visual Studio Code (or Interactive Development Environments)\n"
   ]
  },
  {
   "cell_type": "markdown",
   "metadata": {
    "slideshow": {
     "slide_type": "fragment"
    }
   },
   "source": [
    "Visual Studio Code (VSCode) is a lightweight, extensible IDE that has gained significant traction among Python developers. Below are some of the key advantages and disadvantages of using VSCode for Python development.\n"
   ]
  },
  {
   "cell_type": "markdown",
   "metadata": {
    "slideshow": {
     "slide_type": "subslide"
    }
   },
   "source": [
    "### Advantages:\n",
    "\n",
    "1. **Language Server Protocol Integration**: VSCode leverages Microsoft's Python Language Server, which enhances capabilities such as IntelliSense, code navigation, and refactoring. This feature benefits from static and dynamic analysis to provide accurate autocompletions, real-time function signatures, and variable types, aiding in the development of Pythonic code with higher efficiency and fewer errors.\n"
   ]
  },
  {
   "cell_type": "markdown",
   "metadata": {
    "slideshow": {
     "slide_type": "fragment"
    }
   },
   "source": [
    "2. **Debugger Flexibility**: VSCode's Python debugger supports various configurations like remote debugging, debugging within Jupyter notebooks, and conditional breakpoints. It's highly configurable through `launch.json` and integrates well with other Python tools like `pytest` for test debugging.\n"
   ]
  },
  {
   "cell_type": "markdown",
   "metadata": {
    "slideshow": {
     "slide_type": "fragment"
    }
   },
   "source": [
    "3. **Rich Extension Ecosystem**: The marketplace for VSCode extensions is robust and offers a wide variety of Python-specific extensions like Python Docstring Generator, Kite, and Jupyter support. This allows customization tailored to specific project needs or workflows, such as data science or machine learning tasks.\n"
   ]
  },
  {
   "cell_type": "markdown",
   "metadata": {
    "slideshow": {
     "slide_type": "fragment"
    }
   },
   "source": [
    "4. **Git Integration and DevOps**: VSCode has built-in Git support, which is especially useful for version control in Python projects. It also integrates well with CI/CD pipelines and offers extensions for containerization (e.g., Docker) and cloud deployments, providing a unified environment for the entire DevOps lifecycle.\n"
   ]
  },
  {
   "cell_type": "markdown",
   "metadata": {
    "slideshow": {
     "slide_type": "subslide"
    }
   },
   "source": [
    "### Disadvantages:\n",
    "\n",
    "1. **Initial Configuration Complexity**: While VSCode is extensible, the initial setup for Python development (e.g., selecting the correct interpreter, installing linters and formatters like `flake8` or `black`) can be complex. The `settings.json` can become convoluted quickly, particularly for large projects or polyglot environments.\n"
   ]
  },
  {
   "cell_type": "markdown",
   "metadata": {
    "slideshow": {
     "slide_type": "subslide"
    }
   },
   "source": [
    "2. **Resource Usage for Extensions**: As you add more extensions, the resource consumption can increase significantly. This is particularly important for Python projects that already require substantial computational resources for tasks like data analysis or machine learning model training.\n"
   ]
  },
  {
   "cell_type": "markdown",
   "metadata": {
    "slideshow": {
     "slide_type": "subslide"
    }
   },
   "source": [
    "3. **Overhead in Multi-environment Management**: While VSCode supports Python virtual environments, managing multiple environments for different Python projects can become cumbersome. This can lead to issues like package conflicts and interpreter selection problems, especially when dealing with complex dependencies in scientific computing or data science projects.\n"
   ]
  },
  {
   "cell_type": "markdown",
   "metadata": {
    "slideshow": {
     "slide_type": "slide"
    }
   },
   "source": [
    "## Recommendations\n",
    "\n",
    "It is up to you and your comfort level what tools you use in this course. However, I recommend the following:\n"
   ]
  },
  {
   "cell_type": "markdown",
   "metadata": {
    "slideshow": {
     "slide_type": "fragment"
    }
   },
   "source": [
    "1. I would recommend you set up your own instance in VSCode. This will give you the most flexibility, and can grow with you as you learn more about Python.\n",
    "2. If you are tinkering around Google Colab and Jupyter can be convenient. They are great for testing, but not great for research.\n",
    "3. If you are working on a project that requires a lot of computing power, I would recommend using the JupyterHub. This will give you the most computing power and flexibility. If you have privacy concernts or need more computing power we can find alternative arangements using Drexels computing resources.\n"
   ]
  },
  {
   "cell_type": "markdown",
   "metadata": {
    "slideshow": {
     "slide_type": "fragment"
    }
   },
   "source": [
    "If your project is related to research and you require additional computing capabilities, other options exist:\n",
    "\n",
    "1. You can pay for cloud services through Google, Azure, AWS, etc.\n",
    "1. URCF has GPUs resources that can be used for a fee\n",
    "1. You can talk with me, and I might have some additional GPU resources available\n"
   ]
  }
 ],
 "metadata": {
  "celltoolbar": "Slideshow",
  "kernelspec": {
   "display_name": "Python 3 (ipykernel)",
   "language": "python",
   "name": "python3"
  },
  "language_info": {
   "codemirror_mode": {
    "name": "ipython",
    "version": 3
   },
   "file_extension": ".py",
   "mimetype": "text/x-python",
   "name": "python",
   "nbconvert_exporter": "python",
   "pygments_lexer": "ipython3",
   "version": "3.11.9"
  },
  "vscode": {
   "interpreter": {
    "hash": "b0fa6594d8f4cbf19f97940f81e996739fb7646882a419484c72d19e05852a7e"
   }
  }
 },
 "nbformat": 4,
 "nbformat_minor": 4
}
