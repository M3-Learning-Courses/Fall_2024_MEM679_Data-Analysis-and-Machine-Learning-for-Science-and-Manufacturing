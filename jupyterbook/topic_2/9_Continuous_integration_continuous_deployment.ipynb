{
 "cells": [
  {
   "cell_type": "markdown",
   "metadata": {
    "slideshow": {
     "slide_type": "slide"
    }
   },
   "source": [
    "# What Is Continuous Integration?\n"
   ]
  },
  {
   "cell_type": "markdown",
   "metadata": {
    "slideshow": {
     "slide_type": "fragment"
    }
   },
   "source": [
    "## Continuous integration (CI)\n",
    "\n",
    "is the practice of frequently building and testing each change done to your code automatically and as early as possible.\n"
   ]
  },
  {
   "cell_type": "markdown",
   "metadata": {
    "slideshow": {
     "slide_type": "fragment"
    }
   },
   "source": [
    "\n",
    "Prolific developer and author **Martin Fowler** defines CI as:\n",
    "\n",
    "> “Continuous Integration is a software development practice where members of a team integrate their work frequently, usually each person integrates at least daily - leading to multiple integrations per day. Each integration is verified by an automated build (including test) to detect integration errors as quickly as possible.”  \n",
    "> *(Source)*\n"
   ]
  },
  {
   "cell_type": "markdown",
   "metadata": {
    "slideshow": {
     "slide_type": "subslide"
    }
   },
   "source": [
    "### Key Concept:\n"
   ]
  },
  {
   "cell_type": "markdown",
   "metadata": {
    "slideshow": {
     "slide_type": "fragment"
    }
   },
   "source": [
    "- **Programming is iterative**  \n",
    "  The source code lives in a repository shared by all team members.\n",
    "  \n"
   ]
  },
  {
   "cell_type": "markdown",
   "metadata": {
    "slideshow": {
     "slide_type": "fragment"
    }
   },
   "source": [
    "  - **Work on the product:**  \n",
    "    Obtain a copy, make changes, test them, and integrate them back into the main repo.\n",
    "    \n",
    "  - **Earlier Practice:**  \n",
    "    Integrations were big and far apart (weeks/months), causing headaches, wasted time, and lost money.\n",
    "    \n",
    "  - **Modern Practice:**  \n",
    "    Minor, frequent changes reduce the chances of conflicts that need resolving later.\n",
    "\n"
   ]
  },
  {
   "cell_type": "markdown",
   "metadata": {
    "slideshow": {
     "slide_type": "subslide"
    }
   },
   "source": [
    "### CI Workflow:\n",
    "\n",
    "1. **Integrate code frequently**\n",
    "2. **Build the source code** (convert high-level code to executable format)\n",
    "3. **Test the result** to ensure no errors are introduced\n",
    "\n",
    "![](./figs/CI1-Branching_2.png)\n"
   ]
  },
  {
   "cell_type": "markdown",
   "metadata": {
    "slideshow": {
     "slide_type": "slide"
    }
   },
   "source": [
    "## Why Should I Care About Continuous Integration?\n"
   ]
  },
  {
   "cell_type": "markdown",
   "metadata": {
    "slideshow": {
     "slide_type": "fragment"
    }
   },
   "source": [
    "### Personal Benefits of CI:\n",
    "\n",
    "With **continuous integration (CI)**, you'll spend less time:\n",
    "\n",
    "- Worrying about introducing bugs with every change\n",
    "- Fixing issues caused by someone else's code\n",
    "- Ensuring the code works across all machines, OSs, and browsers\n"
   ]
  },
  {
   "cell_type": "markdown",
   "metadata": {
    "slideshow": {
     "slide_type": "fragment"
    }
   },
   "source": [
    "### You'll Spend More Time:\n",
    "\n",
    "- Solving interesting problems\n",
    "- Writing great code with your team\n",
    "- Co-creating valuable products for users\n"
   ]
  },
  {
   "cell_type": "markdown",
   "metadata": {
    "slideshow": {
     "slide_type": "subslide"
    }
   },
   "source": [
    "### Team-Level Benefits of CI:\n",
    "\n",
    "CI fosters a **better engineering culture** by:\n",
    "\n",
    "- Delivering value early and often\n",
    "- Encouraging collaboration and catching bugs early\n",
    "- Making you and your team faster and more efficient\n",
    "- Building stable software with confidence\n",
    "- Ensuring the product works beyond your laptop\n",
    "- Reducing tedious overhead and focusing on important tasks\n",
    "- Minimizing time spent on conflict resolution\n"
   ]
  },
  {
   "cell_type": "markdown",
   "metadata": {
    "slideshow": {
     "slide_type": "slide"
    }
   },
   "source": [
    "# Core Concepts of Continuous Integration\n"
   ]
  },
  {
   "cell_type": "markdown",
   "metadata": {
    "slideshow": {
     "slide_type": "fragment"
    }
   },
   "source": [
    "\n",
    "### Key Ideas for Effective CI:\n",
    "\n",
    "To work efficiently with **continuous integration (CI)**, understanding these key concepts and practices is essential. You’ll also encounter some jargon frequently used when discussing CI.\n"
   ]
  },
  {
   "cell_type": "markdown",
   "metadata": {
    "slideshow": {
     "slide_type": "fragment"
    }
   },
   "source": [
    "### Single Source Repository:\n",
    "\n",
    "- **Collaborating on a single codebase** involves using a shared repository.\n",
    "- Each developer creates a local copy and makes changes.\n",
    "- Once changes are complete, they are merged back into the central repository.\n"
   ]
  },
  {
   "cell_type": "markdown",
   "metadata": {
    "slideshow": {
     "slide_type": "fragment"
    }
   },
   "source": [
    "### Version Control Systems (VCS):\n",
    "\n",
    "- **Version control systems** like Git handle the workflow of collaborating on code.\n",
    "- Teams typically use external services like **GitHub**, **BitBucket**, or **GitLab** to host the code and manage collaboration.\n"
   ]
  },
  {
   "cell_type": "markdown",
   "metadata": {
    "slideshow": {
     "slide_type": "fragment"
    }
   },
   "source": [
    "### Git and Branching:\n",
    "\n",
    "- **Git** allows multiple branches of a repository, where each branch is an independent copy of the source code.\n",
    "- Branching enables working on features or changes without affecting the main branch.\n",
    "- Teams usually maintain a **mainline branch** (often called `master` or `main`) to represent the current state of the project.\n"
   ]
  },
  {
   "cell_type": "markdown",
   "metadata": {
    "slideshow": {
     "slide_type": "subslide"
    }
   },
   "source": [
    "### Workflow Example:\n",
    "\n",
    "- **Development Process**:  \n",
    "  Create a copy (branch) of the mainline to work on.\n",
    "  \n",
    "  Once changes are complete, **merge** them back into the mainline branch.\n",
    "\n"
   ]
  },
  {
   "cell_type": "markdown",
   "metadata": {
    "slideshow": {
     "slide_type": "fragment"
    }
   },
   "source": [
    "### More Than Just Code:\n",
    "\n",
    "- Version control holds **documentation**, **test scripts**, and other configuration files essential for the project.\n",
    "- All necessary files should be part of the repository to ensure smooth builds and configurations.\n"
   ]
  },
  {
   "cell_type": "markdown",
   "metadata": {
    "slideshow": {
     "slide_type": "slide"
    },
    "vscode": {
     "languageId": "plaintext"
    }
   },
   "source": [
    "## Automating the Build in Continuous Integration\n"
   ]
  },
  {
   "cell_type": "markdown",
   "metadata": {
    "slideshow": {
     "slide_type": "fragment"
    }
   },
   "source": [
    "### What Does Building Mean?\n",
    "\n",
    "Building your code involves taking the raw **source code** and everything necessary for execution, translating it into a format that computers can run directly.\n",
    "\n",
    "- In Python, which is an **interpreted language**, building primarily revolves around **test execution** rather than compilation.\n",
    "\n"
   ]
  },
  {
   "cell_type": "markdown",
   "metadata": {
    "slideshow": {
     "slide_type": "fragment"
    }
   },
   "source": [
    "### Why Automate the Build?\n",
    "\n",
    "- Running the build steps manually after every small change is **tedious** and **time-consuming**.\n",
    "- **Automation** in CI allows you to focus on solving actual problems, as the build process is handled behind the scenes.\n",
    "\n"
   ]
  },
  {
   "cell_type": "markdown",
   "metadata": {
    "slideshow": {
     "slide_type": "subslide"
    }
   },
   "source": [
    "### Python-Specific Considerations:\n",
    "\n",
    "- For complex Python projects, you may use external libraries or frameworks (anything installed with `pip` or `conda`).\n",
    "- Python needs to know about these external dependencies to run correctly.\n",
    "- Dependencies are usually listed in files like **`requirements.txt`** or **`Pipfile`**.\n"
   ]
  },
  {
   "cell_type": "markdown",
   "metadata": {
    "slideshow": {
     "slide_type": "subslide"
    }
   },
   "source": [
    "### Breaking the Build:\n",
    "\n",
    "- **Breaking the build** means introducing a change that renders the product unusable.\n",
    "- This is a common issue, even for experienced developers.\n",
    "- A **broken build** blocks everyone else from working on the project.\n",
    "  \n",
    "> The goal of CI is to ensure that everyone is working on a known, stable base.\n",
    "\n"
   ]
  },
  {
   "cell_type": "markdown",
   "metadata": {
    "slideshow": {
     "slide_type": "subslide"
    }
   },
   "source": [
    "### Fixing a Broken Build:\n",
    "\n",
    "If the build is broken:\n",
    "- The **top priority** is fixing the issue so the team can continue working.\n",
    "  \n"
   ]
  },
  {
   "cell_type": "markdown",
   "metadata": {
    "slideshow": {
     "slide_type": "subslide"
    }
   },
   "source": [
    "### Frequent Commits and Build Automation:\n",
    "\n",
    "- **Frequent commits** (multiple times per day) are encouraged in an automated build system.\n",
    "  - This allows developers to quickly detect changes and identify conflicts early.\n",
    "  \n",
    "- **Smaller changes** instead of large updates make it easier to locate errors and reduce the impact of breaking the build.\n",
    "\n",
    "- This practice encourages breaking work into **smaller chunks**, which are easier to track and test.\n",
    "\n"
   ]
  },
  {
   "cell_type": "markdown",
   "metadata": {
    "slideshow": {
     "slide_type": "slide"
    },
    "vscode": {
     "languageId": "plaintext"
    }
   },
   "source": [
    "# Automated Testing in Continuous Integration\n"
   ]
  },
  {
   "cell_type": "markdown",
   "metadata": {
    "slideshow": {
     "slide_type": "fragment"
    }
   },
   "source": [
    "### Why Automated Testing?\n",
    "\n",
    "- With multiple changes being **committed daily**, it's crucial to ensure that your changes don't break the existing code or introduce new bugs.\n",
    "  \n",
    "- **Testing** is now often the responsibility of every developer. If you write code, you should write **tests**.\n"
   ]
  },
  {
   "cell_type": "markdown",
   "metadata": {
    "slideshow": {
     "slide_type": "fragment"
    }
   },
   "source": [
    "### Unit Testing:\n",
    "\n",
    "- At a minimum, cover every new function with a **unit test**.\n",
    "  \n",
    "- Unit tests verify that individual pieces of your code work as expected.\n",
    "\n"
   ]
  },
  {
   "cell_type": "markdown",
   "metadata": {
    "slideshow": {
     "slide_type": "fragment"
    }
   },
   "source": [
    "### Automatic Test Execution:\n",
    "\n",
    "- **Running tests automatically** with every commit helps catch bugs early.\n",
    "  \n",
    "- A **failing test** will cause the **build to fail**, drawing attention to issues.\n",
    "  \n",
    "- This practice ensures that developers are immediately aware of any problems introduced by their changes.\n",
    "\n"
   ]
  },
  {
   "cell_type": "markdown",
   "metadata": {
    "slideshow": {
     "slide_type": "fragment"
    }
   },
   "source": [
    "### Benefits of Automated Testing:\n",
    "\n",
    "- Tests don’t guarantee bug-free code but help prevent **careless mistakes** from slipping through.\n",
    "  \n",
    "- Automated tests provide **peace of mind** since the server will run tests with every commit, even if you forgot to run them locally.\n"
   ]
  },
  {
   "cell_type": "markdown",
   "metadata": {
    "slideshow": {
     "slide_type": "subslide"
    }
   },
   "source": [
    "### Key Takeaways:\n",
    "\n",
    "- Testing with every commit ensures early detection of bugs.\n",
    "- Failing builds encourage prompt fixes for introduced bugs.\n",
    "- Automated tests help maintain code quality and stability as the codebase evolves.\n",
    "\n"
   ]
  },
  {
   "cell_type": "markdown",
   "metadata": {
    "slideshow": {
     "slide_type": "slide"
    },
    "vscode": {
     "languageId": "plaintext"
    }
   },
   "source": [
    "## Using an External Continuous Integration Service\n",
    "\n",
    "![](./figs/CI-Testing_1.dd4a5d09bedd.png)"
   ]
  },
  {
   "cell_type": "markdown",
   "metadata": {
    "slideshow": {
     "slide_type": "subslide"
    },
    "vscode": {
     "languageId": "plaintext"
    }
   },
   "source": [
    "### The \"It Worked on My Machine\" Problem:\n",
    "\n",
    "- **Code working locally** doesn’t guarantee it will work on every machine.\n",
    "  \n",
    "- Developers often joke, “It worked on my machine!” but ensuring it works universally is part of your responsibility.\n"
   ]
  },
  {
   "cell_type": "markdown",
   "metadata": {
    "slideshow": {
     "slide_type": "subslide"
    },
    "vscode": {
     "languageId": "plaintext"
    }
   },
   "source": [
    "### Why Use External CI Services?\n",
    "\n",
    "- External services handle integration, much like GitHub hosts your source code.\n",
    "  \n",
    "- These services provide **servers** where they build the code and run tests.\n",
    "  \n",
    "- **CI services monitor your repository** and prevent merging to the master branch if changes break the build.\n"
   ]
  },
  {
   "cell_type": "markdown",
   "metadata": {
    "slideshow": {
     "slide_type": "subslide"
    },
    "vscode": {
     "languageId": "plaintext"
    }
   },
   "source": [
    "### Automated Testing with CI:\n",
    "\n",
    "- **Merging changes** triggers the **CI server** to build and run tests automatically.\n",
    "  \n",
    "- This ensures that only code that passes tests gets merged into the master branch, maintaining stability.\n",
    "\n"
   ]
  },
  {
   "cell_type": "markdown",
   "metadata": {
    "slideshow": {
     "slide_type": "slide"
    }
   },
   "source": [
    "## Example CI for Python Using GitHub Actions"
   ]
  },
  {
   "cell_type": "markdown",
   "metadata": {
    "slideshow": {
     "slide_type": "subslide"
    }
   },
   "source": [
    "### GitHub Actions:\n",
    "\n",
    "- **GitHub Actions** is a CI service provided by GitHub.\n",
    "\n",
    "- It allows you to **automate workflows** directly in your GitHub repository.\n",
    "\n",
    "- They provide a **free tier** for public repositories and a limited number of minutes for private repositories.\n",
    "\n",
    "- **GitHub Actions** are defined in a `.yml` file in the `.github/workflows` directory of your repository."
   ]
  },
  {
   "cell_type": "code",
   "execution_count": null,
   "metadata": {
    "slideshow": {
     "slide_type": "slide"
    }
   },
   "outputs": [],
   "source": [
    "from IPython.display import display, Code\n",
    "\n",
    "# Read the code from a file (e.g., 'script.py')\n",
    "with open(\"./codes/workflow.yml\", \"r\") as file:\n",
    "    code = file.read()\n",
    "\n",
    "# Display the code with syntax highlighting\n",
    "display(Code(code, language=\"yaml\"))\n"
   ]
  },
  {
   "cell_type": "markdown",
   "metadata": {
    "slideshow": {
     "slide_type": "slide"
    }
   },
   "source": [
    "### What is this code doing?"
   ]
  },
  {
   "cell_type": "markdown",
   "metadata": {
    "slideshow": {
     "slide_type": "fragment"
    }
   },
   "source": [
    "1. Name the workflow.\n",
    "\n",
    "```yaml\n",
    "name: CI/CD\n",
    "```\n"
   ]
  },
  {
   "cell_type": "markdown",
   "metadata": {
    "slideshow": {
     "slide_type": "subslide"
    }
   },
   "source": [
    "2. Define when the workflow should run.\n",
    "\n",
    "```yaml\n",
    "on:\n",
    "  push:\n",
    "    branches:\n",
    "      - main\n",
    "  pull_request:\n",
    "    branches:\n",
    "      - main\n",
    "```"
   ]
  },
  {
   "cell_type": "markdown",
   "metadata": {
    "slideshow": {
     "slide_type": "subslide"
    }
   },
   "source": [
    "3. Define the jobs to run.\n",
    "\n",
    "- **`runs-on`**: Specifies the operating system for the job.\n",
    "- **`permissions`**: Specifies the permissions for the job.\n",
    "\n",
    "```yaml\n",
    "jobs:\n",
    "  build:\n",
    "    runs-on: ubuntu-22.04\n",
    "    permissions:\n",
    "      contents: write\n",
    "```"
   ]
  },
  {
   "cell_type": "markdown",
   "metadata": {
    "slideshow": {
     "slide_type": "subslide"
    }
   },
   "source": [
    "3. Checkout the code.\n",
    "\n",
    "```yaml\n",
    "steps:\n",
    "      - name: Checkout code\n",
    "        uses: actions/checkout@v2\n",
    "```"
   ]
  },
  {
   "cell_type": "markdown",
   "metadata": {
    "slideshow": {
     "slide_type": "subslide"
    }
   },
   "source": [
    "4. Set up Python.\n",
    "\n",
    "```yaml\n",
    "      - name: Set up Python\n",
    "        uses: actions/setup-python@v2\n",
    "        with:\n",
    "          python-version: \"3.11\"\n",
    "```"
   ]
  },
  {
   "cell_type": "markdown",
   "metadata": {
    "slideshow": {
     "slide_type": "subslide"
    }
   },
   "source": [
    "5. Installs dependencies \n",
    "\n",
    "- this is specifically for using `pyscaffold` and `tox`, as the rest of the dependencies are installed by `tox`.\n",
    "\n",
    "```yaml\n",
    "      - name: Install dependencies\n",
    "        run: |\n",
    "          python -m pip install --upgrade pip\n",
    "          pip install pyscaffold\n",
    "          pip install tox\n",
    "```"
   ]
  },
  {
   "cell_type": "markdown",
   "metadata": {
    "slideshow": {
     "slide_type": "subslide"
    }
   },
   "source": [
    "6. Iterate Package Versions\n",
    "\n",
    "- If the commit message contains `#minor`, `#patch`, or `#major`, the version is bumped accordingly.\n",
    "\n",
    "- **Requires** the `GH_TOKEN` secret to be set in the repository.\n",
    "\n",
    "```yaml\n",
    "- name: Bump version and push tag\n",
    "        uses: anothrNick/github-tag-action@v1\n",
    "        if: |\n",
    "          contains(github.event.head_commit.message, '#minor') ||\n",
    "          contains(github.event.head_commit.message, '#patch') ||\n",
    "          contains(github.event.head_commit.message, '#major')\n",
    "        with:\n",
    "          github_token: ${{ secrets.GH_TOKEN }}\n",
    "          release_branches: main\n",
    "          DEFAULT_BUMP: patch\n",
    "        env:\n",
    "          GITHUB_TOKEN: ${{ secrets.GH_TOKEN }}\n",
    "```"
   ]
  },
  {
   "cell_type": "markdown",
   "metadata": {
    "slideshow": {
     "slide_type": "subslide"
    }
   },
   "source": [
    "7. Builds the code and runs tests.\n",
    "\n",
    "- **`tox`** runs the tests.\n",
    "- **`tox -e docs`** builds the documentation.\n",
    "- **`tox -e build`** builds the package.\n",
    "\n",
    "```yaml\n",
    "      - name: Build the package\n",
    "        run: |\n",
    "          tox\n",
    "          tox -e docs\n",
    "          tox -e build\n",
    "```"
   ]
  },
  {
   "cell_type": "markdown",
   "metadata": {
    "slideshow": {
     "slide_type": "subslide"
    }
   },
   "source": [
    "8. Uploads the package to PyPI.\n",
    "\n",
    "- **Requires** the `PYPI_TOKEN` secret to be set in the repository.\n",
    "- **`TWINE_USERNAME`** is set to `__token__` and **`TWINE_PASSWORD`** is set to the `PYPI_TOKEN` secret.\n",
    "- **`twine upload dist/*`** uploads the package to PyPI.\n",
    "\n",
    "```yaml\n",
    "      - name: Publish to PyPI\n",
    "        if: |\n",
    "          contains(github.event.head_commit.message, '#patch') || \n",
    "          contains(github.event.head_commit.message, '#minor') ||\n",
    "          contains(github.event.head_commit.message, '#major')\n",
    "        env:\n",
    "          TWINE_USERNAME: __token__\n",
    "          TWINE_PASSWORD: ${{ secrets.PYPI_TOKEN }}\n",
    "        run: |\n",
    "          python -m pip install --upgrade twine\n",
    "          twine upload dist/*\n",
    "```"
   ]
  },
  {
   "cell_type": "markdown",
   "metadata": {
    "slideshow": {
     "slide_type": "subslide"
    }
   },
   "source": [
    "9. Deploy the documentation\n",
    "\n",
    "- **Requires** the `GH_TOKEN` secret\n",
    "- deploys the documentation to GitHub Pages\n",
    "\n",
    "```yaml\n",
    "      - name: Deploy to GitHub Pages\n",
    "        uses: peaceiris/actions-gh-pages@v3\n",
    "        with:\n",
    "          github_token: ${{ secrets.GH_TOKEN }}\n",
    "          publish_dir: ./docs/_build/html\n",
    "```"
   ]
  }
 ],
 "metadata": {
  "kernelspec": {
   "display_name": "Python 3",
   "language": "python",
   "name": "python3"
  },
  "language_info": {
   "codemirror_mode": {
    "name": "ipython",
    "version": 3
   },
   "file_extension": ".py",
   "mimetype": "text/x-python",
   "name": "python",
   "nbconvert_exporter": "python",
   "pygments_lexer": "ipython3",
   "version": "3.11.9"
  }
 },
 "nbformat": 4,
 "nbformat_minor": 2
}
