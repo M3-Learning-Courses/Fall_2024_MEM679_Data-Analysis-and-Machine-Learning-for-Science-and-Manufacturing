{
 "cells": [
  {
   "cell_type": "markdown",
   "metadata": {
    "slideshow": {
     "slide_type": "slide"
    }
   },
   "source": [
    "# Jupyter Notebooks in VS Code"
   ]
  },
  {
   "cell_type": "markdown",
   "metadata": {
    "slideshow": {
     "slide_type": "fragment"
    }
   },
   "source": [
    "[Jupyter](https://jupyter-notebook.readthedocs.io/en/latest/) (formerly IPython Notebook) is an open-source project that lets you easily combine Markdown text and executable Python source code on one canvas called a **notebook**. Visual Studio Code supports working with Jupyter Notebooks natively, and through [Python code files](https://code.visualstudio.com/docs/python/jupyter-support-py.md). This topic covers the native support available for Jupyter Notebooks and demonstrates how to:\n",
    "\n",
    "- Create, open, and save Jupyter Notebooks\n",
    "- Work with Jupyter code cells\n",
    "- View, inspect, and filter variables using the Variable Explorer and Data Viewer\n",
    "- Connect to a remote Jupyter server\n",
    "- Debug a Jupyter Notebook"
   ]
  },
  {
   "cell_type": "markdown",
   "metadata": {
    "slideshow": {
     "slide_type": "slide"
    }
   },
   "source": [
    "## Setting up your environment\n",
    "\n",
    "To work with Python in Jupyter Notebooks, you must activate an Anaconda environment in VS Code, or another Python environment in which you've installed the [Jupyter package](https://pypi.org/project/jupyter/). To select an environment, use the **Python: Select Interpreter** command from the Command Palette (`Ctrl+Shift+P`)."
   ]
  },
  {
   "cell_type": "markdown",
   "metadata": {
    "slideshow": {
     "slide_type": "fragment"
    }
   },
   "source": [
    "Once the appropriate environment is activated, you can create and open a Jupyter Notebook, connect to a remote Jupyter server for running code cells, and export a Jupyter Notebook as a Python file."
   ]
  },
  {
   "cell_type": "markdown",
   "metadata": {
    "slideshow": {
     "slide_type": "subslide"
    }
   },
   "source": [
    "## Create or open a Jupyter Notebook\n",
    "\n",
    "You can create a Jupyter Notebook by running the **Create: New Jupyter Notebook** command from the Command Palette (`Ctrl+Shift+P`) or by creating a new `.ipynb` file in your workspace."
   ]
  },
  {
   "cell_type": "markdown",
   "metadata": {
    "slideshow": {
     "slide_type": "fragment"
    }
   },
   "source": [
    "![Blank Jupyter Notebook](./figs/jupyter/native-code-cells-01.png)"
   ]
  },
  {
   "cell_type": "markdown",
   "metadata": {
    "slideshow": {
     "slide_type": "fragment"
    }
   },
   "source": [
    "Next, select a kernel using the kernel picker in the top right.\n",
    "\n",
    "![Kernel Picker](./figs/jupyter/native-kernel-picker.png)"
   ]
  },
  {
   "cell_type": "markdown",
   "metadata": {
    "slideshow": {
     "slide_type": "fragment"
    }
   },
   "source": [
    "After selecting a kernel, the language picker located in the bottom right of each code cell will automatically update to the language supported by the kernel.\n",
    "\n",
    "![Language Picker](./figs/jupyter/native-language-picker-01.png)"
   ]
  },
  {
   "cell_type": "markdown",
   "metadata": {
    "slideshow": {
     "slide_type": "fragment"
    }
   },
   "source": [
    "If you have an existing Jupyter Notebook, you can open it by right-clicking on the file and opening with VS Code, or through the VS Code File Explorer."
   ]
  },
  {
   "cell_type": "markdown",
   "metadata": {
    "slideshow": {
     "slide_type": "slide"
    }
   },
   "source": [
    "## Running cells\n",
    "\n",
    "Once you have a notebook, you can run a code cell using the **Run** icon to the left of the cell and the output will appear directly below the code cell."
   ]
  },
  {
   "cell_type": "markdown",
   "metadata": {
    "slideshow": {
     "slide_type": "fragment"
    }
   },
   "source": [
    "To run code, you can also use keyboard shortcuts in both command and edit mode. To run the current cell, use `Ctrl+Enter`. To run the current cell and advance to the next, use `Shift+Enter`.\n",
    "\n",
    "![Run Jupyter code cell](./figs/jupyter/native-code-cells-03.png)"
   ]
  },
  {
   "cell_type": "markdown",
   "metadata": {
    "slideshow": {
     "slide_type": "fragment"
    }
   },
   "source": [
    "You can run multiple cells by selecting **Run All**, **Run All Above**, or **Run All Below**.\n",
    "\n",
    "![Run Jupyter code cells](./figs/jupyter/native-code-runs.png)"
   ]
  },
  {
   "cell_type": "markdown",
   "metadata": {
    "slideshow": {
     "slide_type": "slide"
    }
   },
   "source": [
    "## Save your Jupyter Notebook\n",
    "\n",
    "You can save your Jupyter Notebook using the keyboard shortcut `Ctrl+S` or **File** > **Save**."
   ]
  },
  {
   "cell_type": "markdown",
   "metadata": {
    "slideshow": {
     "slide_type": "slide"
    }
   },
   "source": [
    "## Export your Jupyter Notebook\n",
    "\n",
    "You can export a Jupyter Notebook as a Python file (`.py`), a PDF, or an HTML file. To export, select the **Export** action on the main toolbar. You'll then be presented with a dropdown of file format options.\n",
    "\n",
    " ![Convert Jupyter Notebook to Python file](./figs/jupyter/native-toolbar-export.png)\n",
    "\n",
    "> **Note:** For PDF export, you must have [TeX installed](https://nbconvert.readthedocs.io/en/latest/install.html#installing-tex). If you don't, you will be notified that you need to install it when you select the PDF option. Also, be aware that if you have SVG-only output in your Notebook, they will not be displayed in the PDF. To have SVG graphics in a PDF, either ensure that your output includes a non-SVG image format or else you can first export to HTML and then save as PDF using your browser."
   ]
  },
  {
   "cell_type": "markdown",
   "metadata": {
    "slideshow": {
     "slide_type": "slide"
    }
   },
   "source": [
    "## Work with code cells in the Notebook Editor\n",
    "\n",
    "The Notebook Editor makes it easy to create, edit, and run code cells within your Jupyter Notebook."
   ]
  },
  {
   "cell_type": "markdown",
   "metadata": {
    "slideshow": {
     "slide_type": "fragment"
    }
   },
   "source": [
    "### Create a code cell\n",
    "\n",
    "By default, a blank notebook will have an empty code cell for you to start with and an existing notebook will place one at the bottom. Add your code to the empty code cell to get started.\n",
    "\n",
    "```python\n",
    "msg = \"Hello world\"\n",
    "print(msg)\n",
    "```"
   ]
  },
  {
   "cell_type": "code",
   "execution_count": null,
   "metadata": {
    "slideshow": {
     "slide_type": "fragment"
    }
   },
   "outputs": [],
   "source": [
    "msg = \"Hello world\"\n",
    "print(msg)"
   ]
  },
  {
   "cell_type": "markdown",
   "metadata": {
    "slideshow": {
     "slide_type": "subslide"
    }
   },
   "source": [
    "### Code cell modes\n",
    "\n",
    "While working with code cells, a cell can be in three states: unselected, command mode, and edit mode. A vertical bar to the left of a code cell and editor border shows the current state of a cell. When no bar is visible, the cell is unselected. When a cell is selected, it can be in command mode or in edit mode."
   ]
  },
  {
   "cell_type": "markdown",
   "metadata": {
    "slideshow": {
     "slide_type": "fragment"
    }
   },
   "source": [
    "![Unselected Jupyter code cell](./figs/jupyter/native-code-unselected-02.png)"
   ]
  },
  {
   "cell_type": "markdown",
   "metadata": {
    "slideshow": {
     "slide_type": "fragment"
    }
   },
   "source": [
    "In command mode, a solid vertical bar will appear to the left of the cell. The cell can be operated on and accepts keyboard commands.\n",
    "\n",
    "![Code cell in command mode](./figs/jupyter/native-code-cells-02.png)"
   ]
  },
  {
   "cell_type": "markdown",
   "metadata": {
    "slideshow": {
     "slide_type": "fragment"
    }
   },
   "source": [
    "In edit mode, a solid vertical bar is joined by a border around the cell editor. The cell's contents (code or Markdown) can be modified.\n",
    "\n",
    "![Code cell in edit mode](./figs/jupyter/native-code-cells-04.png)"
   ]
  },
  {
   "cell_type": "markdown",
   "metadata": {
    "slideshow": {
     "slide_type": "fragment"
    }
   },
   "source": [
    "To switch modes, you can use your keyboard or mouse. On your keyboard, press the `Enter` key to move to edit mode or the `Esc` key to move to command mode. With your mouse, click the vertical bar to the left of the cell or out of the code/Markdown region in the code cell."
   ]
  },
  {
   "cell_type": "markdown",
   "metadata": {
    "slideshow": {
     "slide_type": "slide"
    }
   },
   "source": [
    "### Add additional code cells\n",
    "\n",
    "You can add code cells using the main toolbar, a cell's add cell toolbar (visible with hover), and through keyboard commands.\n",
    "\n",
    "![Add code cells](./figs/jupyter/native-add-cells.png)"
   ]
  },
  {
   "cell_type": "markdown",
   "metadata": {
    "slideshow": {
     "slide_type": "fragment"
    }
   },
   "source": [
    "To add a new cell below the currently selected cell, use the plus icon in the main toolbar or a cell's hover toolbar.\n",
    "\n",
    "When a code cell is in command mode, use the `A` key to add a cell above and the `B` key to add a cell below the selected cell."
   ]
  },
  {
   "cell_type": "markdown",
   "metadata": {
    "slideshow": {
     "slide_type": "subslide"
    }
   },
   "source": [
    "### Select a code cell\n",
    "\n",
    "You can change a selected code cell using the mouse or the up/down arrow keys on the keyboard. When a code cell is in command mode, you can also use the `J` key (down) and `K` key (up)."
   ]
  },
  {
   "cell_type": "markdown",
   "metadata": {
    "slideshow": {
     "slide_type": "fragment"
    }
   },
   "source": [
    "### Select multiple code cells\n",
    "\n",
    "To select multiple cells, start with one cell in selected mode. A filled background indicates selected cells. To select consecutive cells, hold down the `Shift` key and click the last cell you want to select. To select any group of cells, hold down the `Ctrl` key and click the cells you'd like to add to your selection.\n",
    "\n",
    "![Multiselected cells](./figs/jupyter/multiselect.png)"
   ]
  },
  {
   "cell_type": "markdown",
   "metadata": {
    "slideshow": {
     "slide_type": "subslide"
    }
   },
   "source": [
    "### Run a single code cell\n",
    "\n",
    "Once your code is added, you can run a cell using the **Run** icon to the left of the cell and the output will be displayed below the code cell.\n",
    "\n",
    "![Run Jupyter code cell](./figs/jupyter/native-code-run.png)"
   ]
  },
  {
   "cell_type": "markdown",
   "metadata": {
    "slideshow": {
     "slide_type": "fragment"
    }
   },
   "source": [
    "To run a selected code cell, you can also use keyboard shortcuts in both command and edit mode. `Ctrl+Enter` runs the currently selected cell. `Shift+Enter` runs the currently selected cell and inserts a new cell immediately below (focus moves to new cell). `Alt+Enter` runs the currently selected cell and inserts a new cell immediately below (focus remains on current cell)."
   ]
  },
  {
   "cell_type": "markdown",
   "metadata": {
    "slideshow": {
     "slide_type": "subslide"
    }
   },
   "source": [
    "### Run multiple code cells\n",
    "\n",
    "Running multiple code cells can be accomplished in many ways. You can use the double arrow in the main toolbar of the Notebook Editor to run all cells within the Notebook or the **Run** icons with directional arrows in the cell toolbar to run all cells above or below the current code cell.\n",
    "\n",
    "![Run multiple code cells](./figs/jupyter/native-code-runs.png)"
   ]
  },
  {
   "cell_type": "markdown",
   "metadata": {
    "slideshow": {
     "slide_type": "subslide"
    }
   },
   "source": [
    "### Move a code cell\n",
    "\n",
    "You can move cells up or down within a notebook via dragging and dropping. For code cells, the drag and drop area is to the left of the cell editor as indicated below. For rendered Markdown cells, you may click anywhere to drag and drop cells.\n",
    "\n",
    "![Move a code cell](./figs/jupyter/code-move.png)\n",
    "\n",
    "To move multiple cells, you can use the same drag and drop areas in any cell included in the selection.\n",
    "\n",
    "The keyboard shortcut `Alt+Arrow` also moves one or multiple selected cells."
   ]
  },
  {
   "cell_type": "markdown",
   "metadata": {
    "slideshow": {
     "slide_type": "subslide"
    }
   },
   "source": [
    "### Delete a code cell\n",
    "\n",
    "To delete code, you can use the **Delete** icon in the code cell toolbar. When the selected code cell is in command mode, you can use the keyboard shortcut `dd`.\n",
    "\n",
    "![Delete a code cell](./figs/jupyter/native-code-delete.png)"
   ]
  },
  {
   "cell_type": "markdown",
   "metadata": {
    "slideshow": {
     "slide_type": "subslide"
    }
   },
   "source": [
    "### Undo your last change\n",
    "\n",
    "You can use the `z` key to undo your previous change, for example, if you've made an accidental edit, you can undo it to the previous correct state, or if you've deleted a cell accidentally, you can recover it."
   ]
  },
  {
   "cell_type": "markdown",
   "metadata": {
    "slideshow": {
     "slide_type": "subslide"
    }
   },
   "source": [
    "### Switch between code and Markdown\n",
    "\n",
    "The Notebook Editor allows you to easily change code cells between Markdown and code. Selecting the language picker in the bottom right of a cell will allow you to switch between Markdown and, if applicable, any other language supported by the selected kernel.\n",
    "\n",
    "![Change language](./figs/jupyter/native-language-picker-01.png)\n",
    "\n",
    "You can also use the keyboard to change the cell type. When a cell is selected and in command mode, the `M` key switches the cell type to Markdown and the `Y` key switches the cell type to code.\n",
    "\n",
    "Once Markdown is set, you can enter Markdown formatted content to the code cell."
   ]
  },
  {
   "cell_type": "markdown",
   "metadata": {
    "slideshow": {
     "slide_type": "subslide"
    }
   },
   "source": [
    "### Clear output or restart/interrupt the kernel\n",
    "\n",
    "If you'd like to clear all code cell outputs or restart/interrupt the kernel, you can accomplish that using the main Notebook Editor toolbar.\n",
    "\n",
    "![Notebook Toolbar](./figs/jupyter/notebook-toolbar.png)\n"
   ]
  },
  {
   "cell_type": "markdown",
   "metadata": {
    "slideshow": {
     "slide_type": "subslide"
    }
   },
   "source": [
    "### Enable/disable line numbers\n",
    "\n",
    "When you are in command mode, you can enable or disable line numbering within a single code cell by using the `L` key.\n",
    "\n",
    "![Line numbers enabled in code cell](./figs/jupyter/cell-toggle-line-num.png)"
   ]
  },
  {
   "cell_type": "markdown",
   "metadata": {
    "slideshow": {
     "slide_type": "fragment"
    }
   },
   "source": [
    "To toggle line numbering for the entire notebook, use `Shift+L` when in command mode on any cell.\n",
    "\n",
    "![Line numbers enabled for notebook](./figs/jupyter/notebook-toggle-line-num.png)"
   ]
  },
  {
   "cell_type": "markdown",
   "metadata": {
    "slideshow": {
     "slide_type": "slide"
    }
   },
   "source": [
    "## Table of Contents\n",
    "\n",
    "To navigate through your notebook, open the File Explorer in the Activity bar. Then open the **Outline** tab in the Side bar.\n",
    "\n",
    "![Table of contents](./figs/jupyter/table-of-contents.png)\n",
    "\n",
    "> **Note:** By default, the outline will only show Markdown. To show code cells, enable the following setting:  **Notebook > Outline: Show Code Cells**."
   ]
  },
  {
   "cell_type": "markdown",
   "metadata": {
    "slideshow": {
     "slide_type": "slide"
    }
   },
   "source": [
    "## Variable Explorer and Data Viewer\n",
    "\n",
    "Within a Python Notebook, it's possible to view, inspect, sort, and filter the variables within your current Jupyter session. By selecting the **Variables** icon in the main toolbar after running code and cells, you'll see a list of the current variables, which will automatically update as variables are used in code. The variables pane will open at the bottom of the notebook.\n",
    "\n",
    "![Variable Explorer](./figs/jupyter/variable-explorer-01.png)"
   ]
  },
  {
   "cell_type": "markdown",
   "metadata": {
    "slideshow": {
     "slide_type": "fragment"
    }
   },
   "source": [
    "![Variable Explorer](./figs/jupyter/variable-explorer-02.png)"
   ]
  },
  {
   "cell_type": "markdown",
   "metadata": {
    "slideshow": {
     "slide_type": "slide"
    }
   },
   "source": [
    "### Data Viewer\n",
    "\n",
    "For additional information about your variables, you can also double-click a row or use the **Show variable in data viewer** button next to the variable for a more detailed view of a variable in the Data Viewer.\n",
    "\n",
    "![Data Viewer](./figs/jupyter/data-viewer.png)"
   ]
  },
  {
   "cell_type": "markdown",
   "metadata": {
    "slideshow": {
     "slide_type": "fragment"
    }
   },
   "source": [
    "### Filtering rows\n",
    "\n",
    "Filtering rows in the data viewer can be done by typing in the textbox at the top of each column. Type a string you want to search for and any row that has that string in the column will be found:\n",
    "\n",
    "![Data Viewer](./figs/jupyter/filter-default.png)\n",
    "\n",
    "If you want to find an exact match, prefix your filter with '=':"
   ]
  },
  {
   "cell_type": "markdown",
   "metadata": {
    "slideshow": {
     "slide_type": "fragment"
    }
   },
   "source": [
    "More complex filtering can be done by typing a [regular expression](https://developer.mozilla.org/en-US/docs/Web/JavaScript/Guide/Regular_Expressions):\n",
    "\n",
    "![Data Viewer](./figs/jupyter/filter-regex.png)"
   ]
  },
  {
   "cell_type": "markdown",
   "metadata": {
    "slideshow": {
     "slide_type": "subslide"
    }
   },
   "source": [
    "## Saving plots\n",
    "\n",
    "To save a plot from your notebook, simply hover over the output and select the **Save** icon in the top right.\n",
    "\n",
    "![Save output](./figs/jupyter/save-output.png)\n",
    "\n",
    "> **Note:** There is support for rendering plots created with [matplotlib](https://matplotlib.org/) and [Altair](https://altair-viz.github.io/index.html)."
   ]
  },
  {
   "cell_type": "markdown",
   "metadata": {
    "slideshow": {
     "slide_type": "slide"
    }
   },
   "source": [
    "## Custom notebook diffing\n",
    "\n",
    "Under the hood, Jupyter Notebooks are JSON files. The segments in a JSON file are rendered as cells that are comprised of three components: input, output, and metadata. Comparing changes made in a notebook using lined-based diffing is difficult and hard to parse. The rich diffing editor for notebooks allows you to easily see changes for each component of a cell.\n",
    "\n",
    "You can even customize what types of changes you want displayed within your diffing view. In the top right, select the overflow menu item in the toolbar to customize what cell components you want included. Input differences will always be shown.\n",
    "\n",
    "![Custom notebook diffing](./figs/jupyter/notebook-diffing.png)\n",
    "\n",
    "To learn more about Git integration within VS Code, visit [Source Control in VS Code](https://code.visualstudio.com/docs/sourcecontrol/overview.md)."
   ]
  },
  {
   "cell_type": "markdown",
   "metadata": {
    "slideshow": {
     "slide_type": "slide"
    }
   },
   "source": [
    "### Run by Line\n",
    "\n",
    "Run by Line lets you execute a cell one line at a time, without being distracted by other VS Code debug features. To start, select the **Run by Line** button in the cell toolbar:\n",
    "\n",
    "![Run by line button](./figs/jupyter/run-by-line.png)\n",
    "\n",
    "Use the same button to advance by one statement. You can select the cell **Stop** button to stop early, or the **Continue** button in the toolbar to continue running to the end of the cell.\n"
   ]
  },
  {
   "cell_type": "markdown",
   "metadata": {
    "slideshow": {
     "slide_type": "subslide"
    }
   },
   "source": [
    "\n",
    "### Search through notebook\n",
    "\n",
    "You can search through a notebook (or parts of it by filtering the search options) by using the keyboard shortcut `Ctrl/Cmd + F`. Click the Filter option (funnel icon) to search across:\n",
    "\n",
    "- Markdown cell input (**Markdown Source**)\n",
    "- Markdown cell output (**Rendered Markdown**)\n",
    "- Code cell input (**Code Cell Source**)\n",
    "- Code cell output (**Cell Output**)\n",
    "\n",
    "Notebook searches are filtered cell inputs only by default.\n",
    "\n",
    "![Search options](./figs/jupyter/search-filter.png)"
   ]
  },
  {
   "cell_type": "markdown",
   "metadata": {
    "slideshow": {
     "slide_type": "slide"
    }
   },
   "source": [
    "## Connect to a remote Jupyter server\n",
    "\n",
    "You can offload intensive computation in a Jupyter Notebook to other computers by connecting to a remote Jupyter server. Once connected, code cells run on the remote server rather than the local computer.\n",
    "\n",
    "To connect to a remote Jupyter server:\n",
    "\n",
    "1. Open the Kernel Picker button on the top right-hand side of the notebook (or run the **Notebook: Select Notebook Kernel** command from the Command Palette).\n",
    "\n",
    "   ![Notebook kernel picker](./figs/jupyter/notebook-kernel-picker.png)"
   ]
  },
  {
   "cell_type": "markdown",
   "metadata": {
    "slideshow": {
     "slide_type": "slide"
    }
   },
   "source": [
    "2. Select the **Existing Jupyter Server** option to connect to an existing Jupyter server.\n",
    "\n",
    "   ![Select existing Jupyter server](./figs/jupyter/select-existing-server.png)"
   ]
  },
  {
   "cell_type": "markdown",
   "metadata": {
    "slideshow": {
     "slide_type": "slide"
    }
   },
   "source": [
    "3. To connect to an existing server for the first time, select **Enter the URL of the running Jupyter server**.\n",
    "\n",
    "   ![Choose to connect to an existing server](./figs/jupyter/select-enter-server-url.png)"
   ]
  },
  {
   "cell_type": "markdown",
   "metadata": {
    "slideshow": {
     "slide_type": "slide"
    }
   },
   "source": [
    "4. When prompted to **Enter the URL of the running Jupyter server**, provide the server's URI (hostname) with the authentication token included with a `?token=` URL parameter. (If you start the server in the VS Code terminal with an authentication token enabled, the URL with the token typically appears in the terminal output from where you can copy it.) Alternatively, you can specify a username and password after providing the URI.\n",
    "\n",
    "   ![Prompt to supply a Jupyter server URI](./figs/jupyter/enter-server-url.png)"
   ]
  },
  {
   "cell_type": "markdown",
   "metadata": {
    "slideshow": {
     "slide_type": "slide"
    }
   },
   "source": [
    "> **Note:** For added security, Microsoft recommends configuring your Jupyter server with security precautions such as SSL and token support. This helps ensure that requests sent to the Jupyter server are authenticated and connections to the remote server are encrypted. For guidance about securing a notebook server, refer to the [Jupyter documentation](https://jupyter-notebook.readthedocs.io/en/stable/public_server.html#securing-a-notebook-server)."
   ]
  }
 ],
 "metadata": {
  "celltoolbar": "Slideshow",
  "kernelspec": {
   "display_name": "Python 3 (ipykernel)",
   "language": "python",
   "name": "python3"
  },
  "language_info": {
   "codemirror_mode": {
    "name": "ipython",
    "version": 3
   },
   "file_extension": ".py",
   "mimetype": "text/x-python",
   "name": "python",
   "nbconvert_exporter": "python",
   "pygments_lexer": "ipython3",
   "version": "3.11.9"
  },
  "varInspector": {
   "cols": {
    "lenName": 16,
    "lenType": 16,
    "lenVar": 40
   },
   "kernels_config": {
    "python": {
     "delete_cmd_postfix": "",
     "delete_cmd_prefix": "del ",
     "library": "var_list.py",
     "varRefreshCmd": "print(var_dic_list())"
    },
    "r": {
     "delete_cmd_postfix": ") ",
     "delete_cmd_prefix": "rm(",
     "library": "var_list.r",
     "varRefreshCmd": "cat(var_dic_list()) "
    }
   },
   "types_to_exclude": [
    "module",
    "function",
    "builtin_function_or_method",
    "instance",
    "_Feature"
   ],
   "window_display": false
  }
 },
 "nbformat": 4,
 "nbformat_minor": 4
}
