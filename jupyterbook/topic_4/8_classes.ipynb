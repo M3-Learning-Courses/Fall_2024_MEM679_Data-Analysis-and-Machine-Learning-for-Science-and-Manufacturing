{
 "cells": [
  {
   "cell_type": "markdown",
   "metadata": {
    "slideshow": {
     "slide_type": "slide"
    }
   },
   "source": [
    "# Classes\n"
   ]
  },
  {
   "cell_type": "markdown",
   "metadata": {
    "slideshow": {
     "slide_type": "fragment"
    }
   },
   "source": [
    "\n",
    "- Is a logical group that contains attributes and methods\n",
    "- This allows programs to be created with simple objects that are easy to read and modify\n",
    "- It says that all instances of a class have the same attributes and methods\n"
   ]
  },
  {
   "cell_type": "markdown",
   "metadata": {
    "slideshow": {
     "slide_type": "subslide"
    }
   },
   "source": [
    "## Example use case:\n",
    "\n",
    "Suppose you have a bunch of rubber ducks in your store and you want to keep an inventory where each duck has some attributes (e.g., color, size, name). This is a perfect use case for a `class`. You can define a class that is rubber ducks, which has a set of definable attributes.\n"
   ]
  },
  {
   "cell_type": "markdown",
   "metadata": {
    "slideshow": {
     "slide_type": "fragment"
    }
   },
   "source": [
    "- Classes are created by the keyword `class`\n",
    "- Attributes are variables that belong to a class\n",
    "- Attributes can be accessed via the (`.`) operator (e.g., `class.attribute`)\n"
   ]
  },
  {
   "cell_type": "markdown",
   "metadata": {
    "slideshow": {
     "slide_type": "subslide"
    }
   },
   "source": [
    "## Start with defining the class\n"
   ]
  },
  {
   "cell_type": "code",
   "execution_count": null,
   "metadata": {
    "slideshow": {
     "slide_type": "fragment"
    }
   },
   "outputs": [],
   "source": [
    "class Rubber_Duck:  # Defines the class\n",
    "    pass  # passes when called\n"
   ]
  },
  {
   "cell_type": "markdown",
   "metadata": {
    "slideshow": {
     "slide_type": "fragment"
    }
   },
   "source": [
    "We created a class that does nothing :)\n"
   ]
  },
  {
   "cell_type": "markdown",
   "metadata": {
    "slideshow": {
     "slide_type": "subslide"
    }
   },
   "source": [
    "## Objects\n"
   ]
  },
  {
   "cell_type": "markdown",
   "metadata": {
    "slideshow": {
     "slide_type": "fragment"
    }
   },
   "source": [
    "- An object is a variable that has a state and behavior associated with it.\n",
    "- An object can be as simple as a integer\n",
    "- An object can be as complex as nested functions\n"
   ]
  },
  {
   "cell_type": "markdown",
   "metadata": {
    "slideshow": {
     "slide_type": "subslide"
    }
   },
   "source": [
    "### Components of Objects\n",
    "\n",
    "- **State:** It is represented by the attributes of an object. It also reflects the properties of an object.\n",
    "- **Behavior** Methods of the object, and how the object interacts with other objects\n",
    "- **Identity** The Unique name that is used to identify the object\n"
   ]
  },
  {
   "cell_type": "markdown",
   "metadata": {
    "slideshow": {
     "slide_type": "skip"
    }
   },
   "source": [
    "#### Let's build and object from the `class`\n"
   ]
  },
  {
   "cell_type": "code",
   "execution_count": null,
   "metadata": {
    "slideshow": {
     "slide_type": "fragment"
    }
   },
   "outputs": [],
   "source": [
    "obj = Rubber_Duck()\n"
   ]
  },
  {
   "cell_type": "markdown",
   "metadata": {
    "slideshow": {
     "slide_type": "fragment"
    }
   },
   "source": [
    "- This created an object of the type `Rubber_Duck`\n"
   ]
  },
  {
   "cell_type": "markdown",
   "metadata": {
    "slideshow": {
     "slide_type": "subslide"
    }
   },
   "source": [
    "### The `self` class\n"
   ]
  },
  {
   "cell_type": "markdown",
   "metadata": {
    "slideshow": {
     "slide_type": "fragment"
    }
   },
   "source": [
    "- Class methods have an initial parameter which refers to itself\n"
   ]
  },
  {
   "cell_type": "markdown",
   "metadata": {
    "slideshow": {
     "slide_type": "fragment"
    }
   },
   "source": [
    "- If we call `myobj.method(arg1, arg2)` we are actually calling `myobj.method(myobj, arg1, arg2)`\n"
   ]
  },
  {
   "cell_type": "markdown",
   "metadata": {
    "slideshow": {
     "slide_type": "fragment"
    }
   },
   "source": [
    "- To simplify this in classes, the `self` refers to the object\n"
   ]
  },
  {
   "cell_type": "markdown",
   "metadata": {
    "slideshow": {
     "slide_type": "subslide"
    }
   },
   "source": [
    "### The `__init__` method\n"
   ]
  },
  {
   "cell_type": "markdown",
   "metadata": {
    "slideshow": {
     "slide_type": "fragment"
    }
   },
   "source": [
    "```ipython\n",
    "def __init__(self, arg):\n",
    "    self.arg = arg\n",
    "```\n"
   ]
  },
  {
   "cell_type": "markdown",
   "metadata": {
    "slideshow": {
     "slide_type": "fragment"
    }
   },
   "source": [
    "- This method is called when the object is instantiated\n"
   ]
  },
  {
   "cell_type": "markdown",
   "metadata": {
    "slideshow": {
     "slide_type": "subslide"
    }
   },
   "source": [
    "## In-Class Exercise: Creating a class and objects with attributes and instance attributes\n"
   ]
  },
  {
   "cell_type": "markdown",
   "metadata": {
    "slideshow": {
     "slide_type": "fragment"
    }
   },
   "source": [
    "Task:\n",
    "\n",
    "- Create a Class Rubber_Duck\n",
    "- Add an attribute `obj_type` and set it equal to \"toy\"\n",
    "- Use the `__init__` function to set the name\n",
    "- Instantiate two objects `luke_skywalker` with a name `Luke Skywalker` and `leia_Organa` with a name `Leia Organa`\n"
   ]
  },
  {
   "cell_type": "code",
   "execution_count": null,
   "metadata": {
    "slideshow": {
     "slide_type": "fragment"
    }
   },
   "outputs": [],
   "source": [
    "# Type your solution here\n"
   ]
  },
  {
   "cell_type": "code",
   "execution_count": null,
   "metadata": {
    "slideshow": {
     "slide_type": "subslide"
    },
    "tags": [
     "hide-cell"
    ]
   },
   "outputs": [],
   "source": [
    "class Rubber_Duck:  # Defines the class\n",
    "\n",
    "    # Class attribute\n",
    "    obj_type = \"toy\"\n",
    "\n",
    "    # Instance attribute\n",
    "    def __init__(self, name):\n",
    "        self.name = name\n",
    "\n",
    "\n",
    "# Object instantiation\n",
    "luke_skywalker = Rubber_Duck(\"Luke Skywalker\")\n",
    "leia_organa = Rubber_Duck(\"Leia Organa\")\n"
   ]
  },
  {
   "cell_type": "markdown",
   "metadata": {
    "slideshow": {
     "slide_type": "fragment"
    }
   },
   "source": [
    "### Test\n"
   ]
  },
  {
   "cell_type": "code",
   "execution_count": null,
   "metadata": {
    "slideshow": {
     "slide_type": "fragment"
    }
   },
   "outputs": [],
   "source": [
    "# Accessing class attributes\n",
    "print(f\"Luke Skywalker is a {luke_skywalker.__class__.obj_type}\")\n",
    "print(f\"Leia Organa is a {leia_organa.__class__.obj_type}\")\n",
    "\n",
    "# Accessing instance attributes\n",
    "print(f\"My name is {luke_skywalker.name}\")\n",
    "print(f\"My name is {leia_organa.name}\")\n"
   ]
  },
  {
   "cell_type": "markdown",
   "metadata": {
    "slideshow": {
     "slide_type": "subslide"
    }
   },
   "source": [
    "### Adding a Method\n",
    "\n",
    "- You can add methods within the class\n",
    "\n",
    "Task:\n",
    "\n",
    "- Add a method to the class `Rubber_Duck` that completes the line `f\"My name is {leia_organa.name}\"` when `class.speak` is called\n"
   ]
  },
  {
   "cell_type": "code",
   "execution_count": null,
   "metadata": {
    "slideshow": {
     "slide_type": "fragment"
    }
   },
   "outputs": [],
   "source": [
    "# Your solution goes here"
   ]
  },
  {
   "cell_type": "code",
   "execution_count": null,
   "metadata": {
    "slideshow": {
     "slide_type": "subslide"
    },
    "tags": [
     "hide-cell"
    ]
   },
   "outputs": [],
   "source": [
    "class Rubber_Duck:  # Defines the class\n",
    "\n",
    "    # Class attribute\n",
    "    obj_type = \"toy\"\n",
    "\n",
    "    # Instance attribute\n",
    "    def __init__(self, name):\n",
    "        self.name = name\n",
    "\n",
    "    def speak(self):\n",
    "        print(f\"My name is {self.name}\")\n",
    "\n",
    "\n",
    "# Object instantiation\n",
    "luke_skywalker = Rubber_Duck(\"Luke Skywalker\")\n",
    "leia_organa = Rubber_Duck(\"Leia Organa\")\n"
   ]
  },
  {
   "cell_type": "markdown",
   "metadata": {
    "slideshow": {
     "slide_type": "fragment"
    }
   },
   "source": [
    "#### Test\n"
   ]
  },
  {
   "cell_type": "code",
   "execution_count": null,
   "metadata": {
    "slideshow": {
     "slide_type": "fragment"
    }
   },
   "outputs": [],
   "source": [
    "luke_skywalker.speak()\n",
    "leia_organa.speak()\n"
   ]
  },
  {
   "cell_type": "markdown",
   "metadata": {
    "slideshow": {
     "slide_type": "subslide"
    }
   },
   "source": [
    "## Inheritance\n",
    "\n",
    "- Inheritance allows one class to inherit properties from another class\n"
   ]
  },
  {
   "cell_type": "markdown",
   "metadata": {
    "slideshow": {
     "slide_type": "fragment"
    }
   },
   "source": [
    "- Usually referred to as child and parent classes\n"
   ]
  },
  {
   "cell_type": "markdown",
   "metadata": {
    "slideshow": {
     "slide_type": "fragment"
    }
   },
   "source": [
    "- It allows you to better represent real-world relationships\n"
   ]
  },
  {
   "cell_type": "markdown",
   "metadata": {
    "slideshow": {
     "slide_type": "fragment"
    }
   },
   "source": [
    "- Code can become much more reusable\n"
   ]
  },
  {
   "cell_type": "markdown",
   "metadata": {
    "slideshow": {
     "slide_type": "fragment"
    }
   },
   "source": [
    "- It is transitive meaning that if Class B inherits from Class A than subclasses of Class B would also inherit from Class A\n"
   ]
  },
  {
   "cell_type": "markdown",
   "metadata": {
    "slideshow": {
     "slide_type": "subslide"
    }
   },
   "source": [
    "### Inheritance Example\n"
   ]
  },
  {
   "cell_type": "markdown",
   "metadata": {
    "slideshow": {
     "slide_type": "fragment"
    }
   },
   "source": [
    "```{admonition} Syntax\n",
    "Class BaseClass:\n",
    "    {Body}\n",
    "Class DerivedClass(BaseClass):\n",
    "    {Body}\n",
    "```\n"
   ]
  },
  {
   "cell_type": "markdown",
   "metadata": {
    "slideshow": {
     "slide_type": "fragment"
    }
   },
   "source": [
    "#### Step 1: Create a parent class with a method\n",
    "\n",
    "- Create a parent class named `Person` that defines a `name` and `age`\n",
    "- Add a Class method that prints the name and title\n"
   ]
  },
  {
   "cell_type": "code",
   "execution_count": null,
   "metadata": {
    "slideshow": {
     "slide_type": "fragment"
    }
   },
   "outputs": [],
   "source": [
    "# Your solution goes here"
   ]
  },
  {
   "cell_type": "code",
   "execution_count": null,
   "metadata": {
    "slideshow": {
     "slide_type": "subslide"
    },
    "tags": [
     "hide-cell"
    ]
   },
   "outputs": [],
   "source": [
    "class Person:\n",
    "\n",
    "    # Constructor\n",
    "    def __init__(self, name, age):\n",
    "        self.name = name\n",
    "        self.age = age\n",
    "\n",
    "    # To check if this person is an employee\n",
    "    def Display(self):\n",
    "        print(self.name, self.age)\n"
   ]
  },
  {
   "cell_type": "markdown",
   "metadata": {
    "slideshow": {
     "slide_type": "fragment"
    }
   },
   "source": [
    "##### Testing\n"
   ]
  },
  {
   "cell_type": "code",
   "execution_count": null,
   "metadata": {
    "slideshow": {
     "slide_type": "fragment"
    }
   },
   "outputs": [],
   "source": [
    "jedi = Person(\"Darth Vader\", 56)\n",
    "jedi.Display()\n"
   ]
  },
  {
   "cell_type": "markdown",
   "metadata": {
    "slideshow": {
     "slide_type": "subslide"
    }
   },
   "source": [
    "#### Step 2: Creating a Child Class;\n",
    "\n",
    "- Create a child class of `Person`, `Jedi` that has a method `Print` that prints `Jedi's use the force`\n"
   ]
  },
  {
   "cell_type": "code",
   "execution_count": null,
   "metadata": {
    "slideshow": {
     "slide_type": "fragment"
    }
   },
   "outputs": [],
   "source": [
    "# Your solution goes here"
   ]
  },
  {
   "cell_type": "code",
   "execution_count": null,
   "metadata": {
    "slideshow": {
     "slide_type": "subslide"
    },
    "tags": [
     "hide-cell"
    ]
   },
   "outputs": [],
   "source": [
    "class Jedi(Person):\n",
    "    def Print(self):\n",
    "        print(\"Jedi's use the force\")\n"
   ]
  },
  {
   "cell_type": "markdown",
   "metadata": {
    "slideshow": {
     "slide_type": "fragment"
    }
   },
   "source": [
    "##### Testing\n"
   ]
  },
  {
   "cell_type": "code",
   "execution_count": null,
   "metadata": {
    "slideshow": {
     "slide_type": "fragment"
    }
   },
   "outputs": [],
   "source": [
    "# instantiate the parent class\n",
    "jedi_info = Jedi(\"Darth Vader\", 56)\n",
    "\n",
    "# calls the parent class\n",
    "jedi_info.Display()\n",
    "\n",
    "# calls the child class\n",
    "jedi_info.Print()\n"
   ]
  },
  {
   "cell_type": "markdown",
   "metadata": {
    "slideshow": {
     "slide_type": "subslide"
    }
   },
   "source": [
    "#### Step 3: Adding Inheritance\n",
    "\n",
    "- Starting with the base Class `Person` add a method to `getName` that returns the `name`\n",
    "- Add a method `isAlliance` that establishes if the person is part of the Rebel Alliance, the default should be `False`\n",
    "- Add a inherited child class `Alliance` that changes `isAlliance` to `True`\n"
   ]
  },
  {
   "cell_type": "code",
   "execution_count": null,
   "metadata": {
    "slideshow": {
     "slide_type": "fragment"
    }
   },
   "outputs": [],
   "source": [
    "# Your solution goes here"
   ]
  },
  {
   "cell_type": "code",
   "execution_count": null,
   "metadata": {
    "slideshow": {
     "slide_type": "subslide"
    },
    "tags": [
     "hide-cell"
    ]
   },
   "outputs": [],
   "source": [
    "class Person:\n",
    "\n",
    "    # Constructor\n",
    "    def __init__(self, name, age):\n",
    "        self.name = name\n",
    "        self.age = age\n",
    "\n",
    "    # Function that gets the name\n",
    "    def getName(self):\n",
    "        return self.name\n",
    "\n",
    "    # Function that returns if the person is part of the alliance\n",
    "    def isAlliance(self):\n",
    "        return False\n",
    "\n",
    "\n",
    "# Inherited child class\n",
    "class Alliance(Person):\n",
    "\n",
    "    # This will change the isAlliance class to True\n",
    "    def isAlliance(self):\n",
    "        return True\n"
   ]
  },
  {
   "cell_type": "markdown",
   "metadata": {
    "slideshow": {
     "slide_type": "fragment"
    }
   },
   "source": [
    "##### Test\n"
   ]
  },
  {
   "cell_type": "code",
   "execution_count": null,
   "metadata": {
    "slideshow": {
     "slide_type": "fragment"
    }
   },
   "outputs": [],
   "source": [
    "darth_vader = Person(\"Darth Vader\", 56)\n",
    "print(darth_vader.getName(), darth_vader.isAlliance())\n",
    "\n",
    "luke_skywalker = Alliance(\"Luke Skywalker\", 21)\n",
    "print(luke_skywalker.getName(), luke_skywalker.isAlliance())\n"
   ]
  },
  {
   "cell_type": "markdown",
   "metadata": {
    "slideshow": {
     "slide_type": "slide"
    }
   },
   "source": [
    "## Exercise: Classes with Methods for Strings\n",
    "\n",
    "When you build a class there are a bunch of built-in magic methods methods. These can be used to do simple operations\n",
    "\n",
    "In this exercise we are going to use the methods `__str__` and `__repr__`\n",
    "\n",
    "`__str__` - To get called by built-int str() method to return a string representation of a type.\n",
    "\n",
    "`__repr__` - To get called by built-int repr() method to return a machine readable representation of a type.\n",
    "\n",
    "## Tasks\n",
    "\n",
    "1. Build a class called `Person` that records the first name `first_name`, last name `last_name`, and age `age`\n",
    "2. Add built in methods that returns a `__str__` as an f-string. It should read \"{First Name} {Last Name} is {age}\"\n",
    "3. Add built in methods that returns a `__repr__` as an f-string. It should read \"{First Name} {Last Name} is very old, they are {age}\"\n",
    "4. Try this with a person named \"Luke\" \"Skywalker\" age \"80\"\n",
    "5. Since you added the `__str__` and `__repr__` functions the object can act as a string. Try this by printing the object using an f-string.\n",
    "6. You can print the machine readable version using the following syntax `f\"{object!r}\n"
   ]
  },
  {
   "cell_type": "code",
   "execution_count": null,
   "metadata": {
    "slideshow": {
     "slide_type": "fragment"
    }
   },
   "outputs": [],
   "source": [
    "# Type your code here"
   ]
  },
  {
   "cell_type": "code",
   "execution_count": null,
   "metadata": {
    "slideshow": {
     "slide_type": "subslide"
    },
    "tags": [
     "hide-cell"
    ]
   },
   "outputs": [],
   "source": [
    "class Person:\n",
    "    def __init__(self, first_name, last_name, age):\n",
    "        self.first_name = first_name\n",
    "        self.last_name = last_name\n",
    "        self.age = age\n",
    "\n",
    "    def __str__(self):\n",
    "        return f\"{self.first_name} {self.last_name} is {self.age}.\"\n",
    "\n",
    "    def __repr__(self):\n",
    "        return f\"{self.first_name} {self.last_name} is very old, they are {self.age}\"\n",
    "\n",
    "new_person = Person(\"Luke\", \"Skywalker\", \"80\")\n"
   ]
  },
  {
   "cell_type": "code",
   "execution_count": null,
   "metadata": {
    "slideshow": {
     "slide_type": "fragment"
    }
   },
   "outputs": [],
   "source": [
    "f\"{new_person}\""
   ]
  },
  {
   "cell_type": "code",
   "execution_count": null,
   "metadata": {
    "slideshow": {
     "slide_type": "fragment"
    }
   },
   "outputs": [],
   "source": [
    "f\"{new_person!r}\""
   ]
  }
 ],
 "metadata": {
  "celltoolbar": "Slideshow",
  "kernelspec": {
   "display_name": "Python 3 (ipykernel)",
   "language": "python",
   "name": "python3"
  },
  "language_info": {
   "codemirror_mode": {
    "name": "ipython",
    "version": 3
   },
   "file_extension": ".py",
   "mimetype": "text/x-python",
   "name": "python",
   "nbconvert_exporter": "python",
   "pygments_lexer": "ipython3",
   "version": "3.10.0"
  },
  "varInspector": {
   "cols": {
    "lenName": 16,
    "lenType": 16,
    "lenVar": 40
   },
   "kernels_config": {
    "python": {
     "delete_cmd_postfix": "",
     "delete_cmd_prefix": "del ",
     "library": "var_list.py",
     "varRefreshCmd": "print(var_dic_list())"
    },
    "r": {
     "delete_cmd_postfix": ") ",
     "delete_cmd_prefix": "rm(",
     "library": "var_list.r",
     "varRefreshCmd": "cat(var_dic_list()) "
    }
   },
   "types_to_exclude": [
    "module",
    "function",
    "builtin_function_or_method",
    "instance",
    "_Feature"
   ],
   "window_display": false
  }
 },
 "nbformat": 4,
 "nbformat_minor": 2
}
