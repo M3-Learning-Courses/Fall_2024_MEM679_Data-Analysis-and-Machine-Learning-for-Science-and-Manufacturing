{
 "cells": [
  {
   "cell_type": "markdown",
   "metadata": {
    "slideshow": {
     "slide_type": "slide"
    }
   },
   "source": [
    "# `*args` and `**kwargs`\n"
   ]
  },
  {
   "cell_type": "markdown",
   "metadata": {
    "slideshow": {
     "slide_type": "fragment"
    }
   },
   "source": [
    "![](figs/args_kwargs.png)\n"
   ]
  },
  {
   "cell_type": "markdown",
   "metadata": {
    "slideshow": {
     "slide_type": "subslide"
    }
   },
   "source": [
    "## What is Python \\*args ?\n",
    "\n",
    "The special syntax `*args` in function definitions in python is used to pass a variable number of arguments to a function. It is used to pass a non-key worded, variable-length argument list.\n"
   ]
  },
  {
   "cell_type": "markdown",
   "metadata": {
    "slideshow": {
     "slide_type": "fragment"
    }
   },
   "source": [
    "- The syntax is to use the symbol \\* to take in a variable number of arguments; by convention, it is often used with the word args.\n"
   ]
  },
  {
   "cell_type": "markdown",
   "metadata": {
    "slideshow": {
     "slide_type": "fragment"
    }
   },
   "source": [
    "- What *args allows you to do is take in more arguments than the number of formal arguments that you previously defined. With *args, any number of extra arguments can be tacked on to your current formal parameters (including zero extra arguments)\n"
   ]
  },
  {
   "cell_type": "markdown",
   "metadata": {
    "slideshow": {
     "slide_type": "fragment"
    }
   },
   "source": [
    "- For example, we want to make a multiply function that takes any number of arguments and is able to multiply them all together. It can be done using \\*args.\n"
   ]
  },
  {
   "cell_type": "markdown",
   "metadata": {
    "slideshow": {
     "slide_type": "fragment"
    }
   },
   "source": [
    "- Using the _, the variable that we associate with the _ becomes an iterable meaning you can do things like iterate over it, run some higher-order functions such as map and filter, etc.\n"
   ]
  },
  {
   "cell_type": "markdown",
   "metadata": {
    "slideshow": {
     "slide_type": "subslide"
    }
   },
   "source": [
    "### Example: Simple `*args` Example\n"
   ]
  },
  {
   "cell_type": "code",
   "execution_count": null,
   "metadata": {
    "slideshow": {
     "slide_type": "fragment"
    }
   },
   "outputs": [],
   "source": [
    "def myFun(*args):\n",
    "    for arg in args:\n",
    "        print(arg)\n",
    "\n",
    "\n",
    "myFun(\"Hello\", \"Welcome\", \"to\", \"Drexel\")\n"
   ]
  },
  {
   "cell_type": "markdown",
   "metadata": {
    "slideshow": {
     "slide_type": "subslide"
    }
   },
   "source": [
    "### Example of `*args` with First Extra Argument\n"
   ]
  },
  {
   "cell_type": "code",
   "execution_count": null,
   "metadata": {
    "slideshow": {
     "slide_type": "fragment"
    }
   },
   "outputs": [],
   "source": [
    "def myFun(arg1, *args):\n",
    "    print(\"First argument :\", arg1)\n",
    "    for arg in args:\n",
    "        print(\"Next argument through *args :\", arg)\n",
    "\n",
    "\n",
    "myFun(\"Hello\", \"Welcome\", \"to\", \"Drexel\")\n"
   ]
  },
  {
   "cell_type": "markdown",
   "metadata": {
    "slideshow": {
     "slide_type": "subslide"
    }
   },
   "source": [
    "## What is Python `**kwargs`?\n",
    "\n",
    "The special syntax `**kwargs` in function definitions in python is used to pass a keyworded, variable-length argument list. We use the name kwargs with the double star. The reason is that the double star allows us to pass through keyword arguments (and any number of them).\n"
   ]
  },
  {
   "cell_type": "markdown",
   "metadata": {
    "slideshow": {
     "slide_type": "fragment"
    }
   },
   "source": [
    "- A keyword argument is where you provide a name to the variable as you pass it into the function.\n"
   ]
  },
  {
   "cell_type": "markdown",
   "metadata": {
    "slideshow": {
     "slide_type": "fragment"
    }
   },
   "source": [
    "- One can think of the kwargs as being a dictionary that maps each keyword to the value that we pass alongside it. That is why when we iterate over the kwargs there doesn’t seem to be any order in which they were printed out.\n"
   ]
  },
  {
   "cell_type": "markdown",
   "metadata": {
    "slideshow": {
     "slide_type": "subslide"
    }
   },
   "source": [
    "### Example using `**kwargs`\n"
   ]
  },
  {
   "cell_type": "code",
   "execution_count": null,
   "metadata": {
    "slideshow": {
     "slide_type": "fragment"
    }
   },
   "outputs": [],
   "source": [
    "def myFun(**kwargs):\n",
    "    for key, value in kwargs.items():\n",
    "        print(f\"{key} {value}\")\n",
    "\n",
    "\n",
    "# Driver code\n",
    "myFun(first=\"Welcome\", mid=\"to\", last=\"Drexel\")\n"
   ]
  },
  {
   "cell_type": "markdown",
   "metadata": {
    "slideshow": {
     "slide_type": "subslide"
    }
   },
   "source": [
    "### Example using `*args` and `**kwargs`\n"
   ]
  },
  {
   "cell_type": "code",
   "execution_count": null,
   "metadata": {
    "slideshow": {
     "slide_type": "fragment"
    }
   },
   "outputs": [],
   "source": [
    "def myFun(arg1, arg2, arg3):\n",
    "    print(\"arg1:\", arg1)\n",
    "    print(\"arg2:\", arg2)\n",
    "    print(\"arg3:\", arg3)\n",
    "\n",
    "\n",
    "# Now we can use *args or **kwargs to\n",
    "# pass arguments to this function :\n",
    "print(\"Version with *args\")\n",
    "args = (\"Welcome\", \"to\", \"Drexel\")\n",
    "myFun(*args)"
   ]
  },
  {
   "cell_type": "code",
   "execution_count": null,
   "metadata": {
    "slideshow": {
     "slide_type": "fragment"
    }
   },
   "outputs": [],
   "source": [
    "print(\"Version with **kwargs\")\n",
    "kwargs = {\"arg1\": \"Welcome\", \"arg2\": \"to\", \"arg3\": \"Drexel\"}\n",
    "myFun(**kwargs)"
   ]
  },
  {
   "cell_type": "code",
   "execution_count": null,
   "metadata": {
    "slideshow": {
     "slide_type": "fragment"
    }
   },
   "outputs": [],
   "source": [
    "def myFun(*args, **kwargs):\n",
    "    print(\"args: \", args)\n",
    "    print(\"kwargs: \", kwargs)\n",
    "\n",
    "\n",
    "# Now we can use both *args ,**kwargs\n",
    "# to pass arguments to this function :\n",
    "myFun(\"Welcome\", \"to\", \"Drexel\", first=\"Come\", mid=\"to\", last=\"Drexel\")\n"
   ]
  },
  {
   "cell_type": "markdown",
   "metadata": {
    "slideshow": {
     "slide_type": "subslide"
    }
   },
   "source": [
    "### Example: Using `*args` and `**kwargs` to set values of object\n"
   ]
  },
  {
   "cell_type": "code",
   "execution_count": null,
   "metadata": {
    "slideshow": {
     "slide_type": "fragment"
    }
   },
   "outputs": [],
   "source": [
    "class car:  # defining car class\n",
    "    def __init__(self, *args):  # args receives unlimited no. of arguments as an array\n",
    "        self.speed = args[0]  # access args index like array does\n",
    "        self.color = args[1]\n",
    "\n",
    "\n",
    "# creating objects of car class\n",
    "\n",
    "audi = car(200, \"red\")\n",
    "bmw = car(250, \"black\")\n",
    "mb = car(190, \"white\")\n",
    "\n",
    "print(audi.color)\n",
    "print(bmw.speed)\n"
   ]
  },
  {
   "cell_type": "code",
   "execution_count": null,
   "metadata": {
    "slideshow": {
     "slide_type": "fragment"
    }
   },
   "outputs": [],
   "source": [
    "class car:  # defining car class\n",
    "    def __init__(\n",
    "        self, **kwargs\n",
    "    ):  # args receives unlimited no. of arguments as an array\n",
    "        self.speed = kwargs[\"s\"]  # access args index like array does\n",
    "        self.color = kwargs[\"c\"]\n",
    "\n",
    "\n",
    "# creating objects of car class\n",
    "\n",
    "audi = car(s=200, c=\"red\")\n",
    "bmw = car(s=250, c=\"black\")\n",
    "mb = car(s=190, c=\"white\")\n",
    "\n",
    "print(audi.color)\n",
    "print(bmw.speed)\n"
   ]
  }
 ],
 "metadata": {
  "celltoolbar": "Slideshow",
  "kernelspec": {
   "display_name": "Python 3 (ipykernel)",
   "language": "python",
   "name": "python3"
  },
  "language_info": {
   "codemirror_mode": {
    "name": "ipython",
    "version": 3
   },
   "file_extension": ".py",
   "mimetype": "text/x-python",
   "name": "python",
   "nbconvert_exporter": "python",
   "pygments_lexer": "ipython3",
   "version": "3.10.0"
  },
  "varInspector": {
   "cols": {
    "lenName": 16,
    "lenType": 16,
    "lenVar": 40
   },
   "kernels_config": {
    "python": {
     "delete_cmd_postfix": "",
     "delete_cmd_prefix": "del ",
     "library": "var_list.py",
     "varRefreshCmd": "print(var_dic_list())"
    },
    "r": {
     "delete_cmd_postfix": ") ",
     "delete_cmd_prefix": "rm(",
     "library": "var_list.r",
     "varRefreshCmd": "cat(var_dic_list()) "
    }
   },
   "types_to_exclude": [
    "module",
    "function",
    "builtin_function_or_method",
    "instance",
    "_Feature"
   ],
   "window_display": false
  }
 },
 "nbformat": 4,
 "nbformat_minor": 2
}
