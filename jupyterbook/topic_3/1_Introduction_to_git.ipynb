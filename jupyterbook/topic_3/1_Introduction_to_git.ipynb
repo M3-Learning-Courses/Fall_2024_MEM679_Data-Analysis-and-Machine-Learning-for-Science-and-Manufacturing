{
 "cells": [
  {
   "cell_type": "code",
   "execution_count": null,
   "metadata": {
    "slideshow": {
     "slide_type": "fragment"
    },
    "tags": [
     "hide-input"
    ]
   },
   "outputs": [],
   "source": [
    "from IPython.display import IFrame\n"
   ]
  },
  {
   "cell_type": "markdown",
   "metadata": {
    "slideshow": {
     "slide_type": "slide"
    }
   },
   "source": [
    "# Introduction to GitHub\n"
   ]
  },
  {
   "cell_type": "markdown",
   "metadata": {
    "slideshow": {
     "slide_type": "fragment"
    }
   },
   "source": [
    "- GitHub is a code hosting platform for version control and collaboration. It lets you and others work together on projects from anywhere.\n"
   ]
  },
  {
   "cell_type": "markdown",
   "metadata": {
    "slideshow": {
     "slide_type": "slide"
    }
   },
   "source": [
    "## Reasons to Use GitHub\n",
    "\n",
    "1. **Version Control**  \n",
    "   GitHub provides powerful version control through Git, allowing you to track changes, revert to previous versions, and collaborate without losing work.\n"
   ]
  },
  {
   "cell_type": "markdown",
   "metadata": {
    "slideshow": {
     "slide_type": "fragment"
    }
   },
   "source": [
    "2. **Collaboration**  \n",
    "   It enables multiple developers to work on the same project concurrently, with features like pull requests, issues, and code reviews to streamline teamwork.\n"
   ]
  },
  {
   "cell_type": "markdown",
   "metadata": {
    "slideshow": {
     "slide_type": "fragment"
    }
   },
   "source": [
    "3. **Project Management**  \n",
    "   GitHub offers built-in project management tools such as issues, task lists, milestones, and kanban boards, making it easier to organize and prioritize tasks.\n"
   ]
  },
  {
   "cell_type": "markdown",
   "metadata": {
    "slideshow": {
     "slide_type": "fragment"
    }
   },
   "source": [
    "4. **Open Source Support**  \n",
    "   GitHub hosts a massive number of open source projects, providing a platform to contribute to and collaborate on widely-used software.\n"
   ]
  },
  {
   "cell_type": "markdown",
   "metadata": {
    "slideshow": {
     "slide_type": "fragment"
    }
   },
   "source": [
    "5. **Continuous Integration/Deployment (CI/CD)**  \n",
    "   GitHub integrates with CI/CD pipelines, enabling automated testing, builds, and deployments every time code is committed.\n"
   ]
  },
  {
   "cell_type": "markdown",
   "metadata": {
    "slideshow": {
     "slide_type": "fragment"
    }
   },
   "source": [
    "6. **Documentation**  \n",
    "   You can use GitHub Pages to host project documentation, making it accessible directly from your repository.\n"
   ]
  },
  {
   "cell_type": "markdown",
   "metadata": {
    "slideshow": {
     "slide_type": "fragment"
    }
   },
   "source": [
    "7. **Security Features**  \n",
    "   GitHub includes security alerts for known vulnerabilities in dependencies, and you can configure branch protections to prevent unreviewed code from being merged.\n"
   ]
  },
  {
   "cell_type": "markdown",
   "metadata": {
    "slideshow": {
     "slide_type": "fragment"
    }
   },
   "source": [
    "8. **Community Engagement**  \n",
    "   GitHub provides a platform to engage with a global developer community, receiving feedback, support, and collaboration opportunities.\n"
   ]
  },
  {
   "cell_type": "markdown",
   "metadata": {
    "slideshow": {
     "slide_type": "fragment"
    }
   },
   "source": [
    "9. **Integration with Other Tools**  \n",
    "   GitHub integrates with various development tools such as IDEs, project management software, and CI/CD tools to streamline the development workflow.\n"
   ]
  },
  {
   "cell_type": "markdown",
   "metadata": {
    "slideshow": {
     "slide_type": "fragment"
    }
   },
   "source": [
    "10. **Backups and Reliability**  \n",
    "    GitHub's cloud infrastructure ensures that your code is backed up and accessible from anywhere, reducing the risk of data loss.\n"
   ]
  },
  {
   "cell_type": "markdown",
   "metadata": {
    "slideshow": {
     "slide_type": "fragment"
    }
   },
   "source": [
    "11. **GitHub Actions**  \n",
    "    With GitHub Actions, you can automate workflows such as testing, building, and deployment directly from the repository.\n"
   ]
  },
  {
   "cell_type": "markdown",
   "metadata": {
    "slideshow": {
     "slide_type": "fragment"
    }
   },
   "source": [
    "12. **Free and Open Access**  \n",
    "    GitHub offers free repositories, even for private projects, with options to upgrade for more advanced features if needed.\n"
   ]
  },
  {
   "cell_type": "markdown",
   "metadata": {
    "slideshow": {
     "slide_type": "fragment"
    }
   },
   "source": [
    "13. **Portfolio for Developers**  \n",
    "    Developers can showcase their projects and contributions publicly, making GitHub a great platform for building a professional portfolio.\n"
   ]
  },
  {
   "cell_type": "markdown",
   "metadata": {
    "slideshow": {
     "slide_type": "slide"
    }
   },
   "source": [
    "## Creating a Repository\n",
    "\n",
    "a **repository** is usually used to organize a single project.\n",
    "\n",
    "- Contains: folders and files, images, video, spreadsheets, and data.\n"
   ]
  },
  {
   "cell_type": "markdown",
   "metadata": {
    "slideshow": {
     "slide_type": "fragment"
    }
   },
   "source": [
    "### Standard Files\n",
    "\n",
    "#### Readme\n",
    "\n",
    "- Contains information about the repository\n"
   ]
  },
  {
   "cell_type": "markdown",
   "metadata": {
    "slideshow": {
     "slide_type": "fragment"
    }
   },
   "source": [
    "#### License file\n",
    "\n",
    "- Sets the license that allows others to use your software\n"
   ]
  },
  {
   "cell_type": "markdown",
   "metadata": {
    "slideshow": {
     "slide_type": "slide"
    }
   },
   "source": [
    "## Common license\n"
   ]
  },
  {
   "cell_type": "markdown",
   "metadata": {
    "slideshow": {
     "slide_type": "subslide"
    }
   },
   "source": [
    "### BSD-3 Clause\n",
    "\n",
    "Note: This license has also been called the “New BSD License” or “Modified BSD License”. See also the 2-clause BSD License.\n",
    "\n",
    "Copyright <YEAR> <COPYRIGHT\n",
    "Copyright <YEAR> <COPYRIGHT HOLDER>\n",
    "\n",
    "Redistribution and use in source and binary forms, with or without modification, are permitted provided that the following conditions are met:\n",
    "\n",
    "1. Redistributions of source code must retain the above copyright notice, this list of conditions and the following disclaimer.\n",
    "\n",
    "2. Redistributions in binary form must reproduce the above copyright notice, this list of conditions and the following disclaimer in the documentation and/or other materials provided with the distribution.\n",
    "\n",
    "3. Neither the name of the copyright holder nor the names of its contributors may be used to endorse or promote products derived from this software without specific prior written permission.\n",
    "\n",
    "THIS SOFTWARE IS PROVIDED BY THE COPYRIGHT HOLDERS AND CONTRIBUTORS “AS IS” AND ANY EXPRESS OR IMPLIED WARRANTIES, INCLUDING, BUT NOT LIMITED TO, THE IMPLIED WARRANTIES OF MERCHANTABILITY AND FITNESS FOR A PARTICULAR PURPOSE ARE DISCLAIMED. IN NO EVENT SHALL THE COPYRIGHT HOLDER OR CONTRIBUTORS BE LIABLE FOR ANY DIRECT, INDIRECT, INCIDENTAL, SPECIAL, EXEMPLARY, OR CONSEQUENTIAL DAMAGES (INCLUDING, BUT NOT LIMITED TO, PROCUREMENT OF SUBSTITUTE GOODS OR SERVICES; LOSS OF USE, DATA, OR PROFITS; OR BUSINESS INTERRUPTION) HOWEVER CAUSED AND ON ANY THEORY OF LIABILITY, WHETHER IN CONTRACT, STRICT LIABILITY, OR TORT (INCLUDING NEGLIGENCE OR OTHERWISE) ARISING IN ANY WAY OUT OF THE USE OF THIS SOFTWARE, EVEN IF ADVISED OF THE POSSIBILITY OF SUCH DAMAGE.\n"
   ]
  },
  {
   "cell_type": "markdown",
   "metadata": {
    "slideshow": {
     "slide_type": "subslide"
    }
   },
   "source": [
    "### MIT License\n",
    "\n",
    "Copyright \\<YEAR> \\<COPYRIGHT HOLDER>\n",
    "\n",
    "Permission is hereby granted, free of charge, to any person obtaining a copy of this software and associated documentation files (the \"Software\"), to deal in the Software without restriction, including without limitation the rights to use, copy, modify, merge, publish, distribute, sublicense, and/or sell copies of the Software, and to permit persons to whom the Software is furnished to do so, subject to the following conditions:\n",
    "\n",
    "The above copyright notice and this permission notice shall be included in all copies or substantial portions of the Software.\n",
    "\n",
    "THE SOFTWARE IS PROVIDED \"AS IS\", WITHOUT WARRANTY OF ANY KIND, EXPRESS OR IMPLIED, INCLUDING BUT NOT LIMITED TO THE WARRANTIES OF MERCHANTABILITY, FITNESS FOR A PARTICULAR PURPOSE AND NONINFRINGEMENT. IN NO EVENT SHALL THE AUTHORS OR COPYRIGHT HOLDERS BE LIABLE FOR ANY CLAIM, DAMAGES OR OTHER LIABILITY, WHETHER IN AN ACTION OF CONTRACT, TORT OR OTHERWISE, ARISING FROM, OUT OF OR IN CONNECTION WITH THE SOFTWARE OR THE USE OR OTHER DEALINGS IN THE SOFTWARE.\n"
   ]
  },
  {
   "cell_type": "markdown",
   "metadata": {
    "slideshow": {
     "slide_type": "subslide"
    }
   },
   "source": [
    "### GNU General Public License\n",
    "\n",
    "<one line to give the program's name and a brief idea of what it does.>\n",
    "Copyright (C) <year> <name of author>\n",
    "\n",
    "This program is free software: you can redistribute it and/or modify\n",
    "it under the terms of the GNU General Public License as published by\n",
    "the Free Software Foundation, either version 3 of the License, or\n",
    "(at your option) any later version.\n",
    "\n",
    "This program is distributed in the hope that it will be useful,\n",
    "but WITHOUT ANY WARRANTY; without even the implied warranty of\n",
    "MERCHANTABILITY or FITNESS FOR A PARTICULAR PURPOSE. See the\n",
    "GNU General Public License for more details.\n",
    "\n",
    "You should have received a copy of the GNU General Public License\n"
   ]
  },
  {
   "cell_type": "markdown",
   "metadata": {
    "slideshow": {
     "slide_type": "subslide"
    }
   },
   "source": [
    "### Apache License, Version 2\n",
    "\n",
    "Copyright \\[yyyy] [name of copyright owner]\n",
    "\n",
    "Licensed under the Apache License, Version 2.0 (the \"License\");\n",
    "you may not use this file except in compliance with the License.\n",
    "You may obtain a copy of the License at\n",
    "\n",
    "http://www.apache.org/licenses/LICENSE-2.0\n",
    "\n",
    "Unless required by applicable law or agreed to in writing, software\n",
    "distributed under the License is distributed on an \"AS IS\" BASIS,\n",
    "WITHOUT WARRANTIES OR CONDITIONS OF ANY KIND, either express or implied.\n",
    "See the License for the specific language governing permissions and\n",
    "limitations under the License.\n"
   ]
  },
  {
   "cell_type": "markdown",
   "metadata": {
    "slideshow": {
     "slide_type": "slide"
    }
   },
   "source": [
    "## Making a respository\n",
    "\n",
    "www.github.com\n"
   ]
  },
  {
   "cell_type": "markdown",
   "metadata": {
    "slideshow": {
     "slide_type": "slide"
    }
   },
   "source": [
    "## Why use GIT?\n",
    "\n",
    "### Have you ever saved versions of a file like this:\n",
    "\n",
    "- `Graph`\n",
    "- `Graph_V2`\n",
    "- `Graph_V2_final`\n",
    "- `Graph_V2_final_V3`\n",
    "\n",
    "Branches accomplish a similar goal in a GitHub Repository\n",
    "\n",
    "- Work on code in `branch` ... once verified, merge it to the `master`\n"
   ]
  },
  {
   "cell_type": "markdown",
   "metadata": {
    "slideshow": {
     "slide_type": "subslide"
    }
   },
   "source": [
    "Distributed Version control system\n",
    "\n",
    "- Every developer has a backup of the entire repository\n",
    "  ![figure](figs/distributed.png)\n"
   ]
  },
  {
   "cell_type": "markdown",
   "metadata": {
    "slideshow": {
     "slide_type": "slide"
    }
   },
   "source": [
    "### Check that git is installed and the version\n",
    "\n",
    "`git --version`\n"
   ]
  },
  {
   "cell_type": "markdown",
   "metadata": {
    "slideshow": {
     "slide_type": "fragment"
    }
   },
   "source": [
    "### If git is not installed\n",
    "\n",
    "`sudo apt install git-all`\n"
   ]
  },
  {
   "cell_type": "markdown",
   "metadata": {
    "slideshow": {
     "slide_type": "subslide"
    }
   },
   "source": [
    "### Set your configuration\n",
    "\n",
    "`git config --global user.name \"Joshua Agar\"` <br>\n",
    "`git config --global user.email \"jca92@drexel.edu\"`<br>\n",
    "`git config --list`\n"
   ]
  },
  {
   "cell_type": "markdown",
   "metadata": {
    "slideshow": {
     "slide_type": "subslide"
    }
   },
   "source": [
    "### How to find help?\n",
    "\n",
    "`git config --help`\n"
   ]
  },
  {
   "cell_type": "markdown",
   "metadata": {
    "slideshow": {
     "slide_type": "fragment"
    }
   },
   "source": [
    "## Have a local codebase that you want to start tracking\n",
    "\n",
    "`mkdir Make_New`\n",
    "\n",
    "`cd Make_New`\n"
   ]
  },
  {
   "cell_type": "markdown",
   "metadata": {
    "slideshow": {
     "slide_type": "fragment"
    }
   },
   "source": [
    "### initiates a new repository\n",
    "\n",
    "`git init`\n"
   ]
  },
  {
   "cell_type": "markdown",
   "metadata": {
    "slideshow": {
     "slide_type": "fragment"
    }
   },
   "source": [
    "### Makes an ignore file\n",
    "\n",
    "This file is useful if you want git not to track specific files\n",
    "\n",
    "`touch .gitignore`\n"
   ]
  },
  {
   "cell_type": "markdown",
   "metadata": {
    "slideshow": {
     "slide_type": "fragment"
    }
   },
   "source": [
    "### Make a file from the command line\n",
    "\n",
    "You can add any files to the git repository using any method that has access to your file system\n",
    "\n",
    "`echo This is some text > myfile.txt`\n"
   ]
  },
  {
   "cell_type": "markdown",
   "metadata": {
    "slideshow": {
     "slide_type": "fragment"
    }
   },
   "source": [
    "### Add files to remote\n",
    "\n",
    "`git add .`\n"
   ]
  },
  {
   "cell_type": "markdown",
   "metadata": {
    "slideshow": {
     "slide_type": "fragment"
    }
   },
   "source": [
    "### Commit the files\n",
    "\n",
    "`git commit -m \"initial commit\"`\n"
   ]
  },
  {
   "cell_type": "markdown",
   "metadata": {
    "slideshow": {
     "slide_type": "fragment"
    }
   },
   "source": [
    "### Check Status\n",
    "\n",
    "`git status`\n",
    "\n",
    "`git log`\n"
   ]
  },
  {
   "cell_type": "markdown",
   "metadata": {
    "slideshow": {
     "slide_type": "slide"
    }
   },
   "source": [
    "## Connecting to an Online Repository\n"
   ]
  },
  {
   "cell_type": "markdown",
   "metadata": {
    "slideshow": {
     "slide_type": "fragment"
    }
   },
   "source": [
    "### Making a remote repo\n",
    "\n",
    "#### General example\n",
    "\n",
    "`git remote add origin https://github.com/user/repo.git ` <br>\n",
    "\n",
    "`git push origin master`\n"
   ]
  },
  {
   "cell_type": "markdown",
   "metadata": {
    "slideshow": {
     "slide_type": "fragment"
    }
   },
   "source": [
    "## Cloning a Repo\n",
    "\n",
    "Let's start by forking a [Hello World Repository](https://github.com/octocat/Hello-World.git)\n",
    "\n",
    "Forking a repository allows you to make changes locally.\n",
    "\n",
    "`git clone https://github.com/octocat/Hello-World.git`\n",
    "\n",
    "### See it with\n",
    "\n",
    "`ls -la`\n"
   ]
  },
  {
   "cell_type": "markdown",
   "metadata": {
    "slideshow": {
     "slide_type": "fragment"
    }
   },
   "source": [
    "## Modify Some File\n",
    "\n",
    "Let's modify the Hello World Readme.md file and look at the difference.\n",
    "\n",
    "Check your modifications\n",
    "`git diff`\n"
   ]
  },
  {
   "cell_type": "markdown",
   "metadata": {
    "slideshow": {
     "slide_type": "fragment"
    }
   },
   "source": [
    "### Check your status\n",
    "\n",
    "`git status`\n"
   ]
  },
  {
   "cell_type": "markdown",
   "metadata": {
    "slideshow": {
     "slide_type": "fragment"
    }
   },
   "source": [
    "### Stage files to update\n",
    "\n",
    "`git add -A`\n",
    "or\n",
    "`git add .`\n",
    "or\n",
    "`git add README.md`\n"
   ]
  },
  {
   "cell_type": "markdown",
   "metadata": {
    "slideshow": {
     "slide_type": "subslide"
    }
   },
   "source": [
    "## Advanced File Adding\n",
    "\n",
    "### Adding files one by one\n",
    "\n",
    "`git add filename`\n",
    "\n",
    "### Adding all files in the current directory\n",
    "\n",
    "`git add -A`\n",
    "\n",
    "### Adding all file changes in the current directory\n",
    "\n",
    "`git add .`\n",
    "\n",
    "### Choosing what changes to add (this will go through all your changes and you can 'Y' or 'N' the changes)\n",
    "\n",
    "`git add -p`\n"
   ]
  },
  {
   "cell_type": "markdown",
   "metadata": {
    "slideshow": {
     "slide_type": "subslide"
    }
   },
   "source": [
    "## Commit Files\n",
    "\n",
    "`git commit -m \"INSERT TEXT HERE\"`\n",
    "<br>\n",
    "it is essential to add a comment, so you know what your commit is\n"
   ]
  },
  {
   "cell_type": "markdown",
   "metadata": {
    "slideshow": {
     "slide_type": "subslide"
    }
   },
   "source": [
    "## Advanced Commits\n",
    "\n",
    "### Commit staged file(s)\n",
    "\n",
    "### This is typically used for shorter commit messages\n",
    "\n",
    "`git commit -m 'commit message'`\n",
    "\n",
    "### Add file and commit in one shot\n",
    "\n",
    "`git commit filename -m 'commit message'`\n",
    "\n",
    "### Add file and commit staged file\n",
    "\n",
    "`git commit -am 'insert commit message'`\n",
    "\n",
    "### Changing your most recent commit message\n",
    "\n",
    "`git commit --amend 'new commit message'`\n",
    "\n",
    "### Combine a sequence of commits into a single one\n",
    "\n",
    "#### You might use this to organize a messy commit history\n",
    "\n",
    "`git rebase -i`\n",
    "\n",
    "### This will give you an interface on your core editor:\n",
    "\n",
    "#### Commands:\n",
    "\n",
    "`p`, `pick` = use commit <br>\n",
    "`r`, `reword` = use commit, but edit the commit message <br>\n",
    "`e`, `edit` = use commit, but stop for amending <br>\n",
    "`s`, `squash` = use commit, but meld into previous commit <br>\n",
    "`f`, `fixup` = like \"squash\", but discard this commit's log message <br>\n",
    "`x`, `exec` = run command (the rest of the line) using shell\n"
   ]
  },
  {
   "cell_type": "markdown",
   "metadata": {
    "slideshow": {
     "slide_type": "subslide"
    }
   },
   "source": [
    "## Pull Commits\n",
    "\n",
    "In case someone else has made changes to the repository while you are working, you should pull those changes to your local repository <br>\n",
    "\n",
    "`git pull origin master` <br>\n",
    "\n",
    "`origin` - means the repository you are in\n"
   ]
  },
  {
   "cell_type": "markdown",
   "metadata": {
    "slideshow": {
     "slide_type": "fragment"
    }
   },
   "source": [
    "## Push to Online repository\n",
    "\n",
    "`git push origin master`\n"
   ]
  },
  {
   "cell_type": "markdown",
   "metadata": {
    "slideshow": {
     "slide_type": "slide"
    }
   },
   "source": [
    "## Branching\n",
    "\n",
    "**Branching** is the way to work on different versions of a repository at the same time\n",
    "\n",
    "- By default, your repository has a branch named `master`.\n",
    "- Good to use a branch to experiment and create edits before committing them to the `master`\n",
    "- When working on a branch, you are taking the `master` at a point in time\n",
    "  - If others make changes to master, you can `pull` them to your branch\n"
   ]
  },
  {
   "cell_type": "markdown",
   "metadata": {
    "slideshow": {
     "slide_type": "fragment"
    }
   },
   "source": [
    "## Diagram of workflow\n",
    "\n",
    "![figure](figs/branch.png)\n",
    "Diagram shows:\n",
    "\n",
    "- The `master` branch\n",
    "- A new branch called `feature`\n",
    "- The journey that `feature` takes before it is merged with the `master`\n"
   ]
  },
  {
   "cell_type": "markdown",
   "metadata": {
    "slideshow": {
     "slide_type": "fragment"
    }
   },
   "source": [
    "Branches accomplish a similar goal in a GitHub Repository\n",
    "\n",
    "- Work on code in `branch` ... once verified, merge it to the `master`\n"
   ]
  },
  {
   "cell_type": "markdown",
   "metadata": {
    "slideshow": {
     "slide_type": "slide"
    }
   },
   "source": [
    "## Syntax for branching\n",
    "\n",
    "### Create a local branch to work on\n",
    "\n",
    "`git checkout -b branchname`\n",
    "\n",
    "### Switching between 2 branches\n",
    "\n",
    "`git checkout branch_1`<br>\n",
    "`git checkout branch_2`\n",
    "\n",
    "### Pushing your new local branch to remote as back up\n",
    "\n",
    "`git push -u origin branch_2`\n",
    "\n",
    "### Deleting a local branch\n",
    "\n",
    "- This won't let you delete a branch that hasn't been merged yet\n",
    "\n",
    "`git branch -d branch_2`\n",
    "\n",
    "### Deleting a local branch\n",
    "\n",
    "- This WILL delete a branch even if it hasn't been merged yet!\n",
    "\n",
    "`git branch -D branch_2`\n",
    "\n",
    "### Viewing all current branches for the repository\n",
    "\n",
    "- Includes both local and remote branches. Great to see if you already have a branch for a particular feature addition, especially on bigger projects\n",
    "\n",
    "`git branch -a`\n",
    "\n",
    "### Viewing all branches that have been merged into your current branch\n",
    "\n",
    "- Including local and remote. Great for seeing where all your code has come from!\n",
    "  `git branch -a --merged`\n",
    "\n",
    "### Viewing all branches that haven't been merged into your current branch\n",
    "\n",
    "- including local and remote\n",
    "  `git branch -a --no-merged`\n",
    "\n",
    "### Viewing all local branches\n",
    "\n",
    "`git branch`\n",
    "\n",
    "### Viewing all remote branches\n",
    "\n",
    "`git branch -r`\n",
    "\n",
    "### Rebase master branch into a local branch\n",
    "\n",
    "`git rebase origin/master`\n",
    "\n",
    "### Pushing local branch after rebasing master into a local branch\n",
    "\n",
    "`git push origin branchname`\n"
   ]
  },
  {
   "cell_type": "markdown",
   "metadata": {
    "slideshow": {
     "slide_type": "subslide"
    }
   },
   "source": [
    "## Example with Branches\n",
    "\n",
    "`git branch new_branch`\n"
   ]
  },
  {
   "cell_type": "markdown",
   "metadata": {
    "slideshow": {
     "slide_type": "fragment"
    }
   },
   "source": [
    "### list the location of the repository\n",
    "\n",
    "`git remote -v`\n",
    "\n",
    "### lists the branches local or remote\n",
    "\n",
    "`git branch -a`\n"
   ]
  },
  {
   "cell_type": "markdown",
   "metadata": {
    "slideshow": {
     "slide_type": "fragment"
    }
   },
   "source": [
    "### Switching or checking out a branch\n",
    "\n",
    "`git checkout new_branch`\n"
   ]
  },
  {
   "cell_type": "markdown",
   "metadata": {
    "slideshow": {
     "slide_type": "fragment"
    }
   },
   "source": [
    "Let's make a copy of the `readme.md` file in the branch\n"
   ]
  },
  {
   "cell_type": "markdown",
   "metadata": {
    "slideshow": {
     "slide_type": "fragment"
    }
   },
   "source": [
    "`git add -A` Only affects the local branch `new_branch`\n"
   ]
  },
  {
   "cell_type": "markdown",
   "metadata": {
    "slideshow": {
     "slide_type": "fragment"
    }
   },
   "source": [
    "`git commit -m \"new branch changes\"`\n"
   ]
  },
  {
   "cell_type": "markdown",
   "metadata": {
    "slideshow": {
     "slide_type": "fragment"
    }
   },
   "source": [
    "### Push branch to an online repository\n",
    "\n",
    "`u` - means associates the local branch with the online branch <br>\n",
    "`git push -u origin new_branch`\n"
   ]
  },
  {
   "cell_type": "markdown",
   "metadata": {
    "slideshow": {
     "slide_type": "fragment"
    }
   },
   "source": [
    "### Checkout Master\n",
    "\n",
    "`git checkout master`\n"
   ]
  },
  {
   "cell_type": "markdown",
   "metadata": {
    "slideshow": {
     "slide_type": "fragment"
    }
   },
   "source": [
    "### Good idea to pull again\n",
    "\n",
    "`git pull`\n"
   ]
  },
  {
   "cell_type": "markdown",
   "metadata": {
    "slideshow": {
     "slide_type": "subslide"
    }
   },
   "source": [
    "### Merge branches\n",
    "\n",
    "#### Check the branches that we have merged thus far\n",
    "\n",
    "`git branch --merged`\n"
   ]
  },
  {
   "cell_type": "markdown",
   "metadata": {
    "slideshow": {
     "slide_type": "fragment"
    }
   },
   "source": [
    "#### Merge branches\n",
    "\n",
    "`git merge new_branch`\n"
   ]
  },
  {
   "cell_type": "markdown",
   "metadata": {
    "slideshow": {
     "slide_type": "fragment"
    }
   },
   "source": [
    "`git branch -a`\n"
   ]
  },
  {
   "cell_type": "markdown",
   "metadata": {
    "slideshow": {
     "slide_type": "fragment"
    }
   },
   "source": [
    "#### Push changes\n",
    "\n",
    "`git push origin master`\n"
   ]
  },
  {
   "cell_type": "markdown",
   "metadata": {
    "slideshow": {
     "slide_type": "subslide"
    }
   },
   "source": [
    "### Deleting old branch\n"
   ]
  },
  {
   "cell_type": "markdown",
   "metadata": {
    "slideshow": {
     "slide_type": "fragment"
    }
   },
   "source": [
    "`git branch --merged`\n"
   ]
  },
  {
   "cell_type": "markdown",
   "metadata": {
    "slideshow": {
     "slide_type": "fragment"
    }
   },
   "source": [
    "### Deletes the local branch: <br>\n",
    "\n",
    "`git branch -d new_branch`\n"
   ]
  },
  {
   "cell_type": "markdown",
   "metadata": {
    "slideshow": {
     "slide_type": "fragment"
    }
   },
   "source": [
    "`git branch -a`\n"
   ]
  },
  {
   "cell_type": "markdown",
   "metadata": {
    "slideshow": {
     "slide_type": "fragment"
    }
   },
   "source": [
    "### Deletes the remote branch <br>\n",
    "\n",
    "`git push origin --delete new_branch`\n"
   ]
  },
  {
   "cell_type": "markdown",
   "metadata": {
    "slideshow": {
     "slide_type": "slide"
    }
   },
   "source": [
    "## Fixing Common Mistakes\n"
   ]
  },
  {
   "cell_type": "markdown",
   "metadata": {
    "slideshow": {
     "slide_type": "fragment"
    }
   },
   "source": [
    "### Switch to the version of the code of the most recent commit\n",
    "\n",
    "`git reset HEAD` <br>\n",
    "`git reset HEAD -- filename` - for a specific file\n"
   ]
  },
  {
   "cell_type": "markdown",
   "metadata": {
    "slideshow": {
     "slide_type": "fragment"
    }
   },
   "source": [
    "### Switch to the version of the code before the most recent commit\n",
    "\n",
    "`git reset HEAD^ -- filename`<br>\n",
    "`git reset HEAD^` -- filename # for a specific file\n"
   ]
  },
  {
   "cell_type": "markdown",
   "metadata": {
    "slideshow": {
     "slide_type": "fragment"
    }
   },
   "source": [
    "### Switch back 3 or 5 commits\n",
    "\n",
    "`git reset HEAD~3` -- filename <br>\n",
    "`git reset HEAD~3` -- filename - for a specific file <br>\n",
    "`git reset HEAD~5` -- filename <br>\n",
    "`git reset HEAD~5` -- filename - for a specific file\n"
   ]
  },
  {
   "cell_type": "markdown",
   "metadata": {
    "slideshow": {
     "slide_type": "subslide"
    }
   },
   "source": [
    "### Soft reset\n",
    "\n",
    "#### Switch back to a specific commit\n",
    "\n",
    "Where the '0766c053' is the commit ID\n",
    "\n",
    "`git reset 0766c053 -- filename`\n",
    "\n",
    "`git reset 0766c053 -- filename` -for a specific file\n"
   ]
  },
  {
   "cell_type": "markdown",
   "metadata": {
    "slideshow": {
     "slide_type": "fragment"
    }
   },
   "source": [
    "### Hard reset\n",
    "\n",
    "The previous commands were what's known as \"soft\" resets. Your code is reset, but git will keep a copy of the other code handy in case you need it. On the other hand, the --hard flag tells Git to overwrite all changes in the working directory.\n",
    "`git reset --hard 0766c053`\n"
   ]
  },
  {
   "cell_type": "markdown",
   "metadata": {
    "slideshow": {
     "slide_type": "subslide"
    }
   },
   "source": [
    "### Error to the commit message\n",
    "\n",
    "`git commit --amend -m \"completed subtract function\"` <br>\n",
    "Note this will change the hash\n"
   ]
  },
  {
   "cell_type": "markdown",
   "metadata": {
    "slideshow": {
     "slide_type": "subslide"
    }
   },
   "source": [
    "## How to delete all changes\n",
    "\n",
    "`git reset --hard [commit]`\n"
   ]
  },
  {
   "cell_type": "markdown",
   "metadata": {
    "slideshow": {
     "slide_type": "slide"
    }
   },
   "source": [
    "## Git Stash\n",
    "\n",
    "Stores files that you are not ready to commit but you want to save for a later use\n",
    "\n",
    "- Good when you have uncommitted files that you want to move between branches\n"
   ]
  },
  {
   "cell_type": "markdown",
   "metadata": {
    "slideshow": {
     "slide_type": "fragment"
    }
   },
   "source": [
    "### Saves the stash <br>\n",
    "\n",
    "`git stash save \"message\"`\n"
   ]
  },
  {
   "cell_type": "markdown",
   "metadata": {
    "slideshow": {
     "slide_type": "fragment"
    }
   },
   "source": [
    "### Checking the stash <br>\n",
    "\n",
    "`git stash list`\n"
   ]
  },
  {
   "cell_type": "markdown",
   "metadata": {
    "slideshow": {
     "slide_type": "fragment"
    }
   },
   "source": [
    "### Applying the stash <br>\n",
    "\n",
    "`git stash apply`\n"
   ]
  },
  {
   "cell_type": "markdown",
   "metadata": {
    "slideshow": {
     "slide_type": "fragment"
    }
   },
   "source": [
    "### Deleting stash <br>\n",
    "\n",
    "`git stash drop [stash number]` <br>\n",
    "`git stash clear`\n"
   ]
  },
  {
   "cell_type": "markdown",
   "metadata": {
    "slideshow": {
     "slide_type": "slide"
    },
    "tags": [
     "hide-input"
    ]
   },
   "source": [
    "## GitHub Cheatsheet\n",
    "\n",
    "[GitHub Cheatsheet](https://education.github.com/git-cheat-sheet-education.pdf)\n"
   ]
  },
  {
   "cell_type": "markdown",
   "metadata": {
    "slideshow": {
     "slide_type": "slide"
    }
   },
   "source": [
    "## Other Useful Tricks\n"
   ]
  },
  {
   "cell_type": "markdown",
   "metadata": {
    "slideshow": {
     "slide_type": "fragment"
    }
   },
   "source": [
    "### Searching\n",
    "\n",
    "Searches for parts of strings in a directory <br>\n",
    "`git grep 'something'`\n",
    "\n",
    "Searches for parts of strings in a directory, and the -n prints out the line numbers where git has found matches<br>\n",
    "`git grep -n 'something'`\n",
    "\n",
    "Searches for parts of a string with some context (some lines before and some after the 'something' we are looking for) <br>\n",
    "`git grep -C<number of lines> 'something'`\n",
    "\n",
    "Searches for parts of the string and also shows lines BEFORE it <br>\n",
    "`git grep -B<number of lines> 'something'`\n",
    "\n",
    "Searches for parts of the string and also shows lines AFTER it <br>\n",
    "`git grep -A<number of lines> 'something'`\n"
   ]
  },
  {
   "cell_type": "markdown",
   "metadata": {
    "slideshow": {
     "slide_type": "fragment"
    }
   },
   "source": [
    "### Checking Authorship\n",
    "\n",
    "Show alteration history of a file with the name of the author <br>\n",
    "`git blame 'filename'`\n",
    "\n",
    "Show alteration history of a file with the name of the author and the git commit ID <br>\n",
    "`git blame 'filename' -l`\n"
   ]
  },
  {
   "cell_type": "markdown",
   "metadata": {
    "slideshow": {
     "slide_type": "subslide"
    }
   },
   "source": [
    "### Logging\n",
    "\n",
    "Show a list of all commits in a repository. This command shows everything about a commit, such as a commit ID, author, date and commit message.<br>\n",
    "\n",
    "`git log`\n",
    "\n",
    "List of commits showing only commit messages and changes<br>\n",
    "\n",
    "`git log -p`\n",
    "\n",
    "List of commits with the particular string you are looking for<br>\n",
    "\n",
    "`git log -S 'something'`\n",
    "\n",
    "List of commits by author<br>\n",
    "\n",
    "`git log --author 'Author Name'`\n",
    "\n",
    "Show a summary of the list of commits in a repository. This shows a shorter version of the commit ID and the commit message.<br>\n",
    "\n",
    "`git log --oneline`\n",
    "\n",
    "Show a list of commits in a repository since yesterday<br>\n",
    "\n",
    "`git log --since=yesterday`\n",
    "\n",
    "Shows log by author and searching for specific term inside the commit message<br>\n",
    "\n",
    "`git log --grep \"term\" --author \"name\"`\n"
   ]
  }
 ],
 "metadata": {
  "celltoolbar": "Slideshow",
  "kernelspec": {
   "display_name": "Python 3 (ipykernel)",
   "language": "python",
   "name": "python3"
  },
  "language_info": {
   "codemirror_mode": {
    "name": "ipython",
    "version": 3
   },
   "file_extension": ".py",
   "mimetype": "text/x-python",
   "name": "python",
   "nbconvert_exporter": "python",
   "pygments_lexer": "ipython3",
   "version": "3.11.9"
  },
  "vscode": {
   "interpreter": {
    "hash": "d18adf0db587f4559c95ee608cbb9dabfdaf1407efcf6be890b6d0a5836bbd0e"
   }
  }
 },
 "nbformat": 4,
 "nbformat_minor": 2
}
