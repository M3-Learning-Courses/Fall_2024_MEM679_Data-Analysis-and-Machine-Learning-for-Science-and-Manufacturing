{
 "cells": [
  {
   "cell_type": "markdown",
   "metadata": {
    "slideshow": {
     "slide_type": "slide"
    }
   },
   "source": [
    "# Pyscaffold Tutorial\n"
   ]
  },
  {
   "cell_type": "markdown",
   "metadata": {
    "slideshow": {
     "slide_type": "subslide"
    }
   },
   "source": [
    "## Install Miniconda\n",
    "\n",
    "```bash\n",
    "\n",
    "# create directory to install minicaonda in\n",
    "mkdir -p ~/miniconda3\n",
    "\n",
    "# download latest miniconda version\n",
    "wget https://repo.anaconda.com/miniconda/Miniconda3-latest-Linux-x86_64.sh -O ~/miniconda3/miniconda.sh\n",
    "\n",
    "# run the install script\n",
    "bash ~/miniconda3/miniconda.sh -b -u -p ~/miniconda3\n",
    "\n",
    "# delete the install script\n",
    "rm -rf ~/miniconda3/miniconda.sh\n",
    "\n",
    "# add a conda initialize to your bash\n",
    "~/miniconda3/bin/conda init bash\n",
    "\n",
    "```\n"
   ]
  },
  {
   "cell_type": "markdown",
   "metadata": {
    "slideshow": {
     "slide_type": "slide"
    }
   },
   "source": [
    "## Install PIP\n",
    "\n",
    "```bash\n",
    "conda install pip\n",
    "```\n"
   ]
  },
  {
   "cell_type": "markdown",
   "metadata": {
    "slideshow": {
     "slide_type": "subslide"
    }
   },
   "source": [
    "## Install tox\n",
    "\n",
    "```bash\n",
    "pip install tox\n",
    "```\n"
   ]
  },
  {
   "cell_type": "markdown",
   "metadata": {
    "slideshow": {
     "slide_type": "slide"
    }
   },
   "source": [
    "## Create a new environment\n",
    "\n",
    "```bash\n",
    "conda create -n pyscaffold_tutorial python=3.10\n",
    "```\n"
   ]
  },
  {
   "cell_type": "markdown",
   "metadata": {
    "slideshow": {
     "slide_type": "subslide"
    }
   },
   "source": [
    "## Activate the environment\n",
    "\n",
    "```bash\n",
    "conda activate pyscaffold_tutorial\n",
    "```\n"
   ]
  },
  {
   "cell_type": "markdown",
   "metadata": {
    "slideshow": {
     "slide_type": "subslide"
    }
   },
   "source": [
    "## Install Pyscaffold\n",
    "\n",
    "```bash\n",
    "pip install --upgrade pyscaffold[all]\n",
    "```\n"
   ]
  },
  {
   "cell_type": "markdown",
   "metadata": {
    "slideshow": {
     "slide_type": "slide"
    }
   },
   "source": [
    "## Setup Git\n",
    "\n",
    "If you have not set up git you need to configure your github\n",
    "\n",
    "```bash\n",
    "git config --global user.email \"<Your Email>\"\n",
    "git config --global user.name \"<Your Name>\"\n",
    "```\n"
   ]
  },
  {
   "cell_type": "markdown",
   "metadata": {
    "slideshow": {
     "slide_type": "subslide"
    }
   },
   "source": [
    "## Build the Scaffold\n",
    "\n",
    "```bash\n",
    "putup my_first_package\n",
    "\n",
    "cd my_first_package\n",
    "```\n"
   ]
  },
  {
   "cell_type": "markdown",
   "metadata": {
    "slideshow": {
     "slide_type": "subslide"
    }
   },
   "source": [
    "## Check the pip install\n",
    "\n",
    "```bash\n",
    "pip install -e .\n",
    "```\n"
   ]
  },
  {
   "cell_type": "markdown",
   "metadata": {
    "slideshow": {
     "slide_type": "slide"
    }
   },
   "source": [
    "## Check that the package works\n",
    "\n",
    "```bash\n",
    "python\n",
    "```\n",
    "\n",
    "```python\n",
    "from my_first_package.skeleton import fib\n",
    "Fib(55)\n",
    "```\n"
   ]
  },
  {
   "cell_type": "markdown",
   "metadata": {
    "slideshow": {
     "slide_type": "subslide"
    }
   },
   "source": [
    "## Add package to github\n",
    "\n",
    "Create a new repository on github on the web interface\n",
    "\n",
    "```bash\n",
    "git remote add origin <Your Repository URL>\n",
    "git branch -M main\n",
    "git push -u origin main\n",
    "```\n"
   ]
  },
  {
   "cell_type": "markdown",
   "metadata": {
    "slideshow": {
     "slide_type": "slide"
    }
   },
   "source": [
    "## Add Snowman Script\n",
    "\n",
    "create a new file `snowman.py` in the `my_first_package/src` directory\n",
    "\n",
    "```python\n",
    "import random\n",
    "import pyfiglet\n",
    "\n",
    "def choose_word(word_list=None):\n",
    "    if word_list is None:\n",
    "        word_list = [\"apple\", \"banana\", \"cherry\", \"date\", \"elderberry\", \"drexel\"]\n",
    "    return random.choice(word_list)\n",
    "\n",
    "def display(word, guesses):\n",
    "    return ''.join([char if char in guesses else '_' for char in word])\n",
    "\n",
    "def game(word_list=None, guess_list=None):\n",
    "    word = choose_word(word_list)\n",
    "    attempts = 6\n",
    "    guesses = []\n",
    "    output = []\n",
    "\n",
    "    for guess in guess_list:\n",
    "        guesses.append(guess)\n",
    "        if guess in word:\n",
    "            if all([char in guesses for char in word]):\n",
    "                output.append(f\"You've guessed the word: {word}\")\n",
    "                break\n",
    "        else:\n",
    "            attempts -= 1\n",
    "\n",
    "    if attempts == 0:\n",
    "        output.append(\"Game over\")\n",
    "\n",
    "    return output\n",
    "```\n"
   ]
  },
  {
   "cell_type": "markdown",
   "metadata": {
    "slideshow": {
     "slide_type": "subslide"
    }
   },
   "source": [
    "## Add Pyfiglet and sphinx-rtd-theme to the requirements\n",
    "\n",
    "in `setup.cfg` `install_requires` add `pyfiglet` and `sphinx-rtd-theme`\n",
    "\n",
    "```\n",
    "    pyfiglet\n",
    "    sphinx-rtd-theme\n",
    "```\n"
   ]
  },
  {
   "cell_type": "markdown",
   "metadata": {
    "slideshow": {
     "slide_type": "subslide"
    }
   },
   "source": [
    "## Change the docs format\n",
    "\n",
    "in the `docs/config.py` add `html_theme='sphinx_rtd_theme'`\n"
   ]
  },
  {
   "cell_type": "markdown",
   "metadata": {
    "slideshow": {
     "slide_type": "subslide"
    }
   },
   "source": [
    "## Install the Extension Autodocstring\n",
    "\n",
    "Go the the extensions tab and install autodostring\n",
    "\n",
    "You can now add docstrings to your functions\n"
   ]
  },
  {
   "cell_type": "markdown",
   "metadata": {
    "slideshow": {
     "slide_type": "slide"
    }
   },
   "source": [
    "## Build your package\n",
    "\n",
    "```bash\n",
    "tox\n",
    "```\n"
   ]
  },
  {
   "cell_type": "markdown",
   "metadata": {
    "slideshow": {
     "slide_type": "subslide"
    }
   },
   "source": [
    "## Pytest\n",
    "\n",
    "You will notice that there is a code coverage report and that your code coverage for your package is 0%. Let's add some code coverage.ChatGPT is an excellent tool for building pytests.\n"
   ]
  },
  {
   "cell_type": "markdown",
   "metadata": {
    "slideshow": {
     "slide_type": "subslide"
    }
   },
   "source": [
    "### create a file\n",
    "\n",
    "create a new file in the test folder `test_snowman.py`\n",
    "\n",
    "```python\n",
    "import pytest\n",
    "from unittest.mock import patch\n",
    "from my_first_package.snowman import choose_word, display, game\n",
    "\n",
    "def test_choose_word():\n",
    "    word_list = [\"apple\", \"banana\"]\n",
    "    with patch('random.choice', return_value='apple'):\n",
    "        assert choose_word(word_list) == 'apple'\n",
    "\n",
    "def test_display():\n",
    "    assert display(\"apple\", [\"a\", \"p\"]) == \"app__\"\n",
    "\n",
    "def test_game_won():\n",
    "    word_list = [\"apple\"]\n",
    "    guess_list = [\"a\", \"p\", \"l\", \"e\"]\n",
    "    assert game(word_list, guess_list) == [\"You've guessed the word: apple\"]\n",
    "\n",
    "def test_game_lost():\n",
    "    word_list = [\"apple\"]\n",
    "    guess_list = [\"b\", \"c\", \"d\", \"f\", \"g\", \"h\"]\n",
    "    assert game(word_list, guess_list) == [\"Game over\"]\n",
    "\n",
    "```\n"
   ]
  },
  {
   "cell_type": "markdown",
   "metadata": {
    "slideshow": {
     "slide_type": "subslide"
    }
   },
   "source": [
    "# Build Your Package\n",
    "\n",
    "```bash\n",
    "tox\n",
    "```\n"
   ]
  }
 ],
 "metadata": {
  "celltoolbar": "Slideshow",
  "kernelspec": {
   "display_name": "Python 3 (ipykernel)",
   "language": "python",
   "name": "python3"
  },
  "language_info": {
   "codemirror_mode": {
    "name": "ipython",
    "version": 3
   },
   "file_extension": ".py",
   "mimetype": "text/x-python",
   "name": "python",
   "nbconvert_exporter": "python",
   "pygments_lexer": "ipython3",
   "version": "3.10.0"
  },
  "varInspector": {
   "cols": {
    "lenName": 16,
    "lenType": 16,
    "lenVar": 40
   },
   "kernels_config": {
    "python": {
     "delete_cmd_postfix": "",
     "delete_cmd_prefix": "del ",
     "library": "var_list.py",
     "varRefreshCmd": "print(var_dic_list())"
    },
    "r": {
     "delete_cmd_postfix": ") ",
     "delete_cmd_prefix": "rm(",
     "library": "var_list.r",
     "varRefreshCmd": "cat(var_dic_list()) "
    }
   },
   "types_to_exclude": [
    "module",
    "function",
    "builtin_function_or_method",
    "instance",
    "_Feature"
   ],
   "window_display": false
  }
 },
 "nbformat": 4,
 "nbformat_minor": 2
}
