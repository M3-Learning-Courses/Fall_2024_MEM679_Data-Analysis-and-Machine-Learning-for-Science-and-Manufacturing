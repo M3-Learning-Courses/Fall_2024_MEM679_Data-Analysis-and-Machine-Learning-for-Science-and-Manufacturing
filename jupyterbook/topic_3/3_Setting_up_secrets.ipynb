{
 "cells": [
  {
   "cell_type": "markdown",
   "metadata": {},
   "source": [
    "# 🔒 Securely Publish Your Packages to PyPI and Automate Workflows in GitHub\n",
    "\n",
    "This guide outlines how to generate, store, and use secrets like API tokens in your GitHub repository to securely publish your packages to PyPI and automate workflows.\n"
   ]
  },
  {
   "cell_type": "markdown",
   "metadata": {},
   "source": [
    "## 📋 Overview\n",
    "\n",
    "To securely publish your packages to PyPI and automate workflows in GitHub, you need to store secrets like API tokens in your GitHub repository. This guide outlines how to generate, store, and use these secrets.\n"
   ]
  },
  {
   "cell_type": "markdown",
   "metadata": {},
   "source": [
    "## ✅ Prerequisites\n",
    "\n",
    "1. GitHub account with repository permissions.\n",
    "2. PyPI account with API token permissions.\n"
   ]
  },
  {
   "cell_type": "markdown",
   "metadata": {},
   "source": [
    "## 🛠️ Step 1: Generate a PyPI API Token\n",
    "\n",
    "1. **Log in to PyPI**:\n",
    "   - Go to [https://pypi.org/](https://pypi.org/) and log in to your account.\n"
   ]
  },
  {
   "cell_type": "markdown",
   "metadata": {},
   "source": [
    "2. **Navigate to Account Settings**:\n",
    "   - Click on your profile icon and select \"Account settings.\"\n"
   ]
  },
  {
   "cell_type": "markdown",
   "metadata": {},
   "source": [
    "3. **Create a New API Token**:\n",
    "\n",
    "   - Scroll to the **API tokens** section and select \"Add API token.\"\n",
    "   - Assign the token a name, e.g., `GitHub_Actions`.\n",
    "   - Choose **scope**:\n",
    "     - **Entire account**: Access all projects.\n",
    "     - **Specific project**: Access a single project (recommended for security).\n",
    "\n",
    "   ![create-api-token](./figs/pypi_key.png)\n"
   ]
  },
  {
   "cell_type": "markdown",
   "metadata": {},
   "source": [
    "4. **Copy the Token**:\n",
    "\n",
    "   - After generating, copy the token **immediately** as it will not be shown again.\n",
    "\n",
    "   ![copy-api-token](./figs/keys.png)\n"
   ]
  },
  {
   "cell_type": "markdown",
   "metadata": {},
   "source": [
    "## 🔒 Step 2: Store the PyPI Token in GitHub Secrets\n",
    "\n",
    "1. **Go to Your GitHub Repository**:\n",
    "   - Open your repository on [GitHub](https://github.com/).\n"
   ]
  },
  {
   "cell_type": "markdown",
   "metadata": {},
   "source": [
    "2. **Access Settings**:\n",
    "   - Click on \"Settings\" in your repository.\n"
   ]
  },
  {
   "cell_type": "markdown",
   "metadata": {},
   "source": [
    "3. **Navigate to Environment**:\n",
    "\n",
    "   - Create a new Environment called `pypi` and add the following secrets:\n",
    "     - `PYPI_TOKEN`: The API token you generated in Step 1.\n",
    "\n",
    "   ![add-secrets](./figs/pypi_secret.png)\n"
   ]
  },
  {
   "cell_type": "markdown",
   "metadata": {},
   "source": [
    "## 🔑 Step 3: Generate a GitHub Access Token\n",
    "\n",
    "1. **Go to GitHub Developer Settings**:\n",
    "   - In GitHub, navigate to your profile > **Settings** > **Developer settings** > **Personal access tokens** > **Tokens (classic)**.\n"
   ]
  },
  {
   "cell_type": "markdown",
   "metadata": {},
   "source": [
    "2. **Generate a New Token**:\n",
    "   - Click on **Generate new token** and provide a name (e.g., `GitHub Actions`).\n",
    "   - **Select Expiration**: Choose a duration for the token's validity (e.g., 90 days or no expiration).\n",
    "   - **Select Permissions**:\n",
    "     - For most use cases, the following permissions are sufficient:\n",
    "       - **repo**: Full control of private repositories.\n",
    "       - **workflow**: Update GitHub Actions workflows.\n",
    "       - **write:packages**: Upload packages to GitHub Packages.\n",
    "       - **delete:packages**: Delete packages from GitHub Packages (optional).\n",
    "   - **Generate Token**: Click **Generate token** at the top.\n",
    "   - **Set Permissions**: You can select the permissions you need for your token, you need at a minimum the following permissions:\n",
    "     - **repo**: Full control of private repositories.\n",
    "     - **workflow**: Update GitHub Actions workflows.\n",
    "     - **write:packages**: Upload packages to GitHub Packages.\n"
   ]
  },
  {
   "cell_type": "markdown",
   "metadata": {},
   "source": [
    "3. **Copy the Token**:\n",
    "   - Copy the token **immediately** as it will not be shown again.\n"
   ]
  },
  {
   "cell_type": "markdown",
   "metadata": {},
   "source": [
    "## 🔐 Step 4: Store the GitHub Access Token as a GitHub Secret\n",
    "\n",
    "1. **Navigate to GitHub Repository Settings**:\n",
    "   - Go back to **Settings** in your repository.\n"
   ]
  },
  {
   "cell_type": "markdown",
   "metadata": {},
   "source": [
    "2. **Add a New Secret**:\n",
    "   - Go to **Settings** > Environment > Add Environment Secret\n",
    "   - **Name**: Use `GH_TOKEN`.\n",
    "   - **Value**: Paste the GitHub Access Token you generated.\n",
    "   - Click **Add secret** to save.\n"
   ]
  }
 ],
 "metadata": {
  "language_info": {
   "name": "python"
  }
 },
 "nbformat": 4,
 "nbformat_minor": 2
}
