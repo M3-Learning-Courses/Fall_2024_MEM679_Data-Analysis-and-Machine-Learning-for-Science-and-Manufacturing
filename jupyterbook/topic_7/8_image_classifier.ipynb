{
 "cells": [
  {
   "cell_type": "markdown",
   "metadata": {
    "slideshow": {
     "slide_type": "slide"
    }
   },
   "source": [
    "# Build an Image Classifier\n",
    "\n",
    "Create an interactive image classifier application with Panel.\n",
    "\n",
    "Features:\n",
    "- Upload images\n",
    "- Use example images\n",
    "- View uploaded/selected images\n",
    "- See classification results\n",
    "\n",
    "*Note: We'll use a random classifier for demonstration, but you can replace it with your own model.*"
   ]
  },
  {
   "cell_type": "markdown",
   "metadata": {
    "slideshow": {
     "slide_type": "slide"
    }
   },
   "source": [
    "## Setup\n",
    "\n",
    "Import required libraries and set up the environment:"
   ]
  },
  {
   "cell_type": "code",
   "execution_count": null,
   "metadata": {
    "slideshow": {
     "slide_type": "fragment"
    }
   },
   "outputs": [],
   "source": [
    "import random\n",
    "from io import BytesIO\n",
    "from time import sleep\n",
    "\n",
    "import hvplot.pandas\n",
    "import pandas as pd\n",
    "import requests\n",
    "from PIL import Image\n",
    "import panel as pn\n",
    "\n",
    "IMAGE_DIM = 350\n",
    "\n",
    "pn.extension(design=\"material\", sizing_mode=\"stretch_width\")"
   ]
  },
  {
   "cell_type": "markdown",
   "metadata": {
    "slideshow": {
     "slide_type": "slide"
    }
   },
   "source": [
    "## Image Processing Functions\n",
    "\n",
    "Define functions for loading and processing images:"
   ]
  },
  {
   "cell_type": "code",
   "execution_count": null,
   "metadata": {
    "slideshow": {
     "slide_type": "fragment"
    }
   },
   "outputs": [],
   "source": [
    "@pn.cache\n",
    "def get_pil_image(url):\n",
    "    response = requests.get(url)\n",
    "    return Image.open(BytesIO(response.content))\n",
    "\n",
    "@pn.cache\n",
    "def get_plot(label):\n",
    "    data = pd.Series(label).sort_values()\n",
    "    return data.hvplot.barh(title=\"Prediction\", ylim=(0, 100)).opts(default_tools=[])"
   ]
  },
  {
   "cell_type": "markdown",
   "metadata": {
    "slideshow": {
     "slide_type": "slide"
    }
   },
   "source": [
    "## Custom Components\n",
    "\n",
    "Create functions for UI components and event handling:"
   ]
  },
  {
   "cell_type": "code",
   "execution_count": null,
   "metadata": {
    "slideshow": {
     "slide_type": "fragment"
    }
   },
   "outputs": [],
   "source": [
    "def get_label_view(fn, image: Image):\n",
    "    return get_plot(fn(image))\n",
    "\n",
    "def get_image_button(url, image_pane):\n",
    "    button = pn.widgets.Button(\n",
    "        width=100,\n",
    "        height=100,\n",
    "        stylesheets=[\n",
    "            f\"button {{background-image: url({url});background-size: cover;}}\"\n",
    "        ],\n",
    "    )\n",
    "    pn.bind(handle_example_click, button, url, image_pane, watch=True)\n",
    "    return button\n",
    "\n",
    "def handle_example_click(event, url, image_pane):\n",
    "    image_pane.object = get_pil_image(url)\n",
    "\n",
    "def handle_file_upload(value, image_pane):\n",
    "    file = BytesIO(value)\n",
    "    image_pane.object = Image.open(file)"
   ]
  },
  {
   "cell_type": "markdown",
   "metadata": {
    "slideshow": {
     "slide_type": "slide"
    }
   },
   "source": [
    "## Main Interface\n",
    "\n",
    "Create the main classification interface:"
   ]
  },
  {
   "cell_type": "code",
   "execution_count": null,
   "metadata": {
    "slideshow": {
     "slide_type": "fragment"
    }
   },
   "outputs": [],
   "source": [
    "def image_classification_interface(fn, examples):\n",
    "    # State\n",
    "    image_view = pn.pane.Image(\n",
    "        get_pil_image(examples[0]),\n",
    "        height=IMAGE_DIM,\n",
    "        width=IMAGE_DIM,\n",
    "        fixed_aspect=False,\n",
    "        margin=0,\n",
    "    )\n",
    "    label_view = pn.pane.JSON()\n",
    "\n",
    "    # Inputs\n",
    "    file_input = pn.widgets.FileInput(accept=\".png,.jpeg\")\n",
    "    pn.bind(handle_file_upload, file_input, image_view, watch=True)\n",
    "    file_input_component = pn.Column(\"### Upload Image\", file_input)\n",
    "\n",
    "    examples_input_component = pn.Column(\n",
    "        \"### Examples\", \n",
    "        pn.Row(*(get_image_button(url, image_view) for url in examples))\n",
    "    )\n",
    "\n",
    "    # Views\n",
    "    label_view = pn.Row(\n",
    "        pn.panel(\n",
    "            pn.bind(get_label_view, fn=fn, image=image_view.param.object),\n",
    "            defer_load=True,\n",
    "            loading_indicator=True,\n",
    "            height=IMAGE_DIM,\n",
    "            width=IMAGE_DIM,\n",
    "        )\n",
    "    )\n",
    "\n",
    "    # Layout\n",
    "    input_component = pn.Column(\n",
    "        \"# Input\",\n",
    "        image_view,\n",
    "        file_input_component,\n",
    "        examples_input_component,\n",
    "        width=IMAGE_DIM,\n",
    "        margin=10,\n",
    "    )\n",
    "\n",
    "    output_component = pn.Column(\n",
    "        \"# Output\",\n",
    "        label_view,\n",
    "        width=IMAGE_DIM,\n",
    "        margin=10,\n",
    "    )\n",
    "    return pn.FlexBox(input_component, output_component)"
   ]
  },
  {
   "cell_type": "markdown",
   "metadata": {
    "slideshow": {
     "slide_type": "slide"
    }
   },
   "source": [
    "## Classifier Function\n",
    "\n",
    "Define the image classification function (random for demo):"
   ]
  },
  {
   "cell_type": "code",
   "execution_count": null,
   "metadata": {
    "slideshow": {
     "slide_type": "fragment"
    }
   },
   "outputs": [],
   "source": [
    "def predict(image: Image):\n",
    "    # Replace with your own image classification model\n",
    "    sleep(1.5)\n",
    "    a = random.uniform(0, 100)\n",
    "    b = random.uniform(0, 100 - a)\n",
    "    c = 100 - a - b\n",
    "    return {\n",
    "        \"Wind Turbine\": a,\n",
    "        \"Solar Panel\": b,\n",
    "        \"Battery Storage\": c,\n",
    "    }\n",
    "\n",
    "EXAMPLES = [\n",
    "    \"https://assets.holoviz.org/panel/tutorials/wind_turbine.png\",\n",
    "    \"https://assets.holoviz.org/panel/tutorials/solar_panel.png\",\n",
    "    \"https://assets.holoviz.org/panel/tutorials/battery_storage.png\",\n",
    "]"
   ]
  },
  {
   "cell_type": "markdown",
   "metadata": {
    "slideshow": {
     "slide_type": "slide"
    }
   },
   "source": [
    "## Create the Dashboard\n",
    "\n",
    "Assemble and display the final interface:"
   ]
  },
  {
   "cell_type": "code",
   "execution_count": null,
   "metadata": {
    "slideshow": {
     "slide_type": "fragment"
    }
   },
   "outputs": [],
   "source": [
    "dashboard = image_classification_interface(fn=predict, examples=EXAMPLES)\n",
    "dashboard.servable()"
   ]
  },
  {
   "cell_type": "markdown",
   "metadata": {
    "slideshow": {
     "slide_type": "slide"
    }
   },
   "source": [
    "## Key Features\n",
    "\n",
    "1. **Image Input**\n",
    "   - File upload (.png, .jpeg)\n",
    "   - Example image selection\n",
    "   - Image preview\n",
    "\n",
    "2. **Classification**\n",
    "   - Real-time processing\n",
    "   - Loading indicators\n",
    "   - Bar chart results\n",
    "\n",
    "3. **UI Components**\n",
    "   - Material design\n",
    "   - Responsive layout\n",
    "   - Interactive elements\n",
    "\n",
    "4. **Customization**\n",
    "   - Replaceable classifier function\n",
    "   - Configurable example images\n",
    "   - Adjustable dimensions"
   ]
  }
 ],
 "metadata": {
  "celltoolbar": "Slideshow",
  "kernelspec": {
   "display_name": "Python 3",
   "language": "python",
   "name": "python3"
  },
  "language_info": {
   "codemirror_mode": {
    "name": "ipython",
    "version": 3
   },
   "file_extension": ".py",
   "mimetype": "text/x-python",
   "name": "python",
   "nbconvert_exporter": "python",
   "pygments_lexer": "ipython3",
   "version": "3.11.9"
  }
 },
 "nbformat": 4,
 "nbformat_minor": 4
}
