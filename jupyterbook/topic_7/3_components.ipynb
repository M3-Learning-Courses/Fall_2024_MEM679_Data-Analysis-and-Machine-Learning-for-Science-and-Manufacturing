{
 "cells": [
  {
   "cell_type": "markdown",
   "metadata": {
    "slideshow": {
     "slide_type": "slide"
    }
   },
   "source": [
    "# Display Content with Panel\n",
    "\n",
    "Learn how to display Python objects easily with `pn.panel`\n"
   ]
  },
  {
   "cell_type": "code",
   "execution_count": null,
   "metadata": {
    "slideshow": {
     "slide_type": "fragment"
    }
   },
   "outputs": [],
   "source": [
    "import panel as pn\n",
    "pn.extension(\"plotly\", \"vega\")"
   ]
  },
  {
   "cell_type": "markdown",
   "metadata": {
    "slideshow": {
     "slide_type": "slide"
    }
   },
   "source": [
    "## Display a String\n",
    "\n",
    "Panel provides the simple yet powerful `pn.panel()` function that transforms Python objects into viewable components.\n"
   ]
  },
  {
   "cell_type": "code",
   "execution_count": null,
   "metadata": {
    "slideshow": {
     "slide_type": "fragment"
    }
   },
   "outputs": [],
   "source": [
    "import panel as pn\n",
    "\n",
    "pn.extension()\n",
    "\n",
    "pn.panel(\"Hello World\").servable()"
   ]
  },
  {
   "cell_type": "markdown",
   "metadata": {
    "slideshow": {
     "slide_type": "fragment"
    }
   },
   "source": [
    ":::{note}\n",
    "We add `.servable()` to the component to add it to the app served by `panel serve app.py --dev`. Adding `.servable()` is not needed to display the component in a notebook.\n",
    ":::\n"
   ]
  },
  {
   "cell_type": "markdown",
   "metadata": {
    "slideshow": {
     "slide_type": "fragment"
    }
   },
   "source": [
    "`pn.panel` uses a _heuristic_ algorithm to determine how to best display the `object`. To make this very explicit, we will `print` the component in all the examples below.\n"
   ]
  },
  {
   "cell_type": "code",
   "execution_count": null,
   "metadata": {
    "slideshow": {
     "slide_type": "fragment"
    }
   },
   "outputs": [],
   "source": [
    "import panel as pn\n",
    "\n",
    "pn.extension()\n",
    "\n",
    "component = pn.panel(\"Hello World\")\n",
    "print(component)\n",
    "\n",
    "component.servable()"
   ]
  },
  {
   "cell_type": "markdown",
   "metadata": {
    "slideshow": {
     "slide_type": "fragment"
    }
   },
   "source": [
    "Your cell or terminal output should contain `Markdown(str)`. It means `pn.panel` has picked a [`Markdown`](https://panel.holoviz.org/reference/panes/Markdown.html) _pane_ to display the `str` object.\n",
    "\n",
    "Let's verify that _markdown strings_ are actually displayed and rendered nicely.\n"
   ]
  },
  {
   "cell_type": "code",
   "execution_count": null,
   "metadata": {
    "slideshow": {
     "slide_type": "fragment"
    }
   },
   "outputs": [],
   "source": [
    "import panel as pn\n",
    "\n",
    "pn.extension()\n",
    "\n",
    "component = pn.panel(\"\"\"\n",
    "# Wind Turbine\n",
    "\n",
    "A wind turbine is a device that converts the kinetic energy of wind into \\\n",
    "[electrical energy](https://en.wikipedia.org/wiki/Electrical_energy).\n",
    "\n",
    "Read more [here](https://en.wikipedia.org/wiki/Wind_turbine).\n",
    "\"\"\")\n",
    "print(component)\n",
    "\n",
    "component.servable()"
   ]
  },
  {
   "cell_type": "markdown",
   "metadata": {
    "slideshow": {
     "slide_type": "fragment"
    }
   },
   "source": [
    "```{tip}\n",
    "Markdown rendering is very useful in Panel applications, such as for displaying formatted text, headers, links, images, LaTeX formulas and other rich content\n",
    "```\n"
   ]
  },
  {
   "cell_type": "markdown",
   "metadata": {
    "slideshow": {
     "slide_type": "slide"
    }
   },
   "source": [
    "## Display a DataFrame\n",
    "\n",
    "Now that we've mastered the art of displaying strings, let's take it up a notch. In our journey to build a data-centric app, we'll often need to display more complex objects like dataframes. With Panel, it's as easy as pie.\n"
   ]
  },
  {
   "cell_type": "code",
   "execution_count": null,
   "metadata": {
    "slideshow": {
     "slide_type": "fragment"
    }
   },
   "outputs": [],
   "source": [
    "import pandas as pd\n",
    "import panel as pn\n",
    "\n",
    "pn.extension()\n",
    "\n",
    "data = pd.DataFrame([\n",
    "    ('Monday', 7), ('Tuesday', 4), ('Wednesday', 9), ('Thursday', 4),\n",
    "    ('Friday', 4), ('Saturday', 5), ('Sunday', 4)], columns=['Day', 'Wind Speed (m/s)']\n",
    ")\n",
    "component = pn.panel(data)\n",
    "print(component)\n",
    "component.servable()"
   ]
  },
  {
   "cell_type": "markdown",
   "metadata": {
    "slideshow": {
     "slide_type": "fragment"
    }
   },
   "source": [
    ":::{tip}\n",
    "If we want to display larger dataframes, customize the way the dataframes are displayed, or make them more interactive, we can find specialized components in the [Component Gallery](https://panel.holoviz.org/reference/index.html) supporting these use cases. For example, the [Tabulator](https://panel.holoviz.org/reference/widgets/Tabulator.html) _widget_ and [Perspective](https://panel.holoviz.org/reference/panes/Perspective.html) _pane_.\n",
    ":::\n"
   ]
  },
  {
   "cell_type": "markdown",
   "metadata": {
    "slideshow": {
     "slide_type": "slide"
    }
   },
   "source": [
    "## Display Plots\n",
    "\n",
    "Many data apps contain one or more plots. Let's explore how to display plots using different plotting libraries with Panel.\n",
    "\n",
    "First, let's create our sample data that we'll use across all examples:\n"
   ]
  },
  {
   "cell_type": "code",
   "execution_count": null,
   "metadata": {
    "slideshow": {
     "slide_type": "fragment"
    }
   },
   "outputs": [],
   "source": [
    "import pandas as pd\n",
    "\n",
    "data = pd.DataFrame([\n",
    "    ('Monday', 7), ('Tuesday', 4), ('Wednesday', 9), ('Thursday', 4),\n",
    "    ('Friday', 4), ('Saturday', 5), ('Sunday', 4)], columns=['Day', 'Wind Speed (m/s)']\n",
    ")"
   ]
  },
  {
   "cell_type": "markdown",
   "metadata": {
    "slideshow": {
     "slide_type": "subslide"
    }
   },
   "source": [
    "### 1. Altair Example\n",
    "\n",
    "Altair creates declarative statistical visualizations. Panel uses Vega (the JavaScript plotting library behind Altair) to display these plots.\n"
   ]
  },
  {
   "cell_type": "code",
   "execution_count": null,
   "metadata": {
    "slideshow": {
     "slide_type": "fragment"
    }
   },
   "outputs": [],
   "source": [
    "import altair as alt\n",
    "import panel as pn\n",
    "\n",
    "# Load Vega dependencies\n",
    "pn.extension(\"vega\")\n",
    "\n",
    "fig = (\n",
    "    alt.Chart(data)\n",
    "    .mark_line(point=True)\n",
    "    .encode(\n",
    "        x=\"Day\",\n",
    "        y=alt.Y(\"Wind Speed (m/s)\", scale=alt.Scale(domain=(0, 10))),\n",
    "        tooltip=[\"Day\", \"Wind Speed (m/s)\"],\n",
    "    )\n",
    "    .properties(width=\"container\", height=\"container\", title=\"Wind Speed Over the Week\")\n",
    ")\n",
    "\n",
    "component = pn.panel(fig, sizing_mode=\"stretch_width\", height=400)\n",
    "print(\"Component type:\", component)\n",
    "component"
   ]
  },
  {
   "cell_type": "markdown",
   "metadata": {
    "slideshow": {
     "slide_type": "fragment"
    }
   },
   "source": [
    "**Note:** We must add `\"vega\"` to `pn.extension()` to load the required JavaScript dependencies. Without this, the Altair figure won't display properly.\n"
   ]
  },
  {
   "cell_type": "markdown",
   "metadata": {
    "slideshow": {
     "slide_type": "subslide"
    }
   },
   "source": [
    "### 2. hvPlot Example\n",
    "\n",
    "hvPlot provides a high-level plotting API that works similarly to Pandas' plotting interface.\n"
   ]
  },
  {
   "cell_type": "code",
   "execution_count": null,
   "metadata": {
    "slideshow": {
     "slide_type": "fragment"
    }
   },
   "outputs": [],
   "source": [
    "import hvplot.pandas\n",
    "import panel as pn\n",
    "\n",
    "pn.extension()\n",
    "\n",
    "fig = data.hvplot(x=\"Day\", y=\"Wind Speed (m/s)\", line_width=10, ylim=(0,10))\n",
    "\n",
    "component = pn.panel(fig, sizing_mode=\"stretch_width\")\n",
    "print(\"Component type:\", component)\n",
    "component"
   ]
  },
  {
   "cell_type": "markdown",
   "metadata": {
    "slideshow": {
     "slide_type": "fragment"
    }
   },
   "source": [
    "**Note:** hvPlot is part of the HoloViz family along with Panel and HoloViews. It provides an easy-to-use interface similar to Pandas' `.plot` API.\n"
   ]
  },
  {
   "cell_type": "markdown",
   "metadata": {
    "slideshow": {
     "slide_type": "subslide"
    }
   },
   "source": [
    "### 3. Matplotlib Example\n",
    "\n",
    "Matplotlib is one of the most widely used plotting libraries in Python. Panel can display Matplotlib figures with various options for formatting.\n"
   ]
  },
  {
   "cell_type": "code",
   "execution_count": null,
   "metadata": {
    "slideshow": {
     "slide_type": "fragment"
    }
   },
   "outputs": [],
   "source": [
    "import matplotlib\n",
    "import matplotlib.pyplot as plt\n",
    "import panel as pn\n",
    "\n",
    "matplotlib.use(\"agg\")\n",
    "pn.extension()\n",
    "\n",
    "fig, ax = plt.subplots(figsize=(8,3))\n",
    "ax.plot(\n",
    "    data[\"Day\"], data[\"Wind Speed (m/s)\"], marker=\"o\", markersize=10, linewidth=4\n",
    ")\n",
    "ax.set(\n",
    "    xlabel=\"Day\",\n",
    "    ylabel=\"Wind Speed (m/s)\",\n",
    "    title=\"Wind Speed Over the Week\",\n",
    "    ylim=(0, 10),\n",
    ")\n",
    "ax.grid()\n",
    "plt.close(fig)  # Close to avoid memory leaks\n",
    "\n",
    "component = pn.panel(\n",
    "    fig, format=\"svg\", dpi=144, tight=True, sizing_mode=\"stretch_width\"\n",
    ")\n",
    "print(\"Component type:\", component)\n",
    "component"
   ]
  },
  {
   "cell_type": "markdown",
   "metadata": {
    "slideshow": {
     "slide_type": "fragment"
    }
   },
   "source": [
    "**Note:** The arguments `dpi`, `format`, and `tight` are specific to Matplotlib panes. Using these arguments with other types of panes would raise a TypeError.\n"
   ]
  },
  {
   "cell_type": "markdown",
   "metadata": {
    "slideshow": {
     "slide_type": "subslide"
    }
   },
   "source": [
    "### 4. Plotly Example\n",
    "\n",
    "Plotly creates interactive plots with rich features. Panel can display these plots while maintaining their interactivity.\n"
   ]
  },
  {
   "cell_type": "code",
   "execution_count": null,
   "metadata": {
    "slideshow": {
     "slide_type": "fragment"
    }
   },
   "outputs": [],
   "source": [
    "import plotly.express as px\n",
    "import panel as pn\n",
    "\n",
    "pn.extension(\"plotly\")\n",
    "\n",
    "fig = px.line(data, x=\"Day\", y=\"Wind Speed (m/s)\")\n",
    "fig.update_traces(mode=\"lines+markers\", marker=dict(size=10), line=dict(width=4))\n",
    "fig.update_yaxes(range=[0, max(data['Wind Speed (m/s)']) + 1])\n",
    "fig.layout.autosize = True\n",
    "\n",
    "component = pn.panel(fig, height=400, sizing_mode=\"stretch_width\")\n",
    "print(\"Component type:\", component)\n",
    "component"
   ]
  },
  {
   "cell_type": "markdown",
   "metadata": {
    "slideshow": {
     "slide_type": "fragment"
    }
   },
   "source": [
    "**Note:** Remember to add `\"plotly\"` to `pn.extension()` to load the required Plotly JavaScript dependencies. Without this, the Plotly figure won't display properly.\n"
   ]
  },
  {
   "cell_type": "markdown",
   "metadata": {
    "slideshow": {
     "slide_type": "slide"
    }
   },
   "source": [
    "## Key Points About Panel Plot Display\n",
    "\n",
    "1. Panel automatically selects the appropriate pane type for each plotting library:\n",
    "\n",
    "   - Altair → Vega pane\n",
    "   - hvPlot → HoloViews pane\n",
    "   - Matplotlib → Matplotlib pane\n",
    "   - Plotly → Plotly pane\n",
    "\n",
    "2. Some plotting libraries require specific extensions:\n",
    "\n",
    "   - Altair requires `pn.extension(\"vega\")`\n",
    "   - Plotly requires `pn.extension(\"plotly\")`\n",
    "\n",
    "3. Common configuration options:\n",
    "   - `sizing_mode=\"stretch_width\"` makes plots responsive\n",
    "   - `height` controls the plot height\n",
    "   - Library-specific options (like `dpi` for Matplotlib) are passed through\n"
   ]
  },
  {
   "cell_type": "markdown",
   "metadata": {
    "slideshow": {
     "slide_type": "slide"
    }
   },
   "source": [
    "## Display any Python object\n",
    "\n",
    "`pn.panel` can display (almost) any Python object.\n"
   ]
  },
  {
   "cell_type": "code",
   "execution_count": null,
   "metadata": {
    "slideshow": {
     "slide_type": "fragment"
    }
   },
   "outputs": [],
   "source": [
    "import panel as pn\n",
    "\n",
    "pn.extension()\n",
    "\n",
    "component = pn.Column(\n",
    "    pn.panel({\"Wind Speeds\": [0, 3, 6, 9, 12, 15, 18, 21], \"Power Output\": [0,39,260,780, 1300, 1300, 0, 0]}),\n",
    "    pn.panel(\"https://assets.holoviz.org/panel/tutorials/wind_turbine.png\", height=100),\n",
    "    pn.panel(\"https://assets.holoviz.org/panel/tutorials/wind_turbine.mp3\"),\n",
    ")\n",
    "print(component)\n",
    "\n",
    "component.servable()"
   ]
  },
  {
   "cell_type": "markdown",
   "metadata": {
    "slideshow": {
     "slide_type": "slide"
    }
   },
   "source": [
    "## Display any Python object in a layout\n",
    "\n",
    "If we place objects in a [_layout_](https://panel.holoviz.org/reference/index.html#layouts) like [`pn.Column`](https://panel.holoviz.org/reference/layouts/Column.html), then the layout will apply `pn.panel` for us automatically.\n"
   ]
  },
  {
   "cell_type": "code",
   "execution_count": null,
   "metadata": {
    "slideshow": {
     "slide_type": "fragment"
    }
   },
   "outputs": [],
   "source": [
    "import panel as pn\n",
    "\n",
    "pn.extension()\n",
    "\n",
    "component = pn.Column(\n",
    "    {\"Wind Speeds\": [0, 3, 6, 9, 12, 15, 18, 21], \"Power Output\": [0,39,260,780, 1300, 1300, 0, 0]},\n",
    "    \"https://assets.holoviz.org/panel/tutorials/wind_turbine.png\",\n",
    "    \"https://assets.holoviz.org/panel/tutorials/wind_turbine.mp3\",\n",
    ")\n",
    "print(component)\n",
    "\n",
    "component.servable()"
   ]
  },
  {
   "cell_type": "markdown",
   "metadata": {
    "slideshow": {
     "slide_type": "fragment"
    }
   },
   "source": [
    "Please notice that the image of the wind turbine is quite large. To fine-tune the way it is displayed, we can use `pn.panel` with arguments.\n"
   ]
  },
  {
   "cell_type": "code",
   "execution_count": null,
   "metadata": {
    "slideshow": {
     "slide_type": "fragment"
    }
   },
   "outputs": [],
   "source": [
    "import panel as pn\n",
    "\n",
    "pn.extension()\n",
    "\n",
    "component = pn.Column(\n",
    "    pn.panel({\"Wind Speeds\": [0, 3, 6, 9, 12, 15, 18, 21], \"Power Output\": [0,39,260,780, 1300, 1300, 0, 0]}),\n",
    "    pn.panel(\"https://assets.holoviz.org/panel/tutorials/wind_turbine.png\", height=100),\n",
    "    pn.panel(\"https://assets.holoviz.org/panel/tutorials/wind_turbine.mp3\", styles={\"background\": \"orange\", \"padding\": \"10px\"}),\n",
    ")\n",
    "print(component)\n",
    "\n",
    "component.servable()"
   ]
  },
  {
   "cell_type": "markdown",
   "metadata": {
    "slideshow": {
     "slide_type": "fragment"
    }
   },
   "source": [
    ":::{note}\n",
    "The example above sets the _css_ `styles` of the `Audio` player. The `styles` parameter is introduced in the [Styles](https://panel.holoviz.org/tutorials/basic/style.html) tutorial.\n",
    ":::\n"
   ]
  },
  {
   "cell_type": "markdown",
   "metadata": {
    "slideshow": {
     "slide_type": "slide"
    }
   },
   "source": [
    "## Recap\n",
    "\n",
    "In this guide, we have learned to display Python objects easily with `pn.panel`:\n",
    "\n",
    "- Display a string with `pn.panel(some_string)`\n",
    "- Display plot figures like [Altair](https://altair-viz.github.io/), [hvPlot](https://hvplot.holoviz.org), [Matplotlib](https://matplotlib.org/) and [Plotly](https://plotly.com/python/) with `pn.panel(fig)`\n",
    "- Display DataFrames with `pn.panel(df)`\n",
    "- Display most Python objects with `pn.panel(some_python_object)`\n",
    "- Configure how an object is displayed by giving arguments to `pn.panel`\n",
    "- Display most Python objects in _layouts_ like `pn.Column` with and without the use of `pn.panel`\n",
    "- Use a specific _Pane_ instead of `pn.panel` if performance is key\n",
    "- Add JavaScript dependencies via `pn.extension`. For example `pn.extension(\"vega\")` or `pn.extension(\"plotly\")`\n"
   ]
  }
 ],
 "metadata": {
  "celltoolbar": "Slideshow",
  "kernelspec": {
   "display_name": "Python 3",
   "language": "python",
   "name": "python3"
  },
  "language_info": {
   "codemirror_mode": {
    "name": "ipython",
    "version": 3
   },
   "file_extension": ".py",
   "mimetype": "text/x-python",
   "name": "python",
   "nbconvert_exporter": "python",
   "pygments_lexer": "ipython3",
   "version": "3.11.9"
  }
 },
 "nbformat": 4,
 "nbformat_minor": 4
}
