{
 "cells": [
  {
   "cell_type": "markdown",
   "metadata": {
    "slideshow": {
     "slide_type": "slide"
    }
   },
   "source": [
    "# Deploy a Panel Dashboard\n",
    "\n",
    "Learn how to deploy your Panel dashboard to Hugging Face Spaces"
   ]
  },
  {
   "cell_type": "markdown",
   "metadata": {
    "slideshow": {
     "slide_type": "slide"
    }
   },
   "source": [
    "## Prerequisites\n",
    "\n",
    "Before we begin:\n",
    "\n",
    "1. Sign up for [Hugging Face](https://huggingface.co/)\n",
    "2. Log into your account\n",
    "3. Familiarize yourself with Spaces\n",
    "\n",
    "🔗 Visit [Hugging Face Spaces](https://huggingface.co/spaces?sort=trending&search=panel)"
   ]
  },
  {
   "cell_type": "markdown",
   "metadata": {
    "slideshow": {
     "slide_type": "slide"
    }
   },
   "source": [
    "## Clone the Project\n",
    "\n",
    "Steps to clone the dashboard:\n",
    "\n",
    "1. Open [panel-Org/build_dashboard](https://huggingface.co/spaces/panel-Org/build_dashboard)\n",
    "2. Click the three vertical dots (⋮)\n",
    "3. Select \"Duplicate this Space\"\n",
    "\n",
    "![Duplicate Space](https://raw.githubusercontent.com/holoviz/panel/main/doc/_static/images/hugging_face_spaces_duplicate.png)"
   ]
  },
  {
   "cell_type": "markdown",
   "metadata": {
    "slideshow": {
     "slide_type": "subslide"
    }
   },
   "source": [
    "### Configuration\n",
    "\n",
    "In the duplicate form:\n",
    "\n",
    "1. Set \"Visibility\" to \"Public\" if you want to share\n",
    "2. Click \"Duplicate Space\"\n",
    "3. Wait for build completion (~1 minute)\n",
    "\n",
    "![Duplicate Form](https://raw.githubusercontent.com/holoviz/panel/main/doc/_static/images/hugging_face_spaces_duplicate_form.png)"
   ]
  },
  {
   "cell_type": "markdown",
   "metadata": {
    "slideshow": {
     "slide_type": "slide"
    }
   },
   "source": [
    "## Project Files\n",
    "\n",
    "The Files tab provides easy project management:\n",
    "\n",
    "- **+ Add File**: Upload via drag and drop\n",
    "- **Edit**: Modify files directly\n",
    "- **Commit**: Save your changes\n",
    "\n",
    "![Files Tab](https://raw.githubusercontent.com/holoviz/panel/main/doc/_static/images/hugging_face_spaces_files.png)"
   ]
  },
  {
   "cell_type": "markdown",
   "metadata": {
    "slideshow": {
     "slide_type": "slide"
    }
   },
   "source": [
    "## The Dockerfile\n",
    "\n",
    "Key configuration for deployment:"
   ]
  },
  {
   "cell_type": "code",
   "execution_count": null,
   "metadata": {
    "slideshow": {
     "slide_type": "fragment"
    }
   },
   "outputs": [],
   "source": [
    "%%bash\n",
    "cat << 'EOF' > Dockerfile\n",
    "FROM python:3.11\n",
    "\n",
    "WORKDIR /code\n",
    "\n",
    "COPY ./requirements.txt /code/requirements.txt\n",
    "RUN python3 -m pip install --no-cache-dir --upgrade pip\n",
    "RUN python3 -m pip install --no-cache-dir --upgrade -r /code/requirements.txt\n",
    "\n",
    "COPY . .\n",
    "\n",
    "CMD [\"panel\", \"serve\", \"/code/app.py\", \"--address\", \"0.0.0.0\", \"--port\", \"7860\",  \n",
    "     \"--allow-websocket-origin\", \"*\", \"--num-procs\", \"2\", \"--num-threads\", \"0\", \n",
    "     \"--index\", \"app\"]\n",
    "\n",
    "RUN mkdir /.cache\n",
    "RUN chmod 777 /.cache\n",
    "EOF"
   ]
  },
  {
   "cell_type": "markdown",
   "metadata": {
    "slideshow": {
     "slide_type": "subslide"
    }
   },
   "source": [
    "### Dockerfile Breakdown\n",
    "\n",
    "- `FROM python:3.11`: Base Python image\n",
    "- `WORKDIR /code`: Working directory\n",
    "- `pip install`: Package installation\n",
    "- `COPY . .`: Copy project files\n",
    "- Server configuration:\n",
    "  - Address: `0.0.0.0:7860`\n",
    "  - WebSocket: Allow all origins\n",
    "  - Processes: 2 server processes\n",
    "  - Threading: Concurrent execution"
   ]
  },
  {
   "cell_type": "markdown",
   "metadata": {
    "slideshow": {
     "slide_type": "slide"
    }
   },
   "source": [
    "## Cleanup\n",
    "\n",
    "To delete your space:\n",
    "\n",
    "1. Go to \"Settings\" tab\n",
    "2. Scroll to bottom\n",
    "3. Follow \"Delete this space\" instructions\n",
    "\n",
    "![Delete Space](https://raw.githubusercontent.com/holoviz/panel/main/doc/_static/images/hugging_face_spaces_delete.png)"
   ]
  },
  {
   "cell_type": "markdown",
   "metadata": {
    "slideshow": {
     "slide_type": "slide"
    }
   },
   "source": [
    "## 🎉 Congratulations!\n",
    "\n",
    "You're now a Panel Hero! \n",
    "\n",
    "Use this badge in your projects:\n",
    "\n",
    "![Panel Hero](https://img.shields.io/badge/Panel-Hero-blue)\n",
    "\n",
    "```markdown\n",
    "![Panel Hero](https://img.shields.io/badge/Panel-Hero-blue)\n",
    "```"
   ]
  }
 ],
 "metadata": {
  "celltoolbar": "Slideshow",
  "kernelspec": {
   "display_name": "Python 3",
   "language": "python",
   "name": "python3"
  },
  "language_info": {
   "codemirror_mode": {
    "name": "ipython",
    "version": 3
   },
   "file_extension": ".py",
   "mimetype": "text/x-python",
   "name": "python",
   "nbconvert_exporter": "python",
   "pygments_lexer": "ipython3",
   "version": "3.8.0"
  }
 },
 "nbformat": 4,
 "nbformat_minor": 4
}
