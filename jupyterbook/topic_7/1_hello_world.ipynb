{
 "cells": [
  {
   "cell_type": "markdown",
   "metadata": {
    "slideshow": {
     "slide_type": "slide"
    }
   },
   "source": [
    "# Build Hello World App\n"
   ]
  },
  {
   "cell_type": "markdown",
   "metadata": {
    "slideshow": {
     "slide_type": "fragment"
    }
   },
   "source": [
    "\n",
    "Welcome to the \"Build Hello World App\" tutorial! Get ready to dive into the world of Panel and serve your very first app."
   ]
  },
  {
   "cell_type": "code",
   "execution_count": null,
   "metadata": {},
   "outputs": [],
   "source": []
  },
  {
   "cell_type": "markdown",
   "metadata": {
    "slideshow": {
     "slide_type": "subslide"
    }
   },
   "source": [
    "## Serve the App\n",
    "\n",
    "Let's get started by serving our simple *Hello World* app using Panel. Choose a tab below to continue:\n"
   ]
  },
  {
   "cell_type": "code",
   "execution_count": null,
   "metadata": {
    "slideshow": {
     "slide_type": "fragment"
    }
   },
   "outputs": [],
   "source": [
    "import panel as pn\n",
    "\n",
    "pn.extension()\n",
    "\n",
    "pn.panel(\"Hello World\").servable()"
   ]
  },
  {
   "cell_type": "markdown",
   "metadata": {
    "slideshow": {
     "slide_type": "fragment"
    }
   },
   "source": [
    ":::{note}\n",
    "Here's a breakdown of the code:\n",
    "\n",
    "- `panel`: The Panel python package, conventionally imported as `pn`.\n",
    "- `pn.extension()`: Loads javascript dependencies and configures Panel.\n",
    "- `pn.panel(...)`: Creates a *displayable* Panel component.\n",
    "- `.servable()`: Displays the component in a *server app*.\n",
    ":::"
   ]
  },
  {
   "cell_type": "markdown",
   "metadata": {
    "slideshow": {
     "slide_type": "fragment"
    }
   },
   "source": [
    "## Serve the Panel app\n",
    "\n",
    "Copy the code into a file named `hello-world.py` and save it. Then, run the Panel server in your terminal with:\n",
    "\n",
    "```{include} ./scripts/hello-world.py\n",
    ":code: python\n",
    "```\n",
    "\n",
    "```bash\n",
    "panel serve hello-world.py --dev\n",
    "```"
   ]
  },
  {
   "cell_type": "markdown",
   "metadata": {
    "slideshow": {
     "slide_type": "fragment"
    }
   },
   "source": [
    "Upon successful startup, you'll see the server's URL in the terminal.\n",
    "\n",
    "```bash\n",
    "2024-01-17 21:05:32,338 Starting Bokeh server version 3.3.3 (running on Tornado 6.4)\n",
    "2024-01-17 21:05:32,339 User authentication hooks NOT provided (default user enabled)\n",
    "2024-01-17 21:05:32,342 Bokeh app running at: http://localhost:5006/app\n",
    "2024-01-17 21:05:32,342 Starting Bokeh server with process id: 42008\n",
    "```\n",
    "\n",
    "Open your browser at that URL to view the app. It should look like\n",
    "\n",
    "![Panel serve app](./figs/panel-serve-py-app.png).\n",
    "\n",
    "Play around with the app by modifying the `\"Hello World\"` text, saving the file and observe how it updates in real-time. To stop the server, simply press `CTRL+C` in the terminal."
   ]
  },
  {
   "cell_type": "markdown",
   "metadata": {
    "slideshow": {
     "slide_type": "subslide"
    }
   },
   "source": [
    "## Recap\n",
    "\n",
    "Congratulations on serving your first Panel app! Let's recap what we've learned:\n",
    "\n",
    "- How to serve a Python script or Notebook using `panel serve app.py` or `panel serve app.ipynb`, respectively.\n",
    "- How to enable *auto reload* with the `--dev` flag.\n",
    "- How to stop the Panel server with `CTRL+C`."
   ]
  }
 ],
 "metadata": {
  "kernelspec": {
   "display_name": "Python 3",
   "language": "python",
   "name": "python3"
  },
  "language_info": {
   "codemirror_mode": {
    "name": "ipython",
    "version": 3
   },
   "file_extension": ".py",
   "mimetype": "text/x-python",
   "name": "python",
   "nbconvert_exporter": "python",
   "pygments_lexer": "ipython3",
   "version": "3.11.9"
  }
 },
 "nbformat": 4,
 "nbformat_minor": 2
}
