{
 "cells": [
  {
   "cell_type": "markdown",
   "metadata": {
    "slideshow": {
     "slide_type": "slide"
    }
   },
   "source": [
    "# Build a Crossfiltering Dashboard\n",
    "\n",
    "Learn how to create interactive dashboards with crossfiltering capabilities using HoloViews and Panel.\n",
    "\n",
    "What is crossfiltering?\n",
    "- Dynamic method of data visualization\n",
    "- Interactive filtering across multiple dimensions\n",
    "- Real-time updates across all visualizations\n",
    "- Deeper insights into complex datasets\n",
    "\n",
    "<video controls loop style=\"max-height: 400px; max-width: 100%;\">\n",
    "    <source src=\"https://assets.holoviz.org/panel/tutorials/panel_crossfilter_dashboard.mp4\" type=\"video/mp4\">\n",
    "</video>"
   ]
  },
  {
   "cell_type": "markdown",
   "metadata": {
    "slideshow": {
     "slide_type": "slide"
    }
   },
   "source": [
    "## Setup\n",
    "\n",
    "Import required libraries and configure the environment:"
   ]
  },
  {
   "cell_type": "code",
   "execution_count": null,
   "metadata": {
    "slideshow": {
     "slide_type": "fragment"
    }
   },
   "outputs": [],
   "source": [
    "import holoviews as hv\n",
    "import numpy as np\n",
    "import pandas as pd\n",
    "import panel as pn\n",
    "from bokeh.models.formatters import NumeralTickFormatter\n",
    "\n",
    "pn.extension(sizing_mode=\"stretch_width\")\n",
    "\n",
    "ACCENT = \"teal\"\n",
    "\n",
    "SHORT_NAMES = {\n",
    "    \"Changzhou Railcar Propulsion Engineering Research and Development Center\": \"Changzhou\",\n",
    "    \"Siemens Gamesa Renewable Energy\": \"Siemens Gamesa\",\n",
    "}"
   ]
  },
  {
   "cell_type": "markdown",
   "metadata": {
    "slideshow": {
     "slide_type": "slide"
    }
   },
   "source": [
    "## Data Preparation\n",
    "\n",
    "Create a function to load and preprocess the wind turbine data:"
   ]
  },
  {
   "cell_type": "code",
   "execution_count": null,
   "metadata": {
    "slideshow": {
     "slide_type": "fragment"
    }
   },
   "outputs": [],
   "source": [
    "@pn.cache()\n",
    "def get_data():\n",
    "    data = pd.read_csv(\"https://assets.holoviz.org/panel/tutorials/turbines.csv.gz\")\n",
    "\n",
    "    # Shorten manufacturer names for clarity\n",
    "    mask = data.t_manu.isin(list(SHORT_NAMES))\n",
    "    data.loc[mask, \"t_manu\"] = data.loc[mask, \"t_manu\"].map(SHORT_NAMES)\n",
    "    \n",
    "    # Convert capacity to gigawatts\n",
    "    data.t_cap = data.t_cap / 10**6\n",
    "    return data\n",
    "\n",
    "# Load the data\n",
    "data = get_data()"
   ]
  },
  {
   "cell_type": "markdown",
   "metadata": {
    "slideshow": {
     "slide_type": "slide"
    }
   },
   "source": [
    "## Create Visualizations\n",
    "\n",
    "Define a function to create the crossfiltering plots:"
   ]
  },
  {
   "cell_type": "code",
   "execution_count": null,
   "metadata": {
    "slideshow": {
     "slide_type": "fragment"
    }
   },
   "outputs": [],
   "source": [
    "# The @pn.cache decorator caches the output of this function to improve performance.\n",
    "# It allows the function to return the same result faster if it is called again with the same inputs.\n",
    "@pn.cache\n",
    "def get_plots():\n",
    "    # Get data from some external source or pre-processed function (not provided in the snippet).\n",
    "    data = get_data()\n",
    "    \n",
    "    # Define a Holoviews Dataset for crossfiltering the data. This dataset allows easy manipulation,\n",
    "    # aggregation, and visualization of data with interactive features.\n",
    "    # It uses \"t_manu\", \"p_year\", and \"t_cap\" columns to define the data dimension and the variable.\n",
    "    ds = hv.Dataset(data, [\"t_manu\", \"p_year\", \"t_cap\"], \"t_cap\")\n",
    "    \n",
    "    # Aggregate data by year (\"p_year\"). The `function=np.sum` specifies that the aggregation \n",
    "    # should sum up all values for each year. Then it sorts the data by \"p_year\".\n",
    "    # The slice [1995:] only takes data from 1995 onwards.\n",
    "    ds_by_year = ds.aggregate(\"p_year\", function=np.sum).sort(\"p_year\")[1995:]\n",
    "    \n",
    "    # Aggregate data by manufacturer (\"t_manu\"), summing the values. Then sort by capacity (\"t_cap\")\n",
    "    # in descending order. Finally, only keep the top 20 manufacturers (using .iloc[:20]).\n",
    "    ds_by_manufacturer = ds.aggregate(\"t_manu\", function=np.sum).sort(\n",
    "        \"t_cap\", reverse=True\n",
    "    ).iloc[:20]\n",
    "    \n",
    "    # Configure a formatter for the y-axis ticks to use a comma for thousands separators.\n",
    "    formatter = NumeralTickFormatter(format=\"0,0\")\n",
    "    \n",
    "    # Create a bar plot by year.\n",
    "    plot_by_year = hv.Bars(\n",
    "        ds_by_year, (\"p_year\", \"Year\"), (\"t_cap\", \"Capacity (GW)\")  # Define x and y axes labels\n",
    "    ).opts(\n",
    "        responsive=True,  # Make the plot responsive to the container size.\n",
    "        min_height=300,  # Set a minimum height for the plot.\n",
    "        yformatter=formatter,  # Format the y-axis ticks to include commas.\n",
    "        color=ACCENT,  # Set the color of the bars (variable named ACCENT).\n",
    "        tools=[\"hover\"],  # Add hover tool to show additional data when the user hovers over bars.\n",
    "        active_tools=[\"box_select\"],  # Enable box select for selecting a subset of bars interactively.\n",
    "    )\n",
    "    \n",
    "    # Create a bar plot by manufacturer.\n",
    "    plot_by_manufacturer = hv.Bars(\n",
    "        ds_by_manufacturer, (\"t_manu\", \"Manufacturer\"), (\"t_cap\", \"Capacity (GW)\")  # Define x and y axes labels\n",
    "    ).opts(\n",
    "        responsive=True,  # Make the plot responsive to the container size.\n",
    "        min_height=300,  # Set a minimum height for the plot.\n",
    "        xrotation=90,  # Rotate x-axis labels by 90 degrees for better readability.\n",
    "        yformatter=formatter,  # Format the y-axis ticks to include commas.\n",
    "        color=ACCENT,  # Set the color of the bars (variable named ACCENT).\n",
    "        tools=[\"hover\"],  # Add hover tool to show additional data when the user hovers over bars.\n",
    "        active_tools=[\"box_select\"],  # Enable box select for selecting a subset of bars interactively.\n",
    "    )\n",
    "\n",
    "    # Return the plots stacked vertically in a single-column layout.\n",
    "    return (plot_by_year + plot_by_manufacturer).cols(1)\n"
   ]
  },
  {
   "cell_type": "markdown",
   "metadata": {
    "slideshow": {
     "slide_type": "slide"
    }
   },
   "source": [
    "## Enable Crossfiltering\n",
    "\n",
    "Link the selections between plots to enable crossfiltering:"
   ]
  },
  {
   "cell_type": "code",
   "execution_count": null,
   "metadata": {
    "slideshow": {
     "slide_type": "fragment"
    }
   },
   "outputs": [],
   "source": [
    "# Create linked plots\n",
    "crossfilter_plots = hv.link_selections(get_plots()).opts(shared_axes=False)\n",
    "\n",
    "# Create dashboard\n",
    "dashboard = pn.template.FastListTemplate(\n",
    "    title=\"Windturbine Dashboard with Crossfiltering\",\n",
    "    main=[crossfilter_plots],\n",
    "    main_layout=None,\n",
    "    accent=ACCENT,\n",
    ")\n",
    "\n",
    "dashboard.servable();"
   ]
  },
  {
   "cell_type": "markdown",
   "metadata": {
    "slideshow": {
     "slide_type": "slide"
    }
   },
   "source": [
    "## Key Features\n",
    "\n",
    "1. **Interactive Selection**\n",
    "   - Box select tool enabled\n",
    "   - Hover tooltips for details\n",
    "   - Real-time updates\n",
    "\n",
    "2. **Data Views**\n",
    "   - Capacity by Year\n",
    "   - Capacity by Manufacturer\n",
    "   - All views linked through crossfiltering\n",
    "\n",
    "3. **Responsive Design**\n",
    "   - Adapts to window size\n",
    "   - Clean, modern interface\n",
    "   - Consistent styling"
   ]
  },
  {
   "cell_type": "markdown",
   "metadata": {},
   "source": [
    "### Complete Code\n",
    "\n",
    "```{include} ./scripts/crossfiltering.py\n",
    ":code: python\n",
    "```\n",
    "\n",
    "To run the code, type the following command in your terminal:\n",
    "\n",
    "```bash\n",
    "panel serve crossfiltering.py --dev\n",
    "```"
   ]
  },
  {
   "cell_type": "markdown",
   "metadata": {
    "slideshow": {
     "slide_type": "slide"
    }
   },
   "source": [
    "## Important Notes\n",
    "\n",
    "1. **Shared Dataset**\n",
    "   - Required for linked brushing\n",
    "   - All plots must use same HoloViews Dataset\n",
    "\n",
    "2. **Session Management**\n",
    "   - Create new `crossfilter_plots` for each session\n",
    "   - Sessions cannot share `link_selections` objects\n",
    "\n",
    "3. **Performance**\n",
    "   - Use `@pn.cache` for data loading\n",
    "   - Keep data transformations efficient\n"
   ]
  }
 ],
 "metadata": {
  "celltoolbar": "Slideshow",
  "kernelspec": {
   "display_name": "Python 3",
   "language": "python",
   "name": "python3"
  },
  "language_info": {
   "codemirror_mode": {
    "name": "ipython",
    "version": 3
   },
   "file_extension": ".py",
   "mimetype": "text/x-python",
   "name": "python",
   "nbconvert_exporter": "python",
   "pygments_lexer": "ipython3",
   "version": "3.11.9"
  }
 },
 "nbformat": 4,
 "nbformat_minor": 4
}
