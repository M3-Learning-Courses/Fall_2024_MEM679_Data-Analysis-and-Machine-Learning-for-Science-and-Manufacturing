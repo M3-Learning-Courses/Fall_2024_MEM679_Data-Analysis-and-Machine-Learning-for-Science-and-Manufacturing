{
 "cells": [
  {
   "cell_type": "markdown",
   "metadata": {
    "slideshow": {
     "slide_type": "slide"
    }
   },
   "source": [
    "# Build a Monitoring Dashboard\n",
    "\n",
    "Create a display-only dashboard that refreshes periodically - perfect for:\n",
    "- Call centers\n",
    "- Control rooms\n",
    "- Trading areas\n",
    "\n",
    "![Monitoring Dashboard](https://assets.holoviz.org/panel/tutorials/build-monitoring-dashboard.gif)"
   ]
  },
  {
   "cell_type": "markdown",
   "metadata": {
    "slideshow": {
     "slide_type": "slide"
    }
   },
   "source": [
    "## Setup\n",
    "\n",
    "Import libraries and set up constants:"
   ]
  },
  {
   "cell_type": "code",
   "execution_count": null,
   "metadata": {
    "slideshow": {
     "slide_type": "fragment"
    }
   },
   "outputs": [],
   "source": [
    "import numpy as np\n",
    "import panel as pn\n",
    "from scipy.interpolate import interp1d\n",
    "\n",
    "pn.extension()\n",
    "\n",
    "ACCENT = \"teal\"\n",
    "\n",
    "WIND_SPEED_STD_DEV = 2.0\n",
    "WIND_SPEED_MEAN = 8.0\n",
    "\n",
    "WIND_SPEEDS = np.array([0, 3, 6, 9, 12, 15, 18, 21])  # Wind speed (m/s)\n",
    "POWER_OUTPUTS = np.array([0, 39, 260, 780, 1300, 1300, 0, 0])  # Power output (MW)"
   ]
  },
  {
   "cell_type": "markdown",
   "metadata": {
    "slideshow": {
     "slide_type": "slide"
    }
   },
   "source": [
    "## Data Generation\n",
    "\n",
    "Create functions to generate wind speed and power output data:"
   ]
  },
  {
   "cell_type": "code",
   "execution_count": null,
   "metadata": {
    "slideshow": {
     "slide_type": "fragment"
    }
   },
   "outputs": [],
   "source": [
    "def get_wind_speed():\n",
    "    # Replace with your wind speed source\n",
    "    return round(np.random.normal(WIND_SPEED_MEAN, WIND_SPEED_STD_DEV), 1)\n",
    "\n",
    "def get_power_output(wind_speed):\n",
    "    # Replace with your power output calculation\n",
    "    power_interpolation = interp1d(\n",
    "        WIND_SPEEDS, POWER_OUTPUTS, kind=\"linear\", fill_value=\"extrapolate\"\n",
    "    )\n",
    "    return np.round(power_interpolation(wind_speed), 1)\n",
    "\n",
    "# Generate initial values\n",
    "wind_speed = get_wind_speed()\n",
    "power_output = get_power_output(wind_speed)"
   ]
  },
  {
   "cell_type": "markdown",
   "metadata": {
    "slideshow": {
     "slide_type": "slide"
    }
   },
   "source": [
    "## Create Indicators\n",
    "\n",
    "Set up the dashboard indicators:"
   ]
  },
  {
   "cell_type": "code",
   "execution_count": null,
   "metadata": {
    "slideshow": {
     "slide_type": "fragment"
    }
   },
   "outputs": [],
   "source": [
    "wind_speed_view = pn.indicators.Number(\n",
    "    name=\"Wind Speed\",\n",
    "    value=wind_speed,\n",
    "    format=\"{value} m/s\",\n",
    "    colors=[(10, ACCENT), (100, \"red\")],\n",
    ")\n",
    "\n",
    "power_output_view = pn.indicators.Number(\n",
    "    name=\"Power Output\",\n",
    "    value=power_output,\n",
    "    format=\"{value} MW\",\n",
    "    colors=[\n",
    "        (power_output, ACCENT),\n",
    "        (max(POWER_OUTPUTS), \"red\"),\n",
    "    ],\n",
    ")\n",
    "\n",
    "indicators = pn.FlexBox(wind_speed_view, power_output_view)\n",
    "indicators"
   ]
  },
  {
   "cell_type": "markdown",
   "metadata": {
    "slideshow": {
     "slide_type": "slide"
    }
   },
   "source": [
    "## Create Dashboard\n",
    "\n",
    "Assemble the final dashboard with auto-refresh:"
   ]
  },
  {
   "cell_type": "code",
   "execution_count": null,
   "metadata": {
    "slideshow": {
     "slide_type": "fragment"
    }
   },
   "outputs": [],
   "source": [
    "dashboard = pn.template.FastListTemplate(\n",
    "    title=\"WTG Monitoring Dashboard\",\n",
    "    main=[indicators],\n",
    "    accent=ACCENT,\n",
    "    main_layout=None,\n",
    "    theme=\"dark\",\n",
    "    theme_toggle=False,\n",
    "    meta_refresh=\"2\",  # Automatically refresh every 2 seconds\n",
    ")\n",
    "\n",
    "dashboard.servable();"
   ]
  },
  {
   "cell_type": "markdown",
   "metadata": {
    "slideshow": {
     "slide_type": "subslide"
    }
   },
   "source": [
    "### Complete Code\n",
    "\n",
    "```{include} ./scripts/monitoring-dashboard.py\n",
    ":code: python\n",
    "```\n",
    "\n",
    "To run the code, type the following command in your terminal:\n",
    "\n",
    "```bash\n",
    "panel serve monitoring-dashboard.py --dev\n",
    "```"
   ]
  },
  {
   "cell_type": "markdown",
   "metadata": {
    "slideshow": {
     "slide_type": "subslide"
    }
   },
   "source": [
    "## Important Notes\n",
    "\n",
    "1. The `meta_refresh` rate of 2 seconds is for demonstration only\n",
    "2. For production use:\n",
    "   - Use refresh rates of 15+ seconds\n",
    "   - Consider using Periodic Callbacks for faster updates\n",
    "   - Use generators with higher meta_refresh rates (900+)\n"
   ]
  },
  {
   "cell_type": "markdown",
   "metadata": {
    "slideshow": {
     "slide_type": "slide"
    }
   },
   "source": [
    "## Key Components\n",
    "\n",
    "The dashboard uses several Panel components:\n",
    "\n",
    "1. **Number Indicators**\n",
    "   - Display wind speed and power output\n",
    "   - Color coding for different value ranges\n",
    "\n",
    "2. **FlexBox Layout**\n",
    "   - Responsive arrangement of indicators\n",
    "   - Adapts to screen size\n",
    "\n",
    "3. **FastListTemplate**\n",
    "   - Professional looking interface\n",
    "   - Built-in dark theme\n",
    "   - Auto-refresh capability\n",
    "\n",
    "For more details, check out:\n",
    "- [Number Indicator Documentation](https://panel.holoviz.org/reference/indicators/Number.html)\n",
    "- [FastListTemplate Documentation](https://panel.holoviz.org/reference/templates/FastListTemplate.html)"
   ]
  },
  {
   "cell_type": "markdown",
   "metadata": {},
   "source": []
  }
 ],
 "metadata": {
  "celltoolbar": "Slideshow",
  "kernelspec": {
   "display_name": "Python 3",
   "language": "python",
   "name": "python3"
  },
  "language_info": {
   "codemirror_mode": {
    "name": "ipython",
    "version": 3
   },
   "file_extension": ".py",
   "mimetype": "text/x-python",
   "name": "python",
   "nbconvert_exporter": "python",
   "pygments_lexer": "ipython3",
   "version": "3.11.9"
  }
 },
 "nbformat": 4,
 "nbformat_minor": 4
}
