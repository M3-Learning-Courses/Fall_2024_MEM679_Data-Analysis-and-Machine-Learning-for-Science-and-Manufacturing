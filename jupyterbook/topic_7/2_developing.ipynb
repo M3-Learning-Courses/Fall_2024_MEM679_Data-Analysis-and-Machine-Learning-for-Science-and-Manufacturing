{
 "cells": [
  {
   "cell_type": "markdown",
   "metadata": {
    "slideshow": {
     "slide_type": "slide"
    }
   },
   "source": [
    "# Develop in an Editor\n",
    "\n",
    "Welcome to the \"Develop in an Editor\" section! Here, we'll explore how to develop Panel apps efficiently right within your favorite editor.\n",
    "\n",
    "Let's dive in!\n"
   ]
  },
  {
   "cell_type": "markdown",
   "metadata": {
    "slideshow": {
     "slide_type": "subslide"
    }
   },
   "source": [
    "## Serve Your App with Autoreload\n",
    "\n",
    "Let's serve our app with autoreload. Autoreload ensures that your app updates in real-time as you make changes, providing a smooth development experience.\n"
   ]
  },
  {
   "cell_type": "markdown",
   "metadata": {
    "slideshow": {
     "slide_type": "subslide"
    }
   },
   "source": [
    "### Serving Your App\n",
    "\n",
    "Imagine you have a simple Panel app like the following:\n",
    "\n",
    "```{include} ./scripts/developing.py\n",
    ":code: python\n",
    "```\n",
    "\n",
    "Copy this code into a file named `developing.py` and save it.\n",
    "\n",
    "Now, open a terminal and run the following command:\n",
    "\n",
    "```bash\n",
    "panel serve developing.py --dev\n",
    "```"
   ]
  },
  {
   "cell_type": "markdown",
   "metadata": {
    "slideshow": {
     "slide_type": "fragment"
    }
   },
   "source": [
    "This will start the server and provide you with a URL where your app is being served. Open this URL in your browser to see your app in action.\n",
    "\n",
    "It should look like\n",
    "\n",
    "![Panel served app](./figs/develop_editor_panel_serve_before.png)"
   ]
  },
  {
   "cell_type": "markdown",
   "metadata": {
    "slideshow": {
     "slide_type": "fragment"
    }
   },
   "source": [
    "Now change the\n",
    "\n",
    "- `ACCENT` value to `teal` and save the `app.py` file.\n",
    "- `bins` value to `15` and save.\n",
    "- `title` value to `\"My Matplotlib App\"` and save.\n",
    "\n",
    "It should look like\n",
    "\n",
    "<video muted controls loop poster=\"../../_static/images/develop_editor_panel_serve_after.png\" style=\"max-height: 400px; max-width: 100%;\">\n",
    "    <source src=\"https://assets.holoviz.org/panel/tutorials/develop_editor_serve_app.mp4\" type=\"video/mp4\">\n",
    "    Your browser does not support the video tag.\n",
    "</video>"
   ]
  },
  {
   "cell_type": "markdown",
   "metadata": {
    "slideshow": {
     "slide_type": "subslide"
    }
   },
   "source": [
    "## Inspect via Hover\n",
    "\n",
    "One of the benefits of developing in an editor is the ability to inspect Panel objects conveniently via hover. Simply hover over the object you want to inspect, and you'll see tooltips providing useful information and links to reference guides.\n",
    "\n",
    "Let's say you want to inspect the `FastListTemplate` object in your code. Hover over it, and you'll see a tooltip with an example code snippet and a reference link. Clicking the reference link takes you directly to the reference guide for further information.\n",
    "\n",
    "![Tooltip of FastListTemplate](./figs/develop_editor_hover.png)"
   ]
  },
  {
   "cell_type": "markdown",
   "metadata": {
    "slideshow": {
     "slide_type": "subslide"
    }
   },
   "source": [
    "## Inspect via `print`\n",
    "\n",
    "Another handy way to inspect objects is by printing them. This allows you to see detailed information about the object's structure and contents.\n",
    "\n",
    "Consider the following code snippet:\n",
    "\n",
    "```python\n",
    "import panel as pn\n",
    "\n",
    "pn.extension(design=\"material\")\n",
    "\n",
    "component = pn.panel(\"Hello World\")\n",
    "layout = pn.Column(\n",
    "    component, pn.widgets.IntSlider(value=2, start=0, end=10, name=\"Value\")\n",
    ")\n",
    "print(layout)\n",
    "layout.servable()\n",
    "```"
   ]
  },
  {
   "cell_type": "markdown",
   "metadata": {
    "slideshow": {
     "slide_type": "subslide"
    }
   },
   "source": [
    "## Inspect Parameters via `.param`\n",
    "\n",
    "You can inspect the parameters of Panel components using the `.param` namespace and its `_repr_html_` method.\n",
    "\n",
    "Copy the code below into a file `inspector.py`:\n",
    "\n",
    "```{include} ./scripts/inspector.py\n",
    ":code: python\n",
    "```"
   ]
  },
  {
   "cell_type": "markdown",
   "metadata": {
    "slideshow": {
     "slide_type": "fragment"
    }
   },
   "source": [
    "Serve the app with `panel serve inspector.py --dev`.\n",
    "\n",
    "Open [http://localhost:5006](http://localhost:5006) in a browser.\n",
    "\n",
    "It should look like\n",
    "\n",
    "![.param and .param._repr_html_()](./figs/develop_editor_param.png)"
   ]
  },
  {
   "cell_type": "markdown",
   "metadata": {
    "slideshow": {
     "slide_type": "subslide"
    }
   },
   "source": [
    "## Recap\n",
    "\n",
    "In this section, we've covered:\n",
    "\n",
    "- Serving your app with autoreload for seamless development.\n",
    "- Inspecting Panel objects conveniently via hover and `print`.\n",
    "- Exploring component parameters using `.param`.\n",
    "\n",
    "With these techniques, you can streamline your development workflow and build awesome Panel apps more efficiently!"
   ]
  }
 ],
 "metadata": {
  "language_info": {
   "name": "python"
  }
 },
 "nbformat": 4,
 "nbformat_minor": 2
}
