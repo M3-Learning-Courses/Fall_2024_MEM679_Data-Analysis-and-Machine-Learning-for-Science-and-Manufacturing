{
 "cells": [
  {
   "cell_type": "markdown",
   "metadata": {
    "slideshow": {
     "slide_type": "slide"
    }
   },
   "source": [
    "# Build a Wind Turbine Dashboard\n",
    "\n",
    "Welcome to our tutorial on building an interactive dashboard showcasing essential metrics from wind turbine manufacturers.\n",
    "\n",
    "We'll demonstrate how to leverage:\n",
    "- Sliders and dropdowns\n",
    "- Interactive plots\n",
    "- Data indicators\n",
    "- Tables and layouts"
   ]
  },
  {
   "cell_type": "markdown",
   "metadata": {
    "slideshow": {
     "slide_type": "slide"
    }
   },
   "source": [
    "## Requirements\n",
    "\n",
    "First, install the required packages:\n",
    "\n",
    "```bash\n",
    "pip install hvplot pandas panel\n",
    "```\n",
    "\n",
    "or with conda:\n",
    "\n",
    "```bash\n",
    "conda install -y -c conda-forge hvplot pandas panel\n",
    "```\n",
    "\n",
    "```{note}\n",
    "If you are using the Jupyter Book these packages are already installed.\n",
    "```"
   ]
  },
  {
   "cell_type": "markdown",
   "metadata": {
    "slideshow": {
     "slide_type": "slide"
    }
   },
   "source": [
    "## 1. Setup\n",
    "\n",
    "Let's start by importing the necessary libraries and setting up our environment."
   ]
  },
  {
   "cell_type": "code",
   "execution_count": null,
   "metadata": {
    "slideshow": {
     "slide_type": "fragment"
    }
   },
   "outputs": [],
   "source": [
    "import hvplot.pandas\n",
    "import pandas as pd\n",
    "import panel as pn\n",
    "\n",
    "pn.extension(\"tabulator\")\n",
    "\n",
    "# Define styling\n",
    "ACCENT = \"teal\"\n",
    "styles = {\n",
    "    \"box-shadow\": \"rgba(50, 50, 93, 0.25) 0px 6px 12px -2px, rgba(0, 0, 0, 0.3) 0px 3px 7px -3px\",\n",
    "    \"border-radius\": \"4px\",\n",
    "    \"padding\": \"10px\",\n",
    "}"
   ]
  },
  {
   "cell_type": "markdown",
   "metadata": {
    "slideshow": {
     "slide_type": "slide"
    }
   },
   "source": [
    "## 2. Data Extraction\n",
    "\n",
    "Next, we'll load and prepare our wind turbine data."
   ]
  },
  {
   "cell_type": "code",
   "execution_count": null,
   "metadata": {
    "slideshow": {
     "slide_type": "fragment"
    }
   },
   "outputs": [],
   "source": [
    "# this is a decorator that caches the result of the function\n",
    "@pn.cache()  # only download data once\n",
    "def get_data():\n",
    "    return pd.read_csv(\"https://assets.holoviz.org/panel/tutorials/turbines.csv.gz\")\n",
    "\n",
    "source_data = get_data()\n",
    "\n",
    "# Calculate key data ranges\n",
    "min_year = int(source_data[\"p_year\"].min())\n",
    "max_year = int(source_data[\"p_year\"].max())\n",
    "top_manufacturers = (\n",
    "    source_data.groupby(\"t_manu\").p_cap.sum().sort_values().iloc[-10:].index.to_list()\n",
    ")"
   ]
  },
  {
   "cell_type": "markdown",
   "metadata": {
    "slideshow": {
     "slide_type": "slide"
    }
   },
   "source": [
    "## 3. Data Filtering\n",
    "\n",
    "Create a function to filter our data based on user selections."
   ]
  },
  {
   "cell_type": "code",
   "execution_count": null,
   "metadata": {
    "slideshow": {
     "slide_type": "fragment"
    }
   },
   "outputs": [],
   "source": [
    "def filter_data(t_manu, year):\n",
    "    data = source_data[(source_data.t_manu == t_manu) & (source_data.p_year <= year)]\n",
    "    return data"
   ]
  },
  {
   "cell_type": "markdown",
   "metadata": {
    "slideshow": {
     "slide_type": "slide"
    }
   },
   "source": [
    "## 4. Interactive Controls\n",
    "\n",
    "Create widgets for user interaction:"
   ]
  },
  {
   "cell_type": "code",
   "execution_count": null,
   "metadata": {
    "slideshow": {
     "slide_type": "fragment"
    }
   },
   "outputs": [],
   "source": [
    "# Create widgets\n",
    "t_manu = pn.widgets.Select(\n",
    "    name=\"Manufacturer\",\n",
    "    value=\"Vestas\",\n",
    "    options=sorted(top_manufacturers),\n",
    "    description=\"The name of the manufacturer\",\n",
    ")\n",
    "p_year = pn.widgets.IntSlider(name=\"Year\", value=max_year, start=min_year, end=max_year)\n",
    "\n",
    "# Create reactive dataframe\n",
    "df = pn.rx(filter_data)(t_manu=t_manu, year=p_year)\n",
    "count = df.rx.len()\n",
    "total_capacity = df.t_cap.sum()\n",
    "avg_capacity = df.t_cap.mean()\n",
    "avg_rotor_diameter = df.t_rd.mean()"
   ]
  },
  {
   "cell_type": "markdown",
   "metadata": {
    "slideshow": {
     "slide_type": "slide"
    }
   },
   "source": [
    "## 5. Visualization\n",
    "\n",
    "Create the bar plot showing capacity changes over time."
   ]
  },
  {
   "cell_type": "code",
   "execution_count": null,
   "metadata": {
    "slideshow": {
     "slide_type": "fragment"
    }
   },
   "outputs": [],
   "source": [
    "fig = (\n",
    "    df[[\"p_year\", \"t_cap\"]].groupby(\"p_year\").sum() / 10**6\n",
    ").hvplot.bar(\n",
    "    title=\"Capacity Change\",\n",
    "    rot=90,\n",
    "    ylabel=\"Capacity (GW)\",\n",
    "    xlabel=\"Year\",\n",
    "    xlim=(min_year, max_year),\n",
    "    color=ACCENT,\n",
    ")"
   ]
  },
  {
   "cell_type": "markdown",
   "metadata": {
    "slideshow": {
     "slide_type": "slide"
    }
   },
   "source": [
    "## 6. Dashboard Components\n",
    "\n",
    "Create the various components of our dashboard:"
   ]
  },
  {
   "cell_type": "code",
   "execution_count": null,
   "metadata": {
    "slideshow": {
     "slide_type": "fragment"
    }
   },
   "outputs": [],
   "source": [
    "# Create image pane\n",
    "image = pn.pane.JPG(\"https://assets.holoviz.org/panel/tutorials/wind_turbines_sunset.png\")\n",
    "\n",
    "# Create indicators\n",
    "indicators = pn.FlexBox(\n",
    "    pn.indicators.Number(\n",
    "        value=count, name=\"Count\", format=\"{value:,.0f}\", styles=styles\n",
    "    ),\n",
    "    pn.indicators.Number(\n",
    "        value=total_capacity / 1e6,\n",
    "        name=\"Total Capacity (GW)\",\n",
    "        format=\"{value:,.1f}\",\n",
    "        styles=styles,\n",
    "    ),\n",
    "    pn.indicators.Number(\n",
    "        value=avg_capacity/1e3,\n",
    "        name=\"Avg. Capacity (MW)\",\n",
    "        format=\"{value:,.1f}\",\n",
    "        styles=styles,\n",
    "    ),\n",
    "    pn.indicators.Number(\n",
    "        value=avg_rotor_diameter,\n",
    "        name=\"Avg. Rotor Diameter (m)\",\n",
    "        format=\"{value:,.1f}\",\n",
    "        styles=styles,\n",
    "    ),\n",
    ")\n",
    "\n",
    "# Create plot and table components\n",
    "plot = pn.pane.HoloViews(fig, sizing_mode=\"stretch_both\", name=\"Plot\")\n",
    "table = pn.widgets.Tabulator(df, sizing_mode=\"stretch_both\", name=\"Table\")"
   ]
  },
  {
   "cell_type": "markdown",
   "metadata": {
    "slideshow": {
     "slide_type": "slide"
    }
   },
   "source": [
    "## 7. Final Layout\n",
    "\n",
    "Combine everything into our final dashboard layout:"
   ]
  },
  {
   "cell_type": "code",
   "execution_count": null,
   "metadata": {
    "slideshow": {
     "slide_type": "fragment"
    }
   },
   "outputs": [],
   "source": [
    "# Create tabs\n",
    "tabs = pn.Tabs(\n",
    "    plot, table, styles=styles, sizing_mode=\"stretch_width\", height=500, margin=10\n",
    ")\n",
    "\n",
    "# Create dashboard\n",
    "dashboard = pn.template.FastListTemplate(\n",
    "    title=\"Wind Turbine Dashboard\",\n",
    "    sidebar=[image, t_manu, p_year],\n",
    "    main=[pn.Column(indicators, tabs, sizing_mode=\"stretch_both\")],\n",
    "    main_layout=None,\n",
    "    accent=ACCENT,\n",
    ")\n",
    "\n",
    "# dashboard.servable()"
   ]
  },
  {
   "cell_type": "code",
   "execution_count": null,
   "metadata": {
    "slideshow": {
     "slide_type": "fragment"
    }
   },
   "outputs": [],
   "source": [
    "from IPython.display import HTML\n",
    "\n",
    "HTML('''\n",
    "     <iframe src=\"https://panel-org-build-dashboard.hf.space\" \n",
    "             frameborder=\"0\" \n",
    "             style=\"width: 100%; height: 1000px; border: none;\">\n",
    "     </iframe>\n",
    "     ''')"
   ]
  },
  {
   "cell_type": "markdown",
   "metadata": {
    "slideshow": {
     "slide_type": "subslide"
    }
   },
   "source": [
    "### Complete Code\n",
    "\n",
    "```{include} ./scripts/build-dashboard.py\n",
    ":code: python\n",
    "```\n",
    "\n",
    "To run the code, type the following command in your terminal:\n",
    "\n",
    "```bash\n",
    "panel serve build-dashboard.py --dev\n",
    "```"
   ]
  },
  {
   "cell_type": "markdown",
   "metadata": {
    "slideshow": {
     "slide_type": "fragment"
    }
   },
   "source": [
    "## Key Features\n",
    "\n",
    "Our dashboard includes:\n",
    "\n",
    "1. **Interactive Filters**\n",
    "   - Manufacturer selection\n",
    "   - Year range slider\n",
    "\n",
    "2. **Key Metrics**\n",
    "   - Total turbine count\n",
    "   - Total capacity\n",
    "   - Average capacity\n",
    "   - Average rotor diameter\n",
    "\n",
    "3. **Visualizations**\n",
    "   - Capacity change over time\n",
    "   - Interactive data table\n",
    "\n",
    "4. **Responsive Layout**\n",
    "   - Sidebar for controls\n",
    "   - Main area for content\n",
    "   - Tabbed interface for plot/table"
   ]
  }
 ],
 "metadata": {
  "celltoolbar": "Slideshow",
  "kernelspec": {
   "display_name": "Python 3",
   "language": "python",
   "name": "python3"
  },
  "language_info": {
   "codemirror_mode": {
    "name": "ipython",
    "version": 3
   },
   "file_extension": ".py",
   "mimetype": "text/x-python",
   "name": "python",
   "nbconvert_exporter": "python",
   "pygments_lexer": "ipython3",
   "version": "3.11.9"
  }
 },
 "nbformat": 4,
 "nbformat_minor": 4
}
