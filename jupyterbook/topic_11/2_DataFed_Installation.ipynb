{
 "cells": [
  {
   "cell_type": "markdown",
   "metadata": {
    "slideshow": {
     "slide_type": "slide"
    },
    "tags": [
     "skip-execution"
    ]
   },
   "source": [
    "# Installing DataFed"
   ]
  },
  {
   "cell_type": "markdown",
   "metadata": {
    "slideshow": {
     "slide_type": "subslide"
    },
    "tags": [
     "skip-execution"
    ]
   },
   "source": [
    "## Getting Started\n",
    "\n",
    "Please follow this guide to get started with DataFed\n"
   ]
  },
  {
   "cell_type": "markdown",
   "metadata": {
    "slideshow": {
     "slide_type": "fragment"
    },
    "tags": [
     "skip-execution"
    ]
   },
   "source": [
    "### Get a Globus account\n",
    "\n",
    "Follow only step 1 of instructions [here](https://docs.globus.org/how-to/get-started/) to get a Globus account.\n"
   ]
  },
  {
   "cell_type": "markdown",
   "metadata": {
    "slideshow": {
     "slide_type": "fragment"
    },
    "tags": [
     "skip-execution"
    ]
   },
   "source": [
    "### Get a Globus ID\n",
    "\n",
    "Ensure that your `globus ID` is linked with your institutional ID in your globus account:\n",
    "\n",
    "1. Log into [globus.org](https://www.globus.org/)\n"
   ]
  },
  {
   "cell_type": "markdown",
   "metadata": {
    "slideshow": {
     "slide_type": "fragment"
    },
    "tags": [
     "skip-execution"
    ]
   },
   "source": [
    "2. Click on `Account` on the left hand pane\n"
   ]
  },
  {
   "cell_type": "markdown",
   "metadata": {
    "slideshow": {
     "slide_type": "fragment"
    },
    "tags": [
     "skip-execution"
    ]
   },
   "source": [
    "3. Select the `Identities` tab in the window that opens up\n",
    "\n",
    "You should see (at least these) two identities:\n",
    "\n",
    "- One from your home institution (that is listed as primary with a crown)\n",
    "\n",
    "- Globus ID (your_username@globusid.org)\n",
    "\n",
    "- If you do not see the `Globus ID`, click on `Link another identity`. Select `Globus ID` and link this ID.\n"
   ]
  },
  {
   "cell_type": "markdown",
   "metadata": {
    "slideshow": {
     "slide_type": "fragment"
    },
    "tags": [
     "skip-execution"
    ]
   },
   "source": [
    "### Register at DataFed\n",
    "\n",
    "1. Once you have a Globus ID, visit the [DataFed web portal](https://datafed.ornl.gov/).\n"
   ]
  },
  {
   "cell_type": "markdown",
   "metadata": {
    "slideshow": {
     "slide_type": "fragment"
    },
    "tags": [
     "skip-execution"
    ]
   },
   "source": [
    "2. Click on the `Log in / Register` button on the top right of the page.\n"
   ]
  },
  {
   "cell_type": "markdown",
   "metadata": {
    "slideshow": {
     "slide_type": "fragment"
    },
    "tags": [
     "skip-execution"
    ]
   },
   "source": [
    "3. Follow the steps to register yourself with DataFed.\n"
   ]
  },
  {
   "cell_type": "markdown",
   "metadata": {
    "slideshow": {
     "slide_type": "fragment"
    },
    "tags": [
     "skip-execution"
    ]
   },
   "source": [
    "4. Though you can log into the DataFed web portal with your institution’s credentials, you will need the username and password you set up during your registration for scripting.\n"
   ]
  },
  {
   "cell_type": "markdown",
   "metadata": {
    "slideshow": {
     "slide_type": "fragment"
    },
    "tags": [
     "skip-execution"
    ]
   },
   "source": [
    "```{note}\n",
    "Your institutional credentials are not the same as your DataFed credentials. The latter is only required for using DataFed via python / CLI.\n",
    "```\n"
   ]
  },
  {
   "cell_type": "markdown",
   "metadata": {
    "slideshow": {
     "slide_type": "fragment"
    },
    "tags": [
     "skip-execution"
    ]
   },
   "source": [
    "### Get data allocations\n",
    "\n",
    "As the name suggests, a data allocation is just the data storage space that users and projects can use to store and share data of their own. Though you can start to use DataFed at this point to view and get publicly shared data, it would not be possible to create or manipulate data of your own unless you have a data allocation in a DataFed data repository.\n",
    "\n",
    "You can request a small allocation from Prof. Agar. If you would like to use DataFed for your research please email [Prof. Agar](jca92@drexel.edu)\n"
   ]
  },
  {
   "cell_type": "markdown",
   "metadata": {
    "slideshow": {
     "slide_type": "fragment"
    },
    "tags": [
     "skip-execution"
    ]
   },
   "source": [
    "### Install a Globus Endpoint\n",
    "\n",
    "You will need a [Globus endpoint](https://docs.cades.ornl.gov/#data-transfer-storage/globus-endpoints/) on every machine where you intend to download / upload data.\n",
    "\n",
    "- Most computing facilities already have a Globus endpoint\n"
   ]
  },
  {
   "cell_type": "markdown",
   "metadata": {
    "slideshow": {
     "slide_type": "subslide"
    },
    "tags": [
     "skip-execution"
    ]
   },
   "source": [
    "### Using Personal Computers and Workstations\n",
    "\n",
    "1. Install [Globus Personal Connect](https://www.globus.org/globus-connect-personal)\n"
   ]
  },
  {
   "cell_type": "markdown",
   "metadata": {
    "tags": [
     "skip-execution"
    ]
   },
   "source": [
    "1. Installing from the command linem. Open a terminal and run the following command:\n",
    "\n",
    "```bash\n",
    "sudo apt-get install tk tcllib\n",
    "```\n",
    "\n",
    "1. Download the Globus Connect Personal installer from [here](https://www.globus.org/globus-connect-personal)\n",
    "\n",
    "```bash\n",
    "wget https://downloads.globus.org/globus-connect-personal/linux/stable/globusconnectpersonal-latest.tgz\n",
    "```\n",
    "\n",
    "1. Extract the downloaded file\n",
    "\n",
    "```bash\n",
    "tar xzf globusconnectpersonal-latest.tgz\n",
    "```\n",
    "\n",
    "1. Run the installer\n",
    "\n",
    "```bash\n",
    "# this will produce a versioned globusconnectpersonal directory\n",
    "# replace `x.y.z` in the line below with the version number you see\n",
    "cd globusconnectpersonal-x.y.z\n",
    "```\n",
    "\n",
    "1. Run the installer without GUI\n",
    "\n",
    "```bash\n",
    "./globusconnectpersonal -start &\n",
    "```\n",
    "\n",
    "1. Follow the instructions on the screen to set up your endpoint\n"
   ]
  },
  {
   "cell_type": "markdown",
   "metadata": {
    "slideshow": {
     "slide_type": "fragment"
    },
    "tags": [
     "skip-execution"
    ]
   },
   "source": [
    "2. When conducting the install make note of the endpoint name\n"
   ]
  },
  {
   "cell_type": "markdown",
   "metadata": {
    "slideshow": {
     "slide_type": "fragment"
    },
    "tags": [
     "skip-execution"
    ]
   },
   "source": [
    "3. Log into Globus: please use your Drexel credentials, however any credentials will work.\n",
    "\n",
    "![](figs/globus_google.png)\n"
   ]
  },
  {
   "cell_type": "markdown",
   "metadata": {
    "slideshow": {
     "slide_type": "fragment"
    },
    "tags": [
     "skip-execution"
    ]
   },
   "source": [
    "4. Check your managed endpoints to make sure your endpoint is visible.\n",
    "   - You want to copy the UUID - this is the ID to the endpoint\n",
    "\n",
    "![](figs/Id.png)\n"
   ]
  },
  {
   "cell_type": "markdown",
   "metadata": {
    "slideshow": {
     "slide_type": "fragment"
    },
    "tags": [
     "skip-execution"
    ]
   },
   "source": [
    "5. Installing DataFed\n",
    "\n",
    "   `pip install datafed`\n",
    "\n",
    "Note, if you used the `requirements.txt` file this was already installed. You can just verify that it was installed by running `pip install command`\n"
   ]
  },
  {
   "cell_type": "markdown",
   "metadata": {
    "slideshow": {
     "slide_type": "fragment"
    },
    "tags": [
     "skip-execution"
    ]
   },
   "source": [
    "6. Ensure the bin Directory is in the Path\n",
    "\n",
    "If you do not see an error when you type `datafed` in your terminal, you may skip this step.\n",
    "\n",
    "If you encounter errors stating that `datafed was an unknown command`, you would need to add DataFed to your path.\n",
    "\n",
    "To add a new path to a Conda environment, you generally want to modify the `PATH` variable of the Conda environment in question. Here are the steps to do so:\n",
    "\n",
    "1. **Activate the Conda environment**:\n",
    "   First, you need to activate the Conda environment to which you want to add a path.\n",
    "   ```\n",
    "   conda activate <your_env_name>\n",
    "   ```\n",
    "\n",
    "2. **Find the location of the Conda environment**:\n",
    "   If you don't know the location of the Conda environment, you can find it using the following command:\n",
    "   ```\n",
    "   conda info --envs\n",
    "   ```\n",
    "   This command lists all Conda environments and their paths. Note down the path for your specific environment.\n",
    "\n",
    "3. **Modify the PATH for the environment**:\n",
    "   Each Conda environment has a `bin` directory (or `Scripts` directory on Windows) that contains executables and scripts. To add a new path, you'll want to modify the `activate` script for the environment. \n",
    "\n",
    "   - On **Linux/Mac**, the script will be located in:\n",
    "     ```\n",
    "     <path_to_your_environment>/bin/activate\n",
    "     ```\n",
    "   - On **Windows**, the script will be located in:\n",
    "     ```\n",
    "     <path_to_your_environment>\\Scripts\\activate.bat\n",
    "     ```\n",
    "\n",
    "   Open the `activate` script in a text editor. Look for a line that modifies the `PATH` variable and add your desired path to it. On Linux/Mac, it might look like:\n",
    "   ```bash\n",
    "   export PATH=\"<path_to_your_environment>/bin:$PATH\"\n",
    "   ```\n",
    "   Append your desired path at the end (or beginning, depending on your needs):\n",
    "   ```bash\n",
    "   export PATH=\"<path_to_your_environment>/bin:<your_new_path>:$PATH\"\n",
    "   ```\n",
    "\n",
    "4. **Deactivate and Reactivate the Environment**:\n",
    "   Once you've made the changes, deactivate the Conda environment and activate it again to see the changes take effect:\n",
    "   ```\n",
    "   conda deactivate\n",
    "   conda activate <your_env_name>\n",
    "   ```\n",
    "\n",
    "5. **Check the PATH**:\n",
    "   After reactivating your environment, you can check the `PATH` variable to ensure your new path has been added:\n",
    "   ```\n",
    "   echo $PATH\n",
    "   ```\n",
    "\n",
    "Note: Modifying system or environment paths can affect the behavior of software and commands. Ensure that you understand the implications and backup any files before making modifications.\n",
    "\n",
    "- Next, add DataFed to the `PATH` variable.\n"
   ]
  },
  {
   "cell_type": "markdown",
   "metadata": {
    "slideshow": {
     "slide_type": "fragment"
    },
    "tags": [
     "skip-execution"
    ]
   },
   "source": [
    "7. Basic Configuration\n",
    "\n",
    "- Type the following command into shell:\n",
    "\n",
    "`datafed setup`\n",
    "\n",
    "It will prompt you for your username and password.\n"
   ]
  },
  {
   "cell_type": "markdown",
   "metadata": {
    "slideshow": {
     "slide_type": "fragment"
    },
    "tags": [
     "skip-execution"
    ]
   },
   "source": [
    "- Enter the credentials you set up when registering for an account on DataFed (not your institutional credentials you use to log into the machine)\n"
   ]
  },
  {
   "cell_type": "markdown",
   "metadata": {
    "slideshow": {
     "slide_type": "fragment"
    },
    "tags": [
     "skip-execution"
    ]
   },
   "source": [
    "- Add the Globus endpoint specific to this machine / file-system as the default endpoint via:\n",
    "\n",
    "`datafed ep default set endpoint_name_here`\n",
    "\n",
    "```{note}\n",
    "If you are using Globus Connect Personal, visit the Settings or Preferences of the application to inspect which folders Globus has write access to. Consider adding or removing directories to suit your needs.\n",
    "```\n"
   ]
  },
  {
   "cell_type": "markdown",
   "metadata": {
    "slideshow": {
     "slide_type": "slide"
    },
    "tags": [
     "skip-execution"
    ]
   },
   "source": [
    "## Checking DataFed Installation and Configuration\n"
   ]
  },
  {
   "cell_type": "code",
   "execution_count": null,
   "metadata": {
    "slideshow": {
     "slide_type": "fragment"
    },
    "tags": [
     "skip-execution"
    ]
   },
   "outputs": [],
   "source": [
    "# Import packages\n",
    "\n",
    "import os\n",
    "import getpass\n",
    "import subprocess\n",
    "from platform import platform\n",
    "import sys\n",
    "from datafed.CommandLib import API\n",
    "from datafed import version as df_ver\n",
    "\n",
    "try:\n",
    "    datapath = os.mkdir(\"./datapath\")\n",
    "except:\n",
    "    datapath = \"./datapath\"\n"
   ]
  },
  {
   "cell_type": "markdown",
   "metadata": {
    "slideshow": {
     "slide_type": "subslide"
    },
    "tags": [
     "skip-execution"
    ]
   },
   "source": [
    "### 0. Machine information:\n"
   ]
  },
  {
   "cell_type": "markdown",
   "metadata": {
    "slideshow": {
     "slide_type": "fragment"
    },
    "tags": [
     "skip-execution"
    ]
   },
   "source": [
    "Python version:\n"
   ]
  },
  {
   "cell_type": "code",
   "execution_count": null,
   "metadata": {
    "slideshow": {
     "slide_type": "fragment"
    },
    "tags": [
     "skip-execution"
    ]
   },
   "outputs": [],
   "source": [
    "sys.version_info\n"
   ]
  },
  {
   "cell_type": "code",
   "execution_count": null,
   "metadata": {
    "slideshow": {
     "slide_type": "fragment"
    },
    "tags": [
     "skip-execution"
    ]
   },
   "outputs": [],
   "source": [
    "platform()\n"
   ]
  },
  {
   "cell_type": "markdown",
   "metadata": {
    "slideshow": {
     "slide_type": "subslide"
    },
    "tags": [
     "skip-execution"
    ]
   },
   "source": [
    "### 1. Verify DataFed installation:\n"
   ]
  },
  {
   "cell_type": "code",
   "execution_count": null,
   "metadata": {
    "tags": [
     "skip-execution"
    ]
   },
   "outputs": [],
   "source": [
    "df_api = API()\n",
    "\n",
    "print(\"Success! You have DataFed: \" + df_ver)"
   ]
  },
  {
   "cell_type": "markdown",
   "metadata": {
    "slideshow": {
     "slide_type": "subslide"
    },
    "tags": [
     "skip-execution"
    ]
   },
   "source": [
    "### 2. Verify user authentication:\n"
   ]
  },
  {
   "cell_type": "code",
   "execution_count": null,
   "metadata": {
    "slideshow": {
     "slide_type": "fragment"
    },
    "tags": [
     "skip-execution"
    ]
   },
   "outputs": [],
   "source": [
    "if df_api.getAuthUser():\n",
    "    print(\n",
    "        \"Success! You have been authenticated into DataFed as: \" + df_api.getAuthUser()\n",
    "    )\n",
    "else:\n",
    "    print(\"You have not authenticated into DataFed Client\")\n",
    "    print(\n",
    "        'Please follow instructions in the \"Basic Configuration\" section in the link below to authenticate yourself:'\n",
    "    )\n",
    "    print(\"https://ornl.github.io/DataFed/user/client/install.html#basic-configuration\")"
   ]
  },
  {
   "cell_type": "markdown",
   "metadata": {
    "tags": [
     "skip-execution"
    ]
   },
   "source": []
  },
  {
   "cell_type": "markdown",
   "metadata": {
    "slideshow": {
     "slide_type": "subslide"
    },
    "tags": [
     "skip-execution"
    ]
   },
   "source": [
    "### 3. Ensure Globus Endpoint is set:\n"
   ]
  },
  {
   "cell_type": "code",
   "execution_count": null,
   "metadata": {
    "slideshow": {
     "slide_type": "fragment"
    },
    "tags": [
     "skip-execution"
    ]
   },
   "outputs": [],
   "source": [
    "if not df_api.endpointDefaultGet():\n",
    "    print(\"Please follow instructions in the link below to find your Globus Endpoint:\")\n",
    "    print(\n",
    "        \"https://ornl.github.io/DataFed/system/getting_started.html#install-identify-globus-endpoint\"\n",
    "    )\n",
    "    endpoint = input(\n",
    "        \"\\nPlease enter either the Endpoint UUID or Legacy Name for your Globus Endpoint: \"\n",
    "    )\n",
    "    df_api.endpointDefaultSet(endpoint)\n",
    "\n",
    "print(\"Your default Globus Endpoint in DataFed is:\\n\" + df_api.endpointDefaultGet())"
   ]
  },
  {
   "cell_type": "markdown",
   "metadata": {
    "slideshow": {
     "slide_type": "subslide"
    },
    "tags": [
     "skip-execution"
    ]
   },
   "source": [
    "### 4. Test Globus Endpoint:\n",
    "\n",
    "This will make sure you have write access to the folder\n"
   ]
  },
  {
   "cell_type": "code",
   "execution_count": null,
   "metadata": {
    "slideshow": {
     "slide_type": "fragment"
    },
    "tags": [
     "skip-execution"
    ]
   },
   "outputs": [],
   "source": [
    "\n",
    "\n",
    "# This is a dataGet Command\n",
    "dget_resp = df_api.dataGet(\"d/49965349\", os.path.abspath(datapath), wait=True)\n",
    "dget_resp\n"
   ]
  },
  {
   "cell_type": "markdown",
   "metadata": {
    "slideshow": {
     "slide_type": "fragment"
    },
    "tags": [
     "skip-execution"
    ]
   },
   "source": [
    "You can see that a file was downloaded.\n"
   ]
  },
  {
   "cell_type": "code",
   "execution_count": null,
   "metadata": {
    "slideshow": {
     "slide_type": "fragment"
    },
    "tags": [
     "skip-execution"
    ]
   },
   "outputs": [],
   "source": [
    "if dget_resp[0].task[0].status == 3:\n",
    "    print(\"Success! Downloaded a test file to your location. Removing the file now\")\n",
    "    os.remove(os.path.abspath(datapath) + \"/49965349.ibw\")\n",
    "else:\n",
    "    if dget_resp[0].task[0].msg == \"globus connect offline\":\n",
    "        print(\n",
    "            \"You need to activate your Globus Endpoint and/or ensure Globus Connect Personal is running.\\n\"\n",
    "            \"Please visit https://globus.org to activate your Endpoint\"\n",
    "        )\n",
    "    elif dget_resp[0].task[0].msg == \"permission denied\":\n",
    "        print(\n",
    "            \"Globus does not have write access to this directory. \\n\"\n",
    "            \"If you are using Globus Connect Personal, ensure that this notebook runs within\"\n",
    "            \"one of the directories where Globus has write access. You may consider moving this\"\n",
    "            \"notebook to a valid directory or add this directory to the Globus Connect Personal settings\"\n",
    "        )\n",
    "    else:\n",
    "        NotImplementedError(\n",
    "            \"Get in touch with us or consider looking online to find a solution to this problem:\\n\"\n",
    "            + dget_resp[0].task[0].msg\n",
    "        )"
   ]
  },
  {
   "cell_type": "markdown",
   "metadata": {
    "slideshow": {
     "slide_type": "subslide"
    },
    "tags": [
     "skip-execution"
    ]
   },
   "source": [
    "### (Optional) for Windows - Test for Admin privileges\n",
    "\n",
    "Admin privileges may be necessary for some operations. On Windows when you start your Anaconda Console you can `right-click` and select `run as administrator`\n"
   ]
  },
  {
   "cell_type": "code",
   "execution_count": null,
   "metadata": {
    "slideshow": {
     "slide_type": "fragment"
    },
    "tags": [
     "skip-execution"
    ]
   },
   "outputs": [],
   "source": [
    "import ctypes, os\n",
    "\n",
    "try:\n",
    "    is_admin = os.getuid() == 0\n",
    "except AttributeError:\n",
    "    is_admin = ctypes.windll.shell32.IsUserAnAdmin() != 0\n",
    "\n",
    "value = \"\"\n",
    "if not is_admin:\n",
    "    value = \"not \"\n",
    "\n",
    "print(f\"You are {value}running as an admin, if you are not running as an admin, please restart the kernel as an admin\")"
   ]
  }
 ],
 "metadata": {
  "celltoolbar": "Slideshow",
  "kernelspec": {
   "display_name": "Python 3 (ipykernel)",
   "language": "python",
   "name": "python3"
  },
  "language_info": {
   "codemirror_mode": {
    "name": "ipython",
    "version": 3
   },
   "file_extension": ".py",
   "mimetype": "text/x-python",
   "name": "python",
   "nbconvert_exporter": "python",
   "pygments_lexer": "ipython3",
   "version": "3.10.0"
  },
  "vscode": {
   "interpreter": {
    "hash": "c475b5beda6d617ffb7b2fcf453fbe132321ffc1e1f96c06cf49356e1e7f42cb"
   }
  }
 },
 "nbformat": 4,
 "nbformat_minor": 2
}
