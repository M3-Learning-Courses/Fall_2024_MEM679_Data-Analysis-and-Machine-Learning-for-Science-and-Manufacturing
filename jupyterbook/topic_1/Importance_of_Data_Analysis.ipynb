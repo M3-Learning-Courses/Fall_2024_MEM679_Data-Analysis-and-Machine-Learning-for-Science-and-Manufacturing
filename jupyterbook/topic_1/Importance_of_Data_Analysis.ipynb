{
 "cells": [
  {
   "cell_type": "markdown",
   "id": "0",
   "metadata": {
    "slideshow": {
     "slide_type": "slide"
    }
   },
   "source": [
    "# Importance of Data Analysis"
   ]
  },
  {
   "cell_type": "markdown",
   "id": "1",
   "metadata": {
    "slideshow": {
     "slide_type": "fragment"
    }
   },
   "source": [
    "## Why is Data Analysis Your Most Important Skill?"
   ]
  },
  {
   "cell_type": "markdown",
   "id": "2",
   "metadata": {
    "slideshow": {
     "slide_type": "fragment"
    }
   },
   "source": [
    "* In your work you will be asked to derive data-driven conclusions, how you analyze and visualize data is the most important skill you can have. "
   ]
  },
  {
   "cell_type": "markdown",
   "id": "3",
   "metadata": {
    "slideshow": {
     "slide_type": "fragment"
    }
   },
   "source": [
    "* A failure in any one of the data analysis steps can results in non-optimal decisions"
   ]
  },
  {
   "cell_type": "markdown",
   "id": "4",
   "metadata": {
    "slideshow": {
     "slide_type": "slide"
    }
   },
   "source": [
    "## Data Analysis Failure Cases"
   ]
  },
  {
   "cell_type": "markdown",
   "id": "5",
   "metadata": {
    "slideshow": {
     "slide_type": "fragment"
    }
   },
   "source": [
    "### Morton Thiokol Engineers on the Challenger"
   ]
  },
  {
   "cell_type": "markdown",
   "id": "6",
   "metadata": {
    "slideshow": {
     "slide_type": "fragment"
    }
   },
   "source": [
    "#### Background"
   ]
  },
  {
   "cell_type": "markdown",
   "id": "7",
   "metadata": {
    "slideshow": {
     "slide_type": "fragment"
    }
   },
   "source": [
    "* On January 28, 1986 the Challenger aircraft was set to launch"
   ]
  },
  {
   "cell_type": "markdown",
   "id": "8",
   "metadata": {
    "slideshow": {
     "slide_type": "fragment"
    }
   },
   "source": [
    "![](./figs/Shuttle_1.jpg)"
   ]
  },
  {
   "cell_type": "markdown",
   "id": "9",
   "metadata": {
    "slideshow": {
     "slide_type": "subslide"
    }
   },
   "source": [
    "* The shuttle has an orbiter, a large fuel tank, and two solid-rocket boosters."
   ]
  },
  {
   "cell_type": "markdown",
   "id": "10",
   "metadata": {
    "slideshow": {
     "slide_type": "fragment"
    }
   },
   "source": [
    "![](./figs/Expanded_view.jpg)"
   ]
  },
  {
   "cell_type": "markdown",
   "id": "11",
   "metadata": {
    "slideshow": {
     "slide_type": "fragment"
    }
   },
   "source": [
    "* In the solid rocket their are field joints held together by O-rings"
   ]
  },
  {
   "cell_type": "markdown",
   "id": "12",
   "metadata": {
    "slideshow": {
     "slide_type": "subslide"
    }
   },
   "source": [
    "![](./figs/Oring_figure.jpg)"
   ]
  },
  {
   "cell_type": "markdown",
   "id": "13",
   "metadata": {
    "slideshow": {
     "slide_type": "fragment"
    }
   },
   "source": [
    "* Close up of the O-ring assembly, a small leak can lead to a runaway explosion"
   ]
  },
  {
   "cell_type": "markdown",
   "id": "14",
   "metadata": {
    "slideshow": {
     "slide_type": "subslide"
    }
   },
   "source": [
    "![](./figs/initial_jet.jpg)"
   ]
  },
  {
   "cell_type": "markdown",
   "id": "15",
   "metadata": {
    "slideshow": {
     "slide_type": "fragment"
    }
   },
   "source": [
    "* About 1 second after ignition a small puff of smoke was seen in the right booster indicating the o-ring had failed"
   ]
  },
  {
   "cell_type": "markdown",
   "id": "16",
   "metadata": {
    "slideshow": {
     "slide_type": "subslide"
    }
   },
   "source": [
    "![](./figs/Launch.jpg)"
   ]
  },
  {
   "cell_type": "markdown",
   "id": "17",
   "metadata": {
    "slideshow": {
     "slide_type": "fragment"
    }
   },
   "source": [
    "* On launch the area where the leak was could be seen burning for about 2 seconds and then was plugged by the melting material and insulation. "
   ]
  },
  {
   "cell_type": "markdown",
   "id": "18",
   "metadata": {
    "slideshow": {
     "slide_type": "fragment"
    }
   },
   "source": [
    "* At ~58 seconds the small flame grew to engulf the right solid rocket booster"
   ]
  },
  {
   "cell_type": "markdown",
   "id": "19",
   "metadata": {
    "slideshow": {
     "slide_type": "subslide"
    }
   },
   "source": [
    "![](./figs/Explosion.jpg)"
   ]
  },
  {
   "cell_type": "markdown",
   "id": "20",
   "metadata": {
    "slideshow": {
     "slide_type": "fragment"
    }
   },
   "source": [
    "* After 73 seconds the space ship exploded"
   ]
  },
  {
   "cell_type": "markdown",
   "id": "21",
   "metadata": {
    "slideshow": {
     "slide_type": "subslide"
    }
   },
   "source": [
    "![](./figs/flight_crew.jpg)"
   ]
  },
  {
   "cell_type": "markdown",
   "id": "22",
   "metadata": {
    "slideshow": {
     "slide_type": "fragment"
    }
   },
   "source": [
    "* The life of the 7 members of the flight crew were lost that day. "
   ]
  },
  {
   "cell_type": "markdown",
   "id": "23",
   "metadata": {
    "slideshow": {
     "slide_type": "subslide"
    }
   },
   "source": [
    "#### Why did this happen? "
   ]
  },
  {
   "cell_type": "markdown",
   "id": "24",
   "metadata": {
    "slideshow": {
     "slide_type": "fragment"
    }
   },
   "source": [
    "* Ambient temperatures outside were in the low 30s, and the temperature of the o-ring was less than 20 ${}^{\\circ}F$"
   ]
  },
  {
   "cell_type": "markdown",
   "id": "25",
   "metadata": {
    "slideshow": {
     "slide_type": "fragment"
    }
   },
   "source": [
    "* The engineers concerned that the o-ring would not seal at low temperatures prepared a document outlining their argument to postpone the launch to NASA"
   ]
  },
  {
   "cell_type": "markdown",
   "id": "26",
   "metadata": {
    "slideshow": {
     "slide_type": "fragment"
    }
   },
   "source": [
    "* The data analysis provided by Morton Thiol insufficiently explained:\n",
    "    * The past experience with low temperature launches\n",
    "    * Physics of resiliency which declines exponentially with temperature\n",
    "    * Confusing and misleading representation of data"
   ]
  },
  {
   "cell_type": "markdown",
   "id": "27",
   "metadata": {
    "slideshow": {
     "slide_type": "fragment"
    }
   },
   "source": [
    "In industry and academia you will be required to present data to administrators and decision makers. These people will have to make difficult decisions and have internal agendas. If you analyze and present data in a convincing way you can lead decision makers to make confident and correct decisions"
   ]
  },
  {
   "cell_type": "markdown",
   "id": "28",
   "metadata": {
    "slideshow": {
     "slide_type": "fragment"
    }
   },
   "source": [
    "* While a lot of fingers could be pointed in different directions the crisis could have been averted if the data was presented in an obvious and convincing manner"
   ]
  },
  {
   "cell_type": "markdown",
   "id": "29",
   "metadata": {
    "slideshow": {
     "slide_type": "subslide"
    }
   },
   "source": [
    "#### How the data was presented"
   ]
  },
  {
   "cell_type": "markdown",
   "id": "30",
   "metadata": {
    "slideshow": {
     "slide_type": "fragment"
    }
   },
   "source": [
    "* The data was presented in 13 charts and a discussion was held via phone. Yes, maybe things would have been better if it was a Zoom call."
   ]
  },
  {
   "cell_type": "markdown",
   "id": "31",
   "metadata": {
    "slideshow": {
     "slide_type": "fragment"
    }
   },
   "source": [
    "##### Title of report"
   ]
  },
  {
   "cell_type": "markdown",
   "id": "32",
   "metadata": {
    "slideshow": {
     "slide_type": "fragment"
    }
   },
   "source": [
    "![](./figs/title.png)"
   ]
  },
  {
   "cell_type": "markdown",
   "id": "33",
   "metadata": {
    "slideshow": {
     "slide_type": "fragment"
    }
   },
   "source": [
    "* What is an SRM joint? $\\rightarrow$ Solid-Rocket Motor\n",
    "* Where are the names and credibility of the authors?\n",
    "* The word concern does not convey the serious nature of their conclusions"
   ]
  },
  {
   "cell_type": "markdown",
   "id": "34",
   "metadata": {
    "slideshow": {
     "slide_type": "subslide"
    }
   },
   "source": [
    "##### First Figure - History"
   ]
  },
  {
   "cell_type": "markdown",
   "id": "35",
   "metadata": {
    "slideshow": {
     "slide_type": "fragment"
    }
   },
   "source": [
    "![](./figs/Damage_history.jpg)"
   ]
  },
  {
   "cell_type": "markdown",
   "id": "36",
   "metadata": {
    "slideshow": {
     "slide_type": "fragment"
    }
   },
   "source": [
    "* Does not show any evidence of catastrophic damage"
   ]
  },
  {
   "cell_type": "markdown",
   "id": "37",
   "metadata": {
    "slideshow": {
     "slide_type": "fragment"
    }
   },
   "source": [
    "* The chart provides no information about the cause determined by the engineers $\\rightarrow$ temperature"
   ]
  },
  {
   "cell_type": "markdown",
   "id": "38",
   "metadata": {
    "slideshow": {
     "slide_type": "fragment"
    }
   },
   "source": [
    "* Damage is listed as a bunch of parameters $\\rightarrow$ some combined index is needed"
   ]
  },
  {
   "cell_type": "markdown",
   "id": "39",
   "metadata": {
    "slideshow": {
     "slide_type": "subslide"
    }
   },
   "source": [
    "##### Second Figure - Joint Bending"
   ]
  },
  {
   "cell_type": "markdown",
   "id": "40",
   "metadata": {
    "slideshow": {
     "slide_type": "fragment"
    }
   },
   "source": [
    "![](./figs/bending_joint.jpg)"
   ]
  },
  {
   "cell_type": "markdown",
   "id": "41",
   "metadata": {
    "slideshow": {
     "slide_type": "fragment"
    }
   },
   "source": [
    "* Shows the effect of how bending joint can cause a problem with the seal $\\rightarrow$ once again temperature is not mentioned"
   ]
  },
  {
   "cell_type": "markdown",
   "id": "42",
   "metadata": {
    "slideshow": {
     "slide_type": "subslide"
    }
   },
   "source": [
    "![](./figs/chart_1.jpg)"
   ]
  },
  {
   "cell_type": "markdown",
   "id": "43",
   "metadata": {
    "slideshow": {
     "slide_type": "fragment"
    }
   },
   "source": [
    "* Chart starts to show the temperatures, important information about blow-by seen in the rocket is not indicated in the chart."
   ]
  },
  {
   "cell_type": "markdown",
   "id": "44",
   "metadata": {
    "slideshow": {
     "slide_type": "fragment"
    }
   },
   "source": [
    "* This rocket launch is not clearly indicated"
   ]
  },
  {
   "cell_type": "markdown",
   "id": "45",
   "metadata": {
    "slideshow": {
     "slide_type": "fragment"
    }
   },
   "source": [
    "* This does not show the other 22 launches of the SRM rocket, and their temperature."
   ]
  },
  {
   "cell_type": "markdown",
   "id": "46",
   "metadata": {
    "slideshow": {
     "slide_type": "fragment"
    }
   },
   "source": [
    "* The development motors DM are extremely misleading. These rockets never left the ground and thus should not be expected to exhibit the same degree of blow-by."
   ]
  },
  {
   "cell_type": "markdown",
   "id": "47",
   "metadata": {
    "slideshow": {
     "slide_type": "subslide"
    }
   },
   "source": [
    "##### Conclusions"
   ]
  },
  {
   "cell_type": "markdown",
   "id": "48",
   "metadata": {
    "slideshow": {
     "slide_type": "fragment"
    }
   },
   "source": [
    "![](./figs/conclusions.jpg)"
   ]
  },
  {
   "cell_type": "markdown",
   "id": "49",
   "metadata": {
    "slideshow": {
     "slide_type": "fragment"
    }
   },
   "source": [
    "* Conclusions drawn were not convincing based on evidence"
   ]
  },
  {
   "cell_type": "markdown",
   "id": "50",
   "metadata": {
    "slideshow": {
     "slide_type": "fragment"
    }
   },
   "source": [
    "* The conclusion that the o-ring temperature should be >50 $^{\\circ{}}F$ was based on a sample size of 1"
   ]
  },
  {
   "cell_type": "markdown",
   "id": "51",
   "metadata": {
    "slideshow": {
     "slide_type": "fragment"
    }
   },
   "source": [
    "* There was no association made between the materials physics and temperature. This would have highlighed that 53 $^{\\circ{}}F$ is significantly different than the expected launch temperatures of 29 $^{\\circ{}}F$"
   ]
  },
  {
   "cell_type": "markdown",
   "id": "52",
   "metadata": {
    "slideshow": {
     "slide_type": "subslide"
    }
   },
   "source": [
    "#### How the data should have been presented"
   ]
  },
  {
   "cell_type": "markdown",
   "id": "53",
   "metadata": {
    "slideshow": {
     "slide_type": "fragment"
    }
   },
   "source": [
    "![](./figs/table.jpg)"
   ]
  },
  {
   "cell_type": "markdown",
   "id": "54",
   "metadata": {
    "slideshow": {
     "slide_type": "fragment"
    }
   },
   "source": [
    "* If a mere ordered data table with some description was used it would have been clear that temperature and o-ring damage are strongly correlated"
   ]
  },
  {
   "cell_type": "markdown",
   "id": "55",
   "metadata": {
    "slideshow": {
     "slide_type": "subslide"
    }
   },
   "source": [
    "![](./figs/scatterplot.jpg)"
   ]
  },
  {
   "cell_type": "markdown",
   "id": "56",
   "metadata": {
    "slideshow": {
     "slide_type": "fragment"
    }
   },
   "source": [
    "* Even better a scatter plot showing the o-ring damage index and launch temperature would have made the argument not to launch incredibly convincing"
   ]
  },
  {
   "cell_type": "markdown",
   "id": "57",
   "metadata": {
    "slideshow": {
     "slide_type": "subslide"
    }
   },
   "source": [
    "#### The post-mortem report"
   ]
  },
  {
   "cell_type": "markdown",
   "id": "58",
   "metadata": {
    "slideshow": {
     "slide_type": "fragment"
    }
   },
   "source": [
    "##### The report they presented\n",
    "![](./figs/Report_figure.png)"
   ]
  },
  {
   "cell_type": "markdown",
   "id": "59",
   "metadata": {
    "slideshow": {
     "slide_type": "fragment"
    }
   },
   "source": [
    "Even after the accident the data still was not presented clearly:"
   ]
  },
  {
   "cell_type": "markdown",
   "id": "60",
   "metadata": {
    "slideshow": {
     "slide_type": "fragment"
    }
   },
   "source": [
    "* The order of the rockets is listed sequentially, not by temperature of the launch"
   ]
  },
  {
   "cell_type": "markdown",
   "id": "61",
   "metadata": {
    "slideshow": {
     "slide_type": "fragment"
    }
   },
   "source": [
    "* Temperature is not able to be visualized graphically"
   ]
  },
  {
   "cell_type": "markdown",
   "id": "62",
   "metadata": {
    "slideshow": {
     "slide_type": "fragment"
    }
   },
   "source": [
    "* Damage indication is very difficult to correlate to the temperature"
   ]
  },
  {
   "cell_type": "markdown",
   "id": "63",
   "metadata": {
    "slideshow": {
     "slide_type": "fragment"
    }
   },
   "source": [
    "* Rockets are silly, unnecessary, and distracting"
   ]
  },
  {
   "cell_type": "markdown",
   "id": "64",
   "metadata": {
    "slideshow": {
     "slide_type": "fragment"
    }
   },
   "source": [
    "* Also, they dropped the legend"
   ]
  },
  {
   "cell_type": "markdown",
   "id": "65",
   "metadata": {
    "slideshow": {
     "slide_type": "subslide"
    }
   },
   "source": [
    "##### A Slightly better but still bad report"
   ]
  },
  {
   "cell_type": "markdown",
   "id": "66",
   "metadata": {
    "slideshow": {
     "slide_type": "fragment"
    }
   },
   "source": [
    "![](./figs/rockets_ordered.jpg)"
   ]
  },
  {
   "cell_type": "markdown",
   "id": "67",
   "metadata": {
    "slideshow": {
     "slide_type": "fragment"
    }
   },
   "source": [
    "* If they just ordered the rockets by temperature it would have been much more convincing"
   ]
  },
  {
   "cell_type": "markdown",
   "id": "68",
   "metadata": {
    "slideshow": {
     "slide_type": "subslide"
    }
   },
   "source": [
    "#### Richard Feynman Simply Explains the Day"
   ]
  },
  {
   "cell_type": "markdown",
   "id": "69",
   "metadata": {
    "slideshow": {
     "slide_type": "fragment"
    }
   },
   "source": [
    "![](./figs/feynman.jpg)"
   ]
  },
  {
   "cell_type": "markdown",
   "id": "70",
   "metadata": {
    "slideshow": {
     "slide_type": "fragment"
    }
   },
   "source": [
    "* The best way to explain a complex concept is with a simple to understand experience"
   ]
  },
  {
   "cell_type": "code",
   "execution_count": null,
   "id": "71",
   "metadata": {
    "slideshow": {
     "slide_type": "fragment"
    },
    "tags": [
     "hide-input"
    ]
   },
   "outputs": [],
   "source": [
    "from IPython.display import HTML\n",
    "\n",
    "HTML(\n",
    "    '<iframe width=\"800\" height=\"450\" src=\"https://www.youtube.com/embed/raMmRKGkGD4\" title=\"YouTube video player\" frameborder=\"0\" allow=\"accelerometer; autoplay; clipboard-write; encrypted-media; gyroscope; picture-in-picture\" allowfullscreen></iframe>'\n",
    ")"
   ]
  },
  {
   "cell_type": "markdown",
   "id": "72",
   "metadata": {
    "slideshow": {
     "slide_type": "fragment"
    }
   },
   "source": [
    "* How you analyze and present data-driven arguments has a transformation effect on critical decisions"
   ]
  },
  {
   "cell_type": "markdown",
   "id": "73",
   "metadata": {
    "slideshow": {
     "slide_type": "slide"
    }
   },
   "source": [
    "## Zillow\n",
    "### Background"
   ]
  },
  {
   "cell_type": "markdown",
   "id": "74",
   "metadata": {
    "slideshow": {
     "slide_type": "fragment"
    }
   },
   "source": [
    "* Founded in 2006, by 2019 had revenue of $2.7B"
   ]
  },
  {
   "cell_type": "markdown",
   "id": "75",
   "metadata": {
    "slideshow": {
     "slide_type": "fragment"
    }
   },
   "source": [
    "* Zillow got into the business of flipping houses. The goal is to buy low and sell high."
   ]
  },
  {
   "cell_type": "markdown",
   "id": "76",
   "metadata": {
    "slideshow": {
     "slide_type": "fragment"
    }
   },
   "source": [
    "* The most important objective is to price homes correctly"
   ]
  },
  {
   "cell_type": "markdown",
   "id": "77",
   "metadata": {
    "slideshow": {
     "slide_type": "fragment"
    }
   },
   "source": [
    "*  Zillow had about 43 million homes in their database in 2006 and they were able to predict the price of a property at 14% median absolute percent error. By 2017, they had about 110 million homes in their database. The error rate had reduced to 5%."
   ]
  },
  {
   "cell_type": "markdown",
   "id": "78",
   "metadata": {
    "slideshow": {
     "slide_type": "subslide"
    }
   },
   "source": [
    "<blockquote class=\"twitter-tweet\" data-theme=\"dark\"><p lang=\"en\" dir=\"ltr\">Where’s that TikTok expert?<br><br>“208 homes that Zillow owns in Phoenix, for instance, 93% were listed for less than what it paid. In Dallas, where Zillow owns 168 homes, about 81% of its properties were listed for less than what the company bought them for.” <a href=\"https://t.co/ex5iGYmph7\">https://t.co/ex5iGYmph7</a></p>&mdash; Ayesha Selden, CFP® (@AyeshaSelden) <a href=\"https://twitter.com/AyeshaSelden/status/1455205223224393733?ref_src=twsrc%5Etfw\">November 1, 2021</a></blockquote> <script async src=\"https://platform.twitter.com/widgets.js\" charset=\"utf-8\"></script>"
   ]
  },
  {
   "cell_type": "markdown",
   "id": "79",
   "metadata": {
    "slideshow": {
     "slide_type": "subslide"
    }
   },
   "source": [
    "### Why did the model start to fail?"
   ]
  },
  {
   "cell_type": "markdown",
   "id": "80",
   "metadata": {
    "slideshow": {
     "slide_type": "fragment"
    }
   },
   "source": [
    "#### Data Quality"
   ]
  },
  {
   "cell_type": "markdown",
   "id": "81",
   "metadata": {
    "slideshow": {
     "slide_type": "fragment"
    }
   },
   "source": [
    "* Garbage in garbage out - if the quality of the data used to make a prediction is bad or does not reflect the statistical distribution of the real world the quality of the model will be diminished"
   ]
  },
  {
   "cell_type": "markdown",
   "id": "82",
   "metadata": {
    "slideshow": {
     "slide_type": "fragment"
    }
   },
   "source": [
    "* Zillow relied on data from users and public records. Some of this data was outdated or flawed\n",
    "   * House was remodeled but not updated on website\n",
    "  * House underwent an addition but was not updated on website\n",
    "  * Sales price was recorded incorrectly"
   ]
  },
  {
   "cell_type": "markdown",
   "id": "83",
   "metadata": {
    "slideshow": {
     "slide_type": "subslide"
    }
   },
   "source": [
    "#### Reliance on an Algorithm"
   ]
  },
  {
   "cell_type": "markdown",
   "id": "84",
   "metadata": {
    "slideshow": {
     "slide_type": "fragment"
    }
   },
   "source": [
    "* There is a tendancy to overly depend on an algorithms decision making, it is important to remember algorithms only think algorithmically $\\rightarrow$ algorithms are logical but not senible"
   ]
  },
  {
   "cell_type": "markdown",
   "id": "85",
   "metadata": {
    "slideshow": {
     "slide_type": "fragment"
    }
   },
   "source": [
    "```{admonition} Definition\n",
    "Sensible - (of a statement or course of action) chosen in accordance with wisdom or prudence; likely to be of benefit.\n",
    "```\n",
    "```{admonition} Definition\n",
    "Logical - of or according to the rules of logic or formal argument.\n",
    "```"
   ]
  },
  {
   "cell_type": "markdown",
   "id": "86",
   "metadata": {
    "slideshow": {
     "slide_type": "subslide"
    }
   },
   "source": [
    "#### Gaming the system"
   ]
  },
  {
   "cell_type": "markdown",
   "id": "87",
   "metadata": {
    "slideshow": {
     "slide_type": "fragment"
    }
   },
   "source": [
    "* When there are intelligent agents involved there are ways to game the system"
   ]
  },
  {
   "cell_type": "markdown",
   "id": "88",
   "metadata": {
    "slideshow": {
     "slide_type": "fragment"
    }
   },
   "source": [
    "* If you list a few houses and notify Zillow of fake inflated sales the algorithm will think the home values are high."
   ]
  },
  {
   "cell_type": "markdown",
   "id": "89",
   "metadata": {
    "slideshow": {
     "slide_type": "fragment"
    }
   },
   "source": [
    "* It is important to have a robust fraud detection systems"
   ]
  },
  {
   "cell_type": "markdown",
   "id": "90",
   "metadata": {
    "slideshow": {
     "slide_type": "subslide"
    }
   },
   "source": [
    "#### Understanding the problem in its entirety and external factors"
   ]
  },
  {
   "cell_type": "markdown",
   "id": "91",
   "metadata": {
    "slideshow": {
     "slide_type": "fragment"
    }
   },
   "source": [
    "* Zillow only considered the price of homes, not the buyers $\\rightarrow$ if the buyers change their behavior model can fail."
   ]
  },
  {
   "cell_type": "markdown",
   "id": "92",
   "metadata": {
    "slideshow": {
     "slide_type": "fragment"
    }
   },
   "source": [
    "* Real problems have a lot of complexity, it is important that you adversarial attack your models and algorithms"
   ]
  },
  {
   "cell_type": "markdown",
   "id": "93",
   "metadata": {
    "slideshow": {
     "slide_type": "fragment"
    }
   },
   "source": [
    "* You should always think your results are a lie until proven otherwise"
   ]
  },
  {
   "cell_type": "markdown",
   "id": "94",
   "metadata": {
    "slideshow": {
     "slide_type": "slide"
    }
   },
   "source": [
    "## Discriminatory Algorithms\n",
    "### AI Bias"
   ]
  },
  {
   "cell_type": "markdown",
   "id": "95",
   "metadata": {
    "slideshow": {
     "slide_type": "fragment"
    }
   },
   "source": [
    "* The representation of data, and the data used by the model is imperfect, and can encode hidden bias. "
   ]
  },
  {
   "cell_type": "markdown",
   "id": "96",
   "metadata": {
    "slideshow": {
     "slide_type": "subslide"
    }
   },
   "source": [
    "#### Example AI: In healthcare"
   ]
  },
  {
   "cell_type": "markdown",
   "id": "97",
   "metadata": {
    "slideshow": {
     "slide_type": "fragment"
    }
   },
   "source": [
    "An algorithm was designed to determine if a patient would benefit from high-risk care management which provides chronically-ill penitents with specially trained staff"
   ]
  },
  {
   "cell_type": "markdown",
   "id": "98",
   "metadata": {
    "slideshow": {
     "slide_type": "fragment"
    }
   },
   "source": [
    "* The data considered the needs of the patient based on their past healthcare costs. $\\rightarrow$ why might this be a bad metric? "
   ]
  },
  {
   "cell_type": "markdown",
   "id": "99",
   "metadata": {
    "slideshow": {
     "slide_type": "fragment"
    }
   },
   "source": [
    "*The data is biased. of almost 50,000 patients—of whom 6,079 self-identified as black and 43,539 self-identified as white—and compared their algorithmic risk scores with their actual health histories. Black patients, the researchers found, tended to receive lower risk scores. For example, among all patients classified as very high-risk, black individuals turned out to have 26.3 percent more chronic illnesses than white ones (despite sharing similar risk scores). Because their recorded health care costs were on par with those of healthier white people, the program was less likely to flag eligible black patients for high-risk care management.*"
   ]
  },
  {
   "cell_type": "markdown",
   "id": "100",
   "metadata": {
    "slideshow": {
     "slide_type": "fragment"
    }
   },
   "source": [
    "*There are a few further reasons for this bias:*"
   ]
  },
  {
   "cell_type": "markdown",
   "id": "101",
   "metadata": {
    "slideshow": {
     "slide_type": "fragment"
    }
   },
   "source": [
    "1. *Race and income are correlated, this effects ability to afford healthcare services due to access, location, and time constraints*\n",
    "1. *Black patients tend to have less trust in doctors who they perceive to exhibit bias $\\rightarrow$ thus black patients are less likely to seek care*\n",
    "\n",
    "{cite:p}`Vartan2019-ot,Obermeyer2019-jo`"
   ]
  },
  {
   "cell_type": "markdown",
   "id": "102",
   "metadata": {
    "slideshow": {
     "slide_type": "subslide"
    }
   },
   "source": [
    "#### Correctional Offender Management Profiling for Alternative Sanctions (COMPAS)"
   ]
  },
  {
   "cell_type": "markdown",
   "id": "103",
   "metadata": {
    "slideshow": {
     "slide_type": "fragment"
    }
   },
   "source": [
    "This algorithm tried to determine the tendancy of recidivism of a person convicted of a crime"
   ]
  },
  {
   "cell_type": "markdown",
   "id": "104",
   "metadata": {
    "slideshow": {
     "slide_type": "fragment"
    }
   },
   "source": [
    "Race is not a factor for in determining the tendency of recidivism, however, COMPAS showed significant bias:\n",
    "* Black defendants were often predicted to be at a higher risk of recidivism than they actually were.\n",
    "* White defendants were often predicted to be less risky than they were. \n",
    "* The analysis also showed that even when controlling for prior crimes, future recidivism, age, and gender, black defendants were 45 percent more likely to be assigned higher risk scores than white defendants.\n",
    "* Black defendants were also twice as likely as white defendants to be misclassified as being a higher risk of violent recidivism. "
   ]
  },
  {
   "cell_type": "markdown",
   "id": "105",
   "metadata": {
    "slideshow": {
     "slide_type": "subslide"
    }
   },
   "source": [
    "Model tended to predict low scores for white offenders and high scores for black offenders. \n",
    "![](./figs/Histogram_reactivism.jpg)"
   ]
  },
  {
   "cell_type": "markdown",
   "id": "106",
   "metadata": {
    "slideshow": {
     "slide_type": "subslide"
    }
   },
   "source": [
    "##### What happens when we validate this model on real data?"
   ]
  },
  {
   "cell_type": "markdown",
   "id": "107",
   "metadata": {
    "slideshow": {
     "slide_type": "fragment"
    }
   },
   "source": [
    "![](./figs/truth_table.jpg)"
   ]
  },
  {
   "cell_type": "markdown",
   "id": "108",
   "metadata": {
    "slideshow": {
     "slide_type": "fragment"
    }
   },
   "source": [
    "* Black defendants had a much higher false-positive (meaning it was predicted that they would commit a crime and did not), and lower false negative-rate (meaning they were predicted not to commit a crime and they did) compared to white defendants\n",
    "* The only viable conclusion is the algorithm is unfairly biased\n",
    "\n",
    "{cite:p}`Larson2016-sm`"
   ]
  },
  {
   "cell_type": "markdown",
   "id": "109",
   "metadata": {
    "slideshow": {
     "slide_type": "subslide"
    }
   },
   "source": [
    "## What can we learn from these examples?"
   ]
  },
  {
   "cell_type": "markdown",
   "id": "110",
   "metadata": {
    "slideshow": {
     "slide_type": "fragment"
    }
   },
   "source": [
    "### How data is presented is extremely important"
   ]
  },
  {
   "cell_type": "markdown",
   "id": "111",
   "metadata": {
    "slideshow": {
     "slide_type": "fragment"
    }
   },
   "source": [
    "* Data and charts are extremely convincing. Design of charts can convey false conclusions, conceal important information, or make important observations convincing"
   ]
  },
  {
   "cell_type": "markdown",
   "id": "112",
   "metadata": {
    "slideshow": {
     "slide_type": "fragment"
    }
   },
   "source": [
    "### Data used should represent what the the data \"should be\" not what the data \"is\""
   ]
  },
  {
   "cell_type": "markdown",
   "id": "113",
   "metadata": {
    "slideshow": {
     "slide_type": "fragment"
    }
   },
   "source": [
    "* Most samplings of data or data records are not without bias $\\rightarrow$ algorithms using biased data will only enhance its bias"
   ]
  },
  {
   "cell_type": "markdown",
   "id": "114",
   "metadata": {
    "slideshow": {
     "slide_type": "fragment"
    },
    "tags": [
     "hide-input"
    ]
   },
   "source": [
    "## Reddit\n",
    "\n",
    "Funny Reddit of horrible visualizations\n",
    "\n",
    "[Data Is Ugly Reddit](https://www.reddit.com/r/dataisugly/) "
   ]
  },
  {
   "cell_type": "markdown",
   "id": "115",
   "metadata": {
    "slideshow": {
     "slide_type": "fragment"
    }
   },
   "source": [
    "### Data governance and provenance"
   ]
  },
  {
   "cell_type": "markdown",
   "id": "116",
   "metadata": {
    "slideshow": {
     "slide_type": "fragment"
    }
   },
   "source": [
    "* Data that is used to train a model needs governance and oversight\n",
    "* If data is to be used knowing the fully provenance is important"
   ]
  },
  {
   "cell_type": "markdown",
   "id": "117",
   "metadata": {
    "slideshow": {
     "slide_type": "fragment"
    }
   },
   "source": [
    "```{admonition} Definition\n",
    "Provenance - the place of origin or earliest known history of something.\n",
    "```"
   ]
  },
  {
   "cell_type": "markdown",
   "id": "118",
   "metadata": {
    "slideshow": {
     "slide_type": "fragment"
    }
   },
   "source": [
    "### Correlation does not equal causation"
   ]
  },
  {
   "cell_type": "markdown",
   "id": "119",
   "metadata": {
    "slideshow": {
     "slide_type": "fragment"
    }
   },
   "source": [
    "* Just because there is a correlation in the data does not imply causation $\\rightarrow$ need to validate what your algorithms are telling you"
   ]
  },
  {
   "cell_type": "code",
   "execution_count": null,
   "id": "120",
   "metadata": {
    "slideshow": {
     "slide_type": "fragment"
    },
    "tags": [
     "hide-input"
    ]
   },
   "outputs": [],
   "source": [
    "from IPython.display import IFrame\n",
    "\n",
    "IFrame(\"https://tylervigen.com/spurious-correlations\", width=800, height=1200)"
   ]
  },
  {
   "cell_type": "markdown",
   "id": "121",
   "metadata": {
    "slideshow": {
     "slide_type": "slide"
    }
   },
   "source": [
    "## References\n",
    "\n",
    "```{bibliography}\n",
    "```"
   ]
  }
 ],
 "metadata": {
  "celltoolbar": "Tags",
  "kernelspec": {
   "display_name": "Python 3 (ipykernel)",
   "language": "python",
   "name": "python3"
  },
  "language_info": {
   "codemirror_mode": {
    "name": "ipython",
    "version": 3
   },
   "file_extension": ".py",
   "mimetype": "text/x-python",
   "name": "python",
   "nbconvert_exporter": "python",
   "pygments_lexer": "ipython3",
   "version": "3.11.9"
  },
  "varInspector": {
   "cols": {
    "lenName": 16,
    "lenType": 16,
    "lenVar": 40
   },
   "kernels_config": {
    "python": {
     "delete_cmd_postfix": "",
     "delete_cmd_prefix": "del ",
     "library": "var_list.py",
     "varRefreshCmd": "print(var_dic_list())"
    },
    "r": {
     "delete_cmd_postfix": ") ",
     "delete_cmd_prefix": "rm(",
     "library": "var_list.r",
     "varRefreshCmd": "cat(var_dic_list()) "
    }
   },
   "types_to_exclude": [
    "module",
    "function",
    "builtin_function_or_method",
    "instance",
    "_Feature"
   ],
   "window_display": false
  },
  "vscode": {
   "interpreter": {
    "hash": "840b83a840664c52454f0735a8442d1647f000adfcd65e5ae08b9078efb1afec"
   }
  }
 },
 "nbformat": 4,
 "nbformat_minor": 5
}
