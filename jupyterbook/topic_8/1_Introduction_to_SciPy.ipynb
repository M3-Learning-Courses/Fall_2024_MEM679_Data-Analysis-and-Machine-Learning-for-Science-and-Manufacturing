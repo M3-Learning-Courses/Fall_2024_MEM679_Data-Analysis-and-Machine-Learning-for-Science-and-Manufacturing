{
 "cells": [
  {
   "cell_type": "markdown",
   "metadata": {
    "slideshow": {
     "slide_type": "slide"
    }
   },
   "source": [
    "# Introduction to SciPy\n",
    "\n",
    "- SciPy is a collection of mathematical algorithms and convenience functions built on the NumPy extension of Python.\n"
   ]
  },
  {
   "cell_type": "markdown",
   "metadata": {
    "slideshow": {
     "slide_type": "fragment"
    }
   },
   "source": [
    "- It adds significant power to the interactive Python session by providing the user high-level commands and classes for manipulating and visualizing data.\n"
   ]
  },
  {
   "cell_type": "markdown",
   "metadata": {
    "slideshow": {
     "slide_type": "fragment"
    }
   },
   "source": [
    "- With SciPy, an interactive Python session becomes a data-processing and system-prototyping environment, rivaling systems such as MATLAB, IDL, Octave, R-Lab, and SciLab.\n"
   ]
  },
  {
   "cell_type": "markdown",
   "metadata": {
    "slideshow": {
     "slide_type": "fragment"
    }
   },
   "source": [
    "SciPy is organized into subpackages covering different scientific\n",
    "computing domains. These are summarized in the following table:\n",
    "\n",
    "```rst\n",
    "==================  ======================================================\n",
    "Subpackage          Description\n",
    "==================  ======================================================\n",
    "`cluster`           Clustering algorithms\n",
    "`constants`         Physical and mathematical constants\n",
    "`fftpack`           Fast Fourier Transform routines\n",
    "`integrate`         Integration and ordinary differential equation solvers\n",
    "`interpolate`       Interpolation and smoothing splines\n",
    "`io`                Input and Output\n",
    "`linalg`            Linear algebra\n",
    "`ndimage`           N-dimensional image processing\n",
    "`odr`               Orthogonal distance regression\n",
    "`optimize`          Optimization and root-finding routines\n",
    "`signal`            Signal processing\n",
    "`sparse`            Sparse matrices and associated routines\n",
    "`spatial`           Spatial data structures and algorithms\n",
    "`special`           Special functions\n",
    "`stats`             Statistical distributions and functions\n",
    "==================  ======================================================\n",
    "```\n"
   ]
  },
  {
   "cell_type": "markdown",
   "metadata": {
    "slideshow": {
     "slide_type": "subslide"
    }
   },
   "source": [
    "## Scipy.special\n",
    "\n",
    "The main feature of the [scipy.special](https://docs.scipy.org/doc/scipy/reference/special.html#module-scipy.special) package is the definition of numerous special functions of mathematical physics. Available functions include airy, elliptic, bessel, gamma, beta, hypergeometric, parabolic cylinder, mathieu, spheroidal wave, struve, and kelvin.\n"
   ]
  },
  {
   "cell_type": "markdown",
   "metadata": {
    "slideshow": {
     "slide_type": "fragment"
    }
   },
   "source": [
    "### Bessel functions of real order(`jv`, `jn_zeros`)\n",
    "\n",
    "Bessel functions are a family of solutions to Bessel's differential equation\n",
    "with real or complex order alpha:\n",
    "\n",
    "$$x^2 \\frac{d^2 y}{dx^2} + x \\frac{dy}{dx} + (x^2 - \\alpha^2)y = 0$$\n"
   ]
  },
  {
   "cell_type": "markdown",
   "metadata": {
    "slideshow": {
     "slide_type": "fragment"
    }
   },
   "source": [
    "Among other uses, these functions arise in wave propagation problems, such as\n",
    "the vibrational modes of a thin drum head. Here is an example of a circular\n",
    "drum head anchored at the edge:\n"
   ]
  },
  {
   "cell_type": "code",
   "execution_count": null,
   "metadata": {
    "slideshow": {
     "slide_type": "fragment"
    }
   },
   "outputs": [],
   "source": [
    "from scipy import special\n",
    "import numpy as np\n",
    "\n",
    "\n",
    "def drumhead_height(n, k, distance, angle, t):\n",
    "    kth_zero = special.jn_zeros(n, k)[-1]\n",
    "    return np.cos(t) * np.cos(n * angle) * special.jn(n, distance * kth_zero)\n",
    "\n",
    "\n",
    "theta = np.r_[0 : 2 * np.pi : 50j]\n",
    "radius = np.r_[0:1:50j]\n",
    "\n",
    "x = np.array([r * np.cos(theta) for r in radius])\n",
    "y = np.array([r * np.sin(theta) for r in radius])\n",
    "z = np.array([drumhead_height(1, 1, r, theta, 0.5) for r in radius])"
   ]
  },
  {
   "cell_type": "code",
   "execution_count": null,
   "metadata": {
    "slideshow": {
     "slide_type": "fragment"
    }
   },
   "outputs": [],
   "source": [
    "import matplotlib.pyplot as plt\n",
    "\n",
    "fig = plt.figure()\n",
    "ax = fig.add_axes(rect=(0, 0.05, 0.95, 0.95), projection=\"3d\")\n",
    "ax.plot_surface(x, y, z, rstride=1, cstride=1, cmap=\"RdBu_r\", vmin=-0.5, vmax=0.5)\n",
    "ax.set_xlabel(\"X\")\n",
    "ax.set_ylabel(\"Y\")\n",
    "ax.set_xticks(np.arange(-1, 1.1, 0.5))\n",
    "ax.set_yticks(np.arange(-1, 1.1, 0.5))\n",
    "ax.set_zlabel(\"Z\")\n",
    "plt.show()"
   ]
  },
  {
   "cell_type": "markdown",
   "metadata": {
    "slideshow": {
     "slide_type": "slide"
    }
   },
   "source": [
    "## Integration\n",
    "\n",
    "The [scipy.integrate](https://docs.scipy.org/doc/scipy/reference/integrate.html#module-scipy.integrate) sub-package provides several integration techniques including an ordinary differential equation integrator. An overview of the module is provided by the help command:\n"
   ]
  },
  {
   "cell_type": "markdown",
   "metadata": {
    "slideshow": {
     "slide_type": "fragment"
    }
   },
   "source": [
    "### General Integration\n",
    "\n",
    "The function `quad` is provided to integrate a function of one variable between two points. The points can be $\\pm\\infty$ ($\\pm inf$) to indicate infinite limits. For example, suppose you wish to integrate a bessel function `jv(2.5, x)` along the interval [0, 4.5].\n",
    "\n",
    "$$I=\\int_{0}^{4.5}J_{2.5}\\left(x\\right)\\, dx.$$\n"
   ]
  },
  {
   "cell_type": "code",
   "execution_count": null,
   "metadata": {
    "slideshow": {
     "slide_type": "subslide"
    }
   },
   "outputs": [],
   "source": [
    "import scipy.integrate as integrate\n",
    "import scipy.special as special\n",
    "\n",
    "result = integrate.quad(lambda x: special.jv(2.5, x), 0, 4.5)\n",
    "result"
   ]
  },
  {
   "cell_type": "markdown",
   "metadata": {
    "slideshow": {
     "slide_type": "fragment"
    }
   },
   "source": [
    "- The first argument to quad is a “callable” Python object (i.e., a function, method, or class instance).\n",
    "- Notice the use of a lambda- function in this case as the argument.\n",
    "- The next two arguments are the limits of integration.\n",
    "- The return value is a tuple, with the first element holding the estimated integral value and the second element holding an upper bound on the error.\n"
   ]
  },
  {
   "cell_type": "markdown",
   "metadata": {
    "slideshow": {
     "slide_type": "slide"
    }
   },
   "source": [
    "## Optimization\n",
    "\n",
    "- SciPy has a bunch of built-in fitting methods, which forms the framework for curve fitting and other more advanced optimization\n",
    "- You could take an entire course that discusses the details of these optimization methods\n",
    "- Generally, in machine learning, we have so many dimensions that it is possible to use simple optimizers\n"
   ]
  },
  {
   "cell_type": "markdown",
   "metadata": {
    "slideshow": {
     "slide_type": "subslide"
    }
   },
   "source": [
    "### Example: Curve Fitting\n"
   ]
  },
  {
   "cell_type": "code",
   "execution_count": null,
   "metadata": {
    "slideshow": {
     "slide_type": "fragment"
    }
   },
   "outputs": [],
   "source": [
    "import matplotlib.pyplot as plt\n",
    "from scipy.optimize import curve_fit\n"
   ]
  },
  {
   "cell_type": "code",
   "execution_count": null,
   "metadata": {
    "slideshow": {
     "slide_type": "fragment"
    }
   },
   "outputs": [],
   "source": [
    "def func(x, a, b, c):\n",
    "    return a * np.exp(-b * x) + c\n"
   ]
  },
  {
   "cell_type": "markdown",
   "metadata": {
    "slideshow": {
     "slide_type": "fragment"
    }
   },
   "source": [
    "Define the noisy data to fit:\n"
   ]
  },
  {
   "cell_type": "code",
   "execution_count": null,
   "metadata": {
    "slideshow": {
     "slide_type": "fragment"
    }
   },
   "outputs": [],
   "source": [
    "xdata = np.linspace(0, 4, 50)\n",
    "y = func(xdata, 2.5, 1.3, 0.5)\n",
    "rng = np.random.default_rng()\n",
    "y_noise = 0.2 * rng.normal(size=xdata.size)\n",
    "ydata = y + y_noise\n",
    "plt.plot(xdata, ydata, \"b-\", label=\"data\")"
   ]
  },
  {
   "cell_type": "markdown",
   "metadata": {
    "slideshow": {
     "slide_type": "fragment"
    }
   },
   "source": [
    "Fit for the parameters a, b, c of the function func:\n"
   ]
  },
  {
   "cell_type": "code",
   "execution_count": null,
   "metadata": {
    "slideshow": {
     "slide_type": "fragment"
    }
   },
   "outputs": [],
   "source": [
    "popt, pcov = curve_fit(func, xdata, ydata)\n",
    "popt\n",
    "plt.plot(\n",
    "    xdata,\n",
    "    func(xdata, *popt),\n",
    "    \"r-\",\n",
    "    label=\"fit: a=%5.3f, b=%5.3f, c=%5.3f\" % tuple(popt),\n",
    ")\n",
    "plt.plot(xdata, ydata, \"b-\", label=\"data\")\n",
    "plt.legend()"
   ]
  },
  {
   "cell_type": "markdown",
   "metadata": {
    "slideshow": {
     "slide_type": "fragment"
    }
   },
   "source": [
    "Constrain the optimization to the region of 0 <= a <= 3, 0 <= b <= 1 and 0 <= c <= 0.5:\n"
   ]
  },
  {
   "cell_type": "code",
   "execution_count": null,
   "metadata": {
    "slideshow": {
     "slide_type": "fragment"
    }
   },
   "outputs": [],
   "source": [
    "popt, pcov = curve_fit(func, xdata, ydata, bounds=(0, [3.0, 1.0, 0.5]))\n",
    "popt"
   ]
  },
  {
   "cell_type": "code",
   "execution_count": null,
   "metadata": {
    "slideshow": {
     "slide_type": "fragment"
    }
   },
   "outputs": [],
   "source": [
    "plt.plot(\n",
    "    xdata,\n",
    "    func(xdata, *popt),\n",
    "    \"g--\",\n",
    "    label=\"fit: a=%5.3f, b=%5.3f, c=%5.3f\" % tuple(popt),\n",
    ")\n",
    "\n",
    "plt.xlabel(\"x\")\n",
    "plt.ylabel(\"y\")\n",
    "plt.legend()\n",
    "plt.show()"
   ]
  },
  {
   "cell_type": "markdown",
   "metadata": {
    "slideshow": {
     "slide_type": "slide"
    }
   },
   "source": [
    "## Interpolation\n",
    "\n",
    "There are several general interpolation facilities available in SciPy, for data in 1, 2, and higher dimensions:\n",
    "\n",
    "- A class representing an interplant ([interp1d](https://docs.scipy.org/doc/scipy/reference/generated/scipy.interpolate.interp1d.html#scipy.interpolate.interp1d)) in 1-D, offering several interpolation methods.\n",
    "- Convenience function [griddata](https://docs.scipy.org/doc/scipy/reference/generated/scipy.interpolate.griddata.html#scipy.interpolate.griddata) offer a simple interface to interpolation in N dimensions (N = 1, 2, 3, 4, …). Object-oriented interface for the underlying routines is also available.\n",
    "- [RegularGridInterpolator](https://docs.scipy.org/doc/scipy/reference/generated/scipy.interpolate.RegularGridInterpolator.html#scipy.interpolate.RegularGridInterpolator) provides several interpolation methods on a regular grid in arbitrary (N) dimensions,\n"
   ]
  },
  {
   "cell_type": "markdown",
   "metadata": {
    "slideshow": {
     "slide_type": "subslide"
    }
   },
   "source": [
    "### Example: 1D Interpolation\n",
    "\n",
    "The `interp1d` class in `scipy.interpolate` is a convenient method to create a function based on fixed data points, which can be evaluated anywhere within the domain defined by the given data using linear interpolation.\n"
   ]
  },
  {
   "cell_type": "code",
   "execution_count": null,
   "metadata": {
    "slideshow": {
     "slide_type": "fragment"
    }
   },
   "outputs": [],
   "source": [
    "from scipy.interpolate import interp1d\n",
    "import matplotlib.pyplot as plt"
   ]
  },
  {
   "cell_type": "code",
   "execution_count": null,
   "metadata": {
    "slideshow": {
     "slide_type": "fragment"
    }
   },
   "outputs": [],
   "source": [
    "# Creates a linear-spaced vector\n",
    "x = np.linspace(0, 10, num=11, endpoint=True)\n",
    "\n",
    "# Function to generate raw data\n",
    "y = np.cos(-(x**2) / 9.0)\n",
    "\n",
    "# 1D Interpolate linear\n",
    "f = interp1d(x, y)\n",
    "\n",
    "# 1D Interpolate Cubic\n",
    "f2 = interp1d(x, y, kind=\"cubic\")"
   ]
  },
  {
   "cell_type": "code",
   "execution_count": null,
   "metadata": {
    "slideshow": {
     "slide_type": "fragment"
    }
   },
   "outputs": [],
   "source": [
    "# Generates new higher-resolution x-data for interpolation\n",
    "xnew = np.linspace(0, 10, num=41, endpoint=True)\n",
    "\n",
    "# Makes the plots\n",
    "plt.plot(x, y, \"o\", xnew, f(xnew), \"-\", xnew, f2(xnew), \"--\")\n",
    "plt.legend([\"data\", \"linear\", \"cubic\"], loc=\"best\")\n",
    "plt.show()"
   ]
  },
  {
   "cell_type": "markdown",
   "metadata": {
    "slideshow": {
     "slide_type": "slide"
    }
   },
   "source": [
    "## Fourier Transforms\n",
    "\n",
    "Fourier analysis is a method for expressing a function as a sum of periodic components and for recovering the signal from those components.\n",
    "\n",
    "- The DFT has become a mainstay of numerical computing in part because of fast algorithms for computing it, called the Fast Fourier Transform (FFT)\n",
    "- Allows conversion of signals between time and frequency domain\n"
   ]
  },
  {
   "cell_type": "markdown",
   "metadata": {
    "slideshow": {
     "slide_type": "fragment"
    }
   },
   "source": [
    "The FFT $y[k]$ of length $N$ of the $N$ sequence $x[n]$ is defined as\n",
    "\n",
    "$$ y[k] = \\sum\\_{n=0}^{N-1} e^{-2 \\pi j \\frac{k n}{N} } x[n] \\, , $$\n",
    "\n",
    "and the inverse transform is defined as follows\n",
    "\n",
    "$$ x[n] = \\frac{1}{N} \\sum\\_{k=0}^{N-1} e^{2 \\pi j \\frac{k n}{N} } y[k] \\, . $$\n"
   ]
  },
  {
   "cell_type": "markdown",
   "metadata": {
    "slideshow": {
     "slide_type": "fragment"
    }
   },
   "source": [
    "### FFT Example:\n"
   ]
  },
  {
   "cell_type": "code",
   "execution_count": null,
   "metadata": {
    "slideshow": {
     "slide_type": "fragment"
    }
   },
   "outputs": [],
   "source": [
    "from scipy.fft import fft, ifft\n",
    "\n",
    "x = np.array([1.0, 2.0, 1.0, -1.0, 1.5])\n",
    "y = fft(x)\n",
    "yinv = ifft(y)\n",
    "\n",
    "print(y)\n",
    "\n",
    "print(yinv)"
   ]
  },
  {
   "cell_type": "markdown",
   "metadata": {
    "slideshow": {
     "slide_type": "fragment"
    }
   },
   "source": [
    "In case the sequence x is real-valued, the values of $y[n]$ for positive frequencies are the conjugate of the values $y[n]$ for negative frequencies (because the spectrum is symmetric). Typically, only the FFT corresponding to positive frequencies is plotted.\n"
   ]
  },
  {
   "cell_type": "markdown",
   "metadata": {
    "slideshow": {
     "slide_type": "subslide"
    }
   },
   "source": [
    "### FFT Example: Sum of two Sines\n"
   ]
  },
  {
   "cell_type": "code",
   "execution_count": null,
   "metadata": {
    "slideshow": {
     "slide_type": "fragment"
    }
   },
   "outputs": [],
   "source": [
    "from scipy.fft import fft, fftfreq\n",
    "\n",
    "# Number of sample points\n",
    "N = 600\n",
    "# sample spacing\n",
    "T = 1.0 / 800.0\n",
    "x = np.linspace(0.0, N * T, N, endpoint=False)\n",
    "y = np.sin(50.0 * 2.0 * np.pi * x) + 0.5 * np.sin(80.0 * 2.0 * np.pi * x)\n",
    "yf = fft(y)\n",
    "xf = fftfreq(N, T)[: N // 2]\n",
    "import matplotlib.pyplot as plt\n",
    "\n",
    "plt.plot(xf, 2.0 / N * np.abs(yf[0 : N // 2]))\n",
    "plt.grid()\n",
    "plt.show()"
   ]
  },
  {
   "cell_type": "markdown",
   "metadata": {
    "slideshow": {
     "slide_type": "fragment"
    }
   },
   "source": [
    "### FFT Helper Functions\n",
    "\n",
    "The function [fftfreq](https://docs.scipy.org/doc/scipy/reference/generated/scipy.fft.fftfreq.html#scipy.fft.fftfreq) returns the FFT sample frequency points.\n",
    "\n",
    "```python\n",
    "f = [0, 1, ...,   n/2-1,     -n/2, ..., -1] / (d*n)   if n is even\n",
    "f = [0, 1, ..., (n-1)/2, -(n-1)/2, ..., -1] / (d*n)   if n is odd\n",
    "```\n"
   ]
  },
  {
   "cell_type": "code",
   "execution_count": null,
   "metadata": {
    "slideshow": {
     "slide_type": "fragment"
    }
   },
   "outputs": [],
   "source": [
    "from scipy.fft import fftfreq\n",
    "\n",
    "freq = fftfreq(8, 0.125)\n",
    "freq"
   ]
  },
  {
   "cell_type": "markdown",
   "metadata": {
    "slideshow": {
     "slide_type": "fragment"
    }
   },
   "source": [
    "The function [fftshift](https://docs.scipy.org/doc/scipy/reference/generated/scipy.fft.fftshift.html#scipy.fft.fftshift) allows swapping the lower and upper halves of a vector so that it becomes suitable for display. This shift the zero-frequency component to the center of the spectrum.\n"
   ]
  },
  {
   "cell_type": "code",
   "execution_count": null,
   "metadata": {
    "slideshow": {
     "slide_type": "fragment"
    }
   },
   "outputs": [],
   "source": [
    "from scipy.fft import fftshift\n",
    "\n",
    "x = np.arange(8)\n",
    "print(fftshift(x))\n",
    "\n",
    "freqs = np.fft.fftfreq(10, 0.1)\n",
    "print(np.fft.fftshift(freqs))"
   ]
  },
  {
   "cell_type": "code",
   "execution_count": null,
   "metadata": {
    "slideshow": {
     "slide_type": "fragment"
    }
   },
   "outputs": [],
   "source": [
    "from scipy.fft import fft, fftfreq, fftshift\n",
    "import matplotlib.pyplot as plt\n",
    "\n",
    "# number of signal points\n",
    "N = 400\n",
    "# sample spacing\n",
    "T = 1.0 / 800.0\n",
    "x = np.linspace(0.0, N * T, N, endpoint=False)\n",
    "y = np.exp(50.0 * 1.0j * 2.0 * np.pi * x) + 0.5 * np.exp(-80.0 * 1.0j * 2.0 * np.pi * x)\n",
    "yf = fft(y)\n",
    "xf = fftfreq(N, T)\n",
    "xf = fftshift(xf)\n",
    "yplot = fftshift(yf)\n",
    "\n",
    "plt.plot(xf, 1.0 / N * np.abs(yplot))\n",
    "plt.show()"
   ]
  },
  {
   "cell_type": "markdown",
   "metadata": {
    "slideshow": {
     "slide_type": "fragment"
    }
   },
   "source": [
    "Scipy has many other useful functions. If interested, you can look at the source [documentation](https://docs.scipy.org/doc/scipy/index.html).\n"
   ]
  }
 ],
 "metadata": {
  "celltoolbar": "Slideshow",
  "kernelspec": {
   "display_name": "Python 3",
   "language": "python",
   "name": "python3"
  },
  "language_info": {
   "codemirror_mode": {
    "name": "ipython",
    "version": 3
   },
   "file_extension": ".py",
   "mimetype": "text/x-python",
   "name": "python",
   "nbconvert_exporter": "python",
   "pygments_lexer": "ipython3",
   "version": "3.11.9"
  }
 },
 "nbformat": 4,
 "nbformat_minor": 4
}
